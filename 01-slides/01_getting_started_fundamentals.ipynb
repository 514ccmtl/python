{
  "cells": [
    {
      "cell_type": "markdown",
      "id": "40d3f376",
      "metadata": {
        "id": "40d3f376"
      },
      "source": [
        "# Getting Started: Fundamentals\n",
        "\n",
        "## Introduction to Python\n",
        "\n",
        "Data Sciences Institute, University of Toronto\n",
        "\n",
        "Instructor: Kaylie Lau | TA: Tong Su\n",
        "\n",
        "December 2023"
      ]
    },
    {
      "cell_type": "markdown",
      "id": "e5e5ab47",
      "metadata": {
        "id": "e5e5ab47"
      },
      "source": [
        "# Contents:\n",
        "\n",
        "1. Introduction\n",
        "  1. Programing\n",
        "  2. Python\n",
        "2. Python Fundamentals\n",
        "  1. Types\n",
        "  2. Statements and Expressions\n",
        "  3. Logical Data\n",
        "  4. Variables\n",
        "  5. Errors\n",
        "  6. Comments and Readability\n",
        "  7. Functions\n",
        "  8. Strings\n",
        "  9. Input"
      ]
    },
    {
      "cell_type": "markdown",
      "id": "f31cc4a9",
      "metadata": {
        "id": "f31cc4a9"
      },
      "source": [
        "# Programming"
      ]
    },
    {
      "cell_type": "markdown",
      "id": "6c7e1c79",
      "metadata": {
        "id": "6c7e1c79"
      },
      "source": [
        "## What is programming ?\n",
        "\n",
        "A *program* is a set of instructions. *Programming* defines new sets of instructions to perform a useful task. A *programming language* lets us write those instructions in a way that a computer can interpret and execute."
      ]
    },
    {
      "cell_type": "markdown",
      "id": "0e4ae887",
      "metadata": {
        "id": "0e4ae887"
      },
      "source": [
        "# Python"
      ]
    },
    {
      "cell_type": "markdown",
      "id": "e7b999b1",
      "metadata": {
        "id": "e7b999b1"
      },
      "source": [
        "## What is Python?\n",
        "\n",
        "Python is a general-purpose programming language first released in 1991. It has since become a popular language for data science, thanks to an enthusiastic community and a large ecosystem of code libraries and tools that make it easier to perform common tasks throughout the data science life cycle."
      ]
    },
    {
      "cell_type": "markdown",
      "id": "c1370ffe",
      "metadata": {
        "id": "c1370ffe"
      },
      "source": [
        "# Python Fundamentals"
      ]
    },
    {
      "cell_type": "markdown",
      "id": "61d24008",
      "metadata": {
        "id": "61d24008"
      },
      "source": [
        "## Types\n",
        "\n",
        "Every piece of data in Python has a _type_. Data types dictate how values are stored by the computer and what operations we can perform on the data. For example, an `int`, or integer, value must be a whole number, and we can use it for arithmetic. The `float`, or floating point data type supports decimal numbers. There are other types for text (`string`), true/false values (`bool`), and more complex data that we will go into later."
      ]
    },
    {
      "cell_type": "markdown",
      "id": "d1032864",
      "metadata": {
        "id": "d1032864"
      },
      "source": [
        "## Statements and Expressions\n",
        "\n",
        "A _statement_ in programming is a command. You can think of them as the smallest units of code. An _expression_ is a statement that produces a single value.\n",
        "\n",
        "We can use arithmetic operators like `+` and `-` to write simple expressions."
      ]
    },
    {
      "cell_type": "code",
      "execution_count": null,
      "id": "ec52cb74",
      "metadata": {
        "colab": {
          "base_uri": "https://localhost:8080/"
        },
        "id": "ec52cb74",
        "outputId": "8f568d62-d831-4282-b897-7a5ce2cb5760"
      },
      "outputs": [
        {
          "output_type": "execute_result",
          "data": {
            "text/plain": [
              "11"
            ]
          },
          "metadata": {},
          "execution_count": 1
        }
      ],
      "source": [
        "5 + 6"
      ]
    },
    {
      "cell_type": "markdown",
      "id": "85bfb339",
      "metadata": {
        "id": "85bfb339"
      },
      "source": [
        "`5 + 6` is an expression.  \n",
        "`+` is an operator.  \n",
        "`5` and `6` are operands.  \n",
        "`11` is a value."
      ]
    },
    {
      "cell_type": "markdown",
      "id": "d074ec3c",
      "metadata": {
        "id": "d074ec3c"
      },
      "source": [
        "The result of an expression may be a different data type than its inputs."
      ]
    },
    {
      "cell_type": "code",
      "execution_count": null,
      "id": "f7552f6f",
      "metadata": {
        "colab": {
          "base_uri": "https://localhost:8080/"
        },
        "id": "f7552f6f",
        "outputId": "0ef44216-5df2-4038-c909-3d772bbb4999"
      },
      "outputs": [
        {
          "output_type": "execute_result",
          "data": {
            "text/plain": [
              "2.5"
            ]
          },
          "metadata": {},
          "execution_count": 2
        }
      ],
      "source": [
        "5 / 2"
      ]
    },
    {
      "cell_type": "markdown",
      "id": "520787cd",
      "metadata": {
        "id": "520787cd"
      },
      "source": [
        "## Additional Arithmetic Operators\n",
        "\n",
        "| Operator | Description |\n",
        "|---|---|\n",
        "| // | Integer division (always rounds down)|\n",
        "| % | Modulo or remainder |\n",
        "| ** | Exponentiation |"
      ]
    },
    {
      "cell_type": "markdown",
      "id": "c2ddcdfb",
      "metadata": {
        "id": "c2ddcdfb"
      },
      "source": [
        "### Examples"
      ]
    },
    {
      "cell_type": "code",
      "execution_count": null,
      "id": "8f09ff90",
      "metadata": {
        "colab": {
          "base_uri": "https://localhost:8080/"
        },
        "id": "8f09ff90",
        "outputId": "88c34105-14d7-4b0f-88e5-2902fc62e801"
      },
      "outputs": [
        {
          "output_type": "execute_result",
          "data": {
            "text/plain": [
              "3"
            ]
          },
          "metadata": {},
          "execution_count": 3
        }
      ],
      "source": [
        "10 // 3"
      ]
    },
    {
      "cell_type": "code",
      "execution_count": null,
      "id": "f6df46e3",
      "metadata": {
        "colab": {
          "base_uri": "https://localhost:8080/"
        },
        "id": "f6df46e3",
        "outputId": "c9219f7a-fa45-45f4-d62d-df833ff1fc23"
      },
      "outputs": [
        {
          "output_type": "execute_result",
          "data": {
            "text/plain": [
              "1"
            ]
          },
          "metadata": {},
          "execution_count": 4
        }
      ],
      "source": [
        "10 % 3"
      ]
    },
    {
      "cell_type": "code",
      "execution_count": null,
      "id": "d93768ac",
      "metadata": {
        "colab": {
          "base_uri": "https://localhost:8080/"
        },
        "id": "d93768ac",
        "outputId": "91e6575f-b9c7-4aa2-f430-59f40541b9e4"
      },
      "outputs": [
        {
          "output_type": "execute_result",
          "data": {
            "text/plain": [
              "3.3333333333333335"
            ]
          },
          "metadata": {},
          "execution_count": 5
        }
      ],
      "source": [
        "10 / 3"
      ]
    },
    {
      "cell_type": "code",
      "execution_count": null,
      "id": "9ee5c9c8",
      "metadata": {
        "colab": {
          "base_uri": "https://localhost:8080/"
        },
        "id": "9ee5c9c8",
        "outputId": "d275d6ee-b61f-4aae-c032-da21e5cde37d"
      },
      "outputs": [
        {
          "output_type": "execute_result",
          "data": {
            "text/plain": [
              "1000"
            ]
          },
          "metadata": {},
          "execution_count": 6
        }
      ],
      "source": [
        "10 ** 3"
      ]
    },
    {
      "cell_type": "markdown",
      "id": "c6ab576c",
      "metadata": {
        "id": "c6ab576c"
      },
      "source": [
        "# Logical Data"
      ]
    },
    {
      "cell_type": "markdown",
      "id": "0294d7fe",
      "metadata": {
        "id": "0294d7fe"
      },
      "source": [
        "## True/False\n",
        "\n",
        "Python also has a data type, `bool`, for `True` and `False` values. The term `bool` derives from Boolean, which is itself a reference to the mathematician and logician George Boole, whose work underpins information and computing."
      ]
    },
    {
      "cell_type": "markdown",
      "id": "6a34dcb6",
      "metadata": {
        "id": "6a34dcb6"
      },
      "source": [
        "## Comparison operators\n",
        "\n",
        "Python has comparison operators as well as arithmetic operators. Unlike arithmetic expressions, which produce integer or float values, comparison expressions produce a Boolean value.\n",
        "\n",
        "| Operator | Description |\n",
        "| --- | --- |\n",
        "| `>` | Greater than |\n",
        "| `>=` | Greater than or equal to |\n",
        "| `<` | Less than |\n",
        "| `<=` | Less than or equal to |\n",
        "| `==` | Equal to |\n",
        "| `!=` | Not equal to |"
      ]
    },
    {
      "cell_type": "markdown",
      "id": "2604afb5",
      "metadata": {
        "id": "2604afb5"
      },
      "source": [
        "### Examples"
      ]
    },
    {
      "cell_type": "code",
      "execution_count": null,
      "id": "55307f4c",
      "metadata": {
        "colab": {
          "base_uri": "https://localhost:8080/"
        },
        "id": "55307f4c",
        "outputId": "248c51ae-014a-4c6a-abfc-20207264d3a5"
      },
      "outputs": [
        {
          "output_type": "execute_result",
          "data": {
            "text/plain": [
              "True"
            ]
          },
          "metadata": {},
          "execution_count": 7
        }
      ],
      "source": [
        "50 > 25"
      ]
    },
    {
      "cell_type": "code",
      "execution_count": null,
      "id": "b9bcb9bb",
      "metadata": {
        "colab": {
          "base_uri": "https://localhost:8080/"
        },
        "id": "b9bcb9bb",
        "outputId": "e11571e6-8c69-4660-911d-8ad8305d2331"
      },
      "outputs": [
        {
          "output_type": "execute_result",
          "data": {
            "text/plain": [
              "False"
            ]
          },
          "metadata": {},
          "execution_count": 8
        }
      ],
      "source": [
        "-15 >= -14.99"
      ]
    },
    {
      "cell_type": "code",
      "execution_count": null,
      "id": "8a33c0a7",
      "metadata": {
        "colab": {
          "base_uri": "https://localhost:8080/"
        },
        "id": "8a33c0a7",
        "outputId": "0725b80f-447b-452b-fa5c-b1dbb44d96df"
      },
      "outputs": [
        {
          "output_type": "execute_result",
          "data": {
            "text/plain": [
              "True"
            ]
          },
          "metadata": {},
          "execution_count": 9
        }
      ],
      "source": [
        "20 == 20"
      ]
    },
    {
      "cell_type": "markdown",
      "id": "b3f69e98",
      "metadata": {
        "id": "b3f69e98"
      },
      "source": [
        "## Operator precedence\n",
        "\n",
        "Arithmetic and comparison operators are evaluated in the following order. We can enclose operations in parentheses to override the order of precedence -- operations in parentheses are evaluated before the rest of the expression.\n",
        "\n",
        "| Order | Operator | Description |\n",
        "|---|---|---|\n",
        "| 1 | `**` | Exponentiation |\n",
        "| 2 | `-`| Negation |\n",
        "| 3 | `*`, `/`, `//`, `%` | Multiplication, division, integer division, and modulo |\n",
        "| 4 | `+`, `-` | Addition and subtraction |\n",
        "| 5 | `<`, `<=`, `>`, `>=`, `==`, `!=` | Less than, less than or equal to, greater than, greater than or equal to, equal, not equal |"
      ]
    },
    {
      "cell_type": "markdown",
      "id": "1707a97c",
      "metadata": {
        "id": "1707a97c"
      },
      "source": [
        "# Variables"
      ]
    },
    {
      "cell_type": "markdown",
      "id": "cd134d80",
      "metadata": {
        "id": "cd134d80"
      },
      "source": [
        "## What is a variable?\n",
        "\n",
        "A _variable_ is a name that refers to a value. Variables make it easier to keep track of data.\n",
        "\n",
        "Variable names in Python can include letters, digits, and underscores. They cannot start with a digit. They are also case sensitive, so `variable` and `Variable` would be two different variables!"
      ]
    },
    {
      "cell_type": "markdown",
      "id": "9fb6371f",
      "metadata": {
        "id": "9fb6371f"
      },
      "source": [
        "## Creating variables\n",
        "\n",
        "To create a variable, we assign it a value using the assignment operator `=`."
      ]
    },
    {
      "cell_type": "code",
      "execution_count": null,
      "id": "d3a1912f",
      "metadata": {
        "id": "d3a1912f"
      },
      "outputs": [],
      "source": [
        "degrees_celsius = 25"
      ]
    },
    {
      "cell_type": "markdown",
      "id": "a3047a6d",
      "metadata": {
        "id": "a3047a6d"
      },
      "source": [
        "This statement is called an _assignment statement_. Now that the variable `degrees_celsius` has been assigned a value, we can use it anywhere we would use that value."
      ]
    },
    {
      "cell_type": "code",
      "execution_count": null,
      "id": "68a76f09",
      "metadata": {
        "colab": {
          "base_uri": "https://localhost:8080/"
        },
        "id": "68a76f09",
        "outputId": "3a54553b-f1a4-426b-a839-e48393de1742"
      },
      "outputs": [
        {
          "output_type": "execute_result",
          "data": {
            "text/plain": [
              "77.0"
            ]
          },
          "metadata": {},
          "execution_count": 11
        }
      ],
      "source": [
        "degrees_fahrenheit = (9 / 5) * degrees_celsius + 32\n",
        "degrees_fahrenheit"
      ]
    },
    {
      "cell_type": "markdown",
      "id": "97e0fbd0",
      "metadata": {
        "id": "97e0fbd0"
      },
      "source": [
        "## Reassigning variables\n",
        "\n",
        "When we reassign a variable, we change the value that variable refers to. Reassigning a variable does not change any other variable. Notice that `degrees_fahrenheit` stayed the same, even when we reassigned `degrees_celsius`."
      ]
    },
    {
      "cell_type": "code",
      "execution_count": null,
      "id": "8e3bb515",
      "metadata": {
        "colab": {
          "base_uri": "https://localhost:8080/"
        },
        "id": "8e3bb515",
        "outputId": "d7354946-d442-4aab-f461-e26591ed3220"
      },
      "outputs": [
        {
          "output_type": "execute_result",
          "data": {
            "text/plain": [
              "77.0"
            ]
          },
          "metadata": {},
          "execution_count": 12
        }
      ],
      "source": [
        "degrees_celsius = 0\n",
        "degrees_fahrenheit"
      ]
    },
    {
      "cell_type": "markdown",
      "id": "19442de0",
      "metadata": {
        "id": "19442de0"
      },
      "source": [
        "We can use a variable on both sides of an assignment statement. This is useful for updating a variable based on its current value."
      ]
    },
    {
      "cell_type": "code",
      "execution_count": null,
      "id": "79efac68",
      "metadata": {
        "colab": {
          "base_uri": "https://localhost:8080/"
        },
        "id": "79efac68",
        "outputId": "5864339b-a0ca-4b01-f27e-7413d050dfed"
      },
      "outputs": [
        {
          "output_type": "execute_result",
          "data": {
            "text/plain": [
              "10"
            ]
          },
          "metadata": {},
          "execution_count": 13
        }
      ],
      "source": [
        "degrees_celsius = degrees_celsius + 10\n",
        "degrees_celsius"
      ]
    },
    {
      "cell_type": "markdown",
      "id": "a0b7b6ab",
      "metadata": {
        "id": "a0b7b6ab"
      },
      "source": [
        "Notice what happens when we set one variable equal to another, then reassign the first one."
      ]
    },
    {
      "cell_type": "code",
      "execution_count": null,
      "id": "1ce3bd9d",
      "metadata": {
        "colab": {
          "base_uri": "https://localhost:8080/"
        },
        "id": "1ce3bd9d",
        "outputId": "6850b51f-1e2c-4fd5-f954-d6a029abaf25"
      },
      "outputs": [
        {
          "output_type": "execute_result",
          "data": {
            "text/plain": [
              "1"
            ]
          },
          "metadata": {},
          "execution_count": 14
        }
      ],
      "source": [
        "a = 1\n",
        "b = a\n",
        "b"
      ]
    },
    {
      "cell_type": "code",
      "execution_count": null,
      "id": "481d05d3",
      "metadata": {
        "colab": {
          "base_uri": "https://localhost:8080/"
        },
        "id": "481d05d3",
        "outputId": "bc465147-f327-4a15-8e61-e12588c822a4"
      },
      "outputs": [
        {
          "output_type": "execute_result",
          "data": {
            "text/plain": [
              "1"
            ]
          },
          "metadata": {},
          "execution_count": 15
        }
      ],
      "source": [
        "a = 2\n",
        "b"
      ]
    },
    {
      "cell_type": "code",
      "execution_count": null,
      "id": "3b227766",
      "metadata": {
        "colab": {
          "base_uri": "https://localhost:8080/"
        },
        "id": "3b227766",
        "outputId": "3bad117f-a641-4dd8-c9ec-7ba1dc282a3e"
      },
      "outputs": [
        {
          "output_type": "stream",
          "name": "stdout",
          "text": [
            "132792486740240\n",
            "132792486740208\n"
          ]
        }
      ],
      "source": [
        "print(id(a))\n",
        "print(id(b))"
      ]
    },
    {
      "cell_type": "markdown",
      "id": "99aba8e0",
      "metadata": {
        "id": "99aba8e0"
      },
      "source": [
        "## Augmented assignment\n",
        "\n",
        "While `degrees_celsius = degrees_celsius + 10` is a valid statement, there is a more concise way to express this: by putting the operator `+` before the assignment operator `=`."
      ]
    },
    {
      "cell_type": "code",
      "execution_count": null,
      "id": "4affd490",
      "metadata": {
        "colab": {
          "base_uri": "https://localhost:8080/"
        },
        "id": "4affd490",
        "outputId": "50a0474a-62eb-46ad-c9ff-8cdd46e7414e"
      },
      "outputs": [
        {
          "output_type": "execute_result",
          "data": {
            "text/plain": [
              "10"
            ]
          },
          "metadata": {},
          "execution_count": 17
        }
      ],
      "source": [
        "degrees_celsius = 0\n",
        "degrees_celsius += 10\n",
        "degrees_celsius"
      ]
    },
    {
      "cell_type": "markdown",
      "id": "74c246b0",
      "metadata": {
        "id": "74c246b0"
      },
      "source": [
        "Similarly, subtraction, multiplication, division, expontiation, integer division, and modulo can be used as an augmented assignment."
      ]
    },
    {
      "cell_type": "markdown",
      "id": "6e0db7b2",
      "metadata": {
        "id": "6e0db7b2"
      },
      "source": [
        "# Errors"
      ]
    },
    {
      "cell_type": "markdown",
      "id": "16f27979",
      "metadata": {
        "id": "16f27979"
      },
      "source": [
        "## What causes errors?\n",
        "\n",
        "Errors indicate that there is something in the code that the computer cannot execute. We will see some of the reasons that can happen. When an error occurs, Python produces an error message called a _traceback_. Tracebacks can be quite cryptic, but they tell us what code was running at the time of the error. When in doubt, copying the error message at the bottom of a traceback into a search engine can help."
      ]
    },
    {
      "cell_type": "markdown",
      "id": "d7a1f381",
      "metadata": {
        "id": "d7a1f381"
      },
      "source": [
        "## Syntax errors\n",
        "\n",
        "A _syntax error_ occurs when our program contains code that isn't valid Python. Below, we are trying to assign the value `x` to the variable `12` -- but variable names that start with digits are not allowed in Python!"
      ]
    },
    {
      "cell_type": "code",
      "execution_count": null,
      "id": "917b947b",
      "metadata": {
        "colab": {
          "base_uri": "https://localhost:8080/",
          "height": 140
        },
        "id": "917b947b",
        "outputId": "c05ba1e4-96e7-428d-efde-85ef33a9801b"
      },
      "outputs": [
        {
          "output_type": "error",
          "ename": "SyntaxError",
          "evalue": "ignored",
          "traceback": [
            "\u001b[0;36m  File \u001b[0;32m\"<ipython-input-18-1dfa6eaf817a>\"\u001b[0;36m, line \u001b[0;32m1\u001b[0m\n\u001b[0;31m    12 = x\u001b[0m\n\u001b[0m    ^\u001b[0m\n\u001b[0;31mSyntaxError\u001b[0m\u001b[0;31m:\u001b[0m cannot assign to literal here. Maybe you meant '==' instead of '='?\n"
          ]
        }
      ],
      "source": [
        "12 = x"
      ]
    },
    {
      "cell_type": "markdown",
      "id": "c2b3f063",
      "metadata": {
        "id": "c2b3f063"
      },
      "source": [
        "Below, Python expects another operand to the right of `-`, and throws a syntax error because there isn't a second operand."
      ]
    },
    {
      "cell_type": "code",
      "execution_count": null,
      "id": "a4c43ab3",
      "metadata": {
        "id": "a4c43ab3",
        "colab": {
          "base_uri": "https://localhost:8080/",
          "height": 140
        },
        "outputId": "fc296b55-37f0-4291-a67c-06a1a14f2d03"
      },
      "outputs": [
        {
          "output_type": "error",
          "ename": "SyntaxError",
          "evalue": "ignored",
          "traceback": [
            "\u001b[0;36m  File \u001b[0;32m\"<ipython-input-98-b656ee6552b6>\"\u001b[0;36m, line \u001b[0;32m1\u001b[0m\n\u001b[0;31m    25 -\u001b[0m\n\u001b[0m        ^\u001b[0m\n\u001b[0;31mSyntaxError\u001b[0m\u001b[0;31m:\u001b[0m invalid syntax\n"
          ]
        }
      ],
      "source": [
        "25 -"
      ]
    },
    {
      "cell_type": "markdown",
      "id": "4f58b933",
      "metadata": {
        "id": "4f58b933"
      },
      "source": [
        "## Name errors\n",
        "\n",
        "A _name error_ occurs when we try to use a variable that hasn't been assigned yet. Name errors are especially common when working in notebooks, where code is often not run from top to bottom."
      ]
    },
    {
      "cell_type": "code",
      "execution_count": null,
      "id": "761ba2c8",
      "metadata": {
        "id": "761ba2c8",
        "colab": {
          "base_uri": "https://localhost:8080/",
          "height": 174
        },
        "outputId": "c5bde360-94a9-4728-d98c-98d2359a2313"
      },
      "outputs": [
        {
          "output_type": "error",
          "ename": "NameError",
          "evalue": "ignored",
          "traceback": [
            "\u001b[0;31m---------------------------------------------------------------------------\u001b[0m",
            "\u001b[0;31mNameError\u001b[0m                                 Traceback (most recent call last)",
            "\u001b[0;32m<ipython-input-99-3f858cd55005>\u001b[0m in \u001b[0;36m<cell line: 1>\u001b[0;34m()\u001b[0m\n\u001b[0;32m----> 1\u001b[0;31m \u001b[0mmy_variable\u001b[0m \u001b[0;34m+\u001b[0m \u001b[0;36m1\u001b[0m\u001b[0;34m\u001b[0m\u001b[0;34m\u001b[0m\u001b[0m\n\u001b[0m",
            "\u001b[0;31mNameError\u001b[0m: name 'my_variable' is not defined"
          ]
        }
      ],
      "source": [
        "my_variable + 1"
      ]
    },
    {
      "cell_type": "markdown",
      "id": "4c90736a",
      "metadata": {
        "id": "4c90736a"
      },
      "source": [
        "# Comments"
      ]
    },
    {
      "cell_type": "markdown",
      "id": "43450dfd",
      "metadata": {
        "id": "43450dfd"
      },
      "source": [
        "## What are comments?\n",
        "\n",
        "Comments are a way to annotate code within code. They're used to explain parts of code to human audiences. In Python, comments start with a `#` symbol. The interpreter ignores everything from the `#` to the end of the line when translating a program into machine instructions."
      ]
    },
    {
      "cell_type": "code",
      "execution_count": null,
      "id": "07b096a8",
      "metadata": {
        "id": "07b096a8"
      },
      "outputs": [],
      "source": [
        "# This is a comment. It is not evaluated when we run our code"
      ]
    },
    {
      "cell_type": "code",
      "execution_count": null,
      "id": "5ca26540",
      "metadata": {
        "id": "5ca26540",
        "colab": {
          "base_uri": "https://localhost:8080/"
        },
        "outputId": "34fc32e4-da34-44dc-efab-56a4b59f65a8"
      },
      "outputs": [
        {
          "output_type": "execute_result",
          "data": {
            "text/plain": [
              "71.33333333333333"
            ]
          },
          "metadata": {},
          "execution_count": 20
        }
      ],
      "source": [
        "student1_grade = 90\n",
        "student2_grade = 50\n",
        "student3_grade = 74\n",
        "average_grade = (student1_grade + student2_grade + student3_grade) / 3\n",
        "average_grade  # These lines of code will produce a value.\n",
        "# Python will ignore everything after the # symbol."
      ]
    },
    {
      "cell_type": "markdown",
      "id": "6f43b431",
      "metadata": {
        "id": "6f43b431"
      },
      "source": [
        "# Readability"
      ]
    },
    {
      "cell_type": "markdown",
      "id": "8dca9af3",
      "metadata": {
        "id": "8dca9af3"
      },
      "source": [
        "## What is readable code and why should we care?\n",
        "\n",
        "Code that is easier to read is easier to debug and maintain. Readability becomes more important the larger the codebase or the team is."
      ]
    },
    {
      "cell_type": "markdown",
      "id": "79743bbe",
      "metadata": {
        "id": "79743bbe"
      },
      "source": [
        "Some practices that make code easier to read:  \n",
        "* **White space**: A space to either side of an operand helps readability. We can also split code across multiple lines by wrapping it in parentheses.\n",
        "* **Comments**: Comments communicate the gist of a program and help explain complicated sections of code. They can also be used to plan future work in plain language, or to toggle lines of code on and off for debugging.\n",
        "* **Clear and consistent variable names**: Descriptive variable names contribute to self-documenting code and reduce the need for comments. Consistent naming practices reduce the likelihood of referencing the wrong variable or raising a NameError."
      ]
    },
    {
      "cell_type": "markdown",
      "id": "f1caca54",
      "metadata": {
        "id": "f1caca54"
      },
      "source": [
        "## Which code is easier to read and follow?\n",
        "\n",
        "1.  \n",
        "```python\n",
        "studentone_grade=90\n",
        "StudentGrade2=50\n",
        "stu3gr=74\n",
        "avggrade=(studentone_grade+StudentGrade2+stut3gr)/3\n",
        "```\n",
        "\n",
        "2.  \n",
        "```python\n",
        "student1_grade = 90\n",
        "student2_grade = 50\n",
        "student3_grade = 74\n",
        "average_grade = ((student1_grade\n",
        "                  + student2_grade\n",
        "                  + student3_grade)\n",
        "                 / 3)\n",
        "```\n"
      ]
    },
    {
      "cell_type": "markdown",
      "id": "2fa65e79",
      "metadata": {
        "id": "2fa65e79"
      },
      "source": [
        "# Functions"
      ]
    },
    {
      "cell_type": "markdown",
      "id": "3a700ac7",
      "metadata": {
        "id": "3a700ac7"
      },
      "source": [
        "## What is a function?\n",
        "\n",
        "A _function_ is a block of code that performs a task. A function takes zero or more inputs and _returns_ an output.\n",
        "\n",
        "When we use a function, we say we are _calling_ it. We call a function by typing out the function's name followed by parentheses. Inside the parentheses, we can _pass_ in data for the function to use. These values are called _arguments_."
      ]
    },
    {
      "cell_type": "markdown",
      "id": "b79adc3b",
      "metadata": {
        "id": "b79adc3b"
      },
      "source": [
        "## Built-in functions\n",
        "\n",
        "Python comes with several functions already built in. To display information, for example, we can call the `print()` function. (Note that if the last line in a notebook cell is an expression, the notebook will automatically display the result, no `print()` function needed.)"
      ]
    },
    {
      "cell_type": "code",
      "execution_count": null,
      "id": "345bda77",
      "metadata": {
        "id": "345bda77",
        "colab": {
          "base_uri": "https://localhost:8080/"
        },
        "outputId": "600f7c37-4cd3-45ee-a5a3-04137eedaeb8"
      },
      "outputs": [
        {
          "output_type": "stream",
          "name": "stdout",
          "text": [
            "42\n"
          ]
        }
      ],
      "source": [
        "print(42)"
      ]
    },
    {
      "cell_type": "markdown",
      "id": "d25e6107",
      "metadata": {
        "id": "d25e6107"
      },
      "source": [
        "To check the data type of a value, we can call the `type()` function."
      ]
    },
    {
      "cell_type": "code",
      "execution_count": null,
      "id": "d4bad1e7",
      "metadata": {
        "id": "d4bad1e7",
        "colab": {
          "base_uri": "https://localhost:8080/"
        },
        "outputId": "0a4308b2-73e4-413f-83ad-da40c20749f7"
      },
      "outputs": [
        {
          "output_type": "execute_result",
          "data": {
            "text/plain": [
              "int"
            ]
          },
          "metadata": {},
          "execution_count": 22
        }
      ],
      "source": [
        "type(42)"
      ]
    },
    {
      "cell_type": "markdown",
      "id": "f70b9a2d",
      "metadata": {
        "id": "f70b9a2d"
      },
      "source": [
        "We can pass in expressions as arguments."
      ]
    },
    {
      "cell_type": "code",
      "execution_count": null,
      "id": "47c6ffff",
      "metadata": {
        "id": "47c6ffff",
        "colab": {
          "base_uri": "https://localhost:8080/"
        },
        "outputId": "fcc37f1c-563f-4416-93d1-e03dc1a2693b"
      },
      "outputs": [
        {
          "output_type": "stream",
          "name": "stdout",
          "text": [
            "100\n"
          ]
        }
      ],
      "source": [
        "print(10 ** 2)"
      ]
    },
    {
      "cell_type": "markdown",
      "id": "aa7eec74",
      "metadata": {
        "id": "aa7eec74"
      },
      "source": [
        "## More built-in functions\n",
        "\n",
        "Some other useful built-in functions include `abs()` for absolute values, `round()` for rounding, and `int()` and `float()` for type conversion into integers and floats, respectively."
      ]
    },
    {
      "cell_type": "code",
      "execution_count": null,
      "id": "3cf13d07",
      "metadata": {
        "id": "3cf13d07",
        "colab": {
          "base_uri": "https://localhost:8080/"
        },
        "outputId": "3bbf3381-4353-4db0-8682-e0d541affc88"
      },
      "outputs": [
        {
          "output_type": "execute_result",
          "data": {
            "text/plain": [
              "43"
            ]
          },
          "metadata": {},
          "execution_count": 24
        }
      ],
      "source": [
        "abs(-43)"
      ]
    },
    {
      "cell_type": "code",
      "execution_count": null,
      "id": "bf9825ec",
      "metadata": {
        "id": "bf9825ec",
        "colab": {
          "base_uri": "https://localhost:8080/"
        },
        "outputId": "27d9c8f6-426f-4595-fc36-b2bb7e67d857"
      },
      "outputs": [
        {
          "output_type": "execute_result",
          "data": {
            "text/plain": [
              "1"
            ]
          },
          "metadata": {},
          "execution_count": 25
        }
      ],
      "source": [
        "round(2/3)"
      ]
    },
    {
      "cell_type": "code",
      "execution_count": null,
      "id": "c1bff1ca",
      "metadata": {
        "id": "c1bff1ca",
        "colab": {
          "base_uri": "https://localhost:8080/"
        },
        "outputId": "e3c36027-b473-440f-d30e-07765bc5ab64"
      },
      "outputs": [
        {
          "output_type": "execute_result",
          "data": {
            "text/plain": [
              "3"
            ]
          },
          "metadata": {},
          "execution_count": 26
        }
      ],
      "source": [
        "int(3.99)"
      ]
    },
    {
      "cell_type": "code",
      "execution_count": null,
      "id": "9c79d3da",
      "metadata": {
        "id": "9c79d3da",
        "colab": {
          "base_uri": "https://localhost:8080/"
        },
        "outputId": "63f9f2a8-ef80-4a62-c732-cec979ea55da"
      },
      "outputs": [
        {
          "output_type": "execute_result",
          "data": {
            "text/plain": [
              "7.0"
            ]
          },
          "metadata": {},
          "execution_count": 27
        }
      ],
      "source": [
        "float(7)"
      ]
    },
    {
      "cell_type": "markdown",
      "id": "93f36746",
      "metadata": {
        "id": "93f36746"
      },
      "source": [
        "## Nesting functions\n",
        "\n",
        "We can also _nest_ functions within one another. Nested functions are evaluated from the inside out. The code below is evaluated in the following order:\n",
        "\n",
        "1. `2 * 1.5`\n",
        "2. `round()`\n",
        "3. `type()`\n",
        "4. `print()`"
      ]
    },
    {
      "cell_type": "code",
      "execution_count": null,
      "id": "49041e2a",
      "metadata": {
        "id": "49041e2a",
        "colab": {
          "base_uri": "https://localhost:8080/"
        },
        "outputId": "b247fd1b-5004-472a-f036-336f5a8e28e7"
      },
      "outputs": [
        {
          "output_type": "stream",
          "name": "stdout",
          "text": [
            "<class 'int'>\n"
          ]
        }
      ],
      "source": [
        "print(type(round(2 * 1.5)))"
      ]
    },
    {
      "cell_type": "markdown",
      "id": "10d33dcb",
      "metadata": {
        "id": "10d33dcb"
      },
      "source": [
        "## Getting help\n",
        "\n",
        "How do we know what a function does or what arguments it can take? One way is by looking up documentation online. Another is by using the built in `help()` function, with the name of the function we want to know about passed in as an argument."
      ]
    },
    {
      "cell_type": "code",
      "execution_count": null,
      "id": "532fe5cc",
      "metadata": {
        "id": "532fe5cc",
        "colab": {
          "base_uri": "https://localhost:8080/"
        },
        "outputId": "702b3843-4399-4f82-b6f2-4a1e61c40526"
      },
      "outputs": [
        {
          "output_type": "stream",
          "name": "stdout",
          "text": [
            "Help on built-in function round in module builtins:\n",
            "\n",
            "round(number, ndigits=None)\n",
            "    Round a number to a given precision in decimal digits.\n",
            "    \n",
            "    The return value is an integer if ndigits is omitted or None.  Otherwise\n",
            "    the return value has the same type as the number.  ndigits may be negative.\n",
            "\n"
          ]
        }
      ],
      "source": [
        "help(round)"
      ]
    },
    {
      "cell_type": "markdown",
      "id": "b8e495fb",
      "metadata": {
        "id": "b8e495fb"
      },
      "source": [
        "## Writing our own functions\n",
        "\n",
        "We can also create our own functions, which allows us to reuse code without copying and pasting. As we write longer programs, functions also help structure our code."
      ]
    },
    {
      "cell_type": "markdown",
      "id": "ffe15547",
      "metadata": {
        "id": "ffe15547"
      },
      "source": [
        "We use the `def` keyword to start a _function definition statement_. The function name follows `def`. Function names can use letters, digits, and underscores; they cannot start with a digit; and they are case sensitive. Functions in Python typically start with lowercase letters.\n",
        "\n",
        "After the function name come parameter names enclosed in parentheses. A _parameter_ is a variable used only within a function. When we pass an argument to a function, the argument value is assigned to a corresponding parameter.\n",
        "\n",
        "After the closing parenthesis comes a colon (`:`). The function _body_ follows on the next lines. The function body is an indented block of code that runs whenever we call the function. It can include comments as well as statements. The body does not run when we define the function, though!\n",
        "\n",
        "Finally, the body ends with a `return` statement. The return statement tells the function what value, if any, to output when it is called. Some functions, like `print()`, return `None` -- a special data type representing no data. If we don't write a `return` statement, Python will fill in an implicit one and return `None`."
      ]
    },
    {
      "cell_type": "markdown",
      "id": "01274079",
      "metadata": {
        "id": "01274079"
      },
      "source": [
        "`degrees_fahrenheit = (9 / 5) * degrees_celsius + 32`\n",
        "\n",
        "Let's turn our Celsius-to-Fahrenheit conversion code from earlier into a function.  "
      ]
    },
    {
      "cell_type": "markdown",
      "id": "bdcf02c8",
      "metadata": {
        "id": "bdcf02c8"
      },
      "source": [
        "We want our output to be a number representing degrees Fahrenheit. Our input is a number representing degrees Celsius.\n",
        "\n",
        "To make it easy to understand what our function does, let's call it `c_to_f()`. We'll need a parameter name for our input within the parentheses as well -- let's use `degrees_c`. Before writing any code in the body, we can add a comment briefly explaining what the function does.\n",
        "\n",
        "The output is the result of the expression `(9 / 5) * degrees_c + 32`. This calculation is pretty short, so we can put it in the `return` statement as is."
      ]
    },
    {
      "cell_type": "code",
      "execution_count": null,
      "id": "69a1cfea",
      "metadata": {
        "id": "69a1cfea"
      },
      "outputs": [],
      "source": [
        "def c_to_f(degrees_c):\n",
        "    # Convert degrees from Celsius to Fahrenheit\n",
        "    return ((9 / 5) * degrees_c + 32)"
      ]
    },
    {
      "cell_type": "markdown",
      "id": "ce855b6f",
      "metadata": {
        "id": "ce855b6f"
      },
      "source": [
        "Let's try `c_to_f()` out!"
      ]
    },
    {
      "cell_type": "code",
      "execution_count": null,
      "id": "c9ed1dff",
      "metadata": {
        "id": "c9ed1dff",
        "colab": {
          "base_uri": "https://localhost:8080/"
        },
        "outputId": "3ea1b703-5025-41ab-92f4-cddac7bbe136"
      },
      "outputs": [
        {
          "output_type": "stream",
          "name": "stdout",
          "text": [
            "212.0\n",
            "12.2\n"
          ]
        }
      ],
      "source": [
        "print(c_to_f(100))\n",
        "print(c_to_f(-11))"
      ]
    },
    {
      "cell_type": "markdown",
      "id": "d0dd42b0",
      "metadata": {
        "id": "d0dd42b0"
      },
      "source": [
        "We can save the output of a function by assigning it to a variable."
      ]
    },
    {
      "cell_type": "code",
      "execution_count": null,
      "id": "f27a7980",
      "metadata": {
        "id": "f27a7980",
        "colab": {
          "base_uri": "https://localhost:8080/"
        },
        "outputId": "53a6e7a6-8d5d-4ba5-bf0a-0562cc0b486c"
      },
      "outputs": [
        {
          "output_type": "execute_result",
          "data": {
            "text/plain": [
              "32.0"
            ]
          },
          "metadata": {},
          "execution_count": 32
        }
      ],
      "source": [
        "freezing_f = c_to_f(0)\n",
        "freezing_f"
      ]
    },
    {
      "cell_type": "markdown",
      "id": "936d16a9",
      "metadata": {
        "id": "936d16a9"
      },
      "source": [
        "### Multiple parameters\n",
        "\n",
        "Functions can have multiple parameters. In this case, the order that arguments are passed in matters. The first argument corresponds to the first parameter, the second argument to the second parameter, and so on."
      ]
    },
    {
      "cell_type": "code",
      "execution_count": null,
      "id": "e8f57c4f",
      "metadata": {
        "id": "e8f57c4f",
        "colab": {
          "base_uri": "https://localhost:8080/"
        },
        "outputId": "2254f921-da30-4709-f668-f6afdfbcf901"
      },
      "outputs": [
        {
          "output_type": "stream",
          "name": "stdout",
          "text": [
            "0.0\n"
          ]
        }
      ],
      "source": [
        "def divide(dividend, divisor):\n",
        "    return dividend / divisor\n",
        "\n",
        "print(divide(0, 2))"
      ]
    },
    {
      "cell_type": "code",
      "execution_count": null,
      "id": "81d0aa06",
      "metadata": {
        "id": "81d0aa06",
        "colab": {
          "base_uri": "https://localhost:8080/",
          "height": 276
        },
        "outputId": "0b4bfb64-27f4-44a0-ccdd-543e1e1a0cb9"
      },
      "outputs": [
        {
          "output_type": "error",
          "ename": "ZeroDivisionError",
          "evalue": "ignored",
          "traceback": [
            "\u001b[0;31m---------------------------------------------------------------------------\u001b[0m",
            "\u001b[0;31mZeroDivisionError\u001b[0m                         Traceback (most recent call last)",
            "\u001b[0;32m<ipython-input-34-0cdf54a076ec>\u001b[0m in \u001b[0;36m<cell line: 1>\u001b[0;34m()\u001b[0m\n\u001b[0;32m----> 1\u001b[0;31m \u001b[0mprint\u001b[0m\u001b[0;34m(\u001b[0m\u001b[0mdivide\u001b[0m\u001b[0;34m(\u001b[0m\u001b[0;36m2\u001b[0m\u001b[0;34m,\u001b[0m \u001b[0;36m0\u001b[0m\u001b[0;34m)\u001b[0m\u001b[0;34m)\u001b[0m\u001b[0;34m\u001b[0m\u001b[0;34m\u001b[0m\u001b[0m\n\u001b[0m",
            "\u001b[0;32m<ipython-input-33-6404c6c38bcf>\u001b[0m in \u001b[0;36mdivide\u001b[0;34m(dividend, divisor)\u001b[0m\n\u001b[1;32m      1\u001b[0m \u001b[0;32mdef\u001b[0m \u001b[0mdivide\u001b[0m\u001b[0;34m(\u001b[0m\u001b[0mdividend\u001b[0m\u001b[0;34m,\u001b[0m \u001b[0mdivisor\u001b[0m\u001b[0;34m)\u001b[0m\u001b[0;34m:\u001b[0m\u001b[0;34m\u001b[0m\u001b[0;34m\u001b[0m\u001b[0m\n\u001b[0;32m----> 2\u001b[0;31m     \u001b[0;32mreturn\u001b[0m \u001b[0mdividend\u001b[0m \u001b[0;34m/\u001b[0m \u001b[0mdivisor\u001b[0m\u001b[0;34m\u001b[0m\u001b[0;34m\u001b[0m\u001b[0m\n\u001b[0m\u001b[1;32m      3\u001b[0m \u001b[0;34m\u001b[0m\u001b[0m\n\u001b[1;32m      4\u001b[0m \u001b[0mprint\u001b[0m\u001b[0;34m(\u001b[0m\u001b[0mdivide\u001b[0m\u001b[0;34m(\u001b[0m\u001b[0;36m0\u001b[0m\u001b[0;34m,\u001b[0m \u001b[0;36m2\u001b[0m\u001b[0;34m)\u001b[0m\u001b[0;34m)\u001b[0m\u001b[0;34m\u001b[0m\u001b[0;34m\u001b[0m\u001b[0m\n",
            "\u001b[0;31mZeroDivisionError\u001b[0m: division by zero"
          ]
        }
      ],
      "source": [
        "print(divide(2, 0))"
      ]
    },
    {
      "cell_type": "markdown",
      "id": "7f49baa4",
      "metadata": {
        "id": "7f49baa4"
      },
      "source": [
        "### Optional parameters and default arguments\n",
        "\n",
        "Functions can have default values for parameters. This is convenient when there is a commonly used default -- it means we do not have to supply that argument if the default value works for our purposes. To override the default, we can pass in an additional argument.\n",
        "\n",
        "Below, we define a sales tax calculator that uses Ontario's tax rate as the default."
      ]
    },
    {
      "cell_type": "code",
      "execution_count": null,
      "id": "2287bab3",
      "metadata": {
        "id": "2287bab3",
        "colab": {
          "base_uri": "https://localhost:8080/"
        },
        "outputId": "a9692e79-99cd-4911-f494-af60185a90c7"
      },
      "outputs": [
        {
          "output_type": "stream",
          "name": "stdout",
          "text": [
            "0.65\n",
            "0.4\n"
          ]
        }
      ],
      "source": [
        "def calc_sales_tax(price, tax_rate=0.13):\n",
        "    return price * tax_rate\n",
        "\n",
        "print(calc_sales_tax(5))\n",
        "print(calc_sales_tax(5, .08))"
      ]
    },
    {
      "cell_type": "markdown",
      "id": "58e03fa7",
      "metadata": {
        "id": "58e03fa7"
      },
      "source": [
        "### Keyword arguments\n",
        "\n",
        "If there are multiple optional parameters, use _keyword arguments_ to specify which parameter a value should be used for. Using a keyword argument resembles assigning a variable.\n",
        "\n",
        "The function below has multiple optional parameters."
      ]
    },
    {
      "cell_type": "code",
      "execution_count": null,
      "id": "1e81e377",
      "metadata": {
        "id": "1e81e377"
      },
      "outputs": [],
      "source": [
        "def calc_total_bill(price, tax_rate=0.13, tip_rate=0.2):\n",
        "    tax = price * tax_rate\n",
        "    tip = price * tip_rate\n",
        "    return price + tax + tip"
      ]
    },
    {
      "cell_type": "markdown",
      "id": "39510068",
      "metadata": {
        "id": "39510068"
      },
      "source": [
        "Accept all defaults:"
      ]
    },
    {
      "cell_type": "code",
      "execution_count": null,
      "id": "34b595e3",
      "metadata": {
        "id": "34b595e3",
        "colab": {
          "base_uri": "https://localhost:8080/"
        },
        "outputId": "2cbdadef-e05c-4d6f-b9de-39ebca33259c"
      },
      "outputs": [
        {
          "output_type": "execute_result",
          "data": {
            "text/plain": [
              "133.0"
            ]
          },
          "metadata": {},
          "execution_count": 37
        }
      ],
      "source": [
        "calc_total_bill(100)"
      ]
    },
    {
      "cell_type": "markdown",
      "id": "c2485199",
      "metadata": {
        "id": "c2485199"
      },
      "source": [
        "Python assumes the second argument is for the second parameter, `tax_rate`."
      ]
    },
    {
      "cell_type": "code",
      "execution_count": null,
      "id": "bede3708",
      "metadata": {
        "id": "bede3708",
        "colab": {
          "base_uri": "https://localhost:8080/"
        },
        "outputId": "1408e666-dc36-4504-abe6-86bfabb0e762"
      },
      "outputs": [
        {
          "output_type": "stream",
          "name": "stdout",
          "text": [
            "142.0\n"
          ]
        }
      ],
      "source": [
        "print(calc_total_bill(100, 0.22))"
      ]
    },
    {
      "cell_type": "markdown",
      "id": "a2cffd6f",
      "metadata": {
        "id": "a2cffd6f"
      },
      "source": [
        "Use the `tip_rate` keyword argument to specify that the second argument is not the tax rate."
      ]
    },
    {
      "cell_type": "code",
      "execution_count": null,
      "id": "d1d9f3d2",
      "metadata": {
        "id": "d1d9f3d2",
        "colab": {
          "base_uri": "https://localhost:8080/"
        },
        "outputId": "42cd36d2-717b-4729-9f87-d7b073793a37"
      },
      "outputs": [
        {
          "output_type": "stream",
          "name": "stdout",
          "text": [
            "135.0\n"
          ]
        }
      ],
      "source": [
        "print(calc_total_bill(100, tip_rate=0.22))"
      ]
    },
    {
      "cell_type": "markdown",
      "id": "fc58762b",
      "metadata": {
        "id": "fc58762b"
      },
      "source": [
        "## Documenting functions\n",
        "\n",
        "We can call `help()` on user-defined functions as well as built-in functions."
      ]
    },
    {
      "cell_type": "code",
      "execution_count": null,
      "id": "8dc69f93",
      "metadata": {
        "id": "8dc69f93",
        "colab": {
          "base_uri": "https://localhost:8080/"
        },
        "outputId": "a4575900-536e-4a9d-d3cb-8da053af11d5"
      },
      "outputs": [
        {
          "output_type": "stream",
          "name": "stdout",
          "text": [
            "Help on function c_to_f in module __main__:\n",
            "\n",
            "c_to_f(degrees_c)\n",
            "\n"
          ]
        }
      ],
      "source": [
        "help(c_to_f)"
      ]
    },
    {
      "cell_type": "markdown",
      "id": "5747c4ed",
      "metadata": {
        "id": "5747c4ed"
      },
      "source": [
        "## Docstrings\n",
        "\n",
        "In order to get useful results, though, a user-defined function needs a docstring. A _docstring_ is a special kind of string, or text data, that describes what a function does. It is the first thing in a function after the definition statement, and it is typically surrounded by triple single or double quotes (`'''` or `\"\"\"`). `help()` looks for a docstring when it is called."
      ]
    },
    {
      "cell_type": "markdown",
      "id": "cedc4bcc",
      "metadata": {
        "id": "cedc4bcc"
      },
      "source": [
        "Let's convert our comment from earlier into a docstring, then try calling `help()` again."
      ]
    },
    {
      "cell_type": "code",
      "execution_count": null,
      "id": "5c55eb30",
      "metadata": {
        "id": "5c55eb30",
        "colab": {
          "base_uri": "https://localhost:8080/"
        },
        "outputId": "9528ca9e-50f6-4d24-b4d8-da0f7029c4c2"
      },
      "outputs": [
        {
          "output_type": "stream",
          "name": "stdout",
          "text": [
            "Help on function c_to_f in module __main__:\n",
            "\n",
            "c_to_f(degrees_c)\n",
            "    Convert degrees from Celsius to Fahrenheit\n",
            "\n"
          ]
        }
      ],
      "source": [
        "def c_to_f(degrees_c):\n",
        "    '''Convert degrees from Celsius to Fahrenheit'''\n",
        "    return ((9 / 5) * degrees_c + 32)\n",
        "\n",
        "help(c_to_f)"
      ]
    },
    {
      "cell_type": "markdown",
      "id": "182f59a6",
      "metadata": {
        "id": "182f59a6"
      },
      "source": [
        "## Structure of a function\n",
        "\n",
        "Now that we've written our first function, let's review the structure.\n",
        "\n",
        "`c_to_f(degrees_c)` is the _function header_. It tells us what the function name and parameters are.\n",
        "\n",
        "`'''Convert degrees from Celsius to Fahrenheit'''` is the _docstring_. It briefly describes what the function does. Docstrings can include more information about the function, such as examples, what types of data are accepted as arguments, or what gets returned.\n",
        "\n",
        "`return ((9 / 5) * degrees_c + 32)` makes up the function _body_, or the code that runs when a function is called. This is typically more than one line of code. The body ends with a `return` statement specifying what the output of the function should be. If no `return` statement is written out, the function will return `None`."
      ]
    },
    {
      "cell_type": "markdown",
      "id": "a243134e",
      "metadata": {
        "id": "a243134e"
      },
      "source": [
        "## Variable Scope\n",
        "\n",
        "We mentioned that parameters were variables used only in functions. This means that the parameter does not exist outside of the function call -- if we try to access `degrees_c` outside of `c_to_f()`, we get a NameError."
      ]
    },
    {
      "cell_type": "code",
      "execution_count": null,
      "id": "3799ebfc",
      "metadata": {
        "id": "3799ebfc",
        "colab": {
          "base_uri": "https://localhost:8080/",
          "height": 174
        },
        "outputId": "ae4453b0-1607-4f16-f98b-2ef866ad0e1e"
      },
      "outputs": [
        {
          "output_type": "error",
          "ename": "NameError",
          "evalue": "ignored",
          "traceback": [
            "\u001b[0;31m---------------------------------------------------------------------------\u001b[0m",
            "\u001b[0;31mNameError\u001b[0m                                 Traceback (most recent call last)",
            "\u001b[0;32m<ipython-input-42-2a100ed65105>\u001b[0m in \u001b[0;36m<cell line: 1>\u001b[0;34m()\u001b[0m\n\u001b[0;32m----> 1\u001b[0;31m \u001b[0mdegrees_c\u001b[0m\u001b[0;34m\u001b[0m\u001b[0;34m\u001b[0m\u001b[0m\n\u001b[0m",
            "\u001b[0;31mNameError\u001b[0m: name 'degrees_c' is not defined"
          ]
        }
      ],
      "source": [
        "degrees_c"
      ]
    },
    {
      "cell_type": "markdown",
      "id": "69e2892f",
      "metadata": {
        "id": "69e2892f"
      },
      "source": [
        "Parameters are _locally scoped_ variables. _Scope_ refers to the context in which a variable can be accessed. _Local_ indicates that the variable can only be accessed within the function itself."
      ]
    },
    {
      "cell_type": "markdown",
      "id": "b3bedf20",
      "metadata": {
        "id": "b3bedf20"
      },
      "source": [
        "In contrast, a variable defined outside of a function has _global scope_. It can be accessed from anywhere in the program."
      ]
    },
    {
      "cell_type": "code",
      "execution_count": null,
      "id": "8d6408c9",
      "metadata": {
        "id": "8d6408c9",
        "colab": {
          "base_uri": "https://localhost:8080/"
        },
        "outputId": "81da20d0-3622-4c9e-8aac-57ee1be6dbf9"
      },
      "outputs": [
        {
          "output_type": "stream",
          "name": "stdout",
          "text": [
            "100 212.0\n"
          ]
        }
      ],
      "source": [
        "# boiling_c is a global variable\n",
        "boiling_c = 100\n",
        "\n",
        "# boiling_f is too\n",
        "boiling_f = c_to_f(100)\n",
        "\n",
        "print(boiling_c, boiling_f)"
      ]
    },
    {
      "cell_type": "markdown",
      "id": "722d2c13",
      "metadata": {
        "id": "722d2c13"
      },
      "source": [
        "## Function Design Recipe\n",
        "\n",
        "This function design recipe standardizes the steps to write a function.\n",
        "\n",
        "1. Think about what your function does. Come up with a few examples of inputs and outputs.\n",
        "2. Think of a meaningful function name.\n",
        "3. Write thorough function documentation.\n",
        "4. Code the function body.\n",
        "5. Test the function against the examples from step 1."
      ]
    },
    {
      "cell_type": "markdown",
      "id": "c396f70f",
      "metadata": {
        "id": "c396f70f"
      },
      "source": [
        "# Strings"
      ]
    },
    {
      "cell_type": "markdown",
      "id": "ed8b70b9",
      "metadata": {
        "id": "ed8b70b9"
      },
      "source": [
        "## What is a string?\n",
        "\n",
        "`str`, short for _string_, is Python's text data type. Strings are sequences of characters, including digits and symbols. Strings are surrounded by either single (`'`) or double (`\"`) quotes. Which one to use is a matter of preference, but they must be the consistent around a string and should be consistent across our code. The presence of apostrophes, single quotes, or double quotes in our text may require us to use a different quote option, though."
      ]
    },
    {
      "cell_type": "markdown",
      "id": "9e2bdd59",
      "metadata": {
        "id": "9e2bdd59"
      },
      "source": [
        "## String examples"
      ]
    },
    {
      "cell_type": "code",
      "execution_count": null,
      "id": "12eb8ee1",
      "metadata": {
        "id": "12eb8ee1",
        "colab": {
          "base_uri": "https://localhost:8080/",
          "height": 35
        },
        "outputId": "3df3cf07-49ba-4d55-dde1-1c7d69b8910d"
      },
      "outputs": [
        {
          "output_type": "execute_result",
          "data": {
            "text/plain": [
              "'This is a string'"
            ],
            "application/vnd.google.colaboratory.intrinsic+json": {
              "type": "string"
            }
          },
          "metadata": {},
          "execution_count": 44
        }
      ],
      "source": [
        "'This is a string'"
      ]
    },
    {
      "cell_type": "code",
      "execution_count": null,
      "id": "4ac33807",
      "metadata": {
        "id": "4ac33807",
        "colab": {
          "base_uri": "https://localhost:8080/",
          "height": 35
        },
        "outputId": "eb260431-9797-418c-85d9-7cd213af2c83"
      },
      "outputs": [
        {
          "output_type": "execute_result",
          "data": {
            "text/plain": [
              "'So is this'"
            ],
            "application/vnd.google.colaboratory.intrinsic+json": {
              "type": "string"
            }
          },
          "metadata": {},
          "execution_count": 45
        }
      ],
      "source": [
        "\"So is this\""
      ]
    },
    {
      "cell_type": "code",
      "execution_count": null,
      "id": "352e8161",
      "metadata": {
        "id": "352e8161",
        "colab": {
          "base_uri": "https://localhost:8080/",
          "height": 140
        },
        "outputId": "0c511efe-8df2-4211-d053-346e4082715d"
      },
      "outputs": [
        {
          "output_type": "error",
          "ename": "SyntaxError",
          "evalue": "ignored",
          "traceback": [
            "\u001b[0;36m  File \u001b[0;32m\"<ipython-input-46-0bc84b501df1>\"\u001b[0;36m, line \u001b[0;32m1\u001b[0m\n\u001b[0;31m    \"these quotes do not match'\u001b[0m\n\u001b[0m    ^\u001b[0m\n\u001b[0;31mSyntaxError\u001b[0m\u001b[0;31m:\u001b[0m unterminated string literal (detected at line 1)\n"
          ]
        }
      ],
      "source": [
        "\"these quotes do not match'"
      ]
    },
    {
      "cell_type": "code",
      "execution_count": null,
      "id": "b555fd3c",
      "metadata": {
        "id": "b555fd3c",
        "colab": {
          "base_uri": "https://localhost:8080/",
          "height": 140
        },
        "outputId": "0e405bf8-9768-4b3a-cd10-b54c67a1499f"
      },
      "outputs": [
        {
          "output_type": "error",
          "ename": "SyntaxError",
          "evalue": "ignored",
          "traceback": [
            "\u001b[0;36m  File \u001b[0;32m\"<ipython-input-100-9c964f737ce5>\"\u001b[0;36m, line \u001b[0;32m1\u001b[0m\n\u001b[0;31m    'Let's see if this works\u001b[0m\n\u001b[0m         ^\u001b[0m\n\u001b[0;31mSyntaxError\u001b[0m\u001b[0;31m:\u001b[0m invalid syntax\n"
          ]
        }
      ],
      "source": [
        "'Let's see if this works"
      ]
    },
    {
      "cell_type": "code",
      "execution_count": null,
      "id": "5d695d24",
      "metadata": {
        "id": "5d695d24",
        "colab": {
          "base_uri": "https://localhost:8080/",
          "height": 35
        },
        "outputId": "ae0c4066-a0cd-4022-bac4-c8da8daa633d"
      },
      "outputs": [
        {
          "output_type": "execute_result",
          "data": {
            "text/plain": [
              "\"Let's see if this works now\""
            ],
            "application/vnd.google.colaboratory.intrinsic+json": {
              "type": "string"
            }
          },
          "metadata": {},
          "execution_count": 51
        }
      ],
      "source": [
        "# use double quotes to avoid the error\n",
        "\"Let's see if this works now\""
      ]
    },
    {
      "cell_type": "markdown",
      "id": "e1404f58",
      "metadata": {
        "id": "e1404f58"
      },
      "source": [
        "## Multiline strings\n",
        "\n",
        "If we want a string to span multiple lines of code, we need to wrap it in triple quotations (`'''` or `\"\"\"`). We saw this before with our docstrings!"
      ]
    },
    {
      "cell_type": "code",
      "execution_count": null,
      "id": "af1875b1",
      "metadata": {
        "id": "af1875b1",
        "colab": {
          "base_uri": "https://localhost:8080/",
          "height": 35
        },
        "outputId": "9bab7296-f900-4e56-ab10-d3479acc2f25"
      },
      "outputs": [
        {
          "output_type": "execute_result",
          "data": {
            "text/plain": [
              "'\\nI am a multiline string\\n\\nI\\'m very useful for documenting functions\\nand for storing longer texts.\\n\\nAnd you don\\'t have to worry about apostrophes or \"quote\"s!\\n'"
            ],
            "application/vnd.google.colaboratory.intrinsic+json": {
              "type": "string"
            }
          },
          "metadata": {},
          "execution_count": 52
        }
      ],
      "source": [
        "'''\n",
        "I am a multiline string\n",
        "\n",
        "I'm very useful for documenting functions\n",
        "and for storing longer texts.\n",
        "\n",
        "And you don't have to worry about apostrophes or \"quote\"s!\n",
        "'''"
      ]
    },
    {
      "cell_type": "markdown",
      "id": "b19547d6",
      "metadata": {
        "id": "b19547d6"
      },
      "source": [
        "## Escape sequences\n",
        "\n",
        "Where did those `\\n` characters come from and where did our line breaks go in that last string? `\\n` is an _escape sequence_, a combination of characters that means something else. Here, it means \"new line\", not literally \"\\n\". More generally, the backslash (`\\`) is an escape character that can be used to indicate that the next character should be treated differently."
      ]
    },
    {
      "cell_type": "markdown",
      "id": "b6191db7",
      "metadata": {
        "id": "b6191db7"
      },
      "source": [
        "### Escape sequences\n",
        "|Escape sequence|Description|\n",
        "|-----|-----|\n",
        "|\\\\'|Single quote|\n",
        "|\\\\\"|Double quote|\n",
        "|\\\\\\\\|Backslash|\n",
        "|\\t|Tab|\n",
        "|\\n|Newline|\n",
        "|\\r|Carriage return|"
      ]
    },
    {
      "cell_type": "code",
      "execution_count": null,
      "id": "f798ecd5",
      "metadata": {
        "id": "f798ecd5",
        "colab": {
          "base_uri": "https://localhost:8080/",
          "height": 35
        },
        "outputId": "ef00a60a-3e44-4415-f36c-d2bdf25e2fe1"
      },
      "outputs": [
        {
          "output_type": "execute_result",
          "data": {
            "text/plain": [
              "\"This string won't result in an error thanks to the escape sequence\""
            ],
            "application/vnd.google.colaboratory.intrinsic+json": {
              "type": "string"
            }
          },
          "metadata": {},
          "execution_count": 53
        }
      ],
      "source": [
        "'This string won\\'t result in an error thanks to the escape sequence'"
      ]
    },
    {
      "cell_type": "markdown",
      "id": "11052d21",
      "metadata": {
        "id": "11052d21"
      },
      "source": [
        "## Working with strings and overloading\n",
        "\n",
        "Some arithmetic and comparison operators also work with strings, though their meaning changes. When an operator does different things depending on the data provided, we say that it is _overloaded_. It's important to understand what type of data is being used with an overloaded operator so that the results are as expected."
      ]
    },
    {
      "cell_type": "markdown",
      "id": "1732a7cd",
      "metadata": {
        "id": "1732a7cd"
      },
      "source": [
        "### Strings and arithmetic operators"
      ]
    },
    {
      "cell_type": "code",
      "execution_count": null,
      "id": "4e36d1f4",
      "metadata": {
        "id": "4e36d1f4",
        "colab": {
          "base_uri": "https://localhost:8080/",
          "height": 35
        },
        "outputId": "b8e57f97-1c4e-4a47-acd0-f81bfa38210c"
      },
      "outputs": [
        {
          "output_type": "execute_result",
          "data": {
            "text/plain": [
              "'hello world'"
            ],
            "application/vnd.google.colaboratory.intrinsic+json": {
              "type": "string"
            }
          },
          "metadata": {},
          "execution_count": 54
        }
      ],
      "source": [
        "# adding strings together concatenates them\n",
        "'hello' + ' ' + 'world'"
      ]
    },
    {
      "cell_type": "code",
      "execution_count": null,
      "id": "69d734a3",
      "metadata": {
        "id": "69d734a3",
        "colab": {
          "base_uri": "https://localhost:8080/",
          "height": 35
        },
        "outputId": "819999ca-6460-4588-ed16-8da34c4ebae4"
      },
      "outputs": [
        {
          "output_type": "execute_result",
          "data": {
            "text/plain": [
              "'hahaha'"
            ],
            "application/vnd.google.colaboratory.intrinsic+json": {
              "type": "string"
            }
          },
          "metadata": {},
          "execution_count": 55
        }
      ],
      "source": [
        "# multiplying a string repeats it\n",
        "'ha' * 3"
      ]
    },
    {
      "cell_type": "code",
      "execution_count": null,
      "id": "444cd7f1",
      "metadata": {
        "id": "444cd7f1",
        "colab": {
          "base_uri": "https://localhost:8080/",
          "height": 191
        },
        "outputId": "2c58cc3f-dc2e-44cc-81e1-d467bef8db4e"
      },
      "outputs": [
        {
          "output_type": "error",
          "ename": "TypeError",
          "evalue": "ignored",
          "traceback": [
            "\u001b[0;31m---------------------------------------------------------------------------\u001b[0m",
            "\u001b[0;31mTypeError\u001b[0m                                 Traceback (most recent call last)",
            "\u001b[0;32m<ipython-input-56-ef61714c60fa>\u001b[0m in \u001b[0;36m<cell line: 2>\u001b[0;34m()\u001b[0m\n\u001b[1;32m      1\u001b[0m \u001b[0;31m# mixing data types results in an error\u001b[0m\u001b[0;34m\u001b[0m\u001b[0;34m\u001b[0m\u001b[0m\n\u001b[0;32m----> 2\u001b[0;31m \u001b[0;34m'The year is '\u001b[0m \u001b[0;34m+\u001b[0m \u001b[0;36m2020\u001b[0m\u001b[0;34m\u001b[0m\u001b[0;34m\u001b[0m\u001b[0m\n\u001b[0m",
            "\u001b[0;31mTypeError\u001b[0m: can only concatenate str (not \"int\") to str"
          ]
        }
      ],
      "source": [
        "# mixing data types results in an error\n",
        "'The year is ' + 2020"
      ]
    },
    {
      "cell_type": "markdown",
      "id": "beca20a7",
      "metadata": {
        "id": "beca20a7"
      },
      "source": [
        "### Strings and comparison operators\n",
        "\n",
        "We can use the `==` and `!=` operators to compare strings, as well as to compare strings and numbers."
      ]
    },
    {
      "cell_type": "code",
      "execution_count": null,
      "id": "b922b788",
      "metadata": {
        "id": "b922b788",
        "colab": {
          "base_uri": "https://localhost:8080/"
        },
        "outputId": "a40e63ee-89bb-479e-dc21-c04b53502d2b"
      },
      "outputs": [
        {
          "output_type": "execute_result",
          "data": {
            "text/plain": [
              "False"
            ]
          },
          "metadata": {},
          "execution_count": 57
        }
      ],
      "source": [
        "'apple' == 'Apple'"
      ]
    },
    {
      "cell_type": "code",
      "execution_count": null,
      "id": "5f0f4faa",
      "metadata": {
        "id": "5f0f4faa",
        "colab": {
          "base_uri": "https://localhost:8080/"
        },
        "outputId": "3c0a30f0-dc4b-4a93-f1f0-d89a8806cd5a"
      },
      "outputs": [
        {
          "output_type": "execute_result",
          "data": {
            "text/plain": [
              "True"
            ]
          },
          "metadata": {},
          "execution_count": 58
        }
      ],
      "source": [
        "'apple' != 'Apple'"
      ]
    },
    {
      "cell_type": "code",
      "execution_count": null,
      "id": "1158f00c",
      "metadata": {
        "id": "1158f00c",
        "colab": {
          "base_uri": "https://localhost:8080/"
        },
        "outputId": "a88646b6-af0a-4100-fcfe-e3439a3097cd"
      },
      "outputs": [
        {
          "output_type": "execute_result",
          "data": {
            "text/plain": [
              "False"
            ]
          },
          "metadata": {},
          "execution_count": 59
        }
      ],
      "source": [
        "'20' == 20"
      ]
    },
    {
      "cell_type": "markdown",
      "id": "fb078997",
      "metadata": {
        "id": "fb078997"
      },
      "source": [
        "## Strings within strings\n",
        "\n",
        "\n",
        "We can extract a piece of a string by _slicing_ it. For example, if we want to get initials from a first name and last name, we may slice the first letter of each.\n",
        "\n",
        "To slice a string, we add square brackets (`[]`) to the end of it. To get a single character, we then put the _index_ or position, of the character we want to get.\n",
        "\n",
        "To get multiple characters, we put the starting index of our slice, then a colon (`:`) and finally the index where we want to end our slice. **Strings in Python are _zero-indexed_, meaning that the first letter is at index 0, not 1.** Slices do not include the character at the ending index position."
      ]
    },
    {
      "cell_type": "markdown",
      "id": "f07856bf",
      "metadata": {
        "id": "f07856bf"
      },
      "source": [
        "### Slicing single characters"
      ]
    },
    {
      "cell_type": "code",
      "execution_count": null,
      "id": "c231d8f4",
      "metadata": {
        "id": "c231d8f4",
        "colab": {
          "base_uri": "https://localhost:8080/"
        },
        "outputId": "c98c26a1-0f5f-417a-e0dc-7335d7f31491"
      },
      "outputs": [
        {
          "output_type": "stream",
          "name": "stdout",
          "text": [
            "Initials are A L\n"
          ]
        }
      ],
      "source": [
        "first_name = 'Ada'\n",
        "last_name = 'Lovelace'\n",
        "\n",
        "# print initials\n",
        "print('Initials are', first_name[0], last_name[0])"
      ]
    },
    {
      "cell_type": "markdown",
      "id": "b2ad7ff0",
      "metadata": {
        "id": "b2ad7ff0"
      },
      "source": [
        "If we don't provide a starting index, our string slice will go from the beginning to the ending index. Similarly, if we don't provide an ending index, our string slice will go from the starting index to the end."
      ]
    },
    {
      "cell_type": "code",
      "execution_count": null,
      "id": "2a8ab4a2",
      "metadata": {
        "id": "2a8ab4a2",
        "colab": {
          "base_uri": "https://localhost:8080/"
        },
        "outputId": "d8ba7212-f7fb-45ea-d702-a650a66063ef"
      },
      "outputs": [
        {
          "output_type": "stream",
          "name": "stdout",
          "text": [
            "A lace\n"
          ]
        }
      ],
      "source": [
        "print(first_name[:1], last_name[4:])"
      ]
    },
    {
      "cell_type": "code",
      "execution_count": null,
      "id": "474b7246",
      "metadata": {
        "id": "474b7246",
        "colab": {
          "base_uri": "https://localhost:8080/",
          "height": 35
        },
        "outputId": "0eab5c5c-1800-4285-8634-dc4d14e2f017"
      },
      "outputs": [
        {
          "output_type": "execute_result",
          "data": {
            "text/plain": [
              "'555'"
            ],
            "application/vnd.google.colaboratory.intrinsic+json": {
              "type": "string"
            }
          },
          "metadata": {},
          "execution_count": 62
        }
      ],
      "source": [
        "phone_number = '+1 555-123-4567'\n",
        "\n",
        "# get the area code\n",
        "phone_number[3:6]"
      ]
    },
    {
      "cell_type": "markdown",
      "id": "6c8352ae",
      "metadata": {
        "id": "6c8352ae"
      },
      "source": [
        "We can even use negative indices. Here, we slice from the fourth-to-last character to the end."
      ]
    },
    {
      "cell_type": "code",
      "execution_count": null,
      "id": "41ee9c63",
      "metadata": {
        "id": "41ee9c63",
        "colab": {
          "base_uri": "https://localhost:8080/",
          "height": 35
        },
        "outputId": "a28e1821-c5d8-49d7-8eb9-0f5efced5092"
      },
      "outputs": [
        {
          "output_type": "execute_result",
          "data": {
            "text/plain": [
              "'4567'"
            ],
            "application/vnd.google.colaboratory.intrinsic+json": {
              "type": "string"
            }
          },
          "metadata": {},
          "execution_count": 63
        }
      ],
      "source": [
        "phone_number[-4:]"
      ]
    },
    {
      "cell_type": "markdown",
      "id": "11b03c70",
      "metadata": {
        "id": "11b03c70"
      },
      "source": [
        "### Checking for strings\n",
        "\n",
        "We can also check for character sequences, or _substrings_ within a string. There are multiple ways to do this, but one of the simplest is with the `in` operator."
      ]
    },
    {
      "cell_type": "code",
      "execution_count": null,
      "id": "052d6727",
      "metadata": {
        "id": "052d6727"
      },
      "outputs": [],
      "source": [
        "job_qualifications = 'The successful applicant will be proficient in R, Python, SQL, statistics, and data visualization.'"
      ]
    },
    {
      "cell_type": "code",
      "execution_count": null,
      "id": "22261d43",
      "metadata": {
        "id": "22261d43",
        "colab": {
          "base_uri": "https://localhost:8080/"
        },
        "outputId": "98df15ab-64db-4b14-ad0e-3b760beccdc1"
      },
      "outputs": [
        {
          "output_type": "execute_result",
          "data": {
            "text/plain": [
              "True"
            ]
          },
          "metadata": {},
          "execution_count": 65
        }
      ],
      "source": [
        "'R' in job_qualifications"
      ]
    },
    {
      "cell_type": "code",
      "execution_count": null,
      "id": "0345fd67",
      "metadata": {
        "id": "0345fd67",
        "colab": {
          "base_uri": "https://localhost:8080/"
        },
        "outputId": "26583257-42da-4bab-b326-c7249f67c613"
      },
      "outputs": [
        {
          "output_type": "execute_result",
          "data": {
            "text/plain": [
              "False"
            ]
          },
          "metadata": {},
          "execution_count": 66
        }
      ],
      "source": [
        "' r ' in job_qualifications"
      ]
    },
    {
      "cell_type": "code",
      "execution_count": null,
      "id": "c54f65ef",
      "metadata": {
        "id": "c54f65ef",
        "colab": {
          "base_uri": "https://localhost:8080/"
        },
        "outputId": "ede4fcad-d092-46d1-a1ca-ffa1f8a8bec5"
      },
      "outputs": [
        {
          "output_type": "execute_result",
          "data": {
            "text/plain": [
              "False"
            ]
          },
          "metadata": {},
          "execution_count": 67
        }
      ],
      "source": [
        "'JavaScript' in job_qualifications"
      ]
    },
    {
      "cell_type": "markdown",
      "id": "94b61ac0",
      "metadata": {
        "id": "94b61ac0"
      },
      "source": [
        "## Converting between types\n",
        "\n",
        "Sometimes, we'll get string data that should be treated as a number, or vice versa. We can use the `str()`, `int()` and `float()` functions to convert between data types. If the argument to the type conversion function is not valid in the target data type, Python will produce an error."
      ]
    },
    {
      "cell_type": "markdown",
      "id": "edb37e4d",
      "metadata": {
        "id": "edb37e4d"
      },
      "source": [
        "#### String to integer"
      ]
    },
    {
      "cell_type": "code",
      "execution_count": null,
      "id": "5af84a29",
      "metadata": {
        "id": "5af84a29",
        "colab": {
          "base_uri": "https://localhost:8080/"
        },
        "outputId": "c3c7a489-8725-42a9-a740-4a7d9f953774"
      },
      "outputs": [
        {
          "output_type": "execute_result",
          "data": {
            "text/plain": [
              "17"
            ]
          },
          "metadata": {},
          "execution_count": 68
        }
      ],
      "source": [
        "int('17')"
      ]
    },
    {
      "cell_type": "code",
      "execution_count": null,
      "id": "fbf1894e",
      "metadata": {
        "id": "fbf1894e",
        "colab": {
          "base_uri": "https://localhost:8080/",
          "height": 174
        },
        "outputId": "aef07162-6ee3-4abc-ed20-f43dd5362213"
      },
      "outputs": [
        {
          "output_type": "error",
          "ename": "ValueError",
          "evalue": "ignored",
          "traceback": [
            "\u001b[0;31m---------------------------------------------------------------------------\u001b[0m",
            "\u001b[0;31mValueError\u001b[0m                                Traceback (most recent call last)",
            "\u001b[0;32m<ipython-input-71-b12f21fb3f27>\u001b[0m in \u001b[0;36m<cell line: 1>\u001b[0;34m()\u001b[0m\n\u001b[0;32m----> 1\u001b[0;31m \u001b[0mint\u001b[0m\u001b[0;34m(\u001b[0m\u001b[0;34m'17.4'\u001b[0m\u001b[0;34m)\u001b[0m\u001b[0;34m\u001b[0m\u001b[0;34m\u001b[0m\u001b[0m\n\u001b[0m",
            "\u001b[0;31mValueError\u001b[0m: invalid literal for int() with base 10: '17.4'"
          ]
        }
      ],
      "source": [
        "int('17.4')"
      ]
    },
    {
      "cell_type": "code",
      "execution_count": null,
      "id": "ed698bf3",
      "metadata": {
        "id": "ed698bf3",
        "colab": {
          "base_uri": "https://localhost:8080/",
          "height": 174
        },
        "outputId": "1e2528eb-4798-4f7b-a6ce-1134d726ce01"
      },
      "outputs": [
        {
          "output_type": "error",
          "ename": "ValueError",
          "evalue": "ignored",
          "traceback": [
            "\u001b[0;31m---------------------------------------------------------------------------\u001b[0m",
            "\u001b[0;31mValueError\u001b[0m                                Traceback (most recent call last)",
            "\u001b[0;32m<ipython-input-70-2d904241f87b>\u001b[0m in \u001b[0;36m<cell line: 1>\u001b[0;34m()\u001b[0m\n\u001b[0;32m----> 1\u001b[0;31m \u001b[0mint\u001b[0m\u001b[0;34m(\u001b[0m\u001b[0;34m'me'\u001b[0m\u001b[0;34m)\u001b[0m\u001b[0;34m\u001b[0m\u001b[0;34m\u001b[0m\u001b[0m\n\u001b[0m",
            "\u001b[0;31mValueError\u001b[0m: invalid literal for int() with base 10: 'me'"
          ]
        }
      ],
      "source": [
        "int('me')"
      ]
    },
    {
      "cell_type": "markdown",
      "id": "5fc3ae9b",
      "metadata": {
        "id": "5fc3ae9b"
      },
      "source": [
        "#### String to float"
      ]
    },
    {
      "cell_type": "code",
      "execution_count": null,
      "id": "516644f7",
      "metadata": {
        "id": "516644f7",
        "colab": {
          "base_uri": "https://localhost:8080/"
        },
        "outputId": "448db8d0-6a53-400f-cc7e-7ae4a123dbed"
      },
      "outputs": [
        {
          "output_type": "execute_result",
          "data": {
            "text/plain": [
              "892.0"
            ]
          },
          "metadata": {},
          "execution_count": 72
        }
      ],
      "source": [
        "float('892')"
      ]
    },
    {
      "cell_type": "code",
      "execution_count": null,
      "id": "f9013665",
      "metadata": {
        "id": "f9013665",
        "colab": {
          "base_uri": "https://localhost:8080/",
          "height": 174
        },
        "outputId": "5b9ffe68-6a40-4394-a1e6-da8c1d62c2ef"
      },
      "outputs": [
        {
          "output_type": "error",
          "ename": "ValueError",
          "evalue": "ignored",
          "traceback": [
            "\u001b[0;31m---------------------------------------------------------------------------\u001b[0m",
            "\u001b[0;31mValueError\u001b[0m                                Traceback (most recent call last)",
            "\u001b[0;32m<ipython-input-73-05dc2118e60e>\u001b[0m in \u001b[0;36m<cell line: 1>\u001b[0;34m()\u001b[0m\n\u001b[0;32m----> 1\u001b[0;31m \u001b[0mfloat\u001b[0m\u001b[0;34m(\u001b[0m\u001b[0;34m'you'\u001b[0m\u001b[0;34m)\u001b[0m\u001b[0;34m\u001b[0m\u001b[0;34m\u001b[0m\u001b[0m\n\u001b[0m",
            "\u001b[0;31mValueError\u001b[0m: could not convert string to float: 'you'"
          ]
        }
      ],
      "source": [
        "float('you')"
      ]
    },
    {
      "cell_type": "markdown",
      "id": "018ce02a",
      "metadata": {
        "id": "018ce02a"
      },
      "source": [
        "#### Float and int to string"
      ]
    },
    {
      "cell_type": "code",
      "execution_count": null,
      "id": "d750cc4f",
      "metadata": {
        "id": "d750cc4f",
        "colab": {
          "base_uri": "https://localhost:8080/",
          "height": 35
        },
        "outputId": "ac7d3c7a-e1da-4588-fd31-afa7fed415ed"
      },
      "outputs": [
        {
          "output_type": "execute_result",
          "data": {
            "text/plain": [
              "'37.5'"
            ],
            "application/vnd.google.colaboratory.intrinsic+json": {
              "type": "string"
            }
          },
          "metadata": {},
          "execution_count": 84
        }
      ],
      "source": [
        "str(37.5)"
      ]
    },
    {
      "cell_type": "code",
      "execution_count": null,
      "id": "40d832c1",
      "metadata": {
        "id": "40d832c1",
        "colab": {
          "base_uri": "https://localhost:8080/",
          "height": 35
        },
        "outputId": "a32f85c1-3574-4c35-e020-10b7204bebb9"
      },
      "outputs": [
        {
          "output_type": "execute_result",
          "data": {
            "text/plain": [
              "'20'"
            ],
            "application/vnd.google.colaboratory.intrinsic+json": {
              "type": "string"
            }
          },
          "metadata": {},
          "execution_count": 85
        }
      ],
      "source": [
        "str(20)"
      ]
    },
    {
      "cell_type": "code",
      "execution_count": null,
      "id": "bdc67737",
      "metadata": {
        "id": "bdc67737",
        "colab": {
          "base_uri": "https://localhost:8080/",
          "height": 35
        },
        "outputId": "60231eaf-67a3-4014-a660-e1e3660652a8"
      },
      "outputs": [
        {
          "output_type": "execute_result",
          "data": {
            "text/plain": [
              "'2037.5'"
            ],
            "application/vnd.google.colaboratory.intrinsic+json": {
              "type": "string"
            }
          },
          "metadata": {},
          "execution_count": 86
        }
      ],
      "source": [
        "'20' + str(37.5)"
      ]
    },
    {
      "cell_type": "markdown",
      "id": "b334b4fe",
      "metadata": {
        "id": "b334b4fe"
      },
      "source": [
        "## Strings and functions\n",
        "\n",
        "String data works with some of the functions we've seen before, like `print()`, as well as with built-in functions like `len()`, which tells us how long the argument we pass in is."
      ]
    },
    {
      "cell_type": "code",
      "execution_count": null,
      "id": "2887ca72",
      "metadata": {
        "id": "2887ca72",
        "colab": {
          "base_uri": "https://localhost:8080/"
        },
        "outputId": "34d81c65-2e6b-4df7-a6cc-b21bab1a5949"
      },
      "outputs": [
        {
          "output_type": "stream",
          "name": "stdout",
          "text": [
            "1 fish, 2 fish\n"
          ]
        }
      ],
      "source": [
        "# We can print strings, ints, and floats together\n",
        "print(1, 'fish,', 2, 'fish')"
      ]
    },
    {
      "cell_type": "code",
      "execution_count": null,
      "id": "9fe0a453",
      "metadata": {
        "id": "9fe0a453",
        "colab": {
          "base_uri": "https://localhost:8080/"
        },
        "outputId": "6753fb77-c177-4dee-ec14-b4be8d7629ea"
      },
      "outputs": [
        {
          "output_type": "execute_result",
          "data": {
            "text/plain": [
              "80"
            ]
          },
          "metadata": {},
          "execution_count": 88
        }
      ],
      "source": [
        "len('Sometimes we type long-winded sentences to meet word counts or character counts.')"
      ]
    },
    {
      "cell_type": "markdown",
      "id": "8af90510",
      "metadata": {
        "id": "8af90510"
      },
      "source": [
        "## String methods\n",
        "\n",
        "Strings in Python also have _methods_, which are functions that work only for a specific type of data. We'll learn about methods in more depth later. The key points here are:\n",
        "\n",
        "- String methods work only on strings -- not on integers, floats, or booleans\n",
        "- Methods are called differently from other functions"
      ]
    },
    {
      "cell_type": "markdown",
      "id": "dc5f7eed",
      "metadata": {
        "id": "dc5f7eed"
      },
      "source": [
        "To use a string method, we specify a string, then follow it with a period and the method being called."
      ]
    },
    {
      "cell_type": "code",
      "execution_count": null,
      "id": "03b3d6a1",
      "metadata": {
        "id": "03b3d6a1",
        "colab": {
          "base_uri": "https://localhost:8080/",
          "height": 35
        },
        "outputId": "f1a7bf9e-4a85-4470-8460-f20f90dff288"
      },
      "outputs": [
        {
          "output_type": "execute_result",
          "data": {
            "text/plain": [
              "'I AM NOT YELLING'"
            ],
            "application/vnd.google.colaboratory.intrinsic+json": {
              "type": "string"
            }
          },
          "metadata": {},
          "execution_count": 89
        }
      ],
      "source": [
        "# convert a string to all caps\n",
        "'I am not yelling'.upper()"
      ]
    },
    {
      "cell_type": "code",
      "execution_count": null,
      "id": "afe58878",
      "metadata": {
        "id": "afe58878",
        "colab": {
          "base_uri": "https://localhost:8080/"
        },
        "outputId": "ccd6741f-edd5-493a-fde4-bb591d84e91e"
      },
      "outputs": [
        {
          "output_type": "execute_result",
          "data": {
            "text/plain": [
              "0"
            ]
          },
          "metadata": {},
          "execution_count": 90
        }
      ],
      "source": [
        "# count the 'e's\n",
        "'This string is unusual'.count('e')"
      ]
    },
    {
      "cell_type": "code",
      "execution_count": null,
      "id": "4411add4",
      "metadata": {
        "id": "4411add4",
        "colab": {
          "base_uri": "https://localhost:8080/"
        },
        "outputId": "2b8a4292-8fa5-49e2-ec92-1763956200c0"
      },
      "outputs": [
        {
          "output_type": "execute_result",
          "data": {
            "text/plain": [
              "True"
            ]
          },
          "metadata": {},
          "execution_count": 91
        }
      ],
      "source": [
        "# check if a string ends with a substring\n",
        "'file_name.csv'.endswith('.csv')"
      ]
    },
    {
      "cell_type": "code",
      "execution_count": null,
      "id": "cc09e74b",
      "metadata": {
        "id": "cc09e74b",
        "colab": {
          "base_uri": "https://localhost:8080/",
          "height": 35
        },
        "outputId": "02147373-f9f3-4574-ed70-a1299d022814"
      },
      "outputs": [
        {
          "output_type": "execute_result",
          "data": {
            "text/plain": [
              "'long_file_name_with_spaces.csv'"
            ],
            "application/vnd.google.colaboratory.intrinsic+json": {
              "type": "string"
            }
          },
          "metadata": {},
          "execution_count": 92
        }
      ],
      "source": [
        "# replace text\n",
        "'long file name with spaces.csv'.replace(' ', '_')"
      ]
    },
    {
      "cell_type": "markdown",
      "id": "1d548a4e",
      "metadata": {
        "id": "1d548a4e"
      },
      "source": [
        "For a full list of string methods, see the [Python documentation](https://docs.python.org/3/library/stdtypes.html#string-methods)."
      ]
    },
    {
      "cell_type": "markdown",
      "id": "131e451a",
      "metadata": {
        "id": "131e451a"
      },
      "source": [
        "### Formatting Strings\n",
        "\n",
        "The `format()` string method makes it easier to combine text with other data. We can create text templates with curly braces (`{}`), then pass values in."
      ]
    },
    {
      "cell_type": "code",
      "execution_count": null,
      "id": "c6cc75d8",
      "metadata": {
        "id": "c6cc75d8",
        "colab": {
          "base_uri": "https://localhost:8080/",
          "height": 35
        },
        "outputId": "87a492c0-d5e4-48e3-88a8-3f4a95ca93be"
      },
      "outputs": [
        {
          "output_type": "execute_result",
          "data": {
            "text/plain": [
              "\"Ada Lovelace's initials are A. L.\""
            ],
            "application/vnd.google.colaboratory.intrinsic+json": {
              "type": "string"
            }
          },
          "metadata": {},
          "execution_count": 93
        }
      ],
      "source": [
        "'Ada Lovelace\\'s initials are {}. {}.'.format('Ada'[0], 'Lovelace'[0])"
      ]
    },
    {
      "cell_type": "markdown",
      "id": "a0cd99a3",
      "metadata": {
        "id": "a0cd99a3"
      },
      "source": [
        "If we preface the string with `f`, we can pass values directly into the curly braces."
      ]
    },
    {
      "cell_type": "code",
      "execution_count": null,
      "id": "4ae6edf7",
      "metadata": {
        "id": "4ae6edf7",
        "colab": {
          "base_uri": "https://localhost:8080/",
          "height": 35
        },
        "outputId": "c74cd109-99d7-4d37-bf7a-76d92dc91258"
      },
      "outputs": [
        {
          "output_type": "execute_result",
          "data": {
            "text/plain": [
              "\"Ada Lovelace's initials are A. L.\""
            ],
            "application/vnd.google.colaboratory.intrinsic+json": {
              "type": "string"
            }
          },
          "metadata": {},
          "execution_count": 94
        }
      ],
      "source": [
        "f'Ada Lovelace\\'s initials are {\"Ada\"[0]}. {\"Lovelace\"[0]}.'"
      ]
    },
    {
      "cell_type": "markdown",
      "id": "4090d1f7",
      "metadata": {
        "id": "4090d1f7"
      },
      "source": [
        "When in doubt, we can call for `help()`!"
      ]
    },
    {
      "cell_type": "code",
      "execution_count": null,
      "id": "f663acf3",
      "metadata": {
        "id": "f663acf3",
        "colab": {
          "base_uri": "https://localhost:8080/"
        },
        "outputId": "e13221fd-d4d1-4c8f-9777-dbb8df7cc9fa"
      },
      "outputs": [
        {
          "output_type": "stream",
          "name": "stdout",
          "text": [
            "Help on method_descriptor:\n",
            "\n",
            "lower(self, /)\n",
            "    Return a copy of the string converted to lowercase.\n",
            "\n"
          ]
        }
      ],
      "source": [
        "help(str.lower)"
      ]
    },
    {
      "cell_type": "markdown",
      "id": "5645a11c",
      "metadata": {
        "id": "5645a11c"
      },
      "source": [
        "# Input"
      ]
    },
    {
      "cell_type": "markdown",
      "id": "3ac38293",
      "metadata": {
        "id": "3ac38293"
      },
      "source": [
        "## Getting user input\n",
        "\n",
        "Sometimes, we may want to work with data given to us by the user running the program. One way to get user input is with the `input()` function, which prompts the user and returns their response as a string. `input()` takes a prompt string as an argument.\n",
        "\n",
        "Be careful when using `input()` -- there's no guarantee that the user will answer in a way you expect!"
      ]
    },
    {
      "cell_type": "code",
      "execution_count": null,
      "id": "69f1ae7d",
      "metadata": {
        "id": "69f1ae7d",
        "colab": {
          "base_uri": "https://localhost:8080/",
          "height": 52
        },
        "outputId": "eef68880-b940-4f06-ab27-fd3e6ea9a7cd"
      },
      "outputs": [
        {
          "name": "stdout",
          "output_type": "stream",
          "text": [
            "How old are you? 100\n"
          ]
        },
        {
          "output_type": "execute_result",
          "data": {
            "text/plain": [
              "'100'"
            ],
            "application/vnd.google.colaboratory.intrinsic+json": {
              "type": "string"
            }
          },
          "metadata": {},
          "execution_count": 96
        }
      ],
      "source": [
        "age = input('How old are you? ')\n",
        "age"
      ]
    },
    {
      "cell_type": "code",
      "execution_count": null,
      "id": "b81e701c",
      "metadata": {
        "id": "b81e701c",
        "colab": {
          "base_uri": "https://localhost:8080/"
        },
        "outputId": "7524c0f2-64da-4907-b682-dd132e8b7dea"
      },
      "outputs": [
        {
          "output_type": "stream",
          "name": "stdout",
          "text": [
            "Next birthday you will be 101\n"
          ]
        }
      ],
      "source": [
        "# to do arithmetic on an input, we need to convert it\n",
        "age_next_bday = int(age) + 1\n",
        "print('Next birthday you will be {}'.format(age_next_bday))"
      ]
    },
    {
      "cell_type": "markdown",
      "id": "0d1c483c",
      "metadata": {
        "id": "0d1c483c"
      },
      "source": [
        "# References"
      ]
    },
    {
      "cell_type": "markdown",
      "id": "c43689bc",
      "metadata": {
        "id": "c43689bc"
      },
      "source": [
        "- Bostroem, Bekolay, and Staneva (eds): \"Software Carpentry: Programming with Python\"  Version 2016.06, June 2016, https://github.com/swcarpentry/python-novice-inflammation, 10.5281/zenodo.57492.\n",
        "- Chapters 1, 2, 3, and 4, Gries, Campbell, and Montojo, 2017, *Practical Programming: An Introduction to Computer Science Using Python 3.6*\n",
        "- Chapter 8, Adhikari, DeNero, and Wagner, 2021, *Computational and Inferential Thinking: The Foundations of Data Science*\n",
        "- \"String methods\", Python Software Foundation, *Python Language Reference, version 3.* Available at https://docs.python.org/3/library/stdtypes.html#string-methods"
      ]
    }
  ],
  "metadata": {
    "celltoolbar": "Slideshow",
    "kernelspec": {
      "display_name": "Python 3 (ipykernel)",
      "language": "python",
      "name": "python3"
    },
    "language_info": {
      "codemirror_mode": {
        "name": "ipython",
        "version": 3
      },
      "file_extension": ".py",
      "mimetype": "text/x-python",
      "name": "python",
      "nbconvert_exporter": "python",
      "pygments_lexer": "ipython3",
      "version": "3.10.4"
    },
    "rise": {
      "scroll": true,
      "theme": "solarized",
      "transition": "none"
    },
    "colab": {
      "provenance": [],
      "collapsed_sections": [
        "0294d7fe",
        "b3f69e98",
        "cd134d80",
        "16f27979",
        "f1caca54",
        "3a700ac7",
        "722d2c13",
        "ed8b70b9"
      ],
      "toc_visible": true
    }
  },
  "nbformat": 4,
  "nbformat_minor": 5
}