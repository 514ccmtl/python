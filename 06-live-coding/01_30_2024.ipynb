{
 "cells": [
  {
   "cell_type": "markdown",
   "metadata": {},
   "source": [
    "### 1. What is an Array?\n",
    "\n",
    "1. **Definition**: Arrays are a collection of elements that are all of the same type. In Python, arrays are not a built-in data type but are available through libraries like `array` (for basic functionality) or `NumPy` (for more advanced operations, especially in scientific computing).\n",
    "2. **Fixed Type**: Unlike lists, all elements in an array must be of the same data type (e.g., all integers, all floats).\n",
    "3. **Performance**: Arrays are generally more efficient for numerical operations. They use less memory and offer better performance, especially for large amounts of data.\n",
    "4. **Syntax**: In Python, a basic array from the `array` module is defined as: `import array; my_array = array.array('i', [1, 2, 3, 4])`, where `'i'` is the type code for integers.\n",
    "5. **Use Cases**: Arrays are used when you need to perform mathematical operations on large datasets, especially in fields like data analysis, machine learning, and scientific computing.\n",
    "\n",
    "### 2. Dimensions in Arrays\n",
    "\n",
    "Each level of square brackets can be thought of as moving one dimension deeper into the array.\n",
    "- **One-Dimensional (1D) Array**: This is like a single row of elements. You can think of it as a straight line where each element has its position or index. "
   ]
  },
  {
   "cell_type": "code",
   "execution_count": 5,
   "metadata": {},
   "outputs": [],
   "source": [
    "import numpy as np\n",
    "oneDimArr = np.array([1, 2, 3])"
   ]
  },
  {
   "cell_type": "markdown",
   "metadata": {},
   "source": [
    "- **Two-Dimensional (2D) Array**: This is like a table or a matrix. It has rows and columns. Think of it as a chessboard where you have both rows (horizontal) and columns (vertical). Each element is identified by two indexes: one for the row and one for the column."
   ]
  },
  {
   "cell_type": "code",
   "execution_count": 3,
   "metadata": {},
   "outputs": [],
   "source": [
    "twoDimArr = np.array([[1, 2, 3],\n",
    "                      [4, 5, 6],\n",
    "                      [7, 8, 9]])"
   ]
  },
  {
   "cell_type": "markdown",
   "metadata": {},
   "source": [
    "- **Three-Dimensional (3D) Array**: Imagine a cube made of smaller cubes. A 3D array has depth in addition to rows and columns. Each element is identified by three indexes: row, column, and depth. It's like a \"stack\" of 2D arrays. For example:"
   ]
  },
  {
   "cell_type": "code",
   "execution_count": 4,
   "metadata": {},
   "outputs": [],
   "source": [
    "threeDimArr = np.array([[[1, 2, 3],\n",
    "                      [4, 5, 6],\n",
    "                      [7, 8, 9]],\n",
    "                      [[1, 2, 3],\n",
    "                      [4, 5, 6],\n",
    "                      [7, 8, 9]],\n",
    "                      [[1, 2, 3],\n",
    "                      [4, 5, 6],\n",
    "                      [7, 8, 9]]])"
   ]
  },
  {
   "cell_type": "markdown",
   "metadata": {},
   "source": [
    " ### 3. Why Use Multi-Dimensional Arrays?\n",
    "\n",
    "Multi-dimensional arrays are useful for various types of data representation:\n",
    "- **2D Arrays**: Often used for matrices in mathematics, spreadsheets, or for representing grids in games.\n",
    "- **3D Arrays**: Useful in 3D graphics, scientific data (like MRI scans), and more complex data structures."
   ]
  },
  {
   "cell_type": "code",
   "execution_count": 6,
   "metadata": {},
   "outputs": [
    {
     "data": {
      "text/plain": [
       "array([[1, 2, 3],\n",
       "       [3, 2, 1]])"
      ]
     },
     "execution_count": 6,
     "metadata": {},
     "output_type": "execute_result"
    }
   ],
   "source": [
    "a = np.array([[1, 2, 3],\n",
    "              [3, 2, 1]])\n",
    "\n",
    "a"
   ]
  },
  {
   "cell_type": "code",
   "execution_count": 7,
   "metadata": {},
   "outputs": [
    {
     "name": "stdout",
     "output_type": "stream",
     "text": [
      "2\n"
     ]
    }
   ],
   "source": [
    "print(a.ndim)"
   ]
  },
  {
   "cell_type": "code",
   "execution_count": 8,
   "metadata": {},
   "outputs": [
    {
     "name": "stdout",
     "output_type": "stream",
     "text": [
      "(2, 3)\n"
     ]
    }
   ],
   "source": [
    "print(a.shape)"
   ]
  },
  {
   "cell_type": "code",
   "execution_count": 9,
   "metadata": {},
   "outputs": [
    {
     "name": "stdout",
     "output_type": "stream",
     "text": [
      "6\n"
     ]
    }
   ],
   "source": [
    "print(a.size)"
   ]
  },
  {
   "cell_type": "code",
   "execution_count": 10,
   "metadata": {},
   "outputs": [
    {
     "name": "stdout",
     "output_type": "stream",
     "text": [
      "int64\n"
     ]
    }
   ],
   "source": [
    "print(a.dtype)"
   ]
  },
  {
   "cell_type": "code",
   "execution_count": 11,
   "metadata": {},
   "outputs": [
    {
     "data": {
      "text/plain": [
       "array([[[0., 0.],\n",
       "        [0., 0.],\n",
       "        [0., 0.]],\n",
       "\n",
       "       [[0., 0.],\n",
       "        [0., 0.],\n",
       "        [0., 0.]]])"
      ]
     },
     "execution_count": 11,
     "metadata": {},
     "output_type": "execute_result"
    }
   ],
   "source": [
    "np.zeros((2, 3, 2))"
   ]
  },
  {
   "cell_type": "code",
   "execution_count": 12,
   "metadata": {},
   "outputs": [
    {
     "data": {
      "text/plain": [
       "array([[1, 2, 3],\n",
       "       [3, 2, 1]])"
      ]
     },
     "execution_count": 12,
     "metadata": {},
     "output_type": "execute_result"
    }
   ],
   "source": [
    "a"
   ]
  },
  {
   "cell_type": "code",
   "execution_count": 13,
   "metadata": {},
   "outputs": [
    {
     "data": {
      "text/plain": [
       "array([[1, 1, 1],\n",
       "       [1, 1, 1]])"
      ]
     },
     "execution_count": 13,
     "metadata": {},
     "output_type": "execute_result"
    }
   ],
   "source": [
    "np.ones_like(a)"
   ]
  },
  {
   "cell_type": "code",
   "execution_count": 14,
   "metadata": {},
   "outputs": [
    {
     "data": {
      "text/plain": [
       "array([1, 3, 5, 7, 9])"
      ]
     },
     "execution_count": 14,
     "metadata": {},
     "output_type": "execute_result"
    }
   ],
   "source": [
    "np.arange(1, 10, 2)"
   ]
  },
  {
   "cell_type": "code",
   "execution_count": 15,
   "metadata": {},
   "outputs": [
    {
     "data": {
      "text/plain": [
       "array([0. , 0.1, 0.2, 0.3, 0.4, 0.5, 0.6, 0.7, 0.8, 0.9])"
      ]
     },
     "execution_count": 15,
     "metadata": {},
     "output_type": "execute_result"
    }
   ],
   "source": [
    "np.arange(0, 1, 0.1)"
   ]
  },
  {
   "cell_type": "code",
   "execution_count": 41,
   "metadata": {},
   "outputs": [
    {
     "data": {
      "text/plain": [
       "array([[4, 9, 5, 5],\n",
       "       [8, 2, 9, 8],\n",
       "       [4, 4, 1, 4]])"
      ]
     },
     "execution_count": 41,
     "metadata": {},
     "output_type": "execute_result"
    }
   ],
   "source": [
    "np.random.seed(10000000)\n",
    "np.random.randint(1, 10, (3, 4))"
   ]
  },
  {
   "cell_type": "code",
   "execution_count": 44,
   "metadata": {},
   "outputs": [
    {
     "data": {
      "text/plain": [
       "array([[6, 9, 6, 1],\n",
       "       [1, 2, 8, 7],\n",
       "       [3, 5, 6, 3]])"
      ]
     },
     "execution_count": 44,
     "metadata": {},
     "output_type": "execute_result"
    }
   ],
   "source": [
    "np.random.seed(1)\n",
    "np.random.randint(1, 10, (3, 4))"
   ]
  },
  {
   "cell_type": "code",
   "execution_count": 45,
   "metadata": {},
   "outputs": [
    {
     "data": {
      "text/plain": [
       "array([10, 10, 10, 10, 10])"
      ]
     },
     "execution_count": 45,
     "metadata": {},
     "output_type": "execute_result"
    }
   ],
   "source": [
    "np.repeat(10, 5)"
   ]
  },
  {
   "cell_type": "code",
   "execution_count": 46,
   "metadata": {},
   "outputs": [
    {
     "data": {
      "text/plain": [
       "array([1, 1, 1, 1, 1, 2, 2, 2, 2, 2, 3, 3, 3, 3, 3, 4, 4, 4, 4, 4, 5, 5,\n",
       "       5, 5, 5])"
      ]
     },
     "execution_count": 46,
     "metadata": {},
     "output_type": "execute_result"
    }
   ],
   "source": [
    "onedim_arr = np.array([1, 2, 3, 4, 5])\n",
    "multidim_arr = np.repeat(onedim_arr, 5)\n",
    "multidim_arr"
   ]
  },
  {
   "cell_type": "code",
   "execution_count": 47,
   "metadata": {},
   "outputs": [
    {
     "data": {
      "text/plain": [
       "array([[1, 2, 3, 4, 5],\n",
       "       [1, 2, 3, 4, 5],\n",
       "       [1, 2, 3, 4, 5],\n",
       "       [1, 2, 3, 4, 5],\n",
       "       [1, 2, 3, 4, 5]])"
      ]
     },
     "execution_count": 47,
     "metadata": {},
     "output_type": "execute_result"
    }
   ],
   "source": [
    "multidim_arr = np.tile(onedim_arr, (5, 1))\n",
    "multidim_arr"
   ]
  },
  {
   "cell_type": "code",
   "execution_count": 50,
   "metadata": {},
   "outputs": [
    {
     "data": {
      "text/plain": [
       "array([[1, 2, 3, 4, 5, 1, 2, 3, 4, 5, 1, 2, 3, 4, 5],\n",
       "       [1, 2, 3, 4, 5, 1, 2, 3, 4, 5, 1, 2, 3, 4, 5]])"
      ]
     },
     "execution_count": 50,
     "metadata": {},
     "output_type": "execute_result"
    }
   ],
   "source": [
    "another_arr = np.tile(onedim_arr, (2, 3))\n",
    "another_arr"
   ]
  },
  {
   "cell_type": "code",
   "execution_count": 58,
   "metadata": {},
   "outputs": [
    {
     "data": {
      "text/plain": [
       "array([[10.47263345,  8.6931289 ,  8.96734114,  3.89633154],\n",
       "       [14.49926846, 12.86041468,  9.18644291, 11.93451647],\n",
       "       [10.70302667,  8.61544291, 12.44391863,  9.22360863],\n",
       "       [ 9.17794024,  8.01963311, 11.13739518,  9.75200487],\n",
       "       [11.36322178,  8.48203575, 10.31706962,  7.76931489]])"
      ]
     },
     "execution_count": 58,
     "metadata": {},
     "output_type": "execute_result"
    }
   ],
   "source": [
    "# create a sample generator\n",
    "rng = np.random.default_rng(seed=2)\n",
    "\n",
    "# create a 5 x 4 array with normally distributed data\n",
    "# mean of 10, standard deviation of 2.5\n",
    "randrng = rng.normal(10, 2.5, (5, 4))\n",
    "randrng"
   ]
  },
  {
   "cell_type": "code",
   "execution_count": 60,
   "metadata": {},
   "outputs": [
    {
     "data": {
      "text/plain": [
       "array([[0, 2, 0, 2, 0, 0],\n",
       "       [0, 3, 1, 2, 3, 1],\n",
       "       [1, 0, 0, 1, 2, 3],\n",
       "       [0, 0, 0, 1, 0, 1],\n",
       "       [1, 1, 3, 2, 2, 0]])"
      ]
     },
     "execution_count": 60,
     "metadata": {},
     "output_type": "execute_result"
    }
   ],
   "source": [
    "# Poisson distribution\n",
    "\n",
    "# lam is 1, size 5 x 6\n",
    "\n",
    "poissonrng = rng.poisson(1, (5, 6))\n",
    "poissonrng"
   ]
  },
  {
   "cell_type": "code",
   "execution_count": 62,
   "metadata": {},
   "outputs": [
    {
     "data": {
      "text/plain": [
       "array([[ 5,  4,  3,  2,  1,  0],\n",
       "       [10,  8,  6,  4,  2,  0]])"
      ]
     },
     "execution_count": 62,
     "metadata": {},
     "output_type": "execute_result"
    }
   ],
   "source": [
    "b = np.array([[5, 4, 3, 2, 1, 0],\n",
    "             [10, 8, 6, 4, 2, 0]])\n",
    "b"
   ]
  },
  {
   "cell_type": "code",
   "execution_count": 63,
   "metadata": {},
   "outputs": [
    {
     "data": {
      "text/plain": [
       "array([[ 5, 10],\n",
       "       [ 4,  8],\n",
       "       [ 3,  6],\n",
       "       [ 2,  4],\n",
       "       [ 1,  2],\n",
       "       [ 0,  0]])"
      ]
     },
     "execution_count": 63,
     "metadata": {},
     "output_type": "execute_result"
    }
   ],
   "source": [
    "b.T"
   ]
  },
  {
   "cell_type": "code",
   "execution_count": 66,
   "metadata": {},
   "outputs": [
    {
     "data": {
      "text/plain": [
       "array([[ 5,  4,  3],\n",
       "       [ 2,  1,  0],\n",
       "       [10,  8,  6],\n",
       "       [ 4,  2,  0]])"
      ]
     },
     "execution_count": 66,
     "metadata": {},
     "output_type": "execute_result"
    }
   ],
   "source": [
    "b.reshape(4, 3)"
   ]
  },
  {
   "cell_type": "code",
   "execution_count": 67,
   "metadata": {},
   "outputs": [
    {
     "data": {
      "text/plain": [
       "array([ 5,  4,  3,  2,  1,  0, 10,  8,  6,  4,  2,  0])"
      ]
     },
     "execution_count": 67,
     "metadata": {},
     "output_type": "execute_result"
    }
   ],
   "source": [
    "b.flatten()"
   ]
  },
  {
   "cell_type": "code",
   "execution_count": 68,
   "metadata": {},
   "outputs": [
    {
     "data": {
      "text/plain": [
       "array([[1, 2, 3],\n",
       "       [3, 2, 1]])"
      ]
     },
     "execution_count": 68,
     "metadata": {},
     "output_type": "execute_result"
    }
   ],
   "source": [
    "a # 2 x 3"
   ]
  },
  {
   "cell_type": "code",
   "execution_count": 69,
   "metadata": {},
   "outputs": [
    {
     "data": {
      "text/plain": [
       "array([[ 5,  4,  3,  2,  1,  0],\n",
       "       [10,  8,  6,  4,  2,  0]])"
      ]
     },
     "execution_count": 69,
     "metadata": {},
     "output_type": "execute_result"
    }
   ],
   "source": [
    "b # 2 x 6"
   ]
  },
  {
   "cell_type": "code",
   "execution_count": 70,
   "metadata": {},
   "outputs": [
    {
     "data": {
      "text/plain": [
       "array([[ 5,  4,  3,  2,  1,  0,  1,  2,  3],\n",
       "       [10,  8,  6,  4,  2,  0,  3,  2,  1]])"
      ]
     },
     "execution_count": 70,
     "metadata": {},
     "output_type": "execute_result"
    }
   ],
   "source": [
    "np.hstack((b, a))"
   ]
  },
  {
   "cell_type": "code",
   "execution_count": 77,
   "metadata": {},
   "outputs": [],
   "source": [
    "b = b.reshape(4, 3) # 4 x 3"
   ]
  },
  {
   "cell_type": "code",
   "execution_count": 78,
   "metadata": {},
   "outputs": [
    {
     "data": {
      "text/plain": [
       "array([[ 5,  4,  3],\n",
       "       [ 2,  1,  0],\n",
       "       [10,  8,  6],\n",
       "       [ 4,  2,  0]])"
      ]
     },
     "execution_count": 78,
     "metadata": {},
     "output_type": "execute_result"
    }
   ],
   "source": [
    "b"
   ]
  },
  {
   "cell_type": "code",
   "execution_count": 72,
   "metadata": {},
   "outputs": [
    {
     "data": {
      "text/plain": [
       "array([[1, 2, 3],\n",
       "       [3, 2, 1]])"
      ]
     },
     "execution_count": 72,
     "metadata": {},
     "output_type": "execute_result"
    }
   ],
   "source": [
    "a # 2 x 3"
   ]
  },
  {
   "cell_type": "code",
   "execution_count": 73,
   "metadata": {},
   "outputs": [
    {
     "data": {
      "text/plain": [
       "array([[ 5,  4,  3],\n",
       "       [ 2,  1,  0],\n",
       "       [10,  8,  6],\n",
       "       [ 4,  2,  0],\n",
       "       [ 1,  2,  3],\n",
       "       [ 3,  2,  1]])"
      ]
     },
     "execution_count": 73,
     "metadata": {},
     "output_type": "execute_result"
    }
   ],
   "source": [
    "np.vstack((b.reshape(4, 3), a))"
   ]
  },
  {
   "cell_type": "code",
   "execution_count": 74,
   "metadata": {},
   "outputs": [
    {
     "data": {
      "text/plain": [
       "array([ 5, 10, 15, 20])"
      ]
     },
     "execution_count": 74,
     "metadata": {},
     "output_type": "execute_result"
    }
   ],
   "source": [
    "arr1 = np.array([5, 10, 15, 20])\n",
    "arr1"
   ]
  },
  {
   "cell_type": "code",
   "execution_count": 84,
   "metadata": {},
   "outputs": [
    {
     "data": {
      "text/plain": [
       "array([5, 6, 7, 8])"
      ]
     },
     "execution_count": 84,
     "metadata": {},
     "output_type": "execute_result"
    }
   ],
   "source": [
    "arr2 = np.arange(5, 9)\n",
    "arr2"
   ]
  },
  {
   "cell_type": "code",
   "execution_count": 79,
   "metadata": {},
   "outputs": [
    {
     "data": {
      "text/plain": [
       "array([ 0,  4,  8, 12])"
      ]
     },
     "execution_count": 79,
     "metadata": {},
     "output_type": "execute_result"
    }
   ],
   "source": [
    "arr1 - arr2"
   ]
  },
  {
   "cell_type": "code",
   "execution_count": 80,
   "metadata": {},
   "outputs": [
    {
     "data": {
      "text/plain": [
       "array([10, 20, 30, 40])"
      ]
     },
     "execution_count": 80,
     "metadata": {},
     "output_type": "execute_result"
    }
   ],
   "source": [
    "arr1 * 2"
   ]
  },
  {
   "cell_type": "code",
   "execution_count": 82,
   "metadata": {},
   "outputs": [
    {
     "ename": "ValueError",
     "evalue": "operands could not be broadcast together with shapes (4,) (2,) ",
     "output_type": "error",
     "traceback": [
      "\u001b[0;31m---------------------------------------------------------------------------\u001b[0m",
      "\u001b[0;31mValueError\u001b[0m                                Traceback (most recent call last)",
      "Cell \u001b[0;32mIn[82], line 1\u001b[0m\n\u001b[0;32m----> 1\u001b[0m \u001b[43marr1\u001b[49m\u001b[43m \u001b[49m\u001b[38;5;241;43m+\u001b[39;49m\u001b[43m \u001b[49m\u001b[43mnp\u001b[49m\u001b[38;5;241;43m.\u001b[39;49m\u001b[43marray\u001b[49m\u001b[43m(\u001b[49m\u001b[43m[\u001b[49m\u001b[38;5;241;43m1\u001b[39;49m\u001b[43m,\u001b[49m\u001b[43m \u001b[49m\u001b[38;5;241;43m2\u001b[39;49m\u001b[43m]\u001b[49m\u001b[43m)\u001b[49m\n",
      "\u001b[0;31mValueError\u001b[0m: operands could not be broadcast together with shapes (4,) (2,) "
     ]
    }
   ],
   "source": [
    "arr1 + np.array([1, 2])"
   ]
  },
  {
   "cell_type": "code",
   "execution_count": 85,
   "metadata": {},
   "outputs": [
    {
     "data": {
      "text/plain": [
       "50"
      ]
     },
     "execution_count": 85,
     "metadata": {},
     "output_type": "execute_result"
    }
   ],
   "source": [
    "arr1.sum()"
   ]
  },
  {
   "cell_type": "code",
   "execution_count": 86,
   "metadata": {},
   "outputs": [
    {
     "data": {
      "text/plain": [
       "array([ 5, 10, 15, 20])"
      ]
     },
     "execution_count": 86,
     "metadata": {},
     "output_type": "execute_result"
    }
   ],
   "source": [
    "arr1"
   ]
  },
  {
   "cell_type": "code",
   "execution_count": 87,
   "metadata": {},
   "outputs": [
    {
     "data": {
      "text/plain": [
       "20"
      ]
     },
     "execution_count": 87,
     "metadata": {},
     "output_type": "execute_result"
    }
   ],
   "source": [
    "arr1.max()"
   ]
  },
  {
   "cell_type": "code",
   "execution_count": 88,
   "metadata": {},
   "outputs": [
    {
     "data": {
      "text/plain": [
       "12.5"
      ]
     },
     "execution_count": 88,
     "metadata": {},
     "output_type": "execute_result"
    }
   ],
   "source": [
    "arr1.mean()"
   ]
  },
  {
   "cell_type": "code",
   "execution_count": 89,
   "metadata": {},
   "outputs": [
    {
     "data": {
      "text/plain": [
       "array([[  0,  10,  20,  30],\n",
       "       [ 40,  50,  60,  70],\n",
       "       [ 80,  90, 100, 110]])"
      ]
     },
     "execution_count": 89,
     "metadata": {},
     "output_type": "execute_result"
    }
   ],
   "source": [
    "tens = np.arange(0, 120, 10).reshape(3, 4)\n",
    "\n",
    "tens"
   ]
  },
  {
   "cell_type": "code",
   "execution_count": 91,
   "metadata": {},
   "outputs": [
    {
     "data": {
      "text/plain": [
       "array([ -5, -10, -15, -20])"
      ]
     },
     "execution_count": 91,
     "metadata": {},
     "output_type": "execute_result"
    }
   ],
   "source": [
    "horizontal = np.array([-5, -10, -15, -20])\n",
    "horizontal"
   ]
  },
  {
   "cell_type": "code",
   "execution_count": 92,
   "metadata": {},
   "outputs": [
    {
     "data": {
      "text/plain": [
       "array([[-5,  0,  5, 10],\n",
       "       [35, 40, 45, 50],\n",
       "       [75, 80, 85, 90]])"
      ]
     },
     "execution_count": 92,
     "metadata": {},
     "output_type": "execute_result"
    }
   ],
   "source": [
    "tens + horizontal"
   ]
  },
  {
   "cell_type": "code",
   "execution_count": 93,
   "metadata": {},
   "outputs": [],
   "source": [
    "vertical = np.array([[100],\n",
    "                     [200],\n",
    "                     [300]])"
   ]
  },
  {
   "cell_type": "code",
   "execution_count": 94,
   "metadata": {},
   "outputs": [
    {
     "data": {
      "text/plain": [
       "array([[  0,  10,  20,  30],\n",
       "       [ 40,  50,  60,  70],\n",
       "       [ 80,  90, 100, 110]])"
      ]
     },
     "execution_count": 94,
     "metadata": {},
     "output_type": "execute_result"
    }
   ],
   "source": [
    "tens"
   ]
  },
  {
   "cell_type": "code",
   "execution_count": 95,
   "metadata": {},
   "outputs": [
    {
     "data": {
      "text/plain": [
       "array([[100],\n",
       "       [200],\n",
       "       [300]])"
      ]
     },
     "execution_count": 95,
     "metadata": {},
     "output_type": "execute_result"
    }
   ],
   "source": [
    "vertical"
   ]
  },
  {
   "cell_type": "code",
   "execution_count": 96,
   "metadata": {},
   "outputs": [
    {
     "data": {
      "text/plain": [
       "array([[100, 110, 120, 130],\n",
       "       [240, 250, 260, 270],\n",
       "       [380, 390, 400, 410]])"
      ]
     },
     "execution_count": 96,
     "metadata": {},
     "output_type": "execute_result"
    }
   ],
   "source": [
    "tens + vertical"
   ]
  },
  {
   "cell_type": "code",
   "execution_count": 97,
   "metadata": {},
   "outputs": [
    {
     "data": {
      "text/plain": [
       "array([[  0,  10,  20,  30],\n",
       "       [ 40,  50,  60,  70],\n",
       "       [ 80,  90, 100, 110]])"
      ]
     },
     "execution_count": 97,
     "metadata": {},
     "output_type": "execute_result"
    }
   ],
   "source": [
    "# axis = 0: Column-wise operation (down the rows)\n",
    "# axis = 1: Row-wise operation (across the columns)\n",
    "\n",
    "tens"
   ]
  },
  {
   "cell_type": "code",
   "execution_count": 98,
   "metadata": {},
   "outputs": [
    {
     "data": {
      "text/plain": [
       "array([40., 50., 60., 70.])"
      ]
     },
     "execution_count": 98,
     "metadata": {},
     "output_type": "execute_result"
    }
   ],
   "source": [
    "tens.mean(axis=0)"
   ]
  },
  {
   "cell_type": "code",
   "execution_count": 102,
   "metadata": {},
   "outputs": [
    {
     "data": {
      "text/plain": [
       "dtype('float64')"
      ]
     },
     "execution_count": 102,
     "metadata": {},
     "output_type": "execute_result"
    }
   ],
   "source": [
    "tens.mean(axis=1).dtype"
   ]
  },
  {
   "cell_type": "code",
   "execution_count": 100,
   "metadata": {},
   "outputs": [
    {
     "data": {
      "text/plain": [
       "55.0"
      ]
     },
     "execution_count": 100,
     "metadata": {},
     "output_type": "execute_result"
    }
   ],
   "source": [
    "(40 + 50 + 60 + 70)/4"
   ]
  },
  {
   "cell_type": "code",
   "execution_count": 101,
   "metadata": {},
   "outputs": [
    {
     "data": {
      "text/plain": [
       "array([ 5, 10, 15, 20])"
      ]
     },
     "execution_count": 101,
     "metadata": {},
     "output_type": "execute_result"
    }
   ],
   "source": [
    "arr1"
   ]
  },
  {
   "cell_type": "code",
   "execution_count": 103,
   "metadata": {},
   "outputs": [
    {
     "data": {
      "text/plain": [
       "10"
      ]
     },
     "execution_count": 103,
     "metadata": {},
     "output_type": "execute_result"
    }
   ],
   "source": [
    "arr1[1]"
   ]
  },
  {
   "cell_type": "code",
   "execution_count": 104,
   "metadata": {},
   "outputs": [
    {
     "data": {
      "text/plain": [
       "array([10, 15])"
      ]
     },
     "execution_count": 104,
     "metadata": {},
     "output_type": "execute_result"
    }
   ],
   "source": [
    "arr1[1:3]"
   ]
  },
  {
   "cell_type": "code",
   "execution_count": 105,
   "metadata": {},
   "outputs": [
    {
     "data": {
      "text/plain": [
       "array([[  0,  10,  20,  30],\n",
       "       [ 40,  50,  60,  70],\n",
       "       [ 80,  90, 100, 110]])"
      ]
     },
     "execution_count": 105,
     "metadata": {},
     "output_type": "execute_result"
    }
   ],
   "source": [
    "tens"
   ]
  },
  {
   "cell_type": "code",
   "execution_count": 106,
   "metadata": {},
   "outputs": [
    {
     "data": {
      "text/plain": [
       "60"
      ]
     },
     "execution_count": 106,
     "metadata": {},
     "output_type": "execute_result"
    }
   ],
   "source": [
    "tens[1, 2]"
   ]
  },
  {
   "cell_type": "code",
   "execution_count": 107,
   "metadata": {},
   "outputs": [
    {
     "data": {
      "text/plain": [
       "array([ 0, 10, 20, 30])"
      ]
     },
     "execution_count": 107,
     "metadata": {},
     "output_type": "execute_result"
    }
   ],
   "source": [
    "tens[0]"
   ]
  },
  {
   "cell_type": "code",
   "execution_count": 108,
   "metadata": {},
   "outputs": [
    {
     "data": {
      "text/plain": [
       "array([ 0, 40, 80])"
      ]
     },
     "execution_count": 108,
     "metadata": {},
     "output_type": "execute_result"
    }
   ],
   "source": [
    "tens[:, 0]"
   ]
  },
  {
   "cell_type": "code",
   "execution_count": 109,
   "metadata": {},
   "outputs": [
    {
     "data": {
      "text/plain": [
       "array([[10, 20],\n",
       "       [50, 60]])"
      ]
     },
     "execution_count": 109,
     "metadata": {},
     "output_type": "execute_result"
    }
   ],
   "source": [
    "tens[0:2, 1:3]"
   ]
  },
  {
   "cell_type": "code",
   "execution_count": 111,
   "metadata": {},
   "outputs": [],
   "source": [
    "matrix = np.random.randint(1, 11, 12).reshape(3, 4)"
   ]
  },
  {
   "cell_type": "code",
   "execution_count": 112,
   "metadata": {},
   "outputs": [
    {
     "data": {
      "text/plain": [
       "array([[ 5,  3,  5,  8],\n",
       "       [ 8, 10,  2,  8],\n",
       "       [ 1,  7, 10, 10]])"
      ]
     },
     "execution_count": 112,
     "metadata": {},
     "output_type": "execute_result"
    }
   ],
   "source": [
    "matrix"
   ]
  },
  {
   "cell_type": "code",
   "execution_count": 113,
   "metadata": {},
   "outputs": [],
   "source": [
    "matrix2 = matrix"
   ]
  },
  {
   "cell_type": "code",
   "execution_count": 114,
   "metadata": {},
   "outputs": [],
   "source": [
    "matrix2[1] = [0, 0, 0, 0]"
   ]
  },
  {
   "cell_type": "code",
   "execution_count": 115,
   "metadata": {},
   "outputs": [
    {
     "data": {
      "text/plain": [
       "array([[ 5,  3,  5,  8],\n",
       "       [ 0,  0,  0,  0],\n",
       "       [ 1,  7, 10, 10]])"
      ]
     },
     "execution_count": 115,
     "metadata": {},
     "output_type": "execute_result"
    }
   ],
   "source": [
    "matrix2"
   ]
  },
  {
   "cell_type": "code",
   "execution_count": 116,
   "metadata": {},
   "outputs": [
    {
     "data": {
      "text/plain": [
       "array([[ 5,  3,  5,  8],\n",
       "       [ 0,  0,  0,  0],\n",
       "       [ 1,  7, 10, 10]])"
      ]
     },
     "execution_count": 116,
     "metadata": {},
     "output_type": "execute_result"
    }
   ],
   "source": [
    "matrix"
   ]
  },
  {
   "cell_type": "code",
   "execution_count": 117,
   "metadata": {},
   "outputs": [],
   "source": [
    "matrix3 = matrix.copy()"
   ]
  },
  {
   "cell_type": "code",
   "execution_count": 118,
   "metadata": {},
   "outputs": [],
   "source": [
    "matrix[1] = [1, 1, 1, 1]"
   ]
  },
  {
   "cell_type": "code",
   "execution_count": 119,
   "metadata": {},
   "outputs": [
    {
     "data": {
      "text/plain": [
       "array([[ 5,  3,  5,  8],\n",
       "       [ 0,  0,  0,  0],\n",
       "       [ 1,  7, 10, 10]])"
      ]
     },
     "execution_count": 119,
     "metadata": {},
     "output_type": "execute_result"
    }
   ],
   "source": [
    "matrix3"
   ]
  },
  {
   "cell_type": "code",
   "execution_count": 120,
   "metadata": {},
   "outputs": [
    {
     "data": {
      "text/plain": [
       "array([[  0,  10,  20,  30],\n",
       "       [ 40,  50,  60,  70],\n",
       "       [ 80,  90, 100, 110]])"
      ]
     },
     "execution_count": 120,
     "metadata": {},
     "output_type": "execute_result"
    }
   ],
   "source": [
    "tens"
   ]
  },
  {
   "cell_type": "code",
   "execution_count": 121,
   "metadata": {},
   "outputs": [
    {
     "data": {
      "text/plain": [
       "array([[ True, False, False,  True],\n",
       "       [False, False,  True, False],\n",
       "       [False,  True, False, False]])"
      ]
     },
     "execution_count": 121,
     "metadata": {},
     "output_type": "execute_result"
    }
   ],
   "source": [
    "tens % 3 == 0 # evaluate whether each element is divisible by 3"
   ]
  },
  {
   "cell_type": "code",
   "execution_count": 122,
   "metadata": {},
   "outputs": [
    {
     "data": {
      "text/plain": [
       "array([ 0, 30, 60, 90])"
      ]
     },
     "execution_count": 122,
     "metadata": {},
     "output_type": "execute_result"
    }
   ],
   "source": [
    "tens[tens % 3 == 0]"
   ]
  },
  {
   "cell_type": "code",
   "execution_count": 123,
   "metadata": {},
   "outputs": [
    {
     "data": {
      "text/plain": [
       "array([ 0, 30, 60, 90])"
      ]
     },
     "execution_count": 123,
     "metadata": {},
     "output_type": "execute_result"
    }
   ],
   "source": [
    "mask = tens % 3 == 0\n",
    "tens[mask]"
   ]
  },
  {
   "cell_type": "code",
   "execution_count": 124,
   "metadata": {},
   "outputs": [],
   "source": [
    "mask2 = tens == 50"
   ]
  },
  {
   "cell_type": "code",
   "execution_count": 125,
   "metadata": {},
   "outputs": [
    {
     "data": {
      "text/plain": [
       "array([[False, False, False, False],\n",
       "       [False,  True, False, False],\n",
       "       [False, False, False, False]])"
      ]
     },
     "execution_count": 125,
     "metadata": {},
     "output_type": "execute_result"
    }
   ],
   "source": [
    "mask2"
   ]
  },
  {
   "cell_type": "code",
   "execution_count": 126,
   "metadata": {},
   "outputs": [
    {
     "data": {
      "text/plain": [
       "array([[  0,  10,  20,  30],\n",
       "       [ 40,  50,  60,  70],\n",
       "       [ 80,  90, 100, 110]])"
      ]
     },
     "execution_count": 126,
     "metadata": {},
     "output_type": "execute_result"
    }
   ],
   "source": [
    "tens"
   ]
  },
  {
   "cell_type": "code",
   "execution_count": 127,
   "metadata": {},
   "outputs": [
    {
     "data": {
      "text/plain": [
       "array([50])"
      ]
     },
     "execution_count": 127,
     "metadata": {},
     "output_type": "execute_result"
    }
   ],
   "source": [
    "tens[mask2]"
   ]
  },
  {
   "cell_type": "code",
   "execution_count": 129,
   "metadata": {},
   "outputs": [
    {
     "data": {
      "text/plain": [
       "array([['0', '0', '0', '0'],\n",
       "       ['0', 'YAY', '0', '0'],\n",
       "       ['0', '0', '0', '0']], dtype='<U21')"
      ]
     },
     "execution_count": 129,
     "metadata": {},
     "output_type": "execute_result"
    }
   ],
   "source": [
    "np.where(tens == 50, # condition\n",
    "         'YAY', # return 'YAY' if True\n",
    "         0) # return 'NAY' if False"
   ]
  },
  {
   "cell_type": "code",
   "execution_count": 130,
   "metadata": {},
   "outputs": [],
   "source": [
    "import pandas as pd"
   ]
  },
  {
   "cell_type": "code",
   "execution_count": 131,
   "metadata": {},
   "outputs": [],
   "source": [
    "pd.set_option(\"display.max_columns\", None)"
   ]
  },
  {
   "cell_type": "code",
   "execution_count": 132,
   "metadata": {},
   "outputs": [
    {
     "data": {
      "text/html": [
       "<div>\n",
       "<style scoped>\n",
       "    .dataframe tbody tr th:only-of-type {\n",
       "        vertical-align: middle;\n",
       "    }\n",
       "\n",
       "    .dataframe tbody tr th {\n",
       "        vertical-align: top;\n",
       "    }\n",
       "\n",
       "    .dataframe thead th {\n",
       "        text-align: right;\n",
       "    }\n",
       "</style>\n",
       "<table border=\"1\" class=\"dataframe\">\n",
       "  <thead>\n",
       "    <tr style=\"text-align: right;\">\n",
       "      <th></th>\n",
       "      <th>name</th>\n",
       "      <th>avg_lifespan</th>\n",
       "    </tr>\n",
       "  </thead>\n",
       "  <tbody>\n",
       "    <tr>\n",
       "      <th>0</th>\n",
       "      <td>sugar maple</td>\n",
       "      <td>300</td>\n",
       "    </tr>\n",
       "    <tr>\n",
       "      <th>1</th>\n",
       "      <td>black oak</td>\n",
       "      <td>100</td>\n",
       "    </tr>\n",
       "    <tr>\n",
       "      <th>2</th>\n",
       "      <td>white ash</td>\n",
       "      <td>260</td>\n",
       "    </tr>\n",
       "    <tr>\n",
       "      <th>3</th>\n",
       "      <td>douglas fir</td>\n",
       "      <td>450</td>\n",
       "    </tr>\n",
       "  </tbody>\n",
       "</table>\n",
       "</div>"
      ],
      "text/plain": [
       "          name  avg_lifespan\n",
       "0  sugar maple           300\n",
       "1    black oak           100\n",
       "2    white ash           260\n",
       "3  douglas fir           450"
      ]
     },
     "execution_count": 132,
     "metadata": {},
     "output_type": "execute_result"
    }
   ],
   "source": [
    "trees = pd.DataFrame({\n",
    "    'name': ['sugar maple', 'black oak', 'white ash', 'douglas fir'],\n",
    "    'avg_lifespan': [300, 100, 260, 450]\n",
    "})\n",
    "\n",
    "trees"
   ]
  },
  {
   "cell_type": "code",
   "execution_count": 134,
   "metadata": {},
   "outputs": [
    {
     "data": {
      "text/plain": [
       "0    deciduous\n",
       "1    deciduous\n",
       "2    evergreen\n",
       "3    evergreen\n",
       "Name: foliage, dtype: object"
      ]
     },
     "execution_count": 134,
     "metadata": {},
     "output_type": "execute_result"
    }
   ],
   "source": [
    "trees_types = pd.Series(['deciduous', 'deciduous', 'evergreen', 'evergreen'], \n",
    "                        name='foliage')\n",
    "trees_types"
   ]
  },
  {
   "cell_type": "code",
   "execution_count": 139,
   "metadata": {},
   "outputs": [
    {
     "data": {
      "text/plain": [
       "'/Users/kaylielau/Desktop/python-1/06-live-coding'"
      ]
     },
     "execution_count": 139,
     "metadata": {},
     "output_type": "execute_result"
    }
   ],
   "source": [
    "import os\n",
    "\n",
    "os.getcwd()"
   ]
  },
  {
   "cell_type": "code",
   "execution_count": 140,
   "metadata": {},
   "outputs": [],
   "source": [
    "thefts = pd.read_csv('../data/bicycle-thefts - 4326.csv')"
   ]
  },
  {
   "cell_type": "code",
   "execution_count": 141,
   "metadata": {},
   "outputs": [
    {
     "data": {
      "text/plain": [
       "(25569, 33)"
      ]
     },
     "execution_count": 141,
     "metadata": {},
     "output_type": "execute_result"
    }
   ],
   "source": [
    "thefts.shape"
   ]
  },
  {
   "cell_type": "code",
   "execution_count": 142,
   "metadata": {},
   "outputs": [
    {
     "data": {
      "text/plain": [
       "_id                        int64\n",
       "OBJECTID                   int64\n",
       "event_unique_id           object\n",
       "Primary_Offence           object\n",
       "Occurrence_Date           object\n",
       "Occurrence_Year            int64\n",
       "Occurrence_Month          object\n",
       "Occurrence_DayOfWeek      object\n",
       "Occurrence_DayOfMonth      int64\n",
       "Occurrence_DayOfYear       int64\n",
       "Occurrence_Hour            int64\n",
       "Report_Date               object\n",
       "Report_Year                int64\n",
       "Report_Month              object\n",
       "Report_DayOfWeek          object\n",
       "Report_DayOfMonth          int64\n",
       "Report_DayOfYear           int64\n",
       "Report_Hour                int64\n",
       "Division                  object\n",
       "City                      object\n",
       "Hood_ID                   object\n",
       "NeighbourhoodName         object\n",
       "Location_Type             object\n",
       "Premises_Type             object\n",
       "Bike_Make                 object\n",
       "Bike_Model                object\n",
       "Bike_Type                 object\n",
       "Bike_Speed                 int64\n",
       "Bike_Colour               object\n",
       "Cost_of_Bike             float64\n",
       "Status                    object\n",
       "ObjectId2                  int64\n",
       "geometry                  object\n",
       "dtype: object"
      ]
     },
     "execution_count": 142,
     "metadata": {},
     "output_type": "execute_result"
    }
   ],
   "source": [
    "# object dtype represents columns that contain text or mixed types of data\n",
    "# catch-all for columns that don't fit into more specific types like\n",
    "# integers, floats, datetime\n",
    "\n",
    "thefts.dtypes"
   ]
  },
  {
   "cell_type": "code",
   "execution_count": 143,
   "metadata": {},
   "outputs": [
    {
     "data": {
      "text/html": [
       "<div>\n",
       "<style scoped>\n",
       "    .dataframe tbody tr th:only-of-type {\n",
       "        vertical-align: middle;\n",
       "    }\n",
       "\n",
       "    .dataframe tbody tr th {\n",
       "        vertical-align: top;\n",
       "    }\n",
       "\n",
       "    .dataframe thead th {\n",
       "        text-align: right;\n",
       "    }\n",
       "</style>\n",
       "<table border=\"1\" class=\"dataframe\">\n",
       "  <thead>\n",
       "    <tr style=\"text-align: right;\">\n",
       "      <th></th>\n",
       "      <th>_id</th>\n",
       "      <th>OBJECTID</th>\n",
       "      <th>event_unique_id</th>\n",
       "      <th>Primary_Offence</th>\n",
       "      <th>Occurrence_Date</th>\n",
       "      <th>Occurrence_Year</th>\n",
       "      <th>Occurrence_Month</th>\n",
       "      <th>Occurrence_DayOfWeek</th>\n",
       "      <th>Occurrence_DayOfMonth</th>\n",
       "      <th>Occurrence_DayOfYear</th>\n",
       "      <th>Occurrence_Hour</th>\n",
       "      <th>Report_Date</th>\n",
       "      <th>Report_Year</th>\n",
       "      <th>Report_Month</th>\n",
       "      <th>Report_DayOfWeek</th>\n",
       "      <th>Report_DayOfMonth</th>\n",
       "      <th>Report_DayOfYear</th>\n",
       "      <th>Report_Hour</th>\n",
       "      <th>Division</th>\n",
       "      <th>City</th>\n",
       "      <th>Hood_ID</th>\n",
       "      <th>NeighbourhoodName</th>\n",
       "      <th>Location_Type</th>\n",
       "      <th>Premises_Type</th>\n",
       "      <th>Bike_Make</th>\n",
       "      <th>Bike_Model</th>\n",
       "      <th>Bike_Type</th>\n",
       "      <th>Bike_Speed</th>\n",
       "      <th>Bike_Colour</th>\n",
       "      <th>Cost_of_Bike</th>\n",
       "      <th>Status</th>\n",
       "      <th>ObjectId2</th>\n",
       "      <th>geometry</th>\n",
       "    </tr>\n",
       "  </thead>\n",
       "  <tbody>\n",
       "    <tr>\n",
       "      <th>0</th>\n",
       "      <td>1</td>\n",
       "      <td>17744</td>\n",
       "      <td>GO-20179016397</td>\n",
       "      <td>THEFT UNDER</td>\n",
       "      <td>2017-10-03T00:00:00</td>\n",
       "      <td>2017</td>\n",
       "      <td>October</td>\n",
       "      <td>Tuesday</td>\n",
       "      <td>3</td>\n",
       "      <td>276</td>\n",
       "      <td>14</td>\n",
       "      <td>2017-10-03T00:00:00</td>\n",
       "      <td>2017</td>\n",
       "      <td>October</td>\n",
       "      <td>Tuesday</td>\n",
       "      <td>3</td>\n",
       "      <td>276</td>\n",
       "      <td>18</td>\n",
       "      <td>D22</td>\n",
       "      <td>Toronto</td>\n",
       "      <td>15</td>\n",
       "      <td>Kingsway South (15)</td>\n",
       "      <td>Streets, Roads, Highways (Bicycle Path, Privat...</td>\n",
       "      <td>Outside</td>\n",
       "      <td>GI</td>\n",
       "      <td>ESCAPE 2</td>\n",
       "      <td>OT</td>\n",
       "      <td>7</td>\n",
       "      <td>BLK</td>\n",
       "      <td>700.0</td>\n",
       "      <td>STOLEN</td>\n",
       "      <td>1</td>\n",
       "      <td>{'type': 'Point', 'coordinates': (-79.50655965...</td>\n",
       "    </tr>\n",
       "    <tr>\n",
       "      <th>1</th>\n",
       "      <td>2</td>\n",
       "      <td>17759</td>\n",
       "      <td>GO-20172033056</td>\n",
       "      <td>THEFT UNDER - BICYCLE</td>\n",
       "      <td>2017-11-08T00:00:00</td>\n",
       "      <td>2017</td>\n",
       "      <td>November</td>\n",
       "      <td>Wednesday</td>\n",
       "      <td>8</td>\n",
       "      <td>312</td>\n",
       "      <td>3</td>\n",
       "      <td>2017-11-08T00:00:00</td>\n",
       "      <td>2017</td>\n",
       "      <td>November</td>\n",
       "      <td>Wednesday</td>\n",
       "      <td>8</td>\n",
       "      <td>312</td>\n",
       "      <td>22</td>\n",
       "      <td>D22</td>\n",
       "      <td>Toronto</td>\n",
       "      <td>15</td>\n",
       "      <td>Kingsway South (15)</td>\n",
       "      <td>Single Home, House (Attach Garage, Cottage, Mo...</td>\n",
       "      <td>House</td>\n",
       "      <td>UNKNOWN MAKE</td>\n",
       "      <td>NaN</td>\n",
       "      <td>TO</td>\n",
       "      <td>1</td>\n",
       "      <td>BLK</td>\n",
       "      <td>1100.0</td>\n",
       "      <td>RECOVERED</td>\n",
       "      <td>2</td>\n",
       "      <td>{'type': 'Point', 'coordinates': (-79.50484874...</td>\n",
       "    </tr>\n",
       "    <tr>\n",
       "      <th>2</th>\n",
       "      <td>3</td>\n",
       "      <td>17906</td>\n",
       "      <td>GO-20189030822</td>\n",
       "      <td>THEFT UNDER - BICYCLE</td>\n",
       "      <td>2018-09-14T00:00:00</td>\n",
       "      <td>2018</td>\n",
       "      <td>September</td>\n",
       "      <td>Friday</td>\n",
       "      <td>14</td>\n",
       "      <td>257</td>\n",
       "      <td>9</td>\n",
       "      <td>2018-09-17T00:00:00</td>\n",
       "      <td>2018</td>\n",
       "      <td>September</td>\n",
       "      <td>Monday</td>\n",
       "      <td>17</td>\n",
       "      <td>260</td>\n",
       "      <td>16</td>\n",
       "      <td>D22</td>\n",
       "      <td>Toronto</td>\n",
       "      <td>15</td>\n",
       "      <td>Kingsway South (15)</td>\n",
       "      <td>Ttc Subway Station</td>\n",
       "      <td>Transit</td>\n",
       "      <td>OT</td>\n",
       "      <td>CROSSTRAIL</td>\n",
       "      <td>MT</td>\n",
       "      <td>24</td>\n",
       "      <td>BLK</td>\n",
       "      <td>904.0</td>\n",
       "      <td>STOLEN</td>\n",
       "      <td>3</td>\n",
       "      <td>{'type': 'Point', 'coordinates': (-79.51170915...</td>\n",
       "    </tr>\n",
       "    <tr>\n",
       "      <th>3</th>\n",
       "      <td>4</td>\n",
       "      <td>17962</td>\n",
       "      <td>GO-2015804467</td>\n",
       "      <td>THEFT UNDER</td>\n",
       "      <td>2015-05-07T00:00:00</td>\n",
       "      <td>2015</td>\n",
       "      <td>May</td>\n",
       "      <td>Thursday</td>\n",
       "      <td>7</td>\n",
       "      <td>127</td>\n",
       "      <td>18</td>\n",
       "      <td>2015-05-14T00:00:00</td>\n",
       "      <td>2015</td>\n",
       "      <td>May</td>\n",
       "      <td>Thursday</td>\n",
       "      <td>14</td>\n",
       "      <td>134</td>\n",
       "      <td>14</td>\n",
       "      <td>D22</td>\n",
       "      <td>Toronto</td>\n",
       "      <td>15</td>\n",
       "      <td>Kingsway South (15)</td>\n",
       "      <td>Ttc Subway Station</td>\n",
       "      <td>Transit</td>\n",
       "      <td>GT</td>\n",
       "      <td>NaN</td>\n",
       "      <td>TO</td>\n",
       "      <td>10</td>\n",
       "      <td>BLKDGR</td>\n",
       "      <td>400.0</td>\n",
       "      <td>STOLEN</td>\n",
       "      <td>4</td>\n",
       "      <td>{'type': 'Point', 'coordinates': (-79.51170915...</td>\n",
       "    </tr>\n",
       "    <tr>\n",
       "      <th>4</th>\n",
       "      <td>5</td>\n",
       "      <td>17963</td>\n",
       "      <td>GO-20159002781</td>\n",
       "      <td>THEFT UNDER</td>\n",
       "      <td>2015-05-16T00:00:00</td>\n",
       "      <td>2015</td>\n",
       "      <td>May</td>\n",
       "      <td>Saturday</td>\n",
       "      <td>16</td>\n",
       "      <td>136</td>\n",
       "      <td>12</td>\n",
       "      <td>2015-05-16T00:00:00</td>\n",
       "      <td>2015</td>\n",
       "      <td>May</td>\n",
       "      <td>Saturday</td>\n",
       "      <td>16</td>\n",
       "      <td>136</td>\n",
       "      <td>15</td>\n",
       "      <td>D22</td>\n",
       "      <td>Toronto</td>\n",
       "      <td>15</td>\n",
       "      <td>Kingsway South (15)</td>\n",
       "      <td>Ttc Subway Station</td>\n",
       "      <td>Transit</td>\n",
       "      <td>GI</td>\n",
       "      <td>NaN</td>\n",
       "      <td>MT</td>\n",
       "      <td>6</td>\n",
       "      <td>RED</td>\n",
       "      <td>600.0</td>\n",
       "      <td>STOLEN</td>\n",
       "      <td>5</td>\n",
       "      <td>{'type': 'Point', 'coordinates': (-79.51132657...</td>\n",
       "    </tr>\n",
       "  </tbody>\n",
       "</table>\n",
       "</div>"
      ],
      "text/plain": [
       "   _id  OBJECTID event_unique_id        Primary_Offence      Occurrence_Date  \\\n",
       "0    1     17744  GO-20179016397            THEFT UNDER  2017-10-03T00:00:00   \n",
       "1    2     17759  GO-20172033056  THEFT UNDER - BICYCLE  2017-11-08T00:00:00   \n",
       "2    3     17906  GO-20189030822  THEFT UNDER - BICYCLE  2018-09-14T00:00:00   \n",
       "3    4     17962   GO-2015804467            THEFT UNDER  2015-05-07T00:00:00   \n",
       "4    5     17963  GO-20159002781            THEFT UNDER  2015-05-16T00:00:00   \n",
       "\n",
       "   Occurrence_Year Occurrence_Month Occurrence_DayOfWeek  \\\n",
       "0             2017          October              Tuesday   \n",
       "1             2017         November            Wednesday   \n",
       "2             2018        September               Friday   \n",
       "3             2015              May             Thursday   \n",
       "4             2015              May             Saturday   \n",
       "\n",
       "   Occurrence_DayOfMonth  Occurrence_DayOfYear  Occurrence_Hour  \\\n",
       "0                      3                   276               14   \n",
       "1                      8                   312                3   \n",
       "2                     14                   257                9   \n",
       "3                      7                   127               18   \n",
       "4                     16                   136               12   \n",
       "\n",
       "           Report_Date  Report_Year Report_Month Report_DayOfWeek  \\\n",
       "0  2017-10-03T00:00:00         2017      October          Tuesday   \n",
       "1  2017-11-08T00:00:00         2017     November        Wednesday   \n",
       "2  2018-09-17T00:00:00         2018    September           Monday   \n",
       "3  2015-05-14T00:00:00         2015          May         Thursday   \n",
       "4  2015-05-16T00:00:00         2015          May         Saturday   \n",
       "\n",
       "   Report_DayOfMonth  Report_DayOfYear  Report_Hour Division     City Hood_ID  \\\n",
       "0                  3               276           18      D22  Toronto      15   \n",
       "1                  8               312           22      D22  Toronto      15   \n",
       "2                 17               260           16      D22  Toronto      15   \n",
       "3                 14               134           14      D22  Toronto      15   \n",
       "4                 16               136           15      D22  Toronto      15   \n",
       "\n",
       "     NeighbourhoodName                                      Location_Type  \\\n",
       "0  Kingsway South (15)  Streets, Roads, Highways (Bicycle Path, Privat...   \n",
       "1  Kingsway South (15)  Single Home, House (Attach Garage, Cottage, Mo...   \n",
       "2  Kingsway South (15)                                 Ttc Subway Station   \n",
       "3  Kingsway South (15)                                 Ttc Subway Station   \n",
       "4  Kingsway South (15)                                 Ttc Subway Station   \n",
       "\n",
       "  Premises_Type     Bike_Make  Bike_Model Bike_Type  Bike_Speed Bike_Colour  \\\n",
       "0       Outside            GI    ESCAPE 2        OT           7         BLK   \n",
       "1         House  UNKNOWN MAKE         NaN        TO           1         BLK   \n",
       "2       Transit            OT  CROSSTRAIL        MT          24         BLK   \n",
       "3       Transit            GT         NaN        TO          10      BLKDGR   \n",
       "4       Transit            GI         NaN        MT           6         RED   \n",
       "\n",
       "   Cost_of_Bike     Status  ObjectId2  \\\n",
       "0         700.0     STOLEN          1   \n",
       "1        1100.0  RECOVERED          2   \n",
       "2         904.0     STOLEN          3   \n",
       "3         400.0     STOLEN          4   \n",
       "4         600.0     STOLEN          5   \n",
       "\n",
       "                                            geometry  \n",
       "0  {'type': 'Point', 'coordinates': (-79.50655965...  \n",
       "1  {'type': 'Point', 'coordinates': (-79.50484874...  \n",
       "2  {'type': 'Point', 'coordinates': (-79.51170915...  \n",
       "3  {'type': 'Point', 'coordinates': (-79.51170915...  \n",
       "4  {'type': 'Point', 'coordinates': (-79.51132657...  "
      ]
     },
     "execution_count": 143,
     "metadata": {},
     "output_type": "execute_result"
    }
   ],
   "source": [
    "thefts.head()"
   ]
  },
  {
   "cell_type": "code",
   "execution_count": 144,
   "metadata": {},
   "outputs": [
    {
     "data": {
      "text/html": [
       "<div>\n",
       "<style scoped>\n",
       "    .dataframe tbody tr th:only-of-type {\n",
       "        vertical-align: middle;\n",
       "    }\n",
       "\n",
       "    .dataframe tbody tr th {\n",
       "        vertical-align: top;\n",
       "    }\n",
       "\n",
       "    .dataframe thead th {\n",
       "        text-align: right;\n",
       "    }\n",
       "</style>\n",
       "<table border=\"1\" class=\"dataframe\">\n",
       "  <thead>\n",
       "    <tr style=\"text-align: right;\">\n",
       "      <th></th>\n",
       "      <th>_id</th>\n",
       "      <th>OBJECTID</th>\n",
       "      <th>event_unique_id</th>\n",
       "      <th>Primary_Offence</th>\n",
       "      <th>Occurrence_Date</th>\n",
       "      <th>Occurrence_Year</th>\n",
       "      <th>Occurrence_Month</th>\n",
       "      <th>Occurrence_DayOfWeek</th>\n",
       "      <th>Occurrence_DayOfMonth</th>\n",
       "      <th>Occurrence_DayOfYear</th>\n",
       "      <th>Occurrence_Hour</th>\n",
       "      <th>Report_Date</th>\n",
       "      <th>Report_Year</th>\n",
       "      <th>Report_Month</th>\n",
       "      <th>Report_DayOfWeek</th>\n",
       "      <th>Report_DayOfMonth</th>\n",
       "      <th>Report_DayOfYear</th>\n",
       "      <th>Report_Hour</th>\n",
       "      <th>Division</th>\n",
       "      <th>City</th>\n",
       "      <th>Hood_ID</th>\n",
       "      <th>NeighbourhoodName</th>\n",
       "      <th>Location_Type</th>\n",
       "      <th>Premises_Type</th>\n",
       "      <th>Bike_Make</th>\n",
       "      <th>Bike_Model</th>\n",
       "      <th>Bike_Type</th>\n",
       "      <th>Bike_Speed</th>\n",
       "      <th>Bike_Colour</th>\n",
       "      <th>Cost_of_Bike</th>\n",
       "      <th>Status</th>\n",
       "      <th>ObjectId2</th>\n",
       "      <th>geometry</th>\n",
       "    </tr>\n",
       "  </thead>\n",
       "  <tbody>\n",
       "    <tr>\n",
       "      <th>25564</th>\n",
       "      <td>25565</td>\n",
       "      <td>9361</td>\n",
       "      <td>GO-2015543181</td>\n",
       "      <td>MISCHIEF UNDER</td>\n",
       "      <td>2015-04-01T00:00:00</td>\n",
       "      <td>2015</td>\n",
       "      <td>April</td>\n",
       "      <td>Wednesday</td>\n",
       "      <td>1</td>\n",
       "      <td>91</td>\n",
       "      <td>17</td>\n",
       "      <td>2015-04-01T00:00:00</td>\n",
       "      <td>2015</td>\n",
       "      <td>April</td>\n",
       "      <td>Wednesday</td>\n",
       "      <td>1</td>\n",
       "      <td>91</td>\n",
       "      <td>19</td>\n",
       "      <td>D42</td>\n",
       "      <td>Toronto</td>\n",
       "      <td>132</td>\n",
       "      <td>Malvern (132)</td>\n",
       "      <td>Parking Lots (Apt., Commercial Or Non-Commercial)</td>\n",
       "      <td>Outside</td>\n",
       "      <td>UNKNOWN MAKE</td>\n",
       "      <td>BMX WILD MAN</td>\n",
       "      <td>RG</td>\n",
       "      <td>0</td>\n",
       "      <td>SIL</td>\n",
       "      <td>600.0</td>\n",
       "      <td>STOLEN</td>\n",
       "      <td>25565</td>\n",
       "      <td>{'type': 'Point', 'coordinates': (-79.21555349...</td>\n",
       "    </tr>\n",
       "    <tr>\n",
       "      <th>25565</th>\n",
       "      <td>25566</td>\n",
       "      <td>11318</td>\n",
       "      <td>GO-20169004589</td>\n",
       "      <td>THEFT UNDER</td>\n",
       "      <td>2016-05-16T00:00:00</td>\n",
       "      <td>2016</td>\n",
       "      <td>May</td>\n",
       "      <td>Monday</td>\n",
       "      <td>16</td>\n",
       "      <td>137</td>\n",
       "      <td>21</td>\n",
       "      <td>2016-05-16T00:00:00</td>\n",
       "      <td>2016</td>\n",
       "      <td>May</td>\n",
       "      <td>Monday</td>\n",
       "      <td>16</td>\n",
       "      <td>137</td>\n",
       "      <td>21</td>\n",
       "      <td>D42</td>\n",
       "      <td>Toronto</td>\n",
       "      <td>132</td>\n",
       "      <td>Malvern (132)</td>\n",
       "      <td>Single Home, House (Attach Garage, Cottage, Mo...</td>\n",
       "      <td>House</td>\n",
       "      <td>SC</td>\n",
       "      <td>NaN</td>\n",
       "      <td>OT</td>\n",
       "      <td>14</td>\n",
       "      <td>NaN</td>\n",
       "      <td>900.0</td>\n",
       "      <td>STOLEN</td>\n",
       "      <td>25566</td>\n",
       "      <td>{'type': 'Point', 'coordinates': (-79.21767046...</td>\n",
       "    </tr>\n",
       "    <tr>\n",
       "      <th>25566</th>\n",
       "      <td>25567</td>\n",
       "      <td>11462</td>\n",
       "      <td>GO-20169005434</td>\n",
       "      <td>THEFT UNDER</td>\n",
       "      <td>2016-06-04T00:00:00</td>\n",
       "      <td>2016</td>\n",
       "      <td>June</td>\n",
       "      <td>Saturday</td>\n",
       "      <td>4</td>\n",
       "      <td>156</td>\n",
       "      <td>22</td>\n",
       "      <td>2016-06-07T00:00:00</td>\n",
       "      <td>2016</td>\n",
       "      <td>June</td>\n",
       "      <td>Tuesday</td>\n",
       "      <td>7</td>\n",
       "      <td>159</td>\n",
       "      <td>16</td>\n",
       "      <td>D42</td>\n",
       "      <td>Toronto</td>\n",
       "      <td>132</td>\n",
       "      <td>Malvern (132)</td>\n",
       "      <td>Apartment (Rooming House, Condo)</td>\n",
       "      <td>Apartment</td>\n",
       "      <td>SC</td>\n",
       "      <td>ANTRIM</td>\n",
       "      <td>MT</td>\n",
       "      <td>24</td>\n",
       "      <td>WHI</td>\n",
       "      <td>700.0</td>\n",
       "      <td>STOLEN</td>\n",
       "      <td>25567</td>\n",
       "      <td>{'type': 'Point', 'coordinates': (-79.2360175,...</td>\n",
       "    </tr>\n",
       "    <tr>\n",
       "      <th>25567</th>\n",
       "      <td>25568</td>\n",
       "      <td>11695</td>\n",
       "      <td>GO-20161170896</td>\n",
       "      <td>THEFT UNDER</td>\n",
       "      <td>2016-07-04T00:00:00</td>\n",
       "      <td>2016</td>\n",
       "      <td>July</td>\n",
       "      <td>Monday</td>\n",
       "      <td>4</td>\n",
       "      <td>186</td>\n",
       "      <td>20</td>\n",
       "      <td>2016-07-04T00:00:00</td>\n",
       "      <td>2016</td>\n",
       "      <td>July</td>\n",
       "      <td>Monday</td>\n",
       "      <td>4</td>\n",
       "      <td>186</td>\n",
       "      <td>20</td>\n",
       "      <td>D42</td>\n",
       "      <td>Toronto</td>\n",
       "      <td>132</td>\n",
       "      <td>Malvern (132)</td>\n",
       "      <td>Other Commercial / Corporate Places (For Profi...</td>\n",
       "      <td>Commercial</td>\n",
       "      <td>UNKNOWN MAKE</td>\n",
       "      <td>NaN</td>\n",
       "      <td>SC</td>\n",
       "      <td>1</td>\n",
       "      <td>NaN</td>\n",
       "      <td>3000.0</td>\n",
       "      <td>STOLEN</td>\n",
       "      <td>25568</td>\n",
       "      <td>{'type': 'Point', 'coordinates': (-79.20060719...</td>\n",
       "    </tr>\n",
       "    <tr>\n",
       "      <th>25568</th>\n",
       "      <td>25569</td>\n",
       "      <td>11883</td>\n",
       "      <td>GO-20169007653</td>\n",
       "      <td>THEFT UNDER - BICYCLE</td>\n",
       "      <td>2016-07-22T00:00:00</td>\n",
       "      <td>2016</td>\n",
       "      <td>July</td>\n",
       "      <td>Friday</td>\n",
       "      <td>22</td>\n",
       "      <td>204</td>\n",
       "      <td>9</td>\n",
       "      <td>2016-07-23T00:00:00</td>\n",
       "      <td>2016</td>\n",
       "      <td>July</td>\n",
       "      <td>Saturday</td>\n",
       "      <td>23</td>\n",
       "      <td>205</td>\n",
       "      <td>11</td>\n",
       "      <td>D42</td>\n",
       "      <td>Toronto</td>\n",
       "      <td>132</td>\n",
       "      <td>Malvern (132)</td>\n",
       "      <td>Parking Lots (Apt., Commercial Or Non-Commercial)</td>\n",
       "      <td>Outside</td>\n",
       "      <td>SU</td>\n",
       "      <td>ASCENT MOUNTAIN</td>\n",
       "      <td>MT</td>\n",
       "      <td>21</td>\n",
       "      <td>ONG</td>\n",
       "      <td>200.0</td>\n",
       "      <td>STOLEN</td>\n",
       "      <td>25569</td>\n",
       "      <td>{'type': 'Point', 'coordinates': (-79.23734742...</td>\n",
       "    </tr>\n",
       "  </tbody>\n",
       "</table>\n",
       "</div>"
      ],
      "text/plain": [
       "         _id  OBJECTID event_unique_id        Primary_Offence  \\\n",
       "25564  25565      9361   GO-2015543181         MISCHIEF UNDER   \n",
       "25565  25566     11318  GO-20169004589            THEFT UNDER   \n",
       "25566  25567     11462  GO-20169005434            THEFT UNDER   \n",
       "25567  25568     11695  GO-20161170896            THEFT UNDER   \n",
       "25568  25569     11883  GO-20169007653  THEFT UNDER - BICYCLE   \n",
       "\n",
       "           Occurrence_Date  Occurrence_Year Occurrence_Month  \\\n",
       "25564  2015-04-01T00:00:00             2015            April   \n",
       "25565  2016-05-16T00:00:00             2016              May   \n",
       "25566  2016-06-04T00:00:00             2016             June   \n",
       "25567  2016-07-04T00:00:00             2016             July   \n",
       "25568  2016-07-22T00:00:00             2016             July   \n",
       "\n",
       "      Occurrence_DayOfWeek  Occurrence_DayOfMonth  Occurrence_DayOfYear  \\\n",
       "25564            Wednesday                      1                    91   \n",
       "25565               Monday                     16                   137   \n",
       "25566             Saturday                      4                   156   \n",
       "25567               Monday                      4                   186   \n",
       "25568               Friday                     22                   204   \n",
       "\n",
       "       Occurrence_Hour          Report_Date  Report_Year Report_Month  \\\n",
       "25564               17  2015-04-01T00:00:00         2015        April   \n",
       "25565               21  2016-05-16T00:00:00         2016          May   \n",
       "25566               22  2016-06-07T00:00:00         2016         June   \n",
       "25567               20  2016-07-04T00:00:00         2016         July   \n",
       "25568                9  2016-07-23T00:00:00         2016         July   \n",
       "\n",
       "      Report_DayOfWeek  Report_DayOfMonth  Report_DayOfYear  Report_Hour  \\\n",
       "25564        Wednesday                  1                91           19   \n",
       "25565           Monday                 16               137           21   \n",
       "25566          Tuesday                  7               159           16   \n",
       "25567           Monday                  4               186           20   \n",
       "25568         Saturday                 23               205           11   \n",
       "\n",
       "      Division     City Hood_ID NeighbourhoodName  \\\n",
       "25564      D42  Toronto     132     Malvern (132)   \n",
       "25565      D42  Toronto     132     Malvern (132)   \n",
       "25566      D42  Toronto     132     Malvern (132)   \n",
       "25567      D42  Toronto     132     Malvern (132)   \n",
       "25568      D42  Toronto     132     Malvern (132)   \n",
       "\n",
       "                                           Location_Type Premises_Type  \\\n",
       "25564  Parking Lots (Apt., Commercial Or Non-Commercial)       Outside   \n",
       "25565  Single Home, House (Attach Garage, Cottage, Mo...         House   \n",
       "25566                   Apartment (Rooming House, Condo)     Apartment   \n",
       "25567  Other Commercial / Corporate Places (For Profi...    Commercial   \n",
       "25568  Parking Lots (Apt., Commercial Or Non-Commercial)       Outside   \n",
       "\n",
       "          Bike_Make       Bike_Model Bike_Type  Bike_Speed Bike_Colour  \\\n",
       "25564  UNKNOWN MAKE     BMX WILD MAN        RG           0         SIL   \n",
       "25565            SC              NaN        OT          14         NaN   \n",
       "25566            SC           ANTRIM        MT          24         WHI   \n",
       "25567  UNKNOWN MAKE              NaN        SC           1         NaN   \n",
       "25568            SU  ASCENT MOUNTAIN        MT          21         ONG   \n",
       "\n",
       "       Cost_of_Bike  Status  ObjectId2  \\\n",
       "25564         600.0  STOLEN      25565   \n",
       "25565         900.0  STOLEN      25566   \n",
       "25566         700.0  STOLEN      25567   \n",
       "25567        3000.0  STOLEN      25568   \n",
       "25568         200.0  STOLEN      25569   \n",
       "\n",
       "                                                geometry  \n",
       "25564  {'type': 'Point', 'coordinates': (-79.21555349...  \n",
       "25565  {'type': 'Point', 'coordinates': (-79.21767046...  \n",
       "25566  {'type': 'Point', 'coordinates': (-79.2360175,...  \n",
       "25567  {'type': 'Point', 'coordinates': (-79.20060719...  \n",
       "25568  {'type': 'Point', 'coordinates': (-79.23734742...  "
      ]
     },
     "execution_count": 144,
     "metadata": {},
     "output_type": "execute_result"
    }
   ],
   "source": [
    "thefts.tail()"
   ]
  },
  {
   "cell_type": "code",
   "execution_count": 145,
   "metadata": {},
   "outputs": [
    {
     "data": {
      "text/html": [
       "<div>\n",
       "<style scoped>\n",
       "    .dataframe tbody tr th:only-of-type {\n",
       "        vertical-align: middle;\n",
       "    }\n",
       "\n",
       "    .dataframe tbody tr th {\n",
       "        vertical-align: top;\n",
       "    }\n",
       "\n",
       "    .dataframe thead th {\n",
       "        text-align: right;\n",
       "    }\n",
       "</style>\n",
       "<table border=\"1\" class=\"dataframe\">\n",
       "  <thead>\n",
       "    <tr style=\"text-align: right;\">\n",
       "      <th></th>\n",
       "      <th>_id</th>\n",
       "      <th>OBJECTID</th>\n",
       "      <th>event_unique_id</th>\n",
       "      <th>Primary_Offence</th>\n",
       "      <th>Occurrence_Date</th>\n",
       "      <th>Occurrence_Year</th>\n",
       "      <th>Occurrence_Month</th>\n",
       "      <th>Occurrence_DayOfWeek</th>\n",
       "      <th>Occurrence_DayOfMonth</th>\n",
       "      <th>Occurrence_DayOfYear</th>\n",
       "      <th>Occurrence_Hour</th>\n",
       "      <th>Report_Date</th>\n",
       "      <th>Report_Year</th>\n",
       "      <th>Report_Month</th>\n",
       "      <th>Report_DayOfWeek</th>\n",
       "      <th>Report_DayOfMonth</th>\n",
       "      <th>Report_DayOfYear</th>\n",
       "      <th>Report_Hour</th>\n",
       "      <th>Division</th>\n",
       "      <th>City</th>\n",
       "      <th>Hood_ID</th>\n",
       "      <th>NeighbourhoodName</th>\n",
       "      <th>Location_Type</th>\n",
       "      <th>Premises_Type</th>\n",
       "      <th>Bike_Make</th>\n",
       "      <th>Bike_Model</th>\n",
       "      <th>Bike_Type</th>\n",
       "      <th>Bike_Speed</th>\n",
       "      <th>Bike_Colour</th>\n",
       "      <th>Cost_of_Bike</th>\n",
       "      <th>Status</th>\n",
       "      <th>ObjectId2</th>\n",
       "      <th>geometry</th>\n",
       "    </tr>\n",
       "  </thead>\n",
       "  <tbody>\n",
       "    <tr>\n",
       "      <th>0</th>\n",
       "      <td>1</td>\n",
       "      <td>17744</td>\n",
       "      <td>GO-20179016397</td>\n",
       "      <td>THEFT UNDER</td>\n",
       "      <td>2017-10-03T00:00:00</td>\n",
       "      <td>2017</td>\n",
       "      <td>October</td>\n",
       "      <td>Tuesday</td>\n",
       "      <td>3</td>\n",
       "      <td>276</td>\n",
       "      <td>14</td>\n",
       "      <td>2017-10-03T00:00:00</td>\n",
       "      <td>2017</td>\n",
       "      <td>October</td>\n",
       "      <td>Tuesday</td>\n",
       "      <td>3</td>\n",
       "      <td>276</td>\n",
       "      <td>18</td>\n",
       "      <td>D22</td>\n",
       "      <td>Toronto</td>\n",
       "      <td>15</td>\n",
       "      <td>Kingsway South (15)</td>\n",
       "      <td>Streets, Roads, Highways (Bicycle Path, Privat...</td>\n",
       "      <td>Outside</td>\n",
       "      <td>GI</td>\n",
       "      <td>ESCAPE 2</td>\n",
       "      <td>OT</td>\n",
       "      <td>7</td>\n",
       "      <td>BLK</td>\n",
       "      <td>700.0</td>\n",
       "      <td>STOLEN</td>\n",
       "      <td>1</td>\n",
       "      <td>{'type': 'Point', 'coordinates': (-79.50655965...</td>\n",
       "    </tr>\n",
       "    <tr>\n",
       "      <th>1</th>\n",
       "      <td>2</td>\n",
       "      <td>17759</td>\n",
       "      <td>GO-20172033056</td>\n",
       "      <td>THEFT UNDER - BICYCLE</td>\n",
       "      <td>2017-11-08T00:00:00</td>\n",
       "      <td>2017</td>\n",
       "      <td>November</td>\n",
       "      <td>Wednesday</td>\n",
       "      <td>8</td>\n",
       "      <td>312</td>\n",
       "      <td>3</td>\n",
       "      <td>2017-11-08T00:00:00</td>\n",
       "      <td>2017</td>\n",
       "      <td>November</td>\n",
       "      <td>Wednesday</td>\n",
       "      <td>8</td>\n",
       "      <td>312</td>\n",
       "      <td>22</td>\n",
       "      <td>D22</td>\n",
       "      <td>Toronto</td>\n",
       "      <td>15</td>\n",
       "      <td>Kingsway South (15)</td>\n",
       "      <td>Single Home, House (Attach Garage, Cottage, Mo...</td>\n",
       "      <td>House</td>\n",
       "      <td>UNKNOWN MAKE</td>\n",
       "      <td>NaN</td>\n",
       "      <td>TO</td>\n",
       "      <td>1</td>\n",
       "      <td>BLK</td>\n",
       "      <td>1100.0</td>\n",
       "      <td>RECOVERED</td>\n",
       "      <td>2</td>\n",
       "      <td>{'type': 'Point', 'coordinates': (-79.50484874...</td>\n",
       "    </tr>\n",
       "    <tr>\n",
       "      <th>2</th>\n",
       "      <td>3</td>\n",
       "      <td>17906</td>\n",
       "      <td>GO-20189030822</td>\n",
       "      <td>THEFT UNDER - BICYCLE</td>\n",
       "      <td>2018-09-14T00:00:00</td>\n",
       "      <td>2018</td>\n",
       "      <td>September</td>\n",
       "      <td>Friday</td>\n",
       "      <td>14</td>\n",
       "      <td>257</td>\n",
       "      <td>9</td>\n",
       "      <td>2018-09-17T00:00:00</td>\n",
       "      <td>2018</td>\n",
       "      <td>September</td>\n",
       "      <td>Monday</td>\n",
       "      <td>17</td>\n",
       "      <td>260</td>\n",
       "      <td>16</td>\n",
       "      <td>D22</td>\n",
       "      <td>Toronto</td>\n",
       "      <td>15</td>\n",
       "      <td>Kingsway South (15)</td>\n",
       "      <td>Ttc Subway Station</td>\n",
       "      <td>Transit</td>\n",
       "      <td>OT</td>\n",
       "      <td>CROSSTRAIL</td>\n",
       "      <td>MT</td>\n",
       "      <td>24</td>\n",
       "      <td>BLK</td>\n",
       "      <td>904.0</td>\n",
       "      <td>STOLEN</td>\n",
       "      <td>3</td>\n",
       "      <td>{'type': 'Point', 'coordinates': (-79.51170915...</td>\n",
       "    </tr>\n",
       "    <tr>\n",
       "      <th>3</th>\n",
       "      <td>4</td>\n",
       "      <td>17962</td>\n",
       "      <td>GO-2015804467</td>\n",
       "      <td>THEFT UNDER</td>\n",
       "      <td>2015-05-07T00:00:00</td>\n",
       "      <td>2015</td>\n",
       "      <td>May</td>\n",
       "      <td>Thursday</td>\n",
       "      <td>7</td>\n",
       "      <td>127</td>\n",
       "      <td>18</td>\n",
       "      <td>2015-05-14T00:00:00</td>\n",
       "      <td>2015</td>\n",
       "      <td>May</td>\n",
       "      <td>Thursday</td>\n",
       "      <td>14</td>\n",
       "      <td>134</td>\n",
       "      <td>14</td>\n",
       "      <td>D22</td>\n",
       "      <td>Toronto</td>\n",
       "      <td>15</td>\n",
       "      <td>Kingsway South (15)</td>\n",
       "      <td>Ttc Subway Station</td>\n",
       "      <td>Transit</td>\n",
       "      <td>GT</td>\n",
       "      <td>NaN</td>\n",
       "      <td>TO</td>\n",
       "      <td>10</td>\n",
       "      <td>BLKDGR</td>\n",
       "      <td>400.0</td>\n",
       "      <td>STOLEN</td>\n",
       "      <td>4</td>\n",
       "      <td>{'type': 'Point', 'coordinates': (-79.51170915...</td>\n",
       "    </tr>\n",
       "    <tr>\n",
       "      <th>4</th>\n",
       "      <td>5</td>\n",
       "      <td>17963</td>\n",
       "      <td>GO-20159002781</td>\n",
       "      <td>THEFT UNDER</td>\n",
       "      <td>2015-05-16T00:00:00</td>\n",
       "      <td>2015</td>\n",
       "      <td>May</td>\n",
       "      <td>Saturday</td>\n",
       "      <td>16</td>\n",
       "      <td>136</td>\n",
       "      <td>12</td>\n",
       "      <td>2015-05-16T00:00:00</td>\n",
       "      <td>2015</td>\n",
       "      <td>May</td>\n",
       "      <td>Saturday</td>\n",
       "      <td>16</td>\n",
       "      <td>136</td>\n",
       "      <td>15</td>\n",
       "      <td>D22</td>\n",
       "      <td>Toronto</td>\n",
       "      <td>15</td>\n",
       "      <td>Kingsway South (15)</td>\n",
       "      <td>Ttc Subway Station</td>\n",
       "      <td>Transit</td>\n",
       "      <td>GI</td>\n",
       "      <td>NaN</td>\n",
       "      <td>MT</td>\n",
       "      <td>6</td>\n",
       "      <td>RED</td>\n",
       "      <td>600.0</td>\n",
       "      <td>STOLEN</td>\n",
       "      <td>5</td>\n",
       "      <td>{'type': 'Point', 'coordinates': (-79.51132657...</td>\n",
       "    </tr>\n",
       "    <tr>\n",
       "      <th>5</th>\n",
       "      <td>6</td>\n",
       "      <td>18003</td>\n",
       "      <td>GO-20151861057</td>\n",
       "      <td>THEFT UNDER</td>\n",
       "      <td>2015-09-01T00:00:00</td>\n",
       "      <td>2015</td>\n",
       "      <td>September</td>\n",
       "      <td>Tuesday</td>\n",
       "      <td>1</td>\n",
       "      <td>244</td>\n",
       "      <td>0</td>\n",
       "      <td>2015-10-29T00:00:00</td>\n",
       "      <td>2015</td>\n",
       "      <td>October</td>\n",
       "      <td>Thursday</td>\n",
       "      <td>29</td>\n",
       "      <td>302</td>\n",
       "      <td>18</td>\n",
       "      <td>D22</td>\n",
       "      <td>Toronto</td>\n",
       "      <td>15</td>\n",
       "      <td>Kingsway South (15)</td>\n",
       "      <td>Parking Lots (Apt., Commercial Or Non-Commercial)</td>\n",
       "      <td>Outside</td>\n",
       "      <td>OTHER</td>\n",
       "      <td>UNK</td>\n",
       "      <td>RC</td>\n",
       "      <td>18</td>\n",
       "      <td>TRQ</td>\n",
       "      <td>100.0</td>\n",
       "      <td>STOLEN</td>\n",
       "      <td>6</td>\n",
       "      <td>{'type': 'Point', 'coordinates': (-79.51960669...</td>\n",
       "    </tr>\n",
       "    <tr>\n",
       "      <th>6</th>\n",
       "      <td>7</td>\n",
       "      <td>18013</td>\n",
       "      <td>GO-20169001537</td>\n",
       "      <td>THEFT UNDER</td>\n",
       "      <td>2016-02-18T00:00:00</td>\n",
       "      <td>2016</td>\n",
       "      <td>February</td>\n",
       "      <td>Thursday</td>\n",
       "      <td>18</td>\n",
       "      <td>49</td>\n",
       "      <td>9</td>\n",
       "      <td>2016-02-18T00:00:00</td>\n",
       "      <td>2016</td>\n",
       "      <td>February</td>\n",
       "      <td>Thursday</td>\n",
       "      <td>18</td>\n",
       "      <td>49</td>\n",
       "      <td>23</td>\n",
       "      <td>D22</td>\n",
       "      <td>Toronto</td>\n",
       "      <td>15</td>\n",
       "      <td>Kingsway South (15)</td>\n",
       "      <td>Ttc Subway Station</td>\n",
       "      <td>Transit</td>\n",
       "      <td>NO</td>\n",
       "      <td>SASQUATCH</td>\n",
       "      <td>MT</td>\n",
       "      <td>18</td>\n",
       "      <td>WHI</td>\n",
       "      <td>0.0</td>\n",
       "      <td>STOLEN</td>\n",
       "      <td>7</td>\n",
       "      <td>{'type': 'Point', 'coordinates': (-79.51170915...</td>\n",
       "    </tr>\n",
       "    <tr>\n",
       "      <th>7</th>\n",
       "      <td>8</td>\n",
       "      <td>20993</td>\n",
       "      <td>GO-2019819460</td>\n",
       "      <td>THEFT UNDER</td>\n",
       "      <td>2019-05-01T00:00:00</td>\n",
       "      <td>2019</td>\n",
       "      <td>May</td>\n",
       "      <td>Wednesday</td>\n",
       "      <td>1</td>\n",
       "      <td>121</td>\n",
       "      <td>13</td>\n",
       "      <td>2019-05-06T00:00:00</td>\n",
       "      <td>2019</td>\n",
       "      <td>May</td>\n",
       "      <td>Monday</td>\n",
       "      <td>6</td>\n",
       "      <td>126</td>\n",
       "      <td>11</td>\n",
       "      <td>D22</td>\n",
       "      <td>Toronto</td>\n",
       "      <td>15</td>\n",
       "      <td>Kingsway South (15)</td>\n",
       "      <td>Ttc Bus</td>\n",
       "      <td>Transit</td>\n",
       "      <td>GARY FISHER</td>\n",
       "      <td>NaN</td>\n",
       "      <td>OT</td>\n",
       "      <td>7</td>\n",
       "      <td>BLK</td>\n",
       "      <td>800.0</td>\n",
       "      <td>STOLEN</td>\n",
       "      <td>8</td>\n",
       "      <td>{'type': 'Point', 'coordinates': (-79.50655965...</td>\n",
       "    </tr>\n",
       "    <tr>\n",
       "      <th>8</th>\n",
       "      <td>9</td>\n",
       "      <td>21209</td>\n",
       "      <td>GO-20179014159</td>\n",
       "      <td>THEFT UNDER</td>\n",
       "      <td>2017-09-06T00:00:00</td>\n",
       "      <td>2017</td>\n",
       "      <td>September</td>\n",
       "      <td>Wednesday</td>\n",
       "      <td>6</td>\n",
       "      <td>249</td>\n",
       "      <td>8</td>\n",
       "      <td>2017-09-06T00:00:00</td>\n",
       "      <td>2017</td>\n",
       "      <td>September</td>\n",
       "      <td>Wednesday</td>\n",
       "      <td>6</td>\n",
       "      <td>249</td>\n",
       "      <td>21</td>\n",
       "      <td>D22</td>\n",
       "      <td>Toronto</td>\n",
       "      <td>15</td>\n",
       "      <td>Kingsway South (15)</td>\n",
       "      <td>Go Bus</td>\n",
       "      <td>Transit</td>\n",
       "      <td>UK</td>\n",
       "      <td>NaN</td>\n",
       "      <td>RG</td>\n",
       "      <td>20</td>\n",
       "      <td>BLK</td>\n",
       "      <td>700.0</td>\n",
       "      <td>STOLEN</td>\n",
       "      <td>9</td>\n",
       "      <td>{'type': 'Point', 'coordinates': (-79.50655965...</td>\n",
       "    </tr>\n",
       "    <tr>\n",
       "      <th>9</th>\n",
       "      <td>10</td>\n",
       "      <td>21999</td>\n",
       "      <td>GO-20149003203</td>\n",
       "      <td>THEFT UNDER</td>\n",
       "      <td>2014-05-07T00:00:00</td>\n",
       "      <td>2014</td>\n",
       "      <td>May</td>\n",
       "      <td>Wednesday</td>\n",
       "      <td>7</td>\n",
       "      <td>127</td>\n",
       "      <td>18</td>\n",
       "      <td>2014-05-07T00:00:00</td>\n",
       "      <td>2014</td>\n",
       "      <td>May</td>\n",
       "      <td>Wednesday</td>\n",
       "      <td>7</td>\n",
       "      <td>127</td>\n",
       "      <td>19</td>\n",
       "      <td>D22</td>\n",
       "      <td>Toronto</td>\n",
       "      <td>15</td>\n",
       "      <td>Kingsway South (15)</td>\n",
       "      <td>Streets, Roads, Highways (Bicycle Path, Privat...</td>\n",
       "      <td>Outside</td>\n",
       "      <td>UK</td>\n",
       "      <td>HARDROCK</td>\n",
       "      <td>MT</td>\n",
       "      <td>24</td>\n",
       "      <td>ONG</td>\n",
       "      <td>550.0</td>\n",
       "      <td>STOLEN</td>\n",
       "      <td>10</td>\n",
       "      <td>{'type': 'Point', 'coordinates': (-79.51132657...</td>\n",
       "    </tr>\n",
       "  </tbody>\n",
       "</table>\n",
       "</div>"
      ],
      "text/plain": [
       "   _id  OBJECTID event_unique_id        Primary_Offence      Occurrence_Date  \\\n",
       "0    1     17744  GO-20179016397            THEFT UNDER  2017-10-03T00:00:00   \n",
       "1    2     17759  GO-20172033056  THEFT UNDER - BICYCLE  2017-11-08T00:00:00   \n",
       "2    3     17906  GO-20189030822  THEFT UNDER - BICYCLE  2018-09-14T00:00:00   \n",
       "3    4     17962   GO-2015804467            THEFT UNDER  2015-05-07T00:00:00   \n",
       "4    5     17963  GO-20159002781            THEFT UNDER  2015-05-16T00:00:00   \n",
       "5    6     18003  GO-20151861057            THEFT UNDER  2015-09-01T00:00:00   \n",
       "6    7     18013  GO-20169001537            THEFT UNDER  2016-02-18T00:00:00   \n",
       "7    8     20993   GO-2019819460            THEFT UNDER  2019-05-01T00:00:00   \n",
       "8    9     21209  GO-20179014159            THEFT UNDER  2017-09-06T00:00:00   \n",
       "9   10     21999  GO-20149003203            THEFT UNDER  2014-05-07T00:00:00   \n",
       "\n",
       "   Occurrence_Year Occurrence_Month Occurrence_DayOfWeek  \\\n",
       "0             2017          October              Tuesday   \n",
       "1             2017         November            Wednesday   \n",
       "2             2018        September               Friday   \n",
       "3             2015              May             Thursday   \n",
       "4             2015              May             Saturday   \n",
       "5             2015        September              Tuesday   \n",
       "6             2016         February             Thursday   \n",
       "7             2019              May            Wednesday   \n",
       "8             2017        September            Wednesday   \n",
       "9             2014              May            Wednesday   \n",
       "\n",
       "   Occurrence_DayOfMonth  Occurrence_DayOfYear  Occurrence_Hour  \\\n",
       "0                      3                   276               14   \n",
       "1                      8                   312                3   \n",
       "2                     14                   257                9   \n",
       "3                      7                   127               18   \n",
       "4                     16                   136               12   \n",
       "5                      1                   244                0   \n",
       "6                     18                    49                9   \n",
       "7                      1                   121               13   \n",
       "8                      6                   249                8   \n",
       "9                      7                   127               18   \n",
       "\n",
       "           Report_Date  Report_Year Report_Month Report_DayOfWeek  \\\n",
       "0  2017-10-03T00:00:00         2017      October          Tuesday   \n",
       "1  2017-11-08T00:00:00         2017     November        Wednesday   \n",
       "2  2018-09-17T00:00:00         2018    September           Monday   \n",
       "3  2015-05-14T00:00:00         2015          May         Thursday   \n",
       "4  2015-05-16T00:00:00         2015          May         Saturday   \n",
       "5  2015-10-29T00:00:00         2015      October         Thursday   \n",
       "6  2016-02-18T00:00:00         2016     February         Thursday   \n",
       "7  2019-05-06T00:00:00         2019          May           Monday   \n",
       "8  2017-09-06T00:00:00         2017    September        Wednesday   \n",
       "9  2014-05-07T00:00:00         2014          May        Wednesday   \n",
       "\n",
       "   Report_DayOfMonth  Report_DayOfYear  Report_Hour Division     City Hood_ID  \\\n",
       "0                  3               276           18      D22  Toronto      15   \n",
       "1                  8               312           22      D22  Toronto      15   \n",
       "2                 17               260           16      D22  Toronto      15   \n",
       "3                 14               134           14      D22  Toronto      15   \n",
       "4                 16               136           15      D22  Toronto      15   \n",
       "5                 29               302           18      D22  Toronto      15   \n",
       "6                 18                49           23      D22  Toronto      15   \n",
       "7                  6               126           11      D22  Toronto      15   \n",
       "8                  6               249           21      D22  Toronto      15   \n",
       "9                  7               127           19      D22  Toronto      15   \n",
       "\n",
       "     NeighbourhoodName                                      Location_Type  \\\n",
       "0  Kingsway South (15)  Streets, Roads, Highways (Bicycle Path, Privat...   \n",
       "1  Kingsway South (15)  Single Home, House (Attach Garage, Cottage, Mo...   \n",
       "2  Kingsway South (15)                                 Ttc Subway Station   \n",
       "3  Kingsway South (15)                                 Ttc Subway Station   \n",
       "4  Kingsway South (15)                                 Ttc Subway Station   \n",
       "5  Kingsway South (15)  Parking Lots (Apt., Commercial Or Non-Commercial)   \n",
       "6  Kingsway South (15)                                 Ttc Subway Station   \n",
       "7  Kingsway South (15)                                            Ttc Bus   \n",
       "8  Kingsway South (15)                                             Go Bus   \n",
       "9  Kingsway South (15)  Streets, Roads, Highways (Bicycle Path, Privat...   \n",
       "\n",
       "  Premises_Type     Bike_Make  Bike_Model Bike_Type  Bike_Speed Bike_Colour  \\\n",
       "0       Outside            GI    ESCAPE 2        OT           7         BLK   \n",
       "1         House  UNKNOWN MAKE         NaN        TO           1         BLK   \n",
       "2       Transit            OT  CROSSTRAIL        MT          24         BLK   \n",
       "3       Transit            GT         NaN        TO          10      BLKDGR   \n",
       "4       Transit            GI         NaN        MT           6         RED   \n",
       "5       Outside         OTHER         UNK        RC          18         TRQ   \n",
       "6       Transit            NO   SASQUATCH        MT          18         WHI   \n",
       "7       Transit   GARY FISHER         NaN        OT           7         BLK   \n",
       "8       Transit            UK         NaN        RG          20         BLK   \n",
       "9       Outside            UK    HARDROCK        MT          24         ONG   \n",
       "\n",
       "   Cost_of_Bike     Status  ObjectId2  \\\n",
       "0         700.0     STOLEN          1   \n",
       "1        1100.0  RECOVERED          2   \n",
       "2         904.0     STOLEN          3   \n",
       "3         400.0     STOLEN          4   \n",
       "4         600.0     STOLEN          5   \n",
       "5         100.0     STOLEN          6   \n",
       "6           0.0     STOLEN          7   \n",
       "7         800.0     STOLEN          8   \n",
       "8         700.0     STOLEN          9   \n",
       "9         550.0     STOLEN         10   \n",
       "\n",
       "                                            geometry  \n",
       "0  {'type': 'Point', 'coordinates': (-79.50655965...  \n",
       "1  {'type': 'Point', 'coordinates': (-79.50484874...  \n",
       "2  {'type': 'Point', 'coordinates': (-79.51170915...  \n",
       "3  {'type': 'Point', 'coordinates': (-79.51170915...  \n",
       "4  {'type': 'Point', 'coordinates': (-79.51132657...  \n",
       "5  {'type': 'Point', 'coordinates': (-79.51960669...  \n",
       "6  {'type': 'Point', 'coordinates': (-79.51170915...  \n",
       "7  {'type': 'Point', 'coordinates': (-79.50655965...  \n",
       "8  {'type': 'Point', 'coordinates': (-79.50655965...  \n",
       "9  {'type': 'Point', 'coordinates': (-79.51132657...  "
      ]
     },
     "execution_count": 145,
     "metadata": {},
     "output_type": "execute_result"
    }
   ],
   "source": [
    "thefts.head(10)"
   ]
  },
  {
   "cell_type": "code",
   "execution_count": 146,
   "metadata": {},
   "outputs": [
    {
     "name": "stdout",
     "output_type": "stream",
     "text": [
      "<class 'pandas.core.frame.DataFrame'>\n",
      "RangeIndex: 25569 entries, 0 to 25568\n",
      "Data columns (total 33 columns):\n",
      " #   Column                 Non-Null Count  Dtype  \n",
      "---  ------                 --------------  -----  \n",
      " 0   _id                    25569 non-null  int64  \n",
      " 1   OBJECTID               25569 non-null  int64  \n",
      " 2   event_unique_id        25569 non-null  object \n",
      " 3   Primary_Offence        25569 non-null  object \n",
      " 4   Occurrence_Date        25569 non-null  object \n",
      " 5   Occurrence_Year        25569 non-null  int64  \n",
      " 6   Occurrence_Month       25569 non-null  object \n",
      " 7   Occurrence_DayOfWeek   25569 non-null  object \n",
      " 8   Occurrence_DayOfMonth  25569 non-null  int64  \n",
      " 9   Occurrence_DayOfYear   25569 non-null  int64  \n",
      " 10  Occurrence_Hour        25569 non-null  int64  \n",
      " 11  Report_Date            25569 non-null  object \n",
      " 12  Report_Year            25569 non-null  int64  \n",
      " 13  Report_Month           25569 non-null  object \n",
      " 14  Report_DayOfWeek       25569 non-null  object \n",
      " 15  Report_DayOfMonth      25569 non-null  int64  \n",
      " 16  Report_DayOfYear       25569 non-null  int64  \n",
      " 17  Report_Hour            25569 non-null  int64  \n",
      " 18  Division               25569 non-null  object \n",
      " 19  City                   25569 non-null  object \n",
      " 20  Hood_ID                25569 non-null  object \n",
      " 21  NeighbourhoodName      25569 non-null  object \n",
      " 22  Location_Type          25569 non-null  object \n",
      " 23  Premises_Type          25569 non-null  object \n",
      " 24  Bike_Make              25448 non-null  object \n",
      " 25  Bike_Model             15923 non-null  object \n",
      " 26  Bike_Type              25569 non-null  object \n",
      " 27  Bike_Speed             25569 non-null  int64  \n",
      " 28  Bike_Colour            23508 non-null  object \n",
      " 29  Cost_of_Bike           23825 non-null  float64\n",
      " 30  Status                 25569 non-null  object \n",
      " 31  ObjectId2              25569 non-null  int64  \n",
      " 32  geometry               25569 non-null  object \n",
      "dtypes: float64(1), int64(12), object(20)\n",
      "memory usage: 6.4+ MB\n"
     ]
    }
   ],
   "source": [
    "thefts.info()"
   ]
  },
  {
   "cell_type": "code",
   "execution_count": null,
   "metadata": {},
   "outputs": [],
   "source": []
  }
 ],
 "metadata": {
  "kernelspec": {
   "display_name": "base",
   "language": "python",
   "name": "python3"
  },
  "language_info": {
   "codemirror_mode": {
    "name": "ipython",
    "version": 3
   },
   "file_extension": ".py",
   "mimetype": "text/x-python",
   "name": "python",
   "nbconvert_exporter": "python",
   "pygments_lexer": "ipython3",
   "version": "3.11.5"
  }
 },
 "nbformat": 4,
 "nbformat_minor": 2
}
