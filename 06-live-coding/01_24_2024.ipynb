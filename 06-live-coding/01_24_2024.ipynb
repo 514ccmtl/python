{
 "cells": [
  {
   "cell_type": "markdown",
   "metadata": {},
   "source": [
    "In Python, objects can be classified as either mutable or immutable based on whether their state can be changed after they are created. This classification is important because it affects how you can manipulate and modify these objects in your code.\n",
    "\n",
    "1. Immutable Objects:\n",
    "   Immutable objects are those whose state cannot be modified after they are created. Any attempt to change their value will result in the creation of a new object with the modified value. Common examples of immutable objects in Python include:\n",
    "   \n",
    "   - Integers (`int`)\n",
    "   - Floating-point numbers (`float`)\n",
    "   - Strings (`str`)\n",
    "   - Tuples (`tuple`)\n",
    "\n",
    "Think of immutable objects as objects that you can't change once you've made them. It's like having a piece of paper with a number written on it in permanent marker. If you want to change the number, you can't just erase it and write a new one on the same paper. Instead, you have to throw away the old paper and write the new number on a fresh piece of paper. In Python, when you work with immutable objects like numbers or text, you can't change them directly; you create new ones with the changes.\n",
    "\n",
    "For example, imagine you have a variable `x` with the number `5` in it. If you want to make it `6`, you don't change `x`, but you make a new variable with the value `6`, like this:"
   ]
  },
  {
   "cell_type": "code",
   "execution_count": 1,
   "metadata": {},
   "outputs": [
    {
     "name": "stdout",
     "output_type": "stream",
     "text": [
      "6\n",
      "5\n"
     ]
    }
   ],
   "source": [
    "x = 5\n",
    "y = x  # y now refers to the same integer object as x\n",
    "x = x + 1  # Create a new integer object with the value 6 and assign it to x\n",
    "print(x)  # Output: 6\n",
    "print(y)  # Output: 5 (y still refers to the original integer with the value 5)"
   ]
  },
  {
   "cell_type": "markdown",
   "metadata": {},
   "source": [
    "2. Mutable Objects:\n",
    "   Mutable objects, on the other hand, are those whose state can be modified after they are created. When you modify a mutable object, you are actually changing its internal state rather than creating a new object. Common examples of mutable objects in Python include:\n",
    "\n",
    "   - Lists (`list`)\n",
    "   - Dictionaries (`dict`)\n",
    "   - Sets (`set`)\n",
    "   - Custom objects (e.g., instances of user-defined classes, which are mutable by default unless made immutable)\n",
    "\n",
    "\n",
    "Now, think of mutable objects as objects that you can change, like a whiteboard where you can write and erase things as many times as you want. When you work with mutable objects in Python, you can directly modify their contents without creating a completely new object.\n",
    "\n",
    "For instance, consider a list as a mutable object. It's like having a whiteboard with a list of items. You can add or remove items from the list without needing a new whiteboard."
   ]
  },
  {
   "cell_type": "code",
   "execution_count": 2,
   "metadata": {},
   "outputs": [
    {
     "name": "stdout",
     "output_type": "stream",
     "text": [
      "[1, 2, 3, 4]\n",
      "[1, 2, 3]\n",
      "[1, 2, 3]\n"
     ]
    }
   ],
   "source": [
    "lst = [1, 2, 3]\n",
    "lst.append(4)  # Modify the list in-place by adding an element\n",
    "print(lst)  # Output: [1, 2, 3, 4] (lst has been modified)\n",
    "\n",
    "another_lst = lst  # another_lst refers to the same list as lst\n",
    "lst.pop()  # Modify the list in-place by removing the last element\n",
    "print(lst)  # Output: [1, 2, 3] (lst has been modified again)\n",
    "print(another_lst)  # Output: [1, 2, 3] (another_lst also reflects the changes)"
   ]
  },
  {
   "cell_type": "markdown",
   "metadata": {},
   "source": [
    "So, in Python, you need to be aware of whether you're working with something that's like a permanent marker (immutable) or a whiteboard marker (mutable) because it affects how you make changes to your data. Immutable objects are like the permanent marker, where you create a new one if you want to change anything, while mutable objects are like the whiteboard marker, allowing you to change what's already there."
   ]
  },
  {
   "cell_type": "markdown",
   "metadata": {},
   "source": [
    "1. **List (`list`):**\n",
    "   - Use lists when you have a collection of items that you want to keep in a specific order, and you might need to add, remove, or modify elements during your program.\n",
    "   - Lists are commonly used for to-do lists, shopping lists, storing user input, and representing sequences of data.\n",
    "\n",
    "   ```python\n",
    "   my_list = [1, 2, 3, 4, 5]\n",
    "   ```\n",
    "\n",
    "2. **Tuple (`tuple`):**\n",
    "   - Use tuples when you have a collection of items that should not be changed after they are created. Tuples are immutable.\n",
    "   - Tuples are often used to represent fixed collections of data, like coordinates, dates, or configuration settings.\n",
    "\n",
    "   ```python\n",
    "   coordinates = (3, 4)\n",
    "   ```\n",
    "\n",
    "3. **Set (`set`):**\n",
    "   - Use sets when you need to store a collection of unique items, and you don't care about the order of the elements.\n",
    "   - Sets are useful for tasks that involve checking for the presence of an item or eliminating duplicate values from a list.\n",
    "\n",
    "   ```python\n",
    "   unique_numbers = {1, 2, 3, 4, 5}\n",
    "   ```\n",
    "\n",
    "4. **Dictionary (`dict`):**\n",
    "   - Use dictionaries when you want to store data as key-value pairs. Dictionaries provide a way to access values quickly using their keys.\n",
    "   - Dictionaries are ideal for tasks like storing configuration settings, mapping data, or representing objects with named attributes.\n",
    "\n",
    "   ```python\n",
    "   phonebook = {'Alice': '555-1234', 'Bob': '555-5678', 'Charlie': '555-9999'}\n",
    "   ```\n",
    "\n",
    "Remember that the choice of which data structure to use depends on the specific requirements of your program. Each data structure has its own strengths, and using the appropriate one can make your code more efficient and maintainable."
   ]
  },
  {
   "cell_type": "code",
   "execution_count": 1,
   "metadata": {},
   "outputs": [],
   "source": [
    "olympics_cities = {2020: 'Tokyo', 2016: 'Rio de Janiero', 2012: 'London'}\n",
    "all_olympics_hosts = {'summer': olympics_cities,\n",
    "                     'winter': {2022: 'Beijing', 2018: 'Pyeongchang'}}"
   ]
  },
  {
   "cell_type": "code",
   "execution_count": 2,
   "metadata": {},
   "outputs": [
    {
     "data": {
      "text/plain": [
       "'Rio de Janiero'"
      ]
     },
     "execution_count": 2,
     "metadata": {},
     "output_type": "execute_result"
    }
   ],
   "source": [
    "olympics_cities[2016]"
   ]
  },
  {
   "cell_type": "code",
   "execution_count": 4,
   "metadata": {},
   "outputs": [
    {
     "data": {
      "text/plain": [
       "'Pyeongchang'"
      ]
     },
     "execution_count": 4,
     "metadata": {},
     "output_type": "execute_result"
    }
   ],
   "source": [
    "all_olympics_hosts['winter'][2018]"
   ]
  },
  {
   "cell_type": "code",
   "execution_count": 5,
   "metadata": {},
   "outputs": [
    {
     "ename": "KeyError",
     "evalue": "2014",
     "output_type": "error",
     "traceback": [
      "\u001b[0;31m---------------------------------------------------------------------------\u001b[0m",
      "\u001b[0;31mKeyError\u001b[0m                                  Traceback (most recent call last)",
      "Cell \u001b[0;32mIn[5], line 1\u001b[0m\n\u001b[0;32m----> 1\u001b[0m \u001b[43molympics_cities\u001b[49m\u001b[43m[\u001b[49m\u001b[38;5;241;43m2014\u001b[39;49m\u001b[43m]\u001b[49m\n",
      "\u001b[0;31mKeyError\u001b[0m: 2014"
     ]
    }
   ],
   "source": [
    "olympics_cities[2014]"
   ]
  },
  {
   "cell_type": "code",
   "execution_count": 6,
   "metadata": {},
   "outputs": [
    {
     "ename": "KeyError",
     "evalue": "'spring'",
     "output_type": "error",
     "traceback": [
      "\u001b[0;31m---------------------------------------------------------------------------\u001b[0m",
      "\u001b[0;31mKeyError\u001b[0m                                  Traceback (most recent call last)",
      "Cell \u001b[0;32mIn[6], line 1\u001b[0m\n\u001b[0;32m----> 1\u001b[0m \u001b[43mall_olympics_hosts\u001b[49m\u001b[43m[\u001b[49m\u001b[38;5;124;43m'\u001b[39;49m\u001b[38;5;124;43mspring\u001b[39;49m\u001b[38;5;124;43m'\u001b[39;49m\u001b[43m]\u001b[49m\n",
      "\u001b[0;31mKeyError\u001b[0m: 'spring'"
     ]
    }
   ],
   "source": [
    "all_olympics_hosts['spring']"
   ]
  },
  {
   "cell_type": "code",
   "execution_count": 8,
   "metadata": {},
   "outputs": [],
   "source": [
    "olympics_cities[2014] = 'Toronto'"
   ]
  },
  {
   "cell_type": "code",
   "execution_count": 9,
   "metadata": {},
   "outputs": [
    {
     "data": {
      "text/plain": [
       "{2020: 'Tokyo', 2016: 'Rio de Janiero', 2012: 'London', 2014: 'Toronto'}"
      ]
     },
     "execution_count": 9,
     "metadata": {},
     "output_type": "execute_result"
    }
   ],
   "source": [
    "olympics_cities"
   ]
  },
  {
   "cell_type": "code",
   "execution_count": 10,
   "metadata": {},
   "outputs": [],
   "source": [
    "olympics_cities[2014] = 'Sochi'"
   ]
  },
  {
   "cell_type": "code",
   "execution_count": 11,
   "metadata": {},
   "outputs": [
    {
     "data": {
      "text/plain": [
       "{2020: 'Tokyo', 2016: 'Rio de Janiero', 2012: 'London', 2014: 'Sochi'}"
      ]
     },
     "execution_count": 11,
     "metadata": {},
     "output_type": "execute_result"
    }
   ],
   "source": [
    "olympics_cities"
   ]
  },
  {
   "cell_type": "code",
   "execution_count": 12,
   "metadata": {},
   "outputs": [
    {
     "data": {
      "text/plain": [
       "{'summer': {2020: 'Tokyo',\n",
       "  2016: 'Rio de Janiero',\n",
       "  2012: 'London',\n",
       "  2014: 'Sochi'},\n",
       " 'winter': {2022: 'Beijing', 2018: 'Pyeongchang'}}"
      ]
     },
     "execution_count": 12,
     "metadata": {},
     "output_type": "execute_result"
    }
   ],
   "source": [
    "all_olympics_hosts"
   ]
  },
  {
   "cell_type": "code",
   "execution_count": 13,
   "metadata": {},
   "outputs": [
    {
     "data": {
      "text/plain": [
       "{2016: 'Rio de Janiero', 2012: 'London', 2014: 'Sochi'}"
      ]
     },
     "execution_count": 13,
     "metadata": {},
     "output_type": "execute_result"
    }
   ],
   "source": [
    "del olympics_cities[2020]\n",
    "olympics_cities"
   ]
  },
  {
   "cell_type": "code",
   "execution_count": 17,
   "metadata": {},
   "outputs": [
    {
     "data": {
      "text/plain": [
       "{'summer': {2016: 'Rio de Janiero', 2012: 'London', 2014: 'Sochi'},\n",
       " 'winter': {2022: 'Beijing', 2018: 'Pyeongchang'}}"
      ]
     },
     "execution_count": 17,
     "metadata": {},
     "output_type": "execute_result"
    }
   ],
   "source": [
    "all_olympics_hosts"
   ]
  },
  {
   "cell_type": "code",
   "execution_count": 14,
   "metadata": {},
   "outputs": [
    {
     "data": {
      "text/plain": [
       "dict_keys(['summer', 'winter'])"
      ]
     },
     "execution_count": 14,
     "metadata": {},
     "output_type": "execute_result"
    }
   ],
   "source": [
    "all_olympics_hosts.keys()"
   ]
  },
  {
   "cell_type": "code",
   "execution_count": 18,
   "metadata": {},
   "outputs": [
    {
     "data": {
      "text/plain": [
       "dict_values(['Rio de Janiero', 'London', 'Sochi'])"
      ]
     },
     "execution_count": 18,
     "metadata": {},
     "output_type": "execute_result"
    }
   ],
   "source": [
    "all_olympics_hosts['summer'].values()"
   ]
  },
  {
   "cell_type": "code",
   "execution_count": 20,
   "metadata": {},
   "outputs": [
    {
     "data": {
      "text/plain": [
       "dict_items([(2022, 'Beijing'), (2018, 'Pyeongchang')])"
      ]
     },
     "execution_count": 20,
     "metadata": {},
     "output_type": "execute_result"
    }
   ],
   "source": [
    "all_olympics_hosts['winter'].items()"
   ]
  },
  {
   "cell_type": "code",
   "execution_count": 21,
   "metadata": {},
   "outputs": [],
   "source": [
    "results = {'accuracy': [],\n",
    "           'precision': []}"
   ]
  },
  {
   "cell_type": "code",
   "execution_count": 22,
   "metadata": {},
   "outputs": [
    {
     "data": {
      "text/plain": [
       "dict_keys(['accuracy', 'precision'])"
      ]
     },
     "execution_count": 22,
     "metadata": {},
     "output_type": "execute_result"
    }
   ],
   "source": [
    "results.keys()"
   ]
  },
  {
   "cell_type": "code",
   "execution_count": 30,
   "metadata": {},
   "outputs": [
    {
     "data": {
      "text/plain": [
       "dict_items"
      ]
     },
     "execution_count": 30,
     "metadata": {},
     "output_type": "execute_result"
    }
   ],
   "source": [
    "results.items()"
   ]
  },
  {
   "cell_type": "code",
   "execution_count": 27,
   "metadata": {},
   "outputs": [],
   "source": [
    "results['accuracy'].append(0.50)"
   ]
  },
  {
   "cell_type": "code",
   "execution_count": 28,
   "metadata": {},
   "outputs": [
    {
     "data": {
      "text/plain": [
       "{'accuracy': [0.8, 0.5], 'precision': []}"
      ]
     },
     "execution_count": 28,
     "metadata": {},
     "output_type": "execute_result"
    }
   ],
   "source": [
    "results"
   ]
  },
  {
   "cell_type": "code",
   "execution_count": 51,
   "metadata": {},
   "outputs": [
    {
     "name": "stdout",
     "output_type": "stream",
     "text": [
      "0 a\n",
      "1 e\n",
      "2 i\n",
      "3 o\n",
      "4 u\n"
     ]
    }
   ],
   "source": [
    "# for loops\n",
    "\n",
    "vowels = ['a', 'e', 'i', 'o', 'u']\n",
    "\n",
    "for i,vowel in enumerate(vowels):\n",
    "   print(i, vowel)"
   ]
  },
  {
   "cell_type": "code",
   "execution_count": 35,
   "metadata": {},
   "outputs": [
    {
     "name": "stdout",
     "output_type": "stream",
     "text": [
      "1\n",
      "2\n",
      "3\n",
      "4\n",
      "5\n"
     ]
    }
   ],
   "source": [
    "for i in [1, 2, 3, 4, 5]:\n",
    "    print(i)"
   ]
  },
  {
   "cell_type": "code",
   "execution_count": 39,
   "metadata": {},
   "outputs": [
    {
     "name": "stdout",
     "output_type": "stream",
     "text": [
      "<class 'int'>\n",
      "<class 'int'>\n",
      "<class 'int'>\n",
      "<class 'int'>\n",
      "<class 'int'>\n"
     ]
    }
   ],
   "source": [
    "for i in range(5):\n",
    "    print(type(i))"
   ]
  },
  {
   "cell_type": "code",
   "execution_count": 40,
   "metadata": {},
   "outputs": [
    {
     "data": {
      "text/plain": [
       "['processed_data_01.xlsx', 'processed_data_02.xlsx']"
      ]
     },
     "execution_count": 40,
     "metadata": {},
     "output_type": "execute_result"
    }
   ],
   "source": [
    "input_files = ['data_01.csv', 'data_02.csv']\n",
    "output_files = []\n",
    "\n",
    "for i in input_files:\n",
    "    output_file_name = 'processed_' + i.replace('.csv', '.xlsx')\n",
    "    output_files.append(output_file_name)\n",
    "\n",
    "output_files"
   ]
  },
  {
   "cell_type": "code",
   "execution_count": 42,
   "metadata": {},
   "outputs": [
    {
     "name": "stdout",
     "output_type": "stream",
     "text": [
      "Stop 1 is Sheppard-Yonge.\n",
      "Stop 2 is Bayview.\n",
      "Stop 3 is Bessarion.\n",
      "Stop 4 is Leslie.\n",
      "Stop 5 is Don Mills.\n"
     ]
    }
   ],
   "source": [
    "stops = ['Sheppard-Yonge', 'Bayview', 'Bessarion', 'Leslie', 'Don Mills']\n",
    "\n",
    "for i, stop in enumerate(stops):\n",
    "    print(f'Stop {i + 1} is {stop}.')"
   ]
  },
  {
   "cell_type": "code",
   "execution_count": 47,
   "metadata": {},
   "outputs": [
    {
     "name": "stdout",
     "output_type": "stream",
     "text": [
      "0\n",
      "cat\n",
      "1\n",
      "dog\n"
     ]
    }
   ],
   "source": [
    "animals = ['cat', 'dog']\n",
    "\n",
    "for j,pet in enumerate(animals):\n",
    "    print(j)\n",
    "    print(pet)\n"
   ]
  },
  {
   "cell_type": "code",
   "execution_count": 50,
   "metadata": {},
   "outputs": [
    {
     "name": "stdout",
     "output_type": "stream",
     "text": [
      "0\n",
      "apple\n",
      "1\n",
      "banana\n"
     ]
    }
   ],
   "source": [
    "food = ['apple', 'banana','kiwi', 'egg', 'coffee']\n",
    "for i in range(2):\n",
    "    print(i)\n",
    "    print(food[i])"
   ]
  },
  {
   "cell_type": "code",
   "execution_count": 52,
   "metadata": {},
   "outputs": [
    {
     "data": {
      "text/plain": [
       "{'summer': {2016: 'Rio de Janiero', 2012: 'London', 2014: 'Sochi'},\n",
       " 'winter': {2022: 'Beijing', 2018: 'Pyeongchang'}}"
      ]
     },
     "execution_count": 52,
     "metadata": {},
     "output_type": "execute_result"
    }
   ],
   "source": [
    "all_olympics_hosts"
   ]
  },
  {
   "cell_type": "code",
   "execution_count": 53,
   "metadata": {},
   "outputs": [
    {
     "data": {
      "text/plain": [
       "dict_items([('summer', {2016: 'Rio de Janiero', 2012: 'London', 2014: 'Sochi'}), ('winter', {2022: 'Beijing', 2018: 'Pyeongchang'})])"
      ]
     },
     "execution_count": 53,
     "metadata": {},
     "output_type": "execute_result"
    }
   ],
   "source": [
    "all_olympics_hosts.items()"
   ]
  },
  {
   "cell_type": "code",
   "execution_count": 56,
   "metadata": {},
   "outputs": [
    {
     "name": "stdout",
     "output_type": "stream",
     "text": [
      "summer {2016: 'Rio de Janiero', 2012: 'London', 2014: 'Sochi'}\n",
      "2016 Rio de Janiero\n",
      "2012 London\n",
      "2014 Sochi\n",
      "winter {2022: 'Beijing', 2018: 'Pyeongchang'}\n",
      "2022 Beijing\n",
      "2018 Pyeongchang\n"
     ]
    }
   ],
   "source": [
    "for key,value in all_olympics_hosts.items():\n",
    "    print(key, value)\n",
    "    for year,city in value.items():\n",
    "        print(year, city)\n"
   ]
  },
  {
   "cell_type": "code",
   "execution_count": 57,
   "metadata": {},
   "outputs": [
    {
     "name": "stdout",
     "output_type": "stream",
     "text": [
      "dog\n",
      "breakfast\n",
      "lunch\n",
      "dinner\n",
      "cat\n",
      "breakfast\n",
      "lunch\n",
      "dinner\n",
      "bird\n",
      "breakfast\n",
      "lunch\n",
      "dinner\n"
     ]
    }
   ],
   "source": [
    "for i in ['dog', 'cat', 'bird']:\n",
    "    print(i)\n",
    "    for j in ['breakfast', 'lunch', 'dinner']:\n",
    "        print(j)"
   ]
  },
  {
   "cell_type": "code",
   "execution_count": null,
   "metadata": {},
   "outputs": [],
   "source": [
    "countdown = 4\n",
    "\n",
    "while countdown > 0:\n",
    "    print(countdown)\n",
    "    countdown -= 1 # countdown = countdown - 1"
   ]
  },
  {
   "cell_type": "code",
   "execution_count": 60,
   "metadata": {},
   "outputs": [
    {
     "name": "stdout",
     "output_type": "stream",
     "text": [
      "4\n",
      "3\n",
      "We are breaking the loop early.\n",
      "Done iterating\n"
     ]
    }
   ],
   "source": [
    "countdown = 4\n",
    "\n",
    "while countdown > 0:\n",
    "    print(countdown)\n",
    "    if countdown == 3:\n",
    "        print('We are breaking the loop early.')\n",
    "        break\n",
    "    countdown -= 1\n",
    "\n",
    "print('Done iterating')"
   ]
  },
  {
   "cell_type": "code",
   "execution_count": 62,
   "metadata": {},
   "outputs": [
    {
     "name": "stdout",
     "output_type": "stream",
     "text": [
      "You're in!\n"
     ]
    }
   ],
   "source": [
    "while True:\n",
    "    password = input(\"What's the password? \")\n",
    "    if password.lower() == 'open sesame':\n",
    "        print(\"You're in!\")\n",
    "        break"
   ]
  },
  {
   "cell_type": "code",
   "execution_count": 65,
   "metadata": {},
   "outputs": [
    {
     "name": "stdout",
     "output_type": "stream",
     "text": [
      "You have 2 wishes left.\n",
      "You have 1 wishes left.\n",
      "You have 0 wishes left.\n",
      "You have used all your wishes\n"
     ]
    }
   ],
   "source": [
    "wishes = 3\n",
    "while wishes > 0:\n",
    "    wish = input('Make a wish: ')\n",
    "    if 'infinite wishes' in wish.lower():\n",
    "        print('You can\\'t do that!')\n",
    "        continue\n",
    "    else:\n",
    "        print(f'You have {wishes-1} wishes left.')\n",
    "    wishes -= 1\n",
    "print('You have used all your wishes')"
   ]
  },
  {
   "cell_type": "markdown",
   "metadata": {},
   "source": [
    "## Module:\n",
    "\n",
    "- A single Python file containing Python code\n",
    "- Can include functions, classes, and variables\n",
    "- Modules encapsulate and organize related code, makes it easier to manage and reuse\n",
    "\n",
    "## Package:\n",
    "\n",
    "- A directory that contains multiple Python modules\n",
    "- Has a special `__init__.py` file that can be empty or contain initialization code\n",
    "- Organizes related modules into a hierarchical structor\n",
    "\n",
    "## Library:\n",
    "\n",
    "- Collection of modules and packages that provide a set of reusable functions, classes, and tools for a specific\n",
    "- Libraries are usually distributed separately from Python's standard library and can be installed"
   ]
  },
  {
   "cell_type": "markdown",
   "metadata": {},
   "source": []
  },
  {
   "cell_type": "code",
   "execution_count": 66,
   "metadata": {},
   "outputs": [],
   "source": [
    "import math"
   ]
  },
  {
   "cell_type": "code",
   "execution_count": 67,
   "metadata": {},
   "outputs": [
    {
     "data": {
      "text/plain": [
       "3.141592653589793"
      ]
     },
     "execution_count": 67,
     "metadata": {},
     "output_type": "execute_result"
    }
   ],
   "source": [
    "math.pi"
   ]
  },
  {
   "cell_type": "code",
   "execution_count": 68,
   "metadata": {},
   "outputs": [
    {
     "ename": "NameError",
     "evalue": "name 'pi' is not defined",
     "output_type": "error",
     "traceback": [
      "\u001b[0;31m---------------------------------------------------------------------------\u001b[0m",
      "\u001b[0;31mNameError\u001b[0m                                 Traceback (most recent call last)",
      "Cell \u001b[0;32mIn[68], line 1\u001b[0m\n\u001b[0;32m----> 1\u001b[0m \u001b[43mpi\u001b[49m\n",
      "\u001b[0;31mNameError\u001b[0m: name 'pi' is not defined"
     ]
    }
   ],
   "source": [
    "pi"
   ]
  },
  {
   "cell_type": "code",
   "execution_count": 69,
   "metadata": {},
   "outputs": [],
   "source": [
    "import math as m # not the convention"
   ]
  },
  {
   "cell_type": "code",
   "execution_count": 70,
   "metadata": {},
   "outputs": [
    {
     "data": {
      "text/plain": [
       "3.141592653589793"
      ]
     },
     "execution_count": 70,
     "metadata": {},
     "output_type": "execute_result"
    }
   ],
   "source": [
    "m.pi"
   ]
  },
  {
   "cell_type": "code",
   "execution_count": 71,
   "metadata": {},
   "outputs": [],
   "source": [
    "import numpy as np"
   ]
  },
  {
   "cell_type": "code",
   "execution_count": 73,
   "metadata": {},
   "outputs": [],
   "source": [
    "from datetime import date, datetime"
   ]
  },
  {
   "cell_type": "code",
   "execution_count": 74,
   "metadata": {},
   "outputs": [
    {
     "name": "stdout",
     "output_type": "stream",
     "text": [
      "2024-01-24\n"
     ]
    }
   ],
   "source": [
    "print(date.today())"
   ]
  },
  {
   "cell_type": "code",
   "execution_count": 75,
   "metadata": {},
   "outputs": [
    {
     "name": "stdout",
     "output_type": "stream",
     "text": [
      "2024-01-24 19:55:08.470021\n"
     ]
    }
   ],
   "source": [
    "print(datetime.today())"
   ]
  },
  {
   "cell_type": "code",
   "execution_count": 76,
   "metadata": {},
   "outputs": [],
   "source": [
    "py_launch = date(1991, 2, 20)"
   ]
  },
  {
   "cell_type": "code",
   "execution_count": 77,
   "metadata": {},
   "outputs": [
    {
     "data": {
      "text/plain": [
       "datetime.date(1991, 2, 20)"
      ]
     },
     "execution_count": 77,
     "metadata": {},
     "output_type": "execute_result"
    }
   ],
   "source": [
    "py_launch"
   ]
  },
  {
   "cell_type": "code",
   "execution_count": 78,
   "metadata": {},
   "outputs": [
    {
     "data": {
      "text/plain": [
       "1991"
      ]
     },
     "execution_count": 78,
     "metadata": {},
     "output_type": "execute_result"
    }
   ],
   "source": [
    "py_launch.year"
   ]
  },
  {
   "cell_type": "code",
   "execution_count": 79,
   "metadata": {},
   "outputs": [],
   "source": [
    "import re"
   ]
  },
  {
   "cell_type": "code",
   "execution_count": 80,
   "metadata": {},
   "outputs": [],
   "source": [
    "text = \"There are 123 apples in the basket.\"\n",
    "# findall returns all non-overlapping matches of a pattern in a string\n",
    "result = re.findall('\\d+', text) \n",
    "\n",
    "# '\\d' matches any single digit (0-9)\n",
    "# '+' one or more occurrences of the preceding element, in this case '\\d'\n",
    "# '\\d+' match one or more consecutive digits in the text"
   ]
  },
  {
   "cell_type": "code",
   "execution_count": 81,
   "metadata": {},
   "outputs": [
    {
     "data": {
      "text/plain": [
       "['123']"
      ]
     },
     "execution_count": 81,
     "metadata": {},
     "output_type": "execute_result"
    }
   ],
   "source": [
    "result"
   ]
  },
  {
   "cell_type": "code",
   "execution_count": 82,
   "metadata": {},
   "outputs": [
    {
     "data": {
      "text/plain": [
       "['Hello', 'my', 'name', 'is', 'Kaylie']"
      ]
     },
     "execution_count": 82,
     "metadata": {},
     "output_type": "execute_result"
    }
   ],
   "source": [
    "text = \"Hello, my name is Kaylie\"\n",
    "result = re.findall('\\w+', text)\n",
    "result"
   ]
  },
  {
   "cell_type": "code",
   "execution_count": null,
   "metadata": {},
   "outputs": [],
   "source": [
    "# '\\w' matches any word character, which includes letters (uppercase & lowercase)\n",
    "# digits, and underscores\n",
    "# '+' one or more occurrences of the preceding element, in this case '\\w'\n",
    "\n",
    "#'\\w+' match one or more consecutive word characters in the text"
   ]
  },
  {
   "cell_type": "code",
   "execution_count": 84,
   "metadata": {},
   "outputs": [
    {
     "data": {
      "text/plain": [
       "['bob@gmail.com', 'lau@gmail.com']"
      ]
     },
     "execution_count": 84,
     "metadata": {},
     "output_type": "execute_result"
    }
   ],
   "source": [
    "text = \"My email is bob@gmail.com and lau@gmail.com\"\n",
    "result = re.findall('\\S+@\\S+', text)\n",
    "result"
   ]
  },
  {
   "cell_type": "code",
   "execution_count": null,
   "metadata": {},
   "outputs": [],
   "source": [
    "# '\\S' matches any non-whitespace character\n",
    "# '+' one or more occurrences of the preceding element, in this case '\\S'\n",
    "# '\\S+@\\S+' match a sequence of non-whitespace characters follwed by the \"@\" symbol\n",
    "# and then another sequence of non-whitespace characters"
   ]
  },
  {
   "cell_type": "markdown",
   "metadata": {},
   "source": [
    "\n",
    "| `open()` mode | Description |\n",
    "|---|---|\n",
    "|`'r'` | Read-only. Produces an error if the file does not already exist. |\n",
    "|`'w'` | Write. Creates a new file if one does not exist. If the file already exists, the current contents are deleted and overwritten. |\n",
    "|`'a'`| Append. Adds to an existing file. If the file does not exist, it will be created. |"
   ]
  },
  {
   "cell_type": "code",
   "execution_count": 94,
   "metadata": {},
   "outputs": [
    {
     "name": "stdout",
     "output_type": "stream",
     "text": [
      "\"longitude\",\"latitude\",\"housing_median_age\",\"total_rooms\",\"total_bedrooms\",\"population\",\"households\",\"median_income\",\"median_house_value\"\n",
      "\n",
      "-122.050000,37.370000,27.000000,3885.000000,661.000000,1537.000000,606.000000,6.608500,344700.000000\n",
      "\n"
     ]
    }
   ],
   "source": [
    "with open('../data/california_housing_test.csv', 'r') as f:\n",
    "    #print(f)\n",
    "    print(f.readline())\n",
    "    print(f.readline())"
   ]
  },
  {
   "cell_type": "markdown",
   "metadata": {},
   "source": []
  }
 ],
 "metadata": {
  "kernelspec": {
   "display_name": "base",
   "language": "python",
   "name": "python3"
  },
  "language_info": {
   "codemirror_mode": {
    "name": "ipython",
    "version": 3
   },
   "file_extension": ".py",
   "mimetype": "text/x-python",
   "name": "python",
   "nbconvert_exporter": "python",
   "pygments_lexer": "ipython3",
   "version": "3.11.5"
  }
 },
 "nbformat": 4,
 "nbformat_minor": 2
}
