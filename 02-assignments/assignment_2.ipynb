{
  "cells": [
    {
      "cell_type": "markdown",
      "metadata": {
        "id": "QmzeljDgm4Ll"
      },
      "source": [
        "# Assignment #2: Efficacy Analysis of a Hypothetical Arthritis Drug\n",
        "\n",
        "**Objective**: In this assignment, your task is to utilize Python programming skills to evaluate the effectiveness of a fictional medication designed to reduce inflammation caused by arthritis flare-ups.\n",
        "\n",
        "**Background**: Imagine a clinical trial where 60 patients were administered a new drug for arthritis. Data from this trial has been recorded in a series of CSV files. Evaluate the effectiveness of a fictional medication designed to reduce inflammation caused by arthritis flare-ups.\n",
        "\n",
        "**Data Structure**:\n",
        "- Each CSV file corresponds to a specific check-in session with the patients.\n",
        "- There are 12 such CSV files, reflecting 12 different sessions where patients reported their experiences.\n",
        "- Inside each file:\n",
        "  - Rows: Each of the 60 rows represents a unique patient.\n",
        "  - Columns: Each of the 40 columns corresponds to a day, detailing the number of inflammation flare-ups the patient experienced on that day.\n",
        "\n",
        "**Your Role**: Analyze this data to determine how effective the new drug has been in managing arthritis inflammation across the trial period."
      ]
    },
    {
      "cell_type": "markdown",
      "metadata": {
        "id": "yMsC2qsiKNP8"
      },
      "source": [
        "**The file is located under `../data/assignment_2_data/`.**"
      ]
    },
    {
      "cell_type": "markdown",
      "metadata": {
        "id": "NpEEhp2I3n4C"
      },
      "source": [
        "## Part 1: Importing the Relevant Data Files\n",
        "\n",
        "**Objective**: In this section of the assignment, you are tasked with filtering and importing specific data files essential for our analysis.\n",
        "\n",
        "**Data File Types**:\n",
        "- **Irrelevant Files**: Files named `small-xx.csv`. These files are not required for our analysis.\n",
        "- **Relevant Files**: Files named `inflammation-xx.csv`. These are the files that contain the data we need to analyze.\n",
        "\n",
        "**Your Task**:\n",
        "- Write a Python script to identify and create a list containing the full paths of all the `inflammation-xx.csv` files. These are the files we will be analyzing.\n",
        "- Ensure that files named `small-xx.csv` are excluded from this list.\n",
        "\n",
        "**Guidance**:\n",
        "- If you need assistance with file operations in Python, please refer back to the `03_in_out_modules_files_oop` slides for helpful tips and examples.\n",
        "\n",
        "By completing this task, you will have a prepared list of all the relevant data files, ready for further analysis in subsequent parts of this assignment."
      ]
    },
    {
      "cell_type": "code",
      "execution_count": null,
      "metadata": {
        "id": "LXg5ILHs6MF4"
      },
      "outputs": [],
      "source": [
        "import os\n",
        "import csv\n",
        "\n",
        "path = '' #YOUR CODE HERE: put in the path to your file\n",
        "all_paths = []\n",
        "\n",
        "#this for loop will iterate through all the contents of the folder\n",
        "for i in os.listdir(path):\n",
        "  if :   #YOUR CODE HERE: check if the filename begins with 'inflammation'\n",
        "    #YOUR CODE HERE: if True, append the full path to the array all_paths\n",
        "\n",
        "\n",
        "print(all_paths)"
      ]
    },
    {
      "cell_type": "markdown",
      "metadata": {
        "id": "JhJAJb1m-nkn"
      },
      "source": [
        "## Task: Reading and Displaying Data from the First File\n",
        "\n",
        "**Objective**: Now that you have a list of the relevant `inflammation-xx.csv` file paths, your next step is to read and display the contents of the first file in this list.\n",
        "\n",
        "**Instructions**:\n",
        "1. **Read the First File**:\n",
        "   - Use Python to open the first file in your list of `inflammation-xx.csv` files.\n",
        "   - Ensure you're reading the file in a way that allows you to access its contents.\n",
        "\n",
        "2. **Print Each Row**:\n",
        "   - After opening the file, iterate through each row of data.\n",
        "   - Print each row so you can visually inspect the data it contains.\n",
        "\n",
        "**Expected Outcome**:\n",
        "- By completing this task, you will display the detailed data of each patient for the first day of the clinical trial. This step is crucial for understanding the structure and nature of the data you will be analyzing.\n",
        "\n",
        "**Hint**: Remember to use appropriate Python file handling and data reading methods. If you need guidance on how to handle CSV files in Python, refer to the relevant sections in your Python learning resources."
      ]
    },
    {
      "cell_type": "code",
      "execution_count": null,
      "metadata": {
        "id": "n0m48JsS-nMC"
      },
      "outputs": [],
      "source": [
        "with open(all_paths[0], 'r') as f:\n",
        "    # YOUR CODE HERE: Use the csv.reader to read the .csv file into 'contents'\n",
        "    \n",
        "    # YOUR CODE HERE: Iterate through 'contents' using a for loop and print each row for inspection"
      ]
    },
    {
      "cell_type": "markdown",
      "metadata": {
        "id": "sacozX7oB1VP"
      },
      "source": [
        "## 2. Data Summarization Function: `patient_summary`\n",
        "\n",
        "**Objective**: Create a function named `patient_summary` that will compute summary statistics for each patient's data over a 40-day period.\n",
        "\n",
        "**Function Specifications**:\n",
        "- **Function Name**: `patient_summary`\n",
        "- **Parameters**:\n",
        "  1. `file_path`: A string representing the path to the CSV file containing the patient data.\n",
        "  2. `operation`: A string specifying the type of summary operation to perform. Acceptable values are \"mean\", \"max\", or \"min\". This will determine whether the function calculates the average, maximum, or minimum number of flare-ups for each patient over the 40 days.\n",
        "\n",
        "**Expected Behavior**:\n",
        "- Your function should read the data from the file at `file_path`.\n",
        "- Perform the specified `operation` (mean, max, or min) to summarize the flare-ups data for each of the 60 patients.\n",
        "- Return a list or array with 60 elements, each element being the result of the summary operation for a corresponding patient.\n",
        "\n",
        "**Output**:\n",
        "- The output should be an array or list with a length of 60, aligning with the number of patients in the study.\n",
        "\n",
        "**Hints for Implementation**:\n",
        "1. **Utilizing NumPy**: For efficient data manipulation and computation, consider using NumPy, as discussed in the `04a_data_numpy` slides.\n",
        "2. **Output Shape**: Ensure that the shape of your output data matches the number of patients, which is 60."
      ]
    },
    {
      "cell_type": "code",
      "execution_count": null,
      "metadata": {
        "id": "82-bk4CBB1w4"
      },
      "outputs": [],
      "source": [
        "import numpy as np\n",
        "\n",
        "def patient_summary(file_path, operation):\n",
        "    # load the data from the file\n",
        "    data = np.loadtxt(fname=file_path, delimiter=',')\n",
        "    ax = 1  # this specifies that the operation should be done for each row (patient)\n",
        "\n",
        "    # implement the specific operation based on the 'operation' argument\n",
        "    if operation == 'mean':\n",
        "        # YOUR CODE HERE: calculate the mean (average) number of flare-ups for each patient\n",
        "\n",
        "    elif operation == 'max':\n",
        "        # YOUR CODE HERE: calculate the maximum number of flare-ups experienced by each patient\n",
        "\n",
        "    elif operation == 'min':\n",
        "        # YOUR CODE HERE: calculate the minimum number of flare-ups experienced by each patient\n",
        "        \n",
        "    else:\n",
        "        # if the operation is not one of the expected values, raise an error\n",
        "        raise ValueError(\"Invalid operation. Please choose 'mean', 'max', or 'min'.\")\n",
        "\n",
        "    return summary_values"
      ]
    },
    {
      "cell_type": "code",
      "execution_count": null,
      "metadata": {
        "id": "3TYo0-1SDLrd"
      },
      "outputs": [],
      "source": [
        "# test it out on the data file we read in and make sure the size is what we expect i.e., 60\n",
        "data_min = patient_summary(all_paths[0], 'min')\n",
        "print(len(data_min))"
      ]
    },
    {
      "cell_type": "markdown",
      "metadata": {
        "id": "I-5m0RvxFx4J"
      },
      "source": [
        "## 3. Error Detection in Patient Data\n",
        "\n",
        "**Objective**: Develop a function named `detect_problems` that identifies any irregularities in the patient data, specifically focusing on detecting patients with a mean inflammation score of 0.\n",
        "\n",
        "**Function Specifications**:\n",
        "- **Function Name**: `detect_problems`\n",
        "- **Parameter**:\n",
        "  - `file_path`: A string that specifies the path to the CSV file containing patient data.\n",
        "\n",
        "**Expected Behavior**:\n",
        "- The function should read the patient data from the file at `file_path`.\n",
        "- Utilize the previously defined `patient_summary()` function to calculate the mean inflammation for each patient.\n",
        "- Employ an additional helper function `check_zeros(x)` (already created) to determine if there are any zero values in the array of mean inflammations.\n",
        "- The `detect_problems()` function should return `True` if there is at least one patient with a mean inflammation score of 0, and `False` otherwise.\n",
        "\n",
        "**Implementation Guidance**:\n",
        "1. Call `patient_summary(file_path, 'mean')` to get the mean inflammation scores for all patients.\n",
        "2. Use `check_zeros()` to evaluate the mean scores. This helper function takes an array as input and returns `True` if it finds zero values in the array.\n",
        "3. Based on the output from `check_zeros()`, the `detect_problems()` function should return `True` (indicating an issue) if any mean inflammation scores of 0 are found, or `False` if none are found.\n",
        "\n",
        "**Note**: This function is crucial for identifying potential data entry errors, such as healthy individuals being mistakenly included in the dataset or other data-related issues."
      ]
    },
    {
      "cell_type": "markdown",
      "metadata": {
        "id": "pb9EugDCJA4c"
      },
      "source": [
        "**Understanding the `check_zeros(x)` Helper Function**\n",
        "\n",
        "The `check_zeros(x)` function is provided as a tool to assist with your data analysis. While you do not need to modify or fully understand the internal workings of this function, it's important to grasp its input, output, and what the output signifies:\n",
        "\n",
        "1. **Input**:\n",
        "   - **Parameter `x`**: This function takes an array of numbers as its input. In the context of your assignment, this array will typically represent a set of data points from your patient data, such as mean inflammation scores.\n",
        "\n",
        "2. **Output**:\n",
        "   - The function returns a boolean value: either `True` or `False`.\n",
        "\n",
        "3. **Interpreting the Output**:\n",
        "   - **Output is `True`**: This indicates that the array `x` contains at least one zero value. In the context of your analysis, this means that at least one patient has a mean inflammation score of 0, signaling a potential issue or anomaly in the data.\n",
        "   - **Output is `False`**: This signifies that there are no zero values in the array `x`. For your patient data, it means no patient has a mean inflammation score of 0, and thus no apparent anomalies of this type were detected.\n",
        "\n",
        "**Usage in Your Analysis**:\n",
        "When using `check_zeros(x)` in conjunction with your `patient_summary()` function in the `detect_problems()` function, you'll be checking whether any patient in your dataset has an average (mean) inflammation score of 0."
      ]
    },
    {
      "cell_type": "code",
      "execution_count": null,
      "metadata": {
        "id": "_svDiRkdIwiT"
      },
      "outputs": [],
      "source": [
        "# Run this cell so you can use this helper function\n",
        "\n",
        "def check_zeros(x):\n",
        "    '''\n",
        "    Given an array, x, check whether any values in x equal 0.\n",
        "    Return True if any values found, else returns False.\n",
        "    '''\n",
        "    # np.where() checks every value in x against the condition (x == 0) and returns a tuple of indices where it was True (i.e. x was 0)\n",
        "    flag = np.where(x == 0)[0]\n",
        "\n",
        "    # Checks if there are any objects in flag (i.e. not empty)\n",
        "    # If not empty, it found at least one zero so flag is True, and vice-versa.\n",
        "    flag = len(flag) > 0\n",
        "\n",
        "    return flag"
      ]
    },
    {
      "cell_type": "code",
      "execution_count": null,
      "metadata": {
        "id": "LEYPM5v4JT0i"
      },
      "outputs": [],
      "source": [
        "# Define your function `detect_problems` here\n",
        "\n",
        "def detect_problems(data):\n",
        "  #YOUR CODE HERE: use patient_summary() to get the means and check_zeros() to check for zeros in the means\n",
        "\n",
        "  return"
      ]
    },
    {
      "cell_type": "markdown",
      "metadata": {
        "id": "j9SUzhiGuHhS"
      },
      "source": [
        "| Criteria                     | Pass Criteria                                                                                                                                                                 | Fail Criteria                                                                                                         |\n",
        "|------------------------------|-------------------------------------------------------------------------------------------------------------------------------------------------------------------------------|-----------------------------------------------------------------------------------------------------------------------|\n",
        "| **General Criteria**         |                                                                                                                                                                               |                                                                                                                       |\n",
        "| Code Execution               | All code cells execute without errors.                                                                                                                                        | Any code cell produces an error upon execution.                                                                      |\n",
        "| Code Quality                 | Code is well-organized, concise, and includes necessary comments for clarity.                                                                                                 | Code is unorganized, verbose, or lacks necessary comments.                                                            |\n",
        "| Data Handling                | Data files are correctly handled and processed.                                                                                                                               | Data files are not handled or processed correctly.                                                                    |\n",
        "| Adherence to Instructions    | Follows all instructions and requirements as per the assignment.                                                                                                              | Misses or incorrectly implements one or more of the assignment requirements.                                         |\n",
        "| **Specific Criteria**        |                                                                                                                                                                               |                                                                                                                       |\n",
        "| Setup              | Successfully downloads and extracts the data from the provided `.zip` file.                                                                                                  | Fails to download or incorrectly extracts the data files.                                                             |\n",
        "| Part 1: Reading in our files | Correctly filters and lists file paths for `inflammation-xx.csv` files and reads in the first file, displaying its content.                                                   | Fails to filter out `small-xx.csv` files, or errors in reading/displaying file contents.                              |\n",
        "| Part 2: Summarizing our data | Correctly defines `patient_summary()` function. Function processes data as per `operation` and outputs correctly shaped data (60 entries).                                   | Incomplete or incorrect definition of `patient_summary()`. Incorrect implementation of operation or wrong output shape.|\n",
        "| Part 3: Checking for Errors  | Correctly defines `detect_problems()` function. Function uses `patient_summary()` and `check_zeros()` to identify mean inflammation of 0 accurately.                        | Incorrect definition or implementation of `detect_problems()` function. Fails to accurately identify mean inflammation of 0.|\n",
        "| **Overall Assessment**       | Meets all the general and specific criteria, indicating a strong understanding of the assignment objectives.                                                                  | Fails to meet one or more of the general or specific criteria, indicating a need for further learning or clarification.|\n"
      ]
    },
    {
      "cell_type": "markdown",
      "metadata": {
        "id": "TY_ppBzHvdak"
      },
      "source": [
        "## References\n",
        "\n",
        "### Data Sources\n",
        "- Software Carpentry. _Python Novice Inflammation Data_. http://swcarpentry.github.io/python-novice-inflammation/data/python-novice-inflammation-data.zip\n"
      ]
    }
  ],
  "metadata": {
    "colab": {
      "provenance": []
    },
    "kernelspec": {
      "display_name": "Python 3",
      "name": "python3"
    },
    "language_info": {
      "name": "python"
    }
  },
  "nbformat": 4,
  "nbformat_minor": 0
}
