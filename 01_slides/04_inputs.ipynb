{
  "cells": [
    {
      "cell_type": "markdown",
      "id": "5645a11c",
      "metadata": {
        "id": "5645a11c"
      },
      "source": [
        "# Input"
      ]
    },
    {
      "cell_type": "markdown",
      "id": "ca2ed9ad",
      "metadata": {},
      "source": [
        "## Contents:\n",
        "1. Getting user input\n",
        "2. Reading and Writing Files"
      ]
    },
    {
      "cell_type": "markdown",
      "id": "3ac38293",
      "metadata": {
        "id": "3ac38293"
      },
      "source": [
        "## Getting user input\n",
        "\n",
        "Sometimes, we may want to work with data given to us by the user running the program. One way to get user input is with the `input()` function, which prompts the user and returns their response as a string. `input()` takes a prompt string as an argument.\n",
        "\n",
        "Be careful when using `input()` -- there's no guarantee that the user will answer in a way you expect!"
      ]
    },
    {
      "cell_type": "code",
      "execution_count": null,
      "id": "69f1ae7d",
      "metadata": {
        "colab": {
          "base_uri": "https://localhost:8080/",
          "height": 52
        },
        "id": "69f1ae7d",
        "outputId": "eef68880-b940-4f06-ab27-fd3e6ea9a7cd"
      },
      "outputs": [],
      "source": [
        "age = input('How old are you? ')\n",
        "age"
      ]
    },
    {
      "cell_type": "code",
      "execution_count": null,
      "id": "b81e701c",
      "metadata": {
        "colab": {
          "base_uri": "https://localhost:8080/"
        },
        "id": "b81e701c",
        "outputId": "7524c0f2-64da-4907-b682-dd132e8b7dea"
      },
      "outputs": [],
      "source": [
        "# to do arithmetic on an input, we need to convert it\n",
        "age_next_bday = int(age) + 1\n",
        "print('Next birthday you will be {}'.format(age_next_bday))"
      ]
    },
    {
      "cell_type": "markdown",
      "id": "d2e043ce",
      "metadata": {},
      "source": [
        "## Exercise\n",
        "Create a program to take in a first name, then a last name as two inputs, and output it them together as a full name."
      ]
    },
    {
      "cell_type": "code",
      "execution_count": null,
      "id": "d4349146",
      "metadata": {},
      "outputs": [],
      "source": [
        "# Your code goes here"
      ]
    },
    {
      "cell_type": "markdown",
      "id": "2f6f10f2",
      "metadata": {},
      "source": [
        "## Reading and writing files\n",
        "\n",
        "Luckily, Python has a built-in function, `open()` for opening files. `open()` takes a string indicating the _file path_, or location, of the file to open, plus a one-character string indicating whether we should open the file in read-only, overwrite, or append mode.\n",
        "\n",
        "| `open()` mode | Description |\n",
        "|---|---|\n",
        "|`'r'` | Read-only. Produces an error if the file does not already exist. |\n",
        "|`'w'` | Write. Creates a new file if one does not exist. If the file already exists, the current contents are deleted and overwritten. |\n",
        "|`'a'`| Append. Adds to an existing file. If the file does not exist, it will be created. |"
      ]
    },
    {
      "cell_type": "markdown",
      "id": "f88cf1cf",
      "metadata": {},
      "source": [
        "### Opening files\n",
        "\n",
        "To open a file, we use a `with` statement, which follows the pattern `with open('file_path') as file_variable_name:`, then an indented block of code to process the file. The `with` statement ensures that Python closes the file when we're done working with it."
      ]
    },
    {
      "cell_type": "code",
      "execution_count": null,
      "id": "bec2887a",
      "metadata": {},
      "outputs": [],
      "source": [
        "with open('../05_data/slides_data/california_housing_test.csv', 'r') as f:\n",
        "    print(f)"
      ]
    },
    {
      "cell_type": "markdown",
      "id": "96750a7a",
      "metadata": {},
      "source": [
        "### Reading files\n",
        "\n",
        "Opening a file doesn't immediately get us the file's contents. To do that, we must use a read method.\n",
        "\n",
        "* `read()` returns the full file contents, which can be overwhelming for larger files.\n",
        "* `readline()` returns only the next line in the file. Python keeps track of where it is in the file.\n",
        "* `readlines()` returns the full file as a list. Each item is one line in the file."
      ]
    },
    {
      "cell_type": "code",
      "execution_count": null,
      "id": "4cba1027",
      "metadata": {},
      "outputs": [],
      "source": [
        "with open('../05_data/slides_data/california_housing_test.csv', 'r') as f:\n",
        "    for i in range(5):\n",
        "        print(f.readline())"
      ]
    },
    {
      "cell_type": "markdown",
      "id": "c564d943",
      "metadata": {},
      "source": [
        "### Writing files\n",
        "\n",
        "There are corresponding `write()` methods for files.\n",
        "\n",
        "* `write()` writes a string to file.\n",
        "* `writelines()` writes each item in an iterable to file, with no separating text in between."
      ]
    },
    {
      "cell_type": "code",
      "execution_count": null,
      "id": "dd02e3c8",
      "metadata": {},
      "outputs": [],
      "source": [
        "provinces = ['BC', 'AB', 'SK', 'MB', 'ON', 'QC', 'NL', 'NB', 'NS', 'PE']\n",
        "with open('provinces.txt', 'w') as province_file:\n",
        "    province_file.writelines(provinces)"
      ]
    },
    {
      "cell_type": "code",
      "execution_count": null,
      "id": "4b5bb1a4",
      "metadata": {},
      "outputs": [],
      "source": [
        "with open('provinces.txt', 'r') as province_file:\n",
        "    print(province_file.read())"
      ]
    },
    {
      "cell_type": "markdown",
      "id": "1ae5a8c6",
      "metadata": {},
      "source": [
        "## Working with specific file formats\n",
        "\n",
        "Python has built-in modules for working with specific file formats, like `csv` and `json`. We won't spend much time here, as we will soon be working with libraries that let us open, analyze, and write data in both formats."
      ]
    },
    {
      "cell_type": "code",
      "execution_count": null,
      "id": "7c209843",
      "metadata": {},
      "outputs": [],
      "source": [
        "import csv\n",
        "\n",
        "with open('../05_data/slides_data/california_housing_test.csv', 'r') as f:\n",
        "    contents = csv.reader(f)\n",
        "    for row in contents:\n",
        "        print(row)"
      ]
    }
  ],
  "metadata": {
    "celltoolbar": "Slideshow",
    "colab": {
      "collapsed_sections": [
        "0294d7fe",
        "b3f69e98",
        "cd134d80",
        "16f27979",
        "f1caca54",
        "3a700ac7",
        "722d2c13",
        "ed8b70b9"
      ],
      "provenance": [],
      "toc_visible": true
    },
    "kernelspec": {
      "display_name": "Python 3 (ipykernel)",
      "language": "python",
      "name": "python3"
    },
    "language_info": {
      "codemirror_mode": {
        "name": "ipython",
        "version": 3
      },
      "file_extension": ".py",
      "mimetype": "text/x-python",
      "name": "python",
      "nbconvert_exporter": "python",
      "pygments_lexer": "ipython3",
      "version": "3.11.5"
    },
    "rise": {
      "scroll": true,
      "theme": "solarized",
      "transition": "none"
    }
  },
  "nbformat": 4,
  "nbformat_minor": 5
}
