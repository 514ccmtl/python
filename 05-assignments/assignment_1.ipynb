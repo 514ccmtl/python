{
  "nbformat": 4,
  "nbformat_minor": 0,
  "metadata": {
    "colab": {
      "provenance": []
    },
    "kernelspec": {
      "name": "python3",
      "display_name": "Python 3"
    },
    "language_info": {
      "name": "python"
    }
  },
  "cells": [
    {
      "cell_type": "markdown",
      "source": [
        "# Assignment #1\n",
        "\n",
        "In this assignment, you will use your knowledge of Python to assess the efficacy of an imaginary new drug for arthritis inflammation flare-ups.\n",
        "\n",
        "You will use data from an imaginary clinical trial that had 60 patients take this new drug. Each `.csv` file has 60 rows, one for each patient, as well as 40 columns, one for each day they recorded the number flare-ups they experienced. There are 12 `.csv` files, one for each time patients met with the research team to report their experiences."
      ],
      "metadata": {
        "id": "QmzeljDgm4Ll"
      }
    },
    {
      "cell_type": "markdown",
      "source": [
        "## Setup\n",
        "Download the .zip of data files from [here](http://swcarpentry.github.io/python-novice-inflammation/data/python-novice-inflammation-data.zip) and extract the /data/ folder and all of it's contents Google Colab."
      ],
      "metadata": {
        "id": "yMsC2qsiKNP8"
      }
    },
    {
      "cell_type": "markdown",
      "source": [
        "## Part 1: Reading in our files\n",
        "\n",
        "Our data includes files that are named `small-xx.csv`, which are _not_ relevant to our analysis, and `inflammation-xx.csv`, which _are_. Complete the lines of code to create a list of the full paths for the files that we are interested in analyzing further.\n",
        "\n",
        "**Hint:** Refer to `03_in_out_modules_files_oop` slides."
      ],
      "metadata": {
        "id": "NpEEhp2I3n4C"
      }
    },
    {
      "cell_type": "code",
      "source": [
        "import os\n",
        "import csv\n",
        "\n",
        "path = '/content/data'\n",
        "all_paths = []\n",
        "\n",
        "#this for loop will iterate through all the contents of the folder\n",
        "for i in os.listdir(path):\n",
        "  #COMPLETE: check if the filename begins with 'inflammation'\n",
        "  if :\n",
        "    #COMPLETE: if True, append the full path to the array all_paths\n",
        "\n",
        "\n",
        "print(all_paths)"
      ],
      "metadata": {
        "id": "LXg5ILHs6MF4"
      },
      "execution_count": null,
      "outputs": []
    },
    {
      "cell_type": "markdown",
      "source": [
        "Complete the lines of code to read in the first file in the list you created. Then, print each row in that file."
      ],
      "metadata": {
        "id": "JhJAJb1m-nkn"
      }
    },
    {
      "cell_type": "code",
      "source": [
        "with open(all_paths[0], 'r') as f:\n",
        "    #COMPLETE: read the .csv file\n",
        "\n",
        "    #COMPLETE: print each row\n"
      ],
      "metadata": {
        "id": "n0m48JsS-nMC"
      },
      "execution_count": null,
      "outputs": []
    },
    {
      "cell_type": "markdown",
      "source": [
        "##2. Summarizing our data\n",
        "\n",
        "We will now define a function, `patient_summary()`,  that will summarize the data across each patient.\n",
        "\n",
        "More specifically, `patient_summary(file_path, operation)` should:\n",
        "- Take `file_path`, a string of the path to the data, and\n",
        "- `operation`, a string (\"mean\", \"max\", or \"min\") describing what operation to use summarize the number of flare-ups over the course of the 40 days across **each patient**.\n",
        "\n",
        "**Hint 1:** Refer to `04a_data_numpy` slides.\n",
        "\n",
        "**Hint 2:** The shape of the output should be the same size as the number of patients (i.e. 60)."
      ],
      "metadata": {
        "id": "sacozX7oB1VP"
      }
    },
    {
      "cell_type": "code",
      "source": [
        "import numpy as np\n",
        "\n",
        "def patient_summary(file_path, operation):\n",
        "  data = np.loadtxt(fname=file_path, delimiter=',')\n",
        "  ax = 1\n",
        "\n",
        "  # COMPLETE: fill in the rest of the if, elif, and else statements\n",
        "  if operation == 'mean':\n",
        "\n",
        "  elif operation == 'max':\n",
        "\n",
        "  else:\n",
        "\n",
        "\n",
        "  return summary_values"
      ],
      "metadata": {
        "id": "82-bk4CBB1w4"
      },
      "execution_count": null,
      "outputs": []
    },
    {
      "cell_type": "code",
      "source": [
        "# test it out on the data file we read in and make sure the size is what we expect\n",
        "data_min = patient_summary(all_paths[0], 'min')\n",
        "print(len(data_min))"
      ],
      "metadata": {
        "id": "3TYo0-1SDLrd"
      },
      "execution_count": null,
      "outputs": []
    },
    {
      "cell_type": "markdown",
      "source": [
        "## 3. Checking for errors\n",
        "\n",
        "Sometimes, data entry results in some errors. As an example, if a patient has a mean inflammation of 0, this may indicate that a healthy individual was misgrouped into this dataset, or that there is some other issue requiring further attention.\n",
        "\n",
        "We will now define a function, `detect_problems()`, that can check for any patients that have a mean inflammation of 0.\n",
        "\n",
        "`detect_problems(file_path)` should:\n",
        "- Take a  `file_path`, a string of the path to the data, and\n",
        "- Return `True` or `False` depending whether a mean inflammation of 0 was found.\n",
        "\n",
        "Note that we have created a helper function, `check_zeros(x)`, which returns `True` or `False` if there are values of zero in an array. Use your function, `patient_summary()`, from (2) and our helper function, `check_zeros()`, to create your new `detect_problems()` function."
      ],
      "metadata": {
        "id": "I-5m0RvxFx4J"
      }
    },
    {
      "cell_type": "markdown",
      "source": [
        "Below is the helper function, `check_zeros(x)`. **Do not modify this code!** It is not necessary to understand all the code inside this helper function, but when using code others have written, you should have a good idea of:\n",
        "1. what goes IN the function (`x`, an array of numbers),\n",
        "2. what comes OUT of the function (`True` or `False`), and\n",
        "3. what the output means (`True` if 0 found in array, `False` if 0 not found)."
      ],
      "metadata": {
        "id": "pb9EugDCJA4c"
      }
    },
    {
      "cell_type": "code",
      "source": [
        "# Run this cell so you can use this helper function\n",
        "\n",
        "def check_zeros(x):\n",
        "    '''\n",
        "    Given an array, x, check whether any values in x equal 0.\n",
        "    Return True if any values found, else returns False.\n",
        "    '''\n",
        "    # np.where() checks every value in x against the condition (x == 0) and returns a tuple of indices where it was True (i.e. x was 0)\n",
        "    flag = np.where(x == 0)[0]\n",
        "\n",
        "    # Checks if there are any objects in flag (i.e. not empty)\n",
        "    # If not empty, it found at least one zero so flag is True, and vice-versa.\n",
        "    flag = len(flag) > 0\n",
        "\n",
        "    return flag"
      ],
      "metadata": {
        "id": "_svDiRkdIwiT"
      },
      "execution_count": null,
      "outputs": []
    },
    {
      "cell_type": "code",
      "source": [
        "# Define your function `detect_problems` here\n",
        "\n",
        "def detect_problems(data):\n",
        "  #COMPLETE: use patient_summary() to get the means and check_zeros() to check for zeros in the means\n",
        "\n",
        "  return"
      ],
      "metadata": {
        "id": "LEYPM5v4JT0i"
      },
      "execution_count": null,
      "outputs": []
    },
    {
      "cell_type": "markdown",
      "source": [
        "| Criteria                     | Pass Criteria                                                                                                                                                                 | Fail Criteria                                                                                                         |\n",
        "|------------------------------|-------------------------------------------------------------------------------------------------------------------------------------------------------------------------------|-----------------------------------------------------------------------------------------------------------------------|\n",
        "| **General Criteria**         |                                                                                                                                                                               |                                                                                                                       |\n",
        "| Code Execution               | All code cells execute without errors.                                                                                                                                        | Any code cell produces an error upon execution.                                                                      |\n",
        "| Code Quality                 | Code is well-organized, concise, and includes necessary comments for clarity.                                                                                                 | Code is unorganized, verbose, or lacks necessary comments.                                                            |\n",
        "| Data Handling                | Data files are correctly handled and processed.                                                                                                                               | Data files are not handled or processed correctly.                                                                    |\n",
        "| Adherence to Instructions    | Follows all instructions and requirements as per the assignment.                                                                                                              | Misses or incorrectly implements one or more of the assignment requirements.                                         |\n",
        "| **Specific Criteria**        |                                                                                                                                                                               |                                                                                                                       |\n",
        "| Setup              | Successfully downloads and extracts the data from the provided `.zip` file.                                                                                                  | Fails to download or incorrectly extracts the data files.                                                             |\n",
        "| Part 1: Reading in our files | Correctly filters and lists file paths for `inflammation-xx.csv` files and reads in the first file, displaying its content.                                                   | Fails to filter out `small-xx.csv` files, or errors in reading/displaying file contents.                              |\n",
        "| Part 2: Summarizing our data | Correctly defines `patient_summary()` function. Function processes data as per `operation` and outputs correctly shaped data (60 entries).                                   | Incomplete or incorrect definition of `patient_summary()`. Incorrect implementation of operation or wrong output shape.|\n",
        "| Part 3: Checking for Errors  | Correctly defines `detect_problems()` function. Function uses `patient_summary()` and `check_zeros()` to identify mean inflammation of 0 accurately.                        | Incorrect definition or implementation of `detect_problems()` function. Fails to accurately identify mean inflammation of 0.|\n",
        "| **Overall Assessment**       | Meets all the general and specific criteria, indicating a strong understanding of the assignment objectives.                                                                  | Fails to meet one or more of the general or specific criteria, indicating a need for further learning or clarification.|\n"
      ],
      "metadata": {
        "id": "j9SUzhiGuHhS"
      }
    },
    {
      "cell_type": "markdown",
      "source": [
        "##References\n",
        "\n",
        "### Data Sources\n",
        "- Software Carpentry. _Python Novice Inflammation Data_. http://swcarpentry.github.io/python-novice-inflammation/data/python-novice-inflammation-data.zip\n"
      ],
      "metadata": {
        "id": "TY_ppBzHvdak"
      }
    }
  ]
}