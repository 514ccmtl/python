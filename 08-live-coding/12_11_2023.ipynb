{
  "nbformat": 4,
  "nbformat_minor": 0,
  "metadata": {
    "colab": {
      "provenance": []
    },
    "kernelspec": {
      "name": "python3",
      "display_name": "Python 3"
    },
    "language_info": {
      "name": "python"
    }
  },
  "cells": [
    {
      "cell_type": "markdown",
      "source": [
        "# Introduction to Python- Live Coding\n",
        "\n",
        "**December 11, 2023**"
      ],
      "metadata": {
        "id": "VwsZwSoMSEz-"
      }
    },
    {
      "cell_type": "markdown",
      "source": [
        "- `Shift + Enter`: Run the current cell and move to the next cell.\n",
        "- `Ctrl + Enter`: Run the current cell and stay on the same cell.\n",
        "- `Alt + Enter`: Run the current cell and insert a new cell below.\n",
        "- Google Colab offers auto-completion suggestions to assist while writing code. Press `Tab` for suggestions."
      ],
      "metadata": {
        "id": "vAT_05AxUApM"
      }
    },
    {
      "cell_type": "markdown",
      "source": [
        "- Every piece of data in Python has a *type*\n",
        "- Data types allow us to know how values are stored by the computer and what operations we can perform on the data"
      ],
      "metadata": {
        "id": "Z3UXlgavYYn0"
      }
    },
    {
      "cell_type": "markdown",
      "source": [
        "`int` or integer: whole numbers that we can use for arithmetic\n",
        "\n",
        "`float` or floating point: decimal numbers\n",
        "\n",
        "`string`: text\n",
        "\n",
        "`bool`: true/false values"
      ],
      "metadata": {
        "id": "wOALY6vFYq2x"
      }
    },
    {
      "cell_type": "markdown",
      "source": [
        "- statement is a command, smallest units of code\n",
        "- expression is a statement that produces a single value"
      ],
      "metadata": {
        "id": "nm95OWecZS_A"
      }
    },
    {
      "cell_type": "code",
      "source": [
        "5 + 6"
      ],
      "metadata": {
        "colab": {
          "base_uri": "https://localhost:8080/"
        },
        "id": "GlFCve30VY0n",
        "outputId": "f9fe65a8-ebfb-4009-caf0-130f6b588a6d"
      },
      "execution_count": 13,
      "outputs": [
        {
          "output_type": "execute_result",
          "data": {
            "text/plain": [
              "11"
            ]
          },
          "metadata": {},
          "execution_count": 13
        }
      ]
    },
    {
      "cell_type": "code",
      "source": [
        "5 / 2"
      ],
      "metadata": {
        "colab": {
          "base_uri": "https://localhost:8080/"
        },
        "id": "w2ELOpSJZkVz",
        "outputId": "f32bc089-ad9f-4272-e199-e51bc47e19f7"
      },
      "execution_count": 17,
      "outputs": [
        {
          "output_type": "execute_result",
          "data": {
            "text/plain": [
              "2.5"
            ]
          },
          "metadata": {},
          "execution_count": 17
        }
      ]
    },
    {
      "cell_type": "code",
      "source": [
        "10 // 3 # Integer division (always round down)"
      ],
      "metadata": {
        "colab": {
          "base_uri": "https://localhost:8080/"
        },
        "id": "pKY7hkZKZuPv",
        "outputId": "b1f97da1-2ff6-4efa-cfee-303d80e097d5"
      },
      "execution_count": 18,
      "outputs": [
        {
          "output_type": "execute_result",
          "data": {
            "text/plain": [
              "3"
            ]
          },
          "metadata": {},
          "execution_count": 18
        }
      ]
    },
    {
      "cell_type": "code",
      "source": [
        "10 % 3 # Modulo or remainder"
      ],
      "metadata": {
        "colab": {
          "base_uri": "https://localhost:8080/"
        },
        "id": "kRrW4su0aHPS",
        "outputId": "58d0f391-06fe-42f2-c6c3-c09aad7ce5f4"
      },
      "execution_count": 19,
      "outputs": [
        {
          "output_type": "execute_result",
          "data": {
            "text/plain": [
              "1"
            ]
          },
          "metadata": {},
          "execution_count": 19
        }
      ]
    },
    {
      "cell_type": "code",
      "source": [
        "10 ** 3 # Exponent"
      ],
      "metadata": {
        "colab": {
          "base_uri": "https://localhost:8080/"
        },
        "id": "egdnLtosaWqm",
        "outputId": "95903876-a7fe-4576-c5f8-fdeadebbc8bb"
      },
      "execution_count": 20,
      "outputs": [
        {
          "output_type": "execute_result",
          "data": {
            "text/plain": [
              "1000"
            ]
          },
          "metadata": {},
          "execution_count": 20
        }
      ]
    },
    {
      "cell_type": "markdown",
      "source": [
        "| Operator | Description |\n",
        "| --- | --- |\n",
        "| `>` | Greater than |\n",
        "| `>=` | Greater than or equal to |\n",
        "| `<` | Less than |\n",
        "| `<=` | Less than or equal to |\n",
        "| `==` | Equal to |\n",
        "| `!=` | Not equal to |"
      ],
      "metadata": {
        "id": "pT8m4VRjbAf4"
      }
    },
    {
      "cell_type": "code",
      "source": [
        "50 > 25"
      ],
      "metadata": {
        "colab": {
          "base_uri": "https://localhost:8080/"
        },
        "id": "v0e64gNWbBcY",
        "outputId": "85945863-6ea7-4bc0-e709-24fbcb85b544"
      },
      "execution_count": 21,
      "outputs": [
        {
          "output_type": "execute_result",
          "data": {
            "text/plain": [
              "True"
            ]
          },
          "metadata": {},
          "execution_count": 21
        }
      ]
    },
    {
      "cell_type": "code",
      "source": [
        "-15 >= -14.99"
      ],
      "metadata": {
        "colab": {
          "base_uri": "https://localhost:8080/"
        },
        "id": "-ytRuSfrbQAo",
        "outputId": "ddb31c5c-3c2f-447c-fc62-11c1b33403e7"
      },
      "execution_count": 22,
      "outputs": [
        {
          "output_type": "execute_result",
          "data": {
            "text/plain": [
              "False"
            ]
          },
          "metadata": {},
          "execution_count": 22
        }
      ]
    },
    {
      "cell_type": "code",
      "source": [
        "20 == 20"
      ],
      "metadata": {
        "colab": {
          "base_uri": "https://localhost:8080/"
        },
        "id": "m42oIiwJbYik",
        "outputId": "6215b6fa-218d-41d5-e1b8-ba21295ba5be"
      },
      "execution_count": 23,
      "outputs": [
        {
          "output_type": "execute_result",
          "data": {
            "text/plain": [
              "True"
            ]
          },
          "metadata": {},
          "execution_count": 23
        }
      ]
    },
    {
      "cell_type": "markdown",
      "source": [
        "| Order | Operator | Description |\n",
        "|---|---|---|\n",
        "| 1 | `**` | Exponentiation |\n",
        "| 2 | `-`| Negation |\n",
        "| 3 | `*`, `/`, `//`, `%` | Multiplication, division, integer division, and modulo |\n",
        "| 4 | `+`, `-` | Addition and subtraction |\n",
        "| 5 | `<`, `<=`, `>`, `>=`, `==`, `!=` | Less than, less than or equal to, greater than, greater than or equal to, equal, not equal |"
      ],
      "metadata": {
        "id": "LGzm-g8oeQKv"
      }
    },
    {
      "cell_type": "code",
      "source": [
        "(30 - 10) < (100 ** 2)"
      ],
      "metadata": {
        "colab": {
          "base_uri": "https://localhost:8080/"
        },
        "id": "2_k7RTBZbfQH",
        "outputId": "00daf7ec-d8ca-4791-939d-45d50a975c9f"
      },
      "execution_count": 26,
      "outputs": [
        {
          "output_type": "execute_result",
          "data": {
            "text/plain": [
              "True"
            ]
          },
          "metadata": {},
          "execution_count": 26
        }
      ]
    },
    {
      "cell_type": "code",
      "source": [
        "30 - 10"
      ],
      "metadata": {
        "colab": {
          "base_uri": "https://localhost:8080/"
        },
        "id": "nSYvjb3re1iu",
        "outputId": "dd5f1522-0baa-49eb-959d-1c1149235de0"
      },
      "execution_count": 24,
      "outputs": [
        {
          "output_type": "execute_result",
          "data": {
            "text/plain": [
              "20"
            ]
          },
          "metadata": {},
          "execution_count": 24
        }
      ]
    },
    {
      "cell_type": "code",
      "source": [
        "100 ** 2"
      ],
      "metadata": {
        "colab": {
          "base_uri": "https://localhost:8080/"
        },
        "id": "GxK6Gsire2PH",
        "outputId": "1f526b8e-a3c6-4141-c303-ffe946e698a5"
      },
      "execution_count": 25,
      "outputs": [
        {
          "output_type": "execute_result",
          "data": {
            "text/plain": [
              "10000"
            ]
          },
          "metadata": {},
          "execution_count": 25
        }
      ]
    },
    {
      "cell_type": "markdown",
      "source": [
        "- Variable is a name that refers to a value, make it easy to keep track of data\n",
        "- Variable names can include letters, digits, and underscores; cannot start with a digit; case sensitive"
      ],
      "metadata": {
        "id": "IzNJtCpOfJT6"
      }
    },
    {
      "cell_type": "code",
      "source": [
        "month = 12\n",
        "day = 11\n",
        "day_of_week = 'Monday'"
      ],
      "metadata": {
        "id": "brbpZB9Xe4_x"
      },
      "execution_count": 28,
      "outputs": []
    },
    {
      "cell_type": "code",
      "source": [
        "12month = 12"
      ],
      "metadata": {
        "id": "R-4VvX53f3yN"
      },
      "execution_count": null,
      "outputs": []
    },
    {
      "cell_type": "code",
      "source": [
        "Month = 'December'"
      ],
      "metadata": {
        "id": "1fI7e3f5f6BW"
      },
      "execution_count": 29,
      "outputs": []
    },
    {
      "cell_type": "code",
      "source": [
        "print(month)"
      ],
      "metadata": {
        "colab": {
          "base_uri": "https://localhost:8080/"
        },
        "id": "Qii57s2hgCdx",
        "outputId": "eccd4f89-207a-460d-8c3c-a1b0047bb4e1"
      },
      "execution_count": 30,
      "outputs": [
        {
          "output_type": "stream",
          "name": "stdout",
          "text": [
            "12\n"
          ]
        }
      ]
    },
    {
      "cell_type": "code",
      "source": [
        "print(Month)"
      ],
      "metadata": {
        "colab": {
          "base_uri": "https://localhost:8080/"
        },
        "id": "SCqSX0WGgDlq",
        "outputId": "5e1eea20-ca15-4d16-f623-0dd34c2e3072"
      },
      "execution_count": 31,
      "outputs": [
        {
          "output_type": "stream",
          "name": "stdout",
          "text": [
            "December\n"
          ]
        }
      ]
    },
    {
      "cell_type": "code",
      "source": [
        "degrees_celsius = 25"
      ],
      "metadata": {
        "id": "wYbt69TTgu_8"
      },
      "execution_count": 36,
      "outputs": []
    },
    {
      "cell_type": "code",
      "source": [
        "degrees_fahrenheit = (9 / 5) * degrees_celsius + 32\n",
        "degrees_fahrenheit"
      ],
      "metadata": {
        "colab": {
          "base_uri": "https://localhost:8080/"
        },
        "id": "olnq-xItg3on",
        "outputId": "f368b237-064d-4ef5-adb9-7a7d1adfaad3"
      },
      "execution_count": 41,
      "outputs": [
        {
          "output_type": "execute_result",
          "data": {
            "text/plain": [
              "32.0"
            ]
          },
          "metadata": {},
          "execution_count": 41
        }
      ]
    },
    {
      "cell_type": "code",
      "source": [
        "degrees_celsius = 0"
      ],
      "metadata": {
        "id": "mfDv7Cz7hPzM"
      },
      "execution_count": 4,
      "outputs": []
    },
    {
      "cell_type": "code",
      "source": [
        "a = \"Kaylie\"\n",
        "b = a"
      ],
      "metadata": {
        "id": "4ZYA2aPlh-bY"
      },
      "execution_count": 2,
      "outputs": []
    },
    {
      "cell_type": "code",
      "source": [
        "b"
      ],
      "metadata": {
        "colab": {
          "base_uri": "https://localhost:8080/",
          "height": 35
        },
        "id": "x_QpohCTjs-V",
        "outputId": "fe045436-680b-4666-c922-128052aa5734"
      },
      "execution_count": 3,
      "outputs": [
        {
          "output_type": "execute_result",
          "data": {
            "text/plain": [
              "'Kaylie'"
            ],
            "application/vnd.google.colaboratory.intrinsic+json": {
              "type": "string"
            }
          },
          "metadata": {},
          "execution_count": 3
        }
      ]
    },
    {
      "cell_type": "code",
      "source": [
        "a = 2"
      ],
      "metadata": {
        "id": "Phud6JoLiXCU"
      },
      "execution_count": 46,
      "outputs": []
    },
    {
      "cell_type": "code",
      "source": [
        "b = a"
      ],
      "metadata": {
        "id": "ugRl59tCijgo"
      },
      "execution_count": 48,
      "outputs": []
    },
    {
      "cell_type": "code",
      "source": [
        "b"
      ],
      "metadata": {
        "colab": {
          "base_uri": "https://localhost:8080/"
        },
        "id": "bv1bibWQi0mi",
        "outputId": "c2bebbd1-e99b-4079-acb1-b53ac3e8de43"
      },
      "execution_count": 49,
      "outputs": [
        {
          "output_type": "execute_result",
          "data": {
            "text/plain": [
              "2"
            ]
          },
          "metadata": {},
          "execution_count": 49
        }
      ]
    },
    {
      "cell_type": "code",
      "source": [
        "degrees_celsius = 0"
      ],
      "metadata": {
        "id": "W6FNtWE5kKEa"
      },
      "execution_count": 5,
      "outputs": []
    },
    {
      "cell_type": "code",
      "source": [
        "degrees_celsius = degrees_celsius + 10"
      ],
      "metadata": {
        "id": "lre8yKWukbso"
      },
      "execution_count": 6,
      "outputs": []
    },
    {
      "cell_type": "code",
      "source": [
        "degrees_celsius += 10 # Augmented assignment"
      ],
      "metadata": {
        "id": "4lpTSfB6kolO"
      },
      "execution_count": 8,
      "outputs": []
    },
    {
      "cell_type": "code",
      "source": [
        "print(degrees_celsius)"
      ],
      "metadata": {
        "colab": {
          "base_uri": "https://localhost:8080/"
        },
        "id": "C29cBK3mk1Id",
        "outputId": "7762bc5f-3396-43af-8a7e-83b73e70da86"
      },
      "execution_count": 10,
      "outputs": [
        {
          "output_type": "stream",
          "name": "stdout",
          "text": [
            "20\n"
          ]
        }
      ]
    },
    {
      "cell_type": "code",
      "source": [
        "degrees_celsius -= 10"
      ],
      "metadata": {
        "id": "BHCNVFTDk02f"
      },
      "execution_count": 11,
      "outputs": []
    },
    {
      "cell_type": "code",
      "source": [
        "print(degrees_celsius)"
      ],
      "metadata": {
        "colab": {
          "base_uri": "https://localhost:8080/"
        },
        "id": "yrWlW6OZlDrq",
        "outputId": "405e2d37-64f5-4dab-e663-e0bf43d27f84"
      },
      "execution_count": 12,
      "outputs": [
        {
          "output_type": "stream",
          "name": "stdout",
          "text": [
            "10\n"
          ]
        }
      ]
    },
    {
      "cell_type": "markdown",
      "source": [
        "- Syntax error: program contains code that isn't valid Python"
      ],
      "metadata": {
        "id": "lvm6-RzglcWF"
      }
    },
    {
      "cell_type": "code",
      "source": [
        "12 = x"
      ],
      "metadata": {
        "colab": {
          "base_uri": "https://localhost:8080/",
          "height": 141
        },
        "id": "OqgfHcgolFOk",
        "outputId": "d9a08ef0-8324-486f-9ef0-52d30a80a51e"
      },
      "execution_count": 13,
      "outputs": [
        {
          "output_type": "error",
          "ename": "SyntaxError",
          "evalue": "ignored",
          "traceback": [
            "\u001b[0;36m  File \u001b[0;32m\"<ipython-input-13-1dfa6eaf817a>\"\u001b[0;36m, line \u001b[0;32m1\u001b[0m\n\u001b[0;31m    12 = x\u001b[0m\n\u001b[0m    ^\u001b[0m\n\u001b[0;31mSyntaxError\u001b[0m\u001b[0;31m:\u001b[0m cannot assign to literal here. Maybe you meant '==' instead of '='?\n"
          ]
        }
      ]
    },
    {
      "cell_type": "code",
      "source": [
        "25 -"
      ],
      "metadata": {
        "colab": {
          "base_uri": "https://localhost:8080/",
          "height": 141
        },
        "id": "5PySgtEflvfr",
        "outputId": "d1773df5-86a0-4524-aa7d-d87955763f51"
      },
      "execution_count": 14,
      "outputs": [
        {
          "output_type": "error",
          "ename": "SyntaxError",
          "evalue": "ignored",
          "traceback": [
            "\u001b[0;36m  File \u001b[0;32m\"<ipython-input-14-b656ee6552b6>\"\u001b[0;36m, line \u001b[0;32m1\u001b[0m\n\u001b[0;31m    25 -\u001b[0m\n\u001b[0m        ^\u001b[0m\n\u001b[0;31mSyntaxError\u001b[0m\u001b[0;31m:\u001b[0m invalid syntax\n"
          ]
        }
      ]
    },
    {
      "cell_type": "markdown",
      "source": [
        "- Name error: try to use a variable that hasn't been assigned yet"
      ],
      "metadata": {
        "id": "mrBiRGzEl_33"
      }
    },
    {
      "cell_type": "code",
      "source": [
        "my_variable + 1"
      ],
      "metadata": {
        "colab": {
          "base_uri": "https://localhost:8080/",
          "height": 176
        },
        "id": "xqQSfz75lw8k",
        "outputId": "023b5ebd-268e-4b43-d2d7-319585e37819"
      },
      "execution_count": 15,
      "outputs": [
        {
          "output_type": "error",
          "ename": "NameError",
          "evalue": "ignored",
          "traceback": [
            "\u001b[0;31m---------------------------------------------------------------------------\u001b[0m",
            "\u001b[0;31mNameError\u001b[0m                                 Traceback (most recent call last)",
            "\u001b[0;32m<ipython-input-15-3f858cd55005>\u001b[0m in \u001b[0;36m<cell line: 1>\u001b[0;34m()\u001b[0m\n\u001b[0;32m----> 1\u001b[0;31m \u001b[0mmy_variable\u001b[0m \u001b[0;34m+\u001b[0m \u001b[0;36m1\u001b[0m\u001b[0;34m\u001b[0m\u001b[0;34m\u001b[0m\u001b[0m\n\u001b[0m",
            "\u001b[0;31mNameError\u001b[0m: name 'my_variable' is not defined"
          ]
        }
      ]
    },
    {
      "cell_type": "code",
      "source": [
        "# This is a comment\n",
        "\n",
        "student1_grade = 90\n",
        "student2_grade = 50\n",
        "student3_grade = 74\n",
        "average_grade = (student1_grade + student2_grade + student3_grade) / 3\n",
        "average_grade # These lines of code will produce a value\n"
      ],
      "metadata": {
        "colab": {
          "base_uri": "https://localhost:8080/"
        },
        "id": "0pMlOvu9l6zG",
        "outputId": "3170302d-9e23-4c51-c784-9f7dea8dac1f"
      },
      "execution_count": 16,
      "outputs": [
        {
          "output_type": "execute_result",
          "data": {
            "text/plain": [
              "71.33333333333333"
            ]
          },
          "metadata": {},
          "execution_count": 16
        }
      ]
    },
    {
      "cell_type": "markdown",
      "source": [
        "## Which code is easier to read and follow?\n",
        "\n",
        "---\n",
        "\n",
        "\n",
        "\n",
        "---\n",
        "\n",
        "\n",
        "\n",
        "---\n",
        "\n",
        "\n",
        "\n",
        "1.  \n",
        "```python\n",
        "studentone_grade=90\n",
        "StudentGrade2=50\n",
        "stu3gr=74\n",
        "avggrade=(studentone_grade+StudentGrade2+stut3gr)/3\n",
        "```\n",
        "\n",
        "2.  \n",
        "```python\n",
        "student1_grade = 90\n",
        "student2_grade = 50\n",
        "student3_grade = 74\n",
        "average_grade = ((student1_grade\n",
        "                  + student2_grade\n",
        "                  + student3_grade)\n",
        "                 / 3)\n",
        "```\n"
      ],
      "metadata": {
        "id": "O800VQUunNn8"
      }
    },
    {
      "cell_type": "code",
      "source": [],
      "metadata": {
        "id": "rL4cKQdBnOsI"
      },
      "execution_count": null,
      "outputs": []
    }
  ]
}