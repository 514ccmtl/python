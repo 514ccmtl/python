{
  "nbformat": 4,
  "nbformat_minor": 0,
  "metadata": {
    "colab": {
      "provenance": []
    },
    "kernelspec": {
      "name": "python3",
      "display_name": "Python 3"
    },
    "language_info": {
      "name": "python"
    }
  },
  "cells": [
    {
      "cell_type": "code",
      "execution_count": 1,
      "metadata": {
        "colab": {
          "base_uri": "https://localhost:8080/"
        },
        "id": "sB4IL3Ae_WVm",
        "outputId": "0f9f6c2e-58b1-4118-85b2-b920e86fb01a"
      },
      "outputs": [
        {
          "output_type": "execute_result",
          "data": {
            "text/plain": [
              "array([[1, 2, 3],\n",
              "       [3, 2, 1]])"
            ]
          },
          "metadata": {},
          "execution_count": 1
        }
      ],
      "source": [
        "#homogenous multidimensional arrays\n",
        "\n",
        "import numpy as np\n",
        "\n",
        "a = np.array([[1, 2, 3],\n",
        "              [3, 2, 1]])\n",
        "a"
      ]
    },
    {
      "cell_type": "code",
      "source": [
        "print(a.ndim)  #number of dimensions"
      ],
      "metadata": {
        "colab": {
          "base_uri": "https://localhost:8080/"
        },
        "id": "8BFfxVm8M4Lh",
        "outputId": "c7fb705a-30cd-4dc4-f373-d63bb85054cb"
      },
      "execution_count": 2,
      "outputs": [
        {
          "output_type": "stream",
          "name": "stdout",
          "text": [
            "2\n"
          ]
        }
      ]
    },
    {
      "cell_type": "code",
      "source": [
        "print(a.shape) # shape, rows x columns"
      ],
      "metadata": {
        "colab": {
          "base_uri": "https://localhost:8080/"
        },
        "id": "v_Zv9GbDM-FR",
        "outputId": "841cea1c-5916-4e56-9d07-9c89d0829a13"
      },
      "execution_count": 3,
      "outputs": [
        {
          "output_type": "stream",
          "name": "stdout",
          "text": [
            "(2, 3)\n"
          ]
        }
      ]
    },
    {
      "cell_type": "code",
      "source": [
        "np.zeros((2, 3, 2)) # 2 x 3 x 2 array of zeros"
      ],
      "metadata": {
        "colab": {
          "base_uri": "https://localhost:8080/"
        },
        "id": "_qraYenwNCiz",
        "outputId": "1d53e377-1652-4b6a-f260-7542212fc925"
      },
      "execution_count": 4,
      "outputs": [
        {
          "output_type": "execute_result",
          "data": {
            "text/plain": [
              "array([[[0., 0.],\n",
              "        [0., 0.],\n",
              "        [0., 0.]],\n",
              "\n",
              "       [[0., 0.],\n",
              "        [0., 0.],\n",
              "        [0., 0.]]])"
            ]
          },
          "metadata": {},
          "execution_count": 4
        }
      ]
    },
    {
      "cell_type": "code",
      "source": [
        "np.ones_like(a)"
      ],
      "metadata": {
        "colab": {
          "base_uri": "https://localhost:8080/"
        },
        "id": "_RH_3gfgNOPw",
        "outputId": "b8c1ea61-5040-4496-fe6b-ddb590a1426e"
      },
      "execution_count": 5,
      "outputs": [
        {
          "output_type": "execute_result",
          "data": {
            "text/plain": [
              "array([[1, 1, 1],\n",
              "       [1, 1, 1]])"
            ]
          },
          "metadata": {},
          "execution_count": 5
        }
      ]
    },
    {
      "cell_type": "code",
      "source": [
        "np.arange(1, 10, 1)"
      ],
      "metadata": {
        "colab": {
          "base_uri": "https://localhost:8080/"
        },
        "id": "Bk1BD3ulOJpa",
        "outputId": "e7fbc812-4e13-4e84-ea95-2e2b6094c7cc"
      },
      "execution_count": 6,
      "outputs": [
        {
          "output_type": "execute_result",
          "data": {
            "text/plain": [
              "array([1, 2, 3, 4, 5, 6, 7, 8, 9])"
            ]
          },
          "metadata": {},
          "execution_count": 6
        }
      ]
    },
    {
      "cell_type": "code",
      "source": [
        "np.arange(0, 1, 0.1)"
      ],
      "metadata": {
        "colab": {
          "base_uri": "https://localhost:8080/"
        },
        "id": "FLd2qjqaOWvr",
        "outputId": "b04585b9-d85a-47b5-ed3f-11e02570cbf8"
      },
      "execution_count": 7,
      "outputs": [
        {
          "output_type": "execute_result",
          "data": {
            "text/plain": [
              "array([0. , 0.1, 0.2, 0.3, 0.4, 0.5, 0.6, 0.7, 0.8, 0.9])"
            ]
          },
          "metadata": {},
          "execution_count": 7
        }
      ]
    },
    {
      "cell_type": "code",
      "source": [
        "# seed used to create a reproducible random example\n",
        "np.random.seed(3)\n",
        "np.random.randint(1, 10, (3, 4))"
      ],
      "metadata": {
        "colab": {
          "base_uri": "https://localhost:8080/"
        },
        "id": "vJ68waz1OZMH",
        "outputId": "a55bf5ce-1c48-45c2-93fa-db362b6d657b"
      },
      "execution_count": 8,
      "outputs": [
        {
          "output_type": "execute_result",
          "data": {
            "text/plain": [
              "array([[9, 4, 9, 9],\n",
              "       [1, 6, 4, 6],\n",
              "       [8, 7, 1, 5]])"
            ]
          },
          "metadata": {},
          "execution_count": 8
        }
      ]
    },
    {
      "cell_type": "code",
      "source": [
        "# create a 1D array through repetition\n",
        "np.repeat(10, 5)"
      ],
      "metadata": {
        "colab": {
          "base_uri": "https://localhost:8080/"
        },
        "id": "DXJr-Eo4O8VA",
        "outputId": "2ce3f0f6-802a-44ca-f2d8-a8c3faea9eb9"
      },
      "execution_count": 9,
      "outputs": [
        {
          "output_type": "execute_result",
          "data": {
            "text/plain": [
              "array([10, 10, 10, 10, 10])"
            ]
          },
          "metadata": {},
          "execution_count": 9
        }
      ]
    },
    {
      "cell_type": "code",
      "source": [
        "# create a 2D array through repetition\n",
        "onedim_arr = np.array([1, 2, 3, 4, 5])\n",
        "onedim_arr"
      ],
      "metadata": {
        "colab": {
          "base_uri": "https://localhost:8080/"
        },
        "id": "Ks0pJaEPPDyq",
        "outputId": "120ca4da-9c87-40f6-d2a1-b23a308181ad"
      },
      "execution_count": 10,
      "outputs": [
        {
          "output_type": "execute_result",
          "data": {
            "text/plain": [
              "array([1, 2, 3, 4, 5])"
            ]
          },
          "metadata": {},
          "execution_count": 10
        }
      ]
    },
    {
      "cell_type": "code",
      "source": [
        "multidim_arr = np.tile(onedim_arr, (5, 1))\n",
        "multidim_arr"
      ],
      "metadata": {
        "colab": {
          "base_uri": "https://localhost:8080/"
        },
        "id": "He2o5zrkPWlb",
        "outputId": "fafbd594-7882-42c1-ba39-0bc17eec3b08"
      },
      "execution_count": 11,
      "outputs": [
        {
          "output_type": "execute_result",
          "data": {
            "text/plain": [
              "array([[1, 2, 3, 4, 5],\n",
              "       [1, 2, 3, 4, 5],\n",
              "       [1, 2, 3, 4, 5],\n",
              "       [1, 2, 3, 4, 5],\n",
              "       [1, 2, 3, 4, 5]])"
            ]
          },
          "metadata": {},
          "execution_count": 11
        }
      ]
    },
    {
      "cell_type": "code",
      "source": [
        "multidim_arr = np.repeat(onedim_arr, 5)\n",
        "multidim_arr"
      ],
      "metadata": {
        "colab": {
          "base_uri": "https://localhost:8080/"
        },
        "id": "p8BqAHgrPgQ1",
        "outputId": "001bc94b-0baf-4784-def7-507e0cdeffc8"
      },
      "execution_count": 12,
      "outputs": [
        {
          "output_type": "execute_result",
          "data": {
            "text/plain": [
              "array([1, 1, 1, 1, 1, 2, 2, 2, 2, 2, 3, 3, 3, 3, 3, 4, 4, 4, 4, 4, 5, 5,\n",
              "       5, 5, 5])"
            ]
          },
          "metadata": {},
          "execution_count": 12
        }
      ]
    },
    {
      "cell_type": "code",
      "source": [
        "# create the sample Generator\n",
        "rng = np.random.default_rng(seed=42)\n",
        "\n",
        "# create a 5 x 4 array w/ normally distributed data\n",
        "# mean 10, std 2.5\n",
        "randrng = rng.normal(10, 2.5, (5, 4))\n",
        "randrng"
      ],
      "metadata": {
        "colab": {
          "base_uri": "https://localhost:8080/"
        },
        "id": "TVej8ksCPu-x",
        "outputId": "ed41f171-5fa4-4328-d7a7-f5ec971455d6"
      },
      "execution_count": 13,
      "outputs": [
        {
          "output_type": "execute_result",
          "data": {
            "text/plain": [
              "array([[10.7617927 ,  7.40003973, 11.87612799, 12.35141179],\n",
              "       [ 5.12241203,  6.74455123, 10.31960101,  9.20939352],\n",
              "       [ 9.95799711,  7.86739018, 12.19849494, 11.94447984],\n",
              "       [10.16507674, 12.81810302, 11.16877336,  7.85176884],\n",
              "       [10.92187696,  7.6027935 , 12.19612575,  9.87518522]])"
            ]
          },
          "metadata": {},
          "execution_count": 13
        }
      ]
    },
    {
      "cell_type": "code",
      "source": [
        "# using the same Generator to draw a random sample from a Poisson distribution\n",
        "# lam is 1 and size is 5x6\n",
        "\n",
        "poissonrng = rng.poisson(1, (5, 6))\n",
        "poissonrng"
      ],
      "metadata": {
        "colab": {
          "base_uri": "https://localhost:8080/"
        },
        "id": "LhtcZ_MxQj8u",
        "outputId": "535a08e9-41cf-478a-c625-62b8ab678891"
      },
      "execution_count": 14,
      "outputs": [
        {
          "output_type": "execute_result",
          "data": {
            "text/plain": [
              "array([[1, 3, 1, 0, 3, 1],\n",
              "       [0, 0, 1, 1, 2, 2],\n",
              "       [0, 1, 0, 0, 3, 1],\n",
              "       [0, 0, 1, 2, 1, 0],\n",
              "       [0, 1, 1, 0, 0, 0]])"
            ]
          },
          "metadata": {},
          "execution_count": 14
        }
      ]
    },
    {
      "cell_type": "code",
      "source": [
        "b = np.array([[5, 4, 3, 2, 1, 0],\n",
        "              [10, 8, 6, 4, 2, 0]])\n",
        "b"
      ],
      "metadata": {
        "colab": {
          "base_uri": "https://localhost:8080/"
        },
        "id": "jY4g6E__Q8xB",
        "outputId": "901f3a7d-51a5-4928-afd7-db82b74746e1"
      },
      "execution_count": 15,
      "outputs": [
        {
          "output_type": "execute_result",
          "data": {
            "text/plain": [
              "array([[ 5,  4,  3,  2,  1,  0],\n",
              "       [10,  8,  6,  4,  2,  0]])"
            ]
          },
          "metadata": {},
          "execution_count": 15
        }
      ]
    },
    {
      "cell_type": "code",
      "source": [
        "#transpose\n",
        "b.T"
      ],
      "metadata": {
        "colab": {
          "base_uri": "https://localhost:8080/"
        },
        "id": "R-fJtpzkRXNB",
        "outputId": "53d520a4-64de-4a34-8f69-d86da36d9007"
      },
      "execution_count": 16,
      "outputs": [
        {
          "output_type": "execute_result",
          "data": {
            "text/plain": [
              "array([[ 5, 10],\n",
              "       [ 4,  8],\n",
              "       [ 3,  6],\n",
              "       [ 2,  4],\n",
              "       [ 1,  2],\n",
              "       [ 0,  0]])"
            ]
          },
          "metadata": {},
          "execution_count": 16
        }
      ]
    },
    {
      "cell_type": "code",
      "source": [
        "b"
      ],
      "metadata": {
        "colab": {
          "base_uri": "https://localhost:8080/"
        },
        "id": "n48xd8ulRprT",
        "outputId": "a30ac9f7-aa76-4dd1-e9ab-2a7a28707be0"
      },
      "execution_count": 17,
      "outputs": [
        {
          "output_type": "execute_result",
          "data": {
            "text/plain": [
              "array([[ 5,  4,  3,  2,  1,  0],\n",
              "       [10,  8,  6,  4,  2,  0]])"
            ]
          },
          "metadata": {},
          "execution_count": 17
        }
      ]
    },
    {
      "cell_type": "code",
      "source": [
        "# change dimensions\n",
        "b.reshape(4, 3)"
      ],
      "metadata": {
        "colab": {
          "base_uri": "https://localhost:8080/"
        },
        "id": "RdclE8kfRYxG",
        "outputId": "cd6baddd-82e9-468a-b655-90c1a79d3fb5"
      },
      "execution_count": 18,
      "outputs": [
        {
          "output_type": "execute_result",
          "data": {
            "text/plain": [
              "array([[ 5,  4,  3],\n",
              "       [ 2,  1,  0],\n",
              "       [10,  8,  6],\n",
              "       [ 4,  2,  0]])"
            ]
          },
          "metadata": {},
          "execution_count": 18
        }
      ]
    },
    {
      "cell_type": "code",
      "source": [
        "b.flatten()"
      ],
      "metadata": {
        "colab": {
          "base_uri": "https://localhost:8080/"
        },
        "id": "cADcWGNBRxd3",
        "outputId": "49d926e1-79bb-41f7-9274-519be148f298"
      },
      "execution_count": 19,
      "outputs": [
        {
          "output_type": "execute_result",
          "data": {
            "text/plain": [
              "array([ 5,  4,  3,  2,  1,  0, 10,  8,  6,  4,  2,  0])"
            ]
          },
          "metadata": {},
          "execution_count": 19
        }
      ]
    },
    {
      "cell_type": "code",
      "source": [
        "a"
      ],
      "metadata": {
        "colab": {
          "base_uri": "https://localhost:8080/"
        },
        "id": "dnc1ePAhRy_M",
        "outputId": "d85cd190-216e-4829-b54b-3bf448fe7501"
      },
      "execution_count": 20,
      "outputs": [
        {
          "output_type": "execute_result",
          "data": {
            "text/plain": [
              "array([[1, 2, 3],\n",
              "       [3, 2, 1]])"
            ]
          },
          "metadata": {},
          "execution_count": 20
        }
      ]
    },
    {
      "cell_type": "code",
      "source": [
        "b"
      ],
      "metadata": {
        "colab": {
          "base_uri": "https://localhost:8080/"
        },
        "id": "hZ3a1RVZR2cA",
        "outputId": "7eb58086-ddd9-41ce-ffef-2d5fd1c25b05"
      },
      "execution_count": 21,
      "outputs": [
        {
          "output_type": "execute_result",
          "data": {
            "text/plain": [
              "array([[ 5,  4,  3,  2,  1,  0],\n",
              "       [10,  8,  6,  4,  2,  0]])"
            ]
          },
          "metadata": {},
          "execution_count": 21
        }
      ]
    },
    {
      "cell_type": "code",
      "source": [
        "# stack a and b horizontally\n",
        "np.hstack((b, a))"
      ],
      "metadata": {
        "colab": {
          "base_uri": "https://localhost:8080/"
        },
        "id": "ZoOc7hQ7R407",
        "outputId": "13b470c8-0b02-4f93-ecb0-4910e289772d"
      },
      "execution_count": 22,
      "outputs": [
        {
          "output_type": "execute_result",
          "data": {
            "text/plain": [
              "array([[ 5,  4,  3,  2,  1,  0,  1,  2,  3],\n",
              "       [10,  8,  6,  4,  2,  0,  3,  2,  1]])"
            ]
          },
          "metadata": {},
          "execution_count": 22
        }
      ]
    },
    {
      "cell_type": "code",
      "source": [
        "# stack a and b vertically\n",
        "np.vstack((b.reshape(4, 3), a))"
      ],
      "metadata": {
        "colab": {
          "base_uri": "https://localhost:8080/"
        },
        "id": "XaPiCYBFSBOZ",
        "outputId": "46655792-dd93-4569-dcb0-ba5891040fd7"
      },
      "execution_count": 23,
      "outputs": [
        {
          "output_type": "execute_result",
          "data": {
            "text/plain": [
              "array([[ 5,  4,  3],\n",
              "       [ 2,  1,  0],\n",
              "       [10,  8,  6],\n",
              "       [ 4,  2,  0],\n",
              "       [ 1,  2,  3],\n",
              "       [ 3,  2,  1]])"
            ]
          },
          "metadata": {},
          "execution_count": 23
        }
      ]
    },
    {
      "cell_type": "code",
      "source": [
        "arr1 = np.array([5, 10, 15, 20])\n",
        "arr1"
      ],
      "metadata": {
        "colab": {
          "base_uri": "https://localhost:8080/"
        },
        "id": "TRrhe_p2Sd_x",
        "outputId": "8c0a3fc3-8fa4-443a-b978-d96f5169a9c1"
      },
      "execution_count": 24,
      "outputs": [
        {
          "output_type": "execute_result",
          "data": {
            "text/plain": [
              "array([ 5, 10, 15, 20])"
            ]
          },
          "metadata": {},
          "execution_count": 24
        }
      ]
    },
    {
      "cell_type": "code",
      "source": [
        "arr2 = np.arange(5, 9)\n",
        "arr2"
      ],
      "metadata": {
        "colab": {
          "base_uri": "https://localhost:8080/"
        },
        "id": "lyuYcUA1Sq6U",
        "outputId": "6ab479c9-a8fa-4216-8ca8-fcdfed9e6cf5"
      },
      "execution_count": 25,
      "outputs": [
        {
          "output_type": "execute_result",
          "data": {
            "text/plain": [
              "array([5, 6, 7, 8])"
            ]
          },
          "metadata": {},
          "execution_count": 25
        }
      ]
    },
    {
      "cell_type": "code",
      "source": [
        "arr1 - arr2"
      ],
      "metadata": {
        "colab": {
          "base_uri": "https://localhost:8080/"
        },
        "id": "QHCC3JtWSx0x",
        "outputId": "0f3958dd-f9d8-4e33-9c54-3af5c8da6818"
      },
      "execution_count": 26,
      "outputs": [
        {
          "output_type": "execute_result",
          "data": {
            "text/plain": [
              "array([ 0,  4,  8, 12])"
            ]
          },
          "metadata": {},
          "execution_count": 26
        }
      ]
    },
    {
      "cell_type": "code",
      "source": [
        "arr1 * 2"
      ],
      "metadata": {
        "colab": {
          "base_uri": "https://localhost:8080/"
        },
        "id": "uIyBA1w-S2C7",
        "outputId": "010cacf9-6b27-4e17-8513-2d1a86f3cfae"
      },
      "execution_count": 27,
      "outputs": [
        {
          "output_type": "execute_result",
          "data": {
            "text/plain": [
              "array([10, 20, 30, 40])"
            ]
          },
          "metadata": {},
          "execution_count": 27
        }
      ]
    },
    {
      "cell_type": "code",
      "source": [
        "arr2 + np.array([1, 2])"
      ],
      "metadata": {
        "colab": {
          "base_uri": "https://localhost:8080/",
          "height": 176
        },
        "id": "9BoB1wINS_fY",
        "outputId": "64b311cf-b1fc-4769-a7a0-61d1e62100be"
      },
      "execution_count": 29,
      "outputs": [
        {
          "output_type": "error",
          "ename": "ValueError",
          "evalue": "ignored",
          "traceback": [
            "\u001b[0;31m---------------------------------------------------------------------------\u001b[0m",
            "\u001b[0;31mValueError\u001b[0m                                Traceback (most recent call last)",
            "\u001b[0;32m<ipython-input-29-5ee8062bd074>\u001b[0m in \u001b[0;36m<cell line: 1>\u001b[0;34m()\u001b[0m\n\u001b[0;32m----> 1\u001b[0;31m \u001b[0marr2\u001b[0m \u001b[0;34m+\u001b[0m \u001b[0mnp\u001b[0m\u001b[0;34m.\u001b[0m\u001b[0marray\u001b[0m\u001b[0;34m(\u001b[0m\u001b[0;34m[\u001b[0m\u001b[0;36m1\u001b[0m\u001b[0;34m,\u001b[0m \u001b[0;36m2\u001b[0m\u001b[0;34m]\u001b[0m\u001b[0;34m)\u001b[0m\u001b[0;34m\u001b[0m\u001b[0;34m\u001b[0m\u001b[0m\n\u001b[0m",
            "\u001b[0;31mValueError\u001b[0m: operands could not be broadcast together with shapes (4,) (2,) "
          ]
        }
      ]
    },
    {
      "cell_type": "code",
      "source": [
        "arr1"
      ],
      "metadata": {
        "colab": {
          "base_uri": "https://localhost:8080/"
        },
        "id": "ulCWuKBvT0xN",
        "outputId": "07cb0df3-b2b5-441c-b45b-a2530dbd577b"
      },
      "execution_count": 30,
      "outputs": [
        {
          "output_type": "execute_result",
          "data": {
            "text/plain": [
              "array([ 5, 10, 15, 20])"
            ]
          },
          "metadata": {},
          "execution_count": 30
        }
      ]
    },
    {
      "cell_type": "code",
      "source": [
        "print(f'''arr1 sums to {arr1.sum()}.\n",
        "Its max value is {arr1.max()}, and its mean is {arr1.mean()}.''')"
      ],
      "metadata": {
        "colab": {
          "base_uri": "https://localhost:8080/"
        },
        "id": "9WsyrmFSTPbm",
        "outputId": "5a941a43-1e4e-4bb1-9895-4983babe334b"
      },
      "execution_count": 31,
      "outputs": [
        {
          "output_type": "stream",
          "name": "stdout",
          "text": [
            "arr1 sums to 50.\n",
            "Its max value is 20, and its mean is 12.5.\n"
          ]
        }
      ]
    },
    {
      "cell_type": "code",
      "source": [
        "np.median(arr1)"
      ],
      "metadata": {
        "colab": {
          "base_uri": "https://localhost:8080/"
        },
        "id": "PGaGhbWRTmf2",
        "outputId": "84beb203-0b61-4e1f-96be-46c0a8e53ad1"
      },
      "execution_count": 32,
      "outputs": [
        {
          "output_type": "execute_result",
          "data": {
            "text/plain": [
              "12.5"
            ]
          },
          "metadata": {},
          "execution_count": 32
        }
      ]
    },
    {
      "cell_type": "code",
      "source": [
        "arr1.median()"
      ],
      "metadata": {
        "colab": {
          "base_uri": "https://localhost:8080/",
          "height": 176
        },
        "id": "4fu1i7ppT98p",
        "outputId": "e1b3491a-8aff-48bf-887c-817de5aa6ce5"
      },
      "execution_count": 34,
      "outputs": [
        {
          "output_type": "error",
          "ename": "AttributeError",
          "evalue": "ignored",
          "traceback": [
            "\u001b[0;31m---------------------------------------------------------------------------\u001b[0m",
            "\u001b[0;31mAttributeError\u001b[0m                            Traceback (most recent call last)",
            "\u001b[0;32m<ipython-input-34-5f6234b1aec9>\u001b[0m in \u001b[0;36m<cell line: 1>\u001b[0;34m()\u001b[0m\n\u001b[0;32m----> 1\u001b[0;31m \u001b[0marr1\u001b[0m\u001b[0;34m.\u001b[0m\u001b[0mmedian\u001b[0m\u001b[0;34m(\u001b[0m\u001b[0;34m)\u001b[0m\u001b[0;34m\u001b[0m\u001b[0;34m\u001b[0m\u001b[0m\n\u001b[0m",
            "\u001b[0;31mAttributeError\u001b[0m: 'numpy.ndarray' object has no attribute 'median'"
          ]
        }
      ]
    },
    {
      "cell_type": "code",
      "source": [
        "tens = np.arange(0, 120, 10).reshape(3, 4)\n",
        "tens"
      ],
      "metadata": {
        "colab": {
          "base_uri": "https://localhost:8080/"
        },
        "id": "FohxHGchUOAn",
        "outputId": "52c999b0-afa7-4630-d0ca-7f40b7b840a8"
      },
      "execution_count": 35,
      "outputs": [
        {
          "output_type": "execute_result",
          "data": {
            "text/plain": [
              "array([[  0,  10,  20,  30],\n",
              "       [ 40,  50,  60,  70],\n",
              "       [ 80,  90, 100, 110]])"
            ]
          },
          "metadata": {},
          "execution_count": 35
        }
      ]
    },
    {
      "cell_type": "code",
      "source": [
        "horizontal = np.array([-5, -10, -15, -20])\n",
        "horizontal"
      ],
      "metadata": {
        "colab": {
          "base_uri": "https://localhost:8080/"
        },
        "id": "LsK_pREnUTAB",
        "outputId": "a2e895b2-41cb-408a-f601-467ae21828ca"
      },
      "execution_count": 36,
      "outputs": [
        {
          "output_type": "execute_result",
          "data": {
            "text/plain": [
              "array([ -5, -10, -15, -20])"
            ]
          },
          "metadata": {},
          "execution_count": 36
        }
      ]
    },
    {
      "cell_type": "code",
      "source": [
        "tens + horizontal"
      ],
      "metadata": {
        "colab": {
          "base_uri": "https://localhost:8080/"
        },
        "id": "ziYSBR9qUclQ",
        "outputId": "85697dc9-8095-49f7-af84-dc8b7fe810a6"
      },
      "execution_count": 37,
      "outputs": [
        {
          "output_type": "execute_result",
          "data": {
            "text/plain": [
              "array([[-5,  0,  5, 10],\n",
              "       [35, 40, 45, 50],\n",
              "       [75, 80, 85, 90]])"
            ]
          },
          "metadata": {},
          "execution_count": 37
        }
      ]
    },
    {
      "cell_type": "code",
      "source": [
        "vertical = np.array([[100],\n",
        "                     [200],\n",
        "                     [300]])"
      ],
      "metadata": {
        "id": "T3gFqVfIUfaf"
      },
      "execution_count": 38,
      "outputs": []
    },
    {
      "cell_type": "code",
      "source": [
        "vertical"
      ],
      "metadata": {
        "colab": {
          "base_uri": "https://localhost:8080/"
        },
        "id": "UOyACM5vU_5L",
        "outputId": "9265e23c-e6a3-42a7-aa27-6f75cb33ea48"
      },
      "execution_count": 39,
      "outputs": [
        {
          "output_type": "execute_result",
          "data": {
            "text/plain": [
              "array([[100],\n",
              "       [200],\n",
              "       [300]])"
            ]
          },
          "metadata": {},
          "execution_count": 39
        }
      ]
    },
    {
      "cell_type": "code",
      "source": [
        "tens + vertical"
      ],
      "metadata": {
        "colab": {
          "base_uri": "https://localhost:8080/"
        },
        "id": "qqfbOdp-VBCA",
        "outputId": "e08aaade-200f-419e-8c31-571d15615f0a"
      },
      "execution_count": 40,
      "outputs": [
        {
          "output_type": "execute_result",
          "data": {
            "text/plain": [
              "array([[100, 110, 120, 130],\n",
              "       [240, 250, 260, 270],\n",
              "       [380, 390, 400, 410]])"
            ]
          },
          "metadata": {},
          "execution_count": 40
        }
      ]
    },
    {
      "cell_type": "code",
      "source": [
        "tens"
      ],
      "metadata": {
        "colab": {
          "base_uri": "https://localhost:8080/"
        },
        "id": "8IihZGwEVE0p",
        "outputId": "9f70f751-d90f-4acd-d662-4407e8569c7e"
      },
      "execution_count": 41,
      "outputs": [
        {
          "output_type": "execute_result",
          "data": {
            "text/plain": [
              "array([[  0,  10,  20,  30],\n",
              "       [ 40,  50,  60,  70],\n",
              "       [ 80,  90, 100, 110]])"
            ]
          },
          "metadata": {},
          "execution_count": 41
        }
      ]
    },
    {
      "cell_type": "code",
      "source": [
        "# axis = 0 --> calculating values for each column\n",
        "tens.mean(axis=0)"
      ],
      "metadata": {
        "colab": {
          "base_uri": "https://localhost:8080/"
        },
        "id": "Dhv8l9NLVQug",
        "outputId": "54db7bc7-ae5e-4f37-f4c0-9c523f00476d"
      },
      "execution_count": 42,
      "outputs": [
        {
          "output_type": "execute_result",
          "data": {
            "text/plain": [
              "array([40., 50., 60., 70.])"
            ]
          },
          "metadata": {},
          "execution_count": 42
        }
      ]
    },
    {
      "cell_type": "code",
      "source": [
        "# axis = 1 --> calculating values for each row\n",
        "tens.mean(axis=1)"
      ],
      "metadata": {
        "colab": {
          "base_uri": "https://localhost:8080/"
        },
        "id": "KjHwr71nVau0",
        "outputId": "bb311a52-07f2-4d50-ffde-a6b10eca4b09"
      },
      "execution_count": 43,
      "outputs": [
        {
          "output_type": "execute_result",
          "data": {
            "text/plain": [
              "array([15., 55., 95.])"
            ]
          },
          "metadata": {},
          "execution_count": 43
        }
      ]
    },
    {
      "cell_type": "code",
      "source": [
        "arr1"
      ],
      "metadata": {
        "colab": {
          "base_uri": "https://localhost:8080/"
        },
        "id": "NPLmT3JwVpyb",
        "outputId": "a15b3f1f-aa2d-45de-c770-60e4af092427"
      },
      "execution_count": 44,
      "outputs": [
        {
          "output_type": "execute_result",
          "data": {
            "text/plain": [
              "array([ 5, 10, 15, 20])"
            ]
          },
          "metadata": {},
          "execution_count": 44
        }
      ]
    },
    {
      "cell_type": "code",
      "source": [
        "arr1[1]"
      ],
      "metadata": {
        "colab": {
          "base_uri": "https://localhost:8080/"
        },
        "id": "_7YP0lq1Vv6s",
        "outputId": "44a1730a-12a7-49ed-9e06-b16d39a76fa2"
      },
      "execution_count": 45,
      "outputs": [
        {
          "output_type": "execute_result",
          "data": {
            "text/plain": [
              "10"
            ]
          },
          "metadata": {},
          "execution_count": 45
        }
      ]
    },
    {
      "cell_type": "code",
      "source": [
        "arr1[1:3]"
      ],
      "metadata": {
        "colab": {
          "base_uri": "https://localhost:8080/"
        },
        "id": "VI6uGQZNV0pi",
        "outputId": "510cf4e5-258f-4724-810d-6c48a9dc3585"
      },
      "execution_count": 46,
      "outputs": [
        {
          "output_type": "execute_result",
          "data": {
            "text/plain": [
              "array([10, 15])"
            ]
          },
          "metadata": {},
          "execution_count": 46
        }
      ]
    },
    {
      "cell_type": "code",
      "source": [
        "tens"
      ],
      "metadata": {
        "colab": {
          "base_uri": "https://localhost:8080/"
        },
        "id": "6TtCsvoIV8uT",
        "outputId": "69aaabc5-cad4-43f2-9421-2258b089e88d"
      },
      "execution_count": 47,
      "outputs": [
        {
          "output_type": "execute_result",
          "data": {
            "text/plain": [
              "array([[  0,  10,  20,  30],\n",
              "       [ 40,  50,  60,  70],\n",
              "       [ 80,  90, 100, 110]])"
            ]
          },
          "metadata": {},
          "execution_count": 47
        }
      ]
    },
    {
      "cell_type": "code",
      "source": [
        "# index according to row, column\n",
        "tens[1, 2]"
      ],
      "metadata": {
        "colab": {
          "base_uri": "https://localhost:8080/"
        },
        "id": "AkX29h3mWDhI",
        "outputId": "f67fb479-b668-4d96-94df-aaacd7c9593d"
      },
      "execution_count": 48,
      "outputs": [
        {
          "output_type": "execute_result",
          "data": {
            "text/plain": [
              "60"
            ]
          },
          "metadata": {},
          "execution_count": 48
        }
      ]
    },
    {
      "cell_type": "code",
      "source": [
        "# get the first row\n",
        "tens[0]"
      ],
      "metadata": {
        "colab": {
          "base_uri": "https://localhost:8080/"
        },
        "id": "w8oeh761WP3q",
        "outputId": "861e639a-eb6d-4135-f21a-00ed8ec41d20"
      },
      "execution_count": 49,
      "outputs": [
        {
          "output_type": "execute_result",
          "data": {
            "text/plain": [
              "array([ 0, 10, 20, 30])"
            ]
          },
          "metadata": {},
          "execution_count": 49
        }
      ]
    },
    {
      "cell_type": "code",
      "source": [
        "# get the first column\n",
        "tens[:,0]"
      ],
      "metadata": {
        "colab": {
          "base_uri": "https://localhost:8080/"
        },
        "id": "vh2osEoYWQ1p",
        "outputId": "8d7a786c-d358-4bf7-8500-ef507335e7c9"
      },
      "execution_count": 50,
      "outputs": [
        {
          "output_type": "execute_result",
          "data": {
            "text/plain": [
              "array([ 0, 40, 80])"
            ]
          },
          "metadata": {},
          "execution_count": 50
        }
      ]
    },
    {
      "cell_type": "code",
      "source": [
        "# slice rows 0 and 1, columns 1 and 2\n",
        "tens[0:2, 1:3]"
      ],
      "metadata": {
        "colab": {
          "base_uri": "https://localhost:8080/"
        },
        "id": "QncNWyzyWhVh",
        "outputId": "05da647d-5b10-4752-d527-66cd72eed6fd"
      },
      "execution_count": 51,
      "outputs": [
        {
          "output_type": "execute_result",
          "data": {
            "text/plain": [
              "array([[10, 20],\n",
              "       [50, 60]])"
            ]
          },
          "metadata": {},
          "execution_count": 51
        }
      ]
    },
    {
      "cell_type": "code",
      "source": [
        "# create a 3 x 4 array of random integers\n",
        "matrix = np.random.randint(1, 11, 12).reshape(3, 4)\n",
        "matrix"
      ],
      "metadata": {
        "colab": {
          "base_uri": "https://localhost:8080/"
        },
        "id": "iKmEoIHyWsyO",
        "outputId": "436b6729-68cd-4f40-f441-1d8271c3c465"
      },
      "execution_count": 52,
      "outputs": [
        {
          "output_type": "execute_result",
          "data": {
            "text/plain": [
              "array([[8, 9, 2, 7],\n",
              "       [3, 3, 2, 4],\n",
              "       [6, 9, 2, 9]])"
            ]
          },
          "metadata": {},
          "execution_count": 52
        }
      ]
    },
    {
      "cell_type": "code",
      "source": [
        "matrix2 = matrix"
      ],
      "metadata": {
        "id": "TxYfQgRPXWUM"
      },
      "execution_count": 53,
      "outputs": []
    },
    {
      "cell_type": "code",
      "source": [
        "matrix3 = matrix.copy()"
      ],
      "metadata": {
        "id": "NCu-SZkHXdP2"
      },
      "execution_count": 54,
      "outputs": []
    },
    {
      "cell_type": "code",
      "source": [
        "matrix2[1] = [0, 0, 0, 0]\n",
        "matrix2"
      ],
      "metadata": {
        "colab": {
          "base_uri": "https://localhost:8080/"
        },
        "id": "e0bKK1HQXllY",
        "outputId": "5fccf865-2028-4f42-d97f-2d46cb556e6e"
      },
      "execution_count": 55,
      "outputs": [
        {
          "output_type": "execute_result",
          "data": {
            "text/plain": [
              "array([[8, 9, 2, 7],\n",
              "       [0, 0, 0, 0],\n",
              "       [6, 9, 2, 9]])"
            ]
          },
          "metadata": {},
          "execution_count": 55
        }
      ]
    },
    {
      "cell_type": "code",
      "source": [
        "matrix"
      ],
      "metadata": {
        "colab": {
          "base_uri": "https://localhost:8080/"
        },
        "id": "4kNZN7hdXuCl",
        "outputId": "51e26dde-4680-4b7e-b63e-c07664a1854d"
      },
      "execution_count": 56,
      "outputs": [
        {
          "output_type": "execute_result",
          "data": {
            "text/plain": [
              "array([[8, 9, 2, 7],\n",
              "       [0, 0, 0, 0],\n",
              "       [6, 9, 2, 9]])"
            ]
          },
          "metadata": {},
          "execution_count": 56
        }
      ]
    },
    {
      "cell_type": "code",
      "source": [
        "matrix3"
      ],
      "metadata": {
        "colab": {
          "base_uri": "https://localhost:8080/"
        },
        "id": "ra_bs0BJXymo",
        "outputId": "163d092a-aa74-4e10-ec1c-30aa6727d7e3"
      },
      "execution_count": 57,
      "outputs": [
        {
          "output_type": "execute_result",
          "data": {
            "text/plain": [
              "array([[8, 9, 2, 7],\n",
              "       [3, 3, 2, 4],\n",
              "       [6, 9, 2, 9]])"
            ]
          },
          "metadata": {},
          "execution_count": 57
        }
      ]
    },
    {
      "cell_type": "code",
      "source": [
        "tens"
      ],
      "metadata": {
        "colab": {
          "base_uri": "https://localhost:8080/"
        },
        "id": "mpasUiypX4Rw",
        "outputId": "c6569bc0-0319-476b-ae92-e93d54b2b6e2"
      },
      "execution_count": 58,
      "outputs": [
        {
          "output_type": "execute_result",
          "data": {
            "text/plain": [
              "array([[  0,  10,  20,  30],\n",
              "       [ 40,  50,  60,  70],\n",
              "       [ 80,  90, 100, 110]])"
            ]
          },
          "metadata": {},
          "execution_count": 58
        }
      ]
    },
    {
      "cell_type": "code",
      "source": [
        "# evaluate whether each element is dividible by 3\n",
        "\n",
        "tens % 3 == 0\n"
      ],
      "metadata": {
        "colab": {
          "base_uri": "https://localhost:8080/"
        },
        "id": "Y37oSTsXYA5m",
        "outputId": "c406637f-318e-4668-ca1b-2909064a5839"
      },
      "execution_count": 59,
      "outputs": [
        {
          "output_type": "execute_result",
          "data": {
            "text/plain": [
              "array([[ True, False, False,  True],\n",
              "       [False, False,  True, False],\n",
              "       [False,  True, False, False]])"
            ]
          },
          "metadata": {},
          "execution_count": 59
        }
      ]
    },
    {
      "cell_type": "code",
      "source": [
        "tens[tens % 3 == 0]"
      ],
      "metadata": {
        "colab": {
          "base_uri": "https://localhost:8080/"
        },
        "id": "Qrwec-InYRwY",
        "outputId": "a134bcc1-6678-4497-a41d-d6ffd2b525fd"
      },
      "execution_count": 60,
      "outputs": [
        {
          "output_type": "execute_result",
          "data": {
            "text/plain": [
              "array([ 0, 30, 60, 90])"
            ]
          },
          "metadata": {},
          "execution_count": 60
        }
      ]
    },
    {
      "cell_type": "code",
      "source": [
        "mask = (tens % 3 == 0)\n",
        "mask"
      ],
      "metadata": {
        "colab": {
          "base_uri": "https://localhost:8080/"
        },
        "id": "5xj1xH_VYjxi",
        "outputId": "878be358-cf76-4b8c-9aa5-9267a1ff7ac5"
      },
      "execution_count": 61,
      "outputs": [
        {
          "output_type": "execute_result",
          "data": {
            "text/plain": [
              "array([[ True, False, False,  True],\n",
              "       [False, False,  True, False],\n",
              "       [False,  True, False, False]])"
            ]
          },
          "metadata": {},
          "execution_count": 61
        }
      ]
    },
    {
      "cell_type": "code",
      "source": [
        "tens[mask]"
      ],
      "metadata": {
        "colab": {
          "base_uri": "https://localhost:8080/"
        },
        "id": "2lKjqR1ZY1WK",
        "outputId": "0b0646bf-8e89-4e5b-afcc-53eea97772be"
      },
      "execution_count": 62,
      "outputs": [
        {
          "output_type": "execute_result",
          "data": {
            "text/plain": [
              "array([ 0, 30, 60, 90])"
            ]
          },
          "metadata": {},
          "execution_count": 62
        }
      ]
    },
    {
      "cell_type": "code",
      "source": [
        "tens"
      ],
      "metadata": {
        "colab": {
          "base_uri": "https://localhost:8080/"
        },
        "id": "z6393hWVZOTI",
        "outputId": "3075f518-1cd8-4480-edeb-886239f353ba"
      },
      "execution_count": 63,
      "outputs": [
        {
          "output_type": "execute_result",
          "data": {
            "text/plain": [
              "array([[  0,  10,  20,  30],\n",
              "       [ 40,  50,  60,  70],\n",
              "       [ 80,  90, 100, 110]])"
            ]
          },
          "metadata": {},
          "execution_count": 63
        }
      ]
    },
    {
      "cell_type": "code",
      "source": [
        "tens % 3 == 0"
      ],
      "metadata": {
        "colab": {
          "base_uri": "https://localhost:8080/"
        },
        "id": "_he6xWHDZ6jv",
        "outputId": "4b8b8c20-0662-4da7-b9bb-ca9895cc655f"
      },
      "execution_count": 64,
      "outputs": [
        {
          "output_type": "execute_result",
          "data": {
            "text/plain": [
              "array([[ True, False, False,  True],\n",
              "       [False, False,  True, False],\n",
              "       [False,  True, False, False]])"
            ]
          },
          "metadata": {},
          "execution_count": 64
        }
      ]
    },
    {
      "cell_type": "code",
      "source": [
        "np.where(tens % 3 == 0, #condition\n",
        "         tens, # return the element if True\n",
        "         0) # return 0 if False"
      ],
      "metadata": {
        "colab": {
          "base_uri": "https://localhost:8080/"
        },
        "id": "Zv-2vCODY3jX",
        "outputId": "6e4d2a25-db43-44e8-d2c8-97e55e90947f"
      },
      "execution_count": 65,
      "outputs": [
        {
          "output_type": "execute_result",
          "data": {
            "text/plain": [
              "array([[ 0,  0,  0, 30],\n",
              "       [ 0,  0, 60,  0],\n",
              "       [ 0, 90,  0,  0]])"
            ]
          },
          "metadata": {},
          "execution_count": 65
        }
      ]
    },
    {
      "cell_type": "code",
      "source": [
        "# pandas --> data analysis and manipulation\n",
        "\n",
        "import numpy as np\n",
        "\n",
        "# pd is the conventional alias for pandas\n",
        "import pandas as pd\n",
        "\n",
        "# display all columns\n",
        "pd.set_option(\"display.max_columns\", None)"
      ],
      "metadata": {
        "id": "fsobY5xvZno4"
      },
      "execution_count": 66,
      "outputs": []
    },
    {
      "cell_type": "code",
      "source": [
        "# columns labeled with their names\n",
        "# rows have a label, or index --> pandas will use numbers as the default\n",
        "# each column is a Series, or one-dimensional array where values share the same data type\n",
        "# unlike numpy arrays, DataFrames can have columns of different data types\n",
        "# DataFames are mutable"
      ],
      "metadata": {
        "id": "FK1cjYUwdWjZ"
      },
      "execution_count": 67,
      "outputs": []
    },
    {
      "cell_type": "code",
      "source": [
        "trees = pd.DataFrame({\n",
        "    'name': ['sugar maple', 'black oak', 'white ash', 'douglas fir'],\n",
        "    'avg_lifespan': [300, 100, 260, 450],\n",
        "    'quantity': [53, 207, 178, 93]\n",
        "})"
      ],
      "metadata": {
        "id": "DbpORdUhd5iJ"
      },
      "execution_count": 68,
      "outputs": []
    },
    {
      "cell_type": "code",
      "source": [
        "trees"
      ],
      "metadata": {
        "colab": {
          "base_uri": "https://localhost:8080/",
          "height": 175
        },
        "id": "1OvpQdwjed2O",
        "outputId": "538b3a6f-7acd-4ae8-b727-29a0f0e932d9"
      },
      "execution_count": 69,
      "outputs": [
        {
          "output_type": "execute_result",
          "data": {
            "text/plain": [
              "          name  avg_lifespan  quantity\n",
              "0  sugar maple           300        53\n",
              "1    black oak           100       207\n",
              "2    white ash           260       178\n",
              "3  douglas fir           450        93"
            ],
            "text/html": [
              "\n",
              "  <div id=\"df-e540ec16-ce32-4fc7-857d-af536231e23a\" class=\"colab-df-container\">\n",
              "    <div>\n",
              "<style scoped>\n",
              "    .dataframe tbody tr th:only-of-type {\n",
              "        vertical-align: middle;\n",
              "    }\n",
              "\n",
              "    .dataframe tbody tr th {\n",
              "        vertical-align: top;\n",
              "    }\n",
              "\n",
              "    .dataframe thead th {\n",
              "        text-align: right;\n",
              "    }\n",
              "</style>\n",
              "<table border=\"1\" class=\"dataframe\">\n",
              "  <thead>\n",
              "    <tr style=\"text-align: right;\">\n",
              "      <th></th>\n",
              "      <th>name</th>\n",
              "      <th>avg_lifespan</th>\n",
              "      <th>quantity</th>\n",
              "    </tr>\n",
              "  </thead>\n",
              "  <tbody>\n",
              "    <tr>\n",
              "      <th>0</th>\n",
              "      <td>sugar maple</td>\n",
              "      <td>300</td>\n",
              "      <td>53</td>\n",
              "    </tr>\n",
              "    <tr>\n",
              "      <th>1</th>\n",
              "      <td>black oak</td>\n",
              "      <td>100</td>\n",
              "      <td>207</td>\n",
              "    </tr>\n",
              "    <tr>\n",
              "      <th>2</th>\n",
              "      <td>white ash</td>\n",
              "      <td>260</td>\n",
              "      <td>178</td>\n",
              "    </tr>\n",
              "    <tr>\n",
              "      <th>3</th>\n",
              "      <td>douglas fir</td>\n",
              "      <td>450</td>\n",
              "      <td>93</td>\n",
              "    </tr>\n",
              "  </tbody>\n",
              "</table>\n",
              "</div>\n",
              "    <div class=\"colab-df-buttons\">\n",
              "\n",
              "  <div class=\"colab-df-container\">\n",
              "    <button class=\"colab-df-convert\" onclick=\"convertToInteractive('df-e540ec16-ce32-4fc7-857d-af536231e23a')\"\n",
              "            title=\"Convert this dataframe to an interactive table.\"\n",
              "            style=\"display:none;\">\n",
              "\n",
              "  <svg xmlns=\"http://www.w3.org/2000/svg\" height=\"24px\" viewBox=\"0 -960 960 960\">\n",
              "    <path d=\"M120-120v-720h720v720H120Zm60-500h600v-160H180v160Zm220 220h160v-160H400v160Zm0 220h160v-160H400v160ZM180-400h160v-160H180v160Zm440 0h160v-160H620v160ZM180-180h160v-160H180v160Zm440 0h160v-160H620v160Z\"/>\n",
              "  </svg>\n",
              "    </button>\n",
              "\n",
              "  <style>\n",
              "    .colab-df-container {\n",
              "      display:flex;\n",
              "      gap: 12px;\n",
              "    }\n",
              "\n",
              "    .colab-df-convert {\n",
              "      background-color: #E8F0FE;\n",
              "      border: none;\n",
              "      border-radius: 50%;\n",
              "      cursor: pointer;\n",
              "      display: none;\n",
              "      fill: #1967D2;\n",
              "      height: 32px;\n",
              "      padding: 0 0 0 0;\n",
              "      width: 32px;\n",
              "    }\n",
              "\n",
              "    .colab-df-convert:hover {\n",
              "      background-color: #E2EBFA;\n",
              "      box-shadow: 0px 1px 2px rgba(60, 64, 67, 0.3), 0px 1px 3px 1px rgba(60, 64, 67, 0.15);\n",
              "      fill: #174EA6;\n",
              "    }\n",
              "\n",
              "    .colab-df-buttons div {\n",
              "      margin-bottom: 4px;\n",
              "    }\n",
              "\n",
              "    [theme=dark] .colab-df-convert {\n",
              "      background-color: #3B4455;\n",
              "      fill: #D2E3FC;\n",
              "    }\n",
              "\n",
              "    [theme=dark] .colab-df-convert:hover {\n",
              "      background-color: #434B5C;\n",
              "      box-shadow: 0px 1px 3px 1px rgba(0, 0, 0, 0.15);\n",
              "      filter: drop-shadow(0px 1px 2px rgba(0, 0, 0, 0.3));\n",
              "      fill: #FFFFFF;\n",
              "    }\n",
              "  </style>\n",
              "\n",
              "    <script>\n",
              "      const buttonEl =\n",
              "        document.querySelector('#df-e540ec16-ce32-4fc7-857d-af536231e23a button.colab-df-convert');\n",
              "      buttonEl.style.display =\n",
              "        google.colab.kernel.accessAllowed ? 'block' : 'none';\n",
              "\n",
              "      async function convertToInteractive(key) {\n",
              "        const element = document.querySelector('#df-e540ec16-ce32-4fc7-857d-af536231e23a');\n",
              "        const dataTable =\n",
              "          await google.colab.kernel.invokeFunction('convertToInteractive',\n",
              "                                                    [key], {});\n",
              "        if (!dataTable) return;\n",
              "\n",
              "        const docLinkHtml = 'Like what you see? Visit the ' +\n",
              "          '<a target=\"_blank\" href=https://colab.research.google.com/notebooks/data_table.ipynb>data table notebook</a>'\n",
              "          + ' to learn more about interactive tables.';\n",
              "        element.innerHTML = '';\n",
              "        dataTable['output_type'] = 'display_data';\n",
              "        await google.colab.output.renderOutput(dataTable, element);\n",
              "        const docLink = document.createElement('div');\n",
              "        docLink.innerHTML = docLinkHtml;\n",
              "        element.appendChild(docLink);\n",
              "      }\n",
              "    </script>\n",
              "  </div>\n",
              "\n",
              "\n",
              "<div id=\"df-66cfe38a-ec82-46aa-9141-25b852740b1e\">\n",
              "  <button class=\"colab-df-quickchart\" onclick=\"quickchart('df-66cfe38a-ec82-46aa-9141-25b852740b1e')\"\n",
              "            title=\"Suggest charts\"\n",
              "            style=\"display:none;\">\n",
              "\n",
              "<svg xmlns=\"http://www.w3.org/2000/svg\" height=\"24px\"viewBox=\"0 0 24 24\"\n",
              "     width=\"24px\">\n",
              "    <g>\n",
              "        <path d=\"M19 3H5c-1.1 0-2 .9-2 2v14c0 1.1.9 2 2 2h14c1.1 0 2-.9 2-2V5c0-1.1-.9-2-2-2zM9 17H7v-7h2v7zm4 0h-2V7h2v10zm4 0h-2v-4h2v4z\"/>\n",
              "    </g>\n",
              "</svg>\n",
              "  </button>\n",
              "\n",
              "<style>\n",
              "  .colab-df-quickchart {\n",
              "      --bg-color: #E8F0FE;\n",
              "      --fill-color: #1967D2;\n",
              "      --hover-bg-color: #E2EBFA;\n",
              "      --hover-fill-color: #174EA6;\n",
              "      --disabled-fill-color: #AAA;\n",
              "      --disabled-bg-color: #DDD;\n",
              "  }\n",
              "\n",
              "  [theme=dark] .colab-df-quickchart {\n",
              "      --bg-color: #3B4455;\n",
              "      --fill-color: #D2E3FC;\n",
              "      --hover-bg-color: #434B5C;\n",
              "      --hover-fill-color: #FFFFFF;\n",
              "      --disabled-bg-color: #3B4455;\n",
              "      --disabled-fill-color: #666;\n",
              "  }\n",
              "\n",
              "  .colab-df-quickchart {\n",
              "    background-color: var(--bg-color);\n",
              "    border: none;\n",
              "    border-radius: 50%;\n",
              "    cursor: pointer;\n",
              "    display: none;\n",
              "    fill: var(--fill-color);\n",
              "    height: 32px;\n",
              "    padding: 0;\n",
              "    width: 32px;\n",
              "  }\n",
              "\n",
              "  .colab-df-quickchart:hover {\n",
              "    background-color: var(--hover-bg-color);\n",
              "    box-shadow: 0 1px 2px rgba(60, 64, 67, 0.3), 0 1px 3px 1px rgba(60, 64, 67, 0.15);\n",
              "    fill: var(--button-hover-fill-color);\n",
              "  }\n",
              "\n",
              "  .colab-df-quickchart-complete:disabled,\n",
              "  .colab-df-quickchart-complete:disabled:hover {\n",
              "    background-color: var(--disabled-bg-color);\n",
              "    fill: var(--disabled-fill-color);\n",
              "    box-shadow: none;\n",
              "  }\n",
              "\n",
              "  .colab-df-spinner {\n",
              "    border: 2px solid var(--fill-color);\n",
              "    border-color: transparent;\n",
              "    border-bottom-color: var(--fill-color);\n",
              "    animation:\n",
              "      spin 1s steps(1) infinite;\n",
              "  }\n",
              "\n",
              "  @keyframes spin {\n",
              "    0% {\n",
              "      border-color: transparent;\n",
              "      border-bottom-color: var(--fill-color);\n",
              "      border-left-color: var(--fill-color);\n",
              "    }\n",
              "    20% {\n",
              "      border-color: transparent;\n",
              "      border-left-color: var(--fill-color);\n",
              "      border-top-color: var(--fill-color);\n",
              "    }\n",
              "    30% {\n",
              "      border-color: transparent;\n",
              "      border-left-color: var(--fill-color);\n",
              "      border-top-color: var(--fill-color);\n",
              "      border-right-color: var(--fill-color);\n",
              "    }\n",
              "    40% {\n",
              "      border-color: transparent;\n",
              "      border-right-color: var(--fill-color);\n",
              "      border-top-color: var(--fill-color);\n",
              "    }\n",
              "    60% {\n",
              "      border-color: transparent;\n",
              "      border-right-color: var(--fill-color);\n",
              "    }\n",
              "    80% {\n",
              "      border-color: transparent;\n",
              "      border-right-color: var(--fill-color);\n",
              "      border-bottom-color: var(--fill-color);\n",
              "    }\n",
              "    90% {\n",
              "      border-color: transparent;\n",
              "      border-bottom-color: var(--fill-color);\n",
              "    }\n",
              "  }\n",
              "</style>\n",
              "\n",
              "  <script>\n",
              "    async function quickchart(key) {\n",
              "      const quickchartButtonEl =\n",
              "        document.querySelector('#' + key + ' button');\n",
              "      quickchartButtonEl.disabled = true;  // To prevent multiple clicks.\n",
              "      quickchartButtonEl.classList.add('colab-df-spinner');\n",
              "      try {\n",
              "        const charts = await google.colab.kernel.invokeFunction(\n",
              "            'suggestCharts', [key], {});\n",
              "      } catch (error) {\n",
              "        console.error('Error during call to suggestCharts:', error);\n",
              "      }\n",
              "      quickchartButtonEl.classList.remove('colab-df-spinner');\n",
              "      quickchartButtonEl.classList.add('colab-df-quickchart-complete');\n",
              "    }\n",
              "    (() => {\n",
              "      let quickchartButtonEl =\n",
              "        document.querySelector('#df-66cfe38a-ec82-46aa-9141-25b852740b1e button');\n",
              "      quickchartButtonEl.style.display =\n",
              "        google.colab.kernel.accessAllowed ? 'block' : 'none';\n",
              "    })();\n",
              "  </script>\n",
              "</div>\n",
              "\n",
              "  <div id=\"id_238c0705-45aa-42d6-b8bb-06fc7d6fa6c5\">\n",
              "    <style>\n",
              "      .colab-df-generate {\n",
              "        background-color: #E8F0FE;\n",
              "        border: none;\n",
              "        border-radius: 50%;\n",
              "        cursor: pointer;\n",
              "        display: none;\n",
              "        fill: #1967D2;\n",
              "        height: 32px;\n",
              "        padding: 0 0 0 0;\n",
              "        width: 32px;\n",
              "      }\n",
              "\n",
              "      .colab-df-generate:hover {\n",
              "        background-color: #E2EBFA;\n",
              "        box-shadow: 0px 1px 2px rgba(60, 64, 67, 0.3), 0px 1px 3px 1px rgba(60, 64, 67, 0.15);\n",
              "        fill: #174EA6;\n",
              "      }\n",
              "\n",
              "      [theme=dark] .colab-df-generate {\n",
              "        background-color: #3B4455;\n",
              "        fill: #D2E3FC;\n",
              "      }\n",
              "\n",
              "      [theme=dark] .colab-df-generate:hover {\n",
              "        background-color: #434B5C;\n",
              "        box-shadow: 0px 1px 3px 1px rgba(0, 0, 0, 0.15);\n",
              "        filter: drop-shadow(0px 1px 2px rgba(0, 0, 0, 0.3));\n",
              "        fill: #FFFFFF;\n",
              "      }\n",
              "    </style>\n",
              "    <button class=\"colab-df-generate\" onclick=\"generateWithVariable('trees')\"\n",
              "            title=\"Generate code using this dataframe.\"\n",
              "            style=\"display:none;\">\n",
              "\n",
              "  <svg xmlns=\"http://www.w3.org/2000/svg\" height=\"24px\"viewBox=\"0 0 24 24\"\n",
              "       width=\"24px\">\n",
              "    <path d=\"M7,19H8.4L18.45,9,17,7.55,7,17.6ZM5,21V16.75L18.45,3.32a2,2,0,0,1,2.83,0l1.4,1.43a1.91,1.91,0,0,1,.58,1.4,1.91,1.91,0,0,1-.58,1.4L9.25,21ZM18.45,9,17,7.55Zm-12,3A5.31,5.31,0,0,0,4.9,8.1,5.31,5.31,0,0,0,1,6.5,5.31,5.31,0,0,0,4.9,4.9,5.31,5.31,0,0,0,6.5,1,5.31,5.31,0,0,0,8.1,4.9,5.31,5.31,0,0,0,12,6.5,5.46,5.46,0,0,0,6.5,12Z\"/>\n",
              "  </svg>\n",
              "    </button>\n",
              "    <script>\n",
              "      (() => {\n",
              "      const buttonEl =\n",
              "        document.querySelector('#id_238c0705-45aa-42d6-b8bb-06fc7d6fa6c5 button.colab-df-generate');\n",
              "      buttonEl.style.display =\n",
              "        google.colab.kernel.accessAllowed ? 'block' : 'none';\n",
              "\n",
              "      buttonEl.onclick = () => {\n",
              "        google.colab.notebook.generateWithVariable('trees');\n",
              "      }\n",
              "      })();\n",
              "    </script>\n",
              "  </div>\n",
              "\n",
              "    </div>\n",
              "  </div>\n"
            ]
          },
          "metadata": {},
          "execution_count": 69
        }
      ]
    },
    {
      "cell_type": "code",
      "source": [
        "from google.colab import drive\n",
        "drive.mount('/content/drive')"
      ],
      "metadata": {
        "colab": {
          "base_uri": "https://localhost:8080/"
        },
        "id": "I4Vorh-0eeuq",
        "outputId": "69b9ff7e-1695-44e2-896e-aa4aad368d8b"
      },
      "execution_count": 70,
      "outputs": [
        {
          "output_type": "stream",
          "name": "stdout",
          "text": [
            "Drive already mounted at /content/drive; to attempt to forcibly remount, call drive.mount(\"/content/drive\", force_remount=True).\n"
          ]
        }
      ]
    },
    {
      "cell_type": "code",
      "source": [
        "thefts = pd.read_csv('/content/drive/MyDrive/Colab Notebooks/data/bicycle-thefts - 4326.csv')"
      ],
      "metadata": {
        "id": "7x-qIrASfDDc"
      },
      "execution_count": 71,
      "outputs": []
    },
    {
      "cell_type": "code",
      "source": [
        "thefts.shape"
      ],
      "metadata": {
        "colab": {
          "base_uri": "https://localhost:8080/"
        },
        "id": "HNEYOoN0faWD",
        "outputId": "d52328c3-f889-49c9-9934-1fce07298d43"
      },
      "execution_count": 72,
      "outputs": [
        {
          "output_type": "execute_result",
          "data": {
            "text/plain": [
              "(25569, 33)"
            ]
          },
          "metadata": {},
          "execution_count": 72
        }
      ]
    },
    {
      "cell_type": "code",
      "source": [
        "thefts.dtypes"
      ],
      "metadata": {
        "colab": {
          "base_uri": "https://localhost:8080/"
        },
        "id": "PXDgEpNIfcfP",
        "outputId": "6c35ef96-ac88-4fbe-c724-42ac178015eb"
      },
      "execution_count": 73,
      "outputs": [
        {
          "output_type": "execute_result",
          "data": {
            "text/plain": [
              "_id                        int64\n",
              "OBJECTID                   int64\n",
              "event_unique_id           object\n",
              "Primary_Offence           object\n",
              "Occurrence_Date           object\n",
              "Occurrence_Year            int64\n",
              "Occurrence_Month          object\n",
              "Occurrence_DayOfWeek      object\n",
              "Occurrence_DayOfMonth      int64\n",
              "Occurrence_DayOfYear       int64\n",
              "Occurrence_Hour            int64\n",
              "Report_Date               object\n",
              "Report_Year                int64\n",
              "Report_Month              object\n",
              "Report_DayOfWeek          object\n",
              "Report_DayOfMonth          int64\n",
              "Report_DayOfYear           int64\n",
              "Report_Hour                int64\n",
              "Division                  object\n",
              "City                      object\n",
              "Hood_ID                   object\n",
              "NeighbourhoodName         object\n",
              "Location_Type             object\n",
              "Premises_Type             object\n",
              "Bike_Make                 object\n",
              "Bike_Model                object\n",
              "Bike_Type                 object\n",
              "Bike_Speed                 int64\n",
              "Bike_Colour               object\n",
              "Cost_of_Bike             float64\n",
              "Status                    object\n",
              "ObjectId2                  int64\n",
              "geometry                  object\n",
              "dtype: object"
            ]
          },
          "metadata": {},
          "execution_count": 73
        }
      ]
    },
    {
      "cell_type": "code",
      "source": [
        "thefts.head()"
      ],
      "metadata": {
        "colab": {
          "base_uri": "https://localhost:8080/",
          "height": 434
        },
        "id": "02hGccbpfkhk",
        "outputId": "9af0a17e-4166-4778-f06c-4042b6c9b2a7"
      },
      "execution_count": 74,
      "outputs": [
        {
          "output_type": "execute_result",
          "data": {
            "text/plain": [
              "   _id  OBJECTID event_unique_id        Primary_Offence      Occurrence_Date  \\\n",
              "0    1     17744  GO-20179016397            THEFT UNDER  2017-10-03T00:00:00   \n",
              "1    2     17759  GO-20172033056  THEFT UNDER - BICYCLE  2017-11-08T00:00:00   \n",
              "2    3     17906  GO-20189030822  THEFT UNDER - BICYCLE  2018-09-14T00:00:00   \n",
              "3    4     17962   GO-2015804467            THEFT UNDER  2015-05-07T00:00:00   \n",
              "4    5     17963  GO-20159002781            THEFT UNDER  2015-05-16T00:00:00   \n",
              "\n",
              "   Occurrence_Year Occurrence_Month Occurrence_DayOfWeek  \\\n",
              "0             2017          October              Tuesday   \n",
              "1             2017         November            Wednesday   \n",
              "2             2018        September               Friday   \n",
              "3             2015              May             Thursday   \n",
              "4             2015              May             Saturday   \n",
              "\n",
              "   Occurrence_DayOfMonth  Occurrence_DayOfYear  Occurrence_Hour  \\\n",
              "0                      3                   276               14   \n",
              "1                      8                   312                3   \n",
              "2                     14                   257                9   \n",
              "3                      7                   127               18   \n",
              "4                     16                   136               12   \n",
              "\n",
              "           Report_Date  Report_Year Report_Month Report_DayOfWeek  \\\n",
              "0  2017-10-03T00:00:00         2017      October          Tuesday   \n",
              "1  2017-11-08T00:00:00         2017     November        Wednesday   \n",
              "2  2018-09-17T00:00:00         2018    September           Monday   \n",
              "3  2015-05-14T00:00:00         2015          May         Thursday   \n",
              "4  2015-05-16T00:00:00         2015          May         Saturday   \n",
              "\n",
              "   Report_DayOfMonth  Report_DayOfYear  Report_Hour Division     City Hood_ID  \\\n",
              "0                  3               276           18      D22  Toronto      15   \n",
              "1                  8               312           22      D22  Toronto      15   \n",
              "2                 17               260           16      D22  Toronto      15   \n",
              "3                 14               134           14      D22  Toronto      15   \n",
              "4                 16               136           15      D22  Toronto      15   \n",
              "\n",
              "     NeighbourhoodName                                      Location_Type  \\\n",
              "0  Kingsway South (15)  Streets, Roads, Highways (Bicycle Path, Privat...   \n",
              "1  Kingsway South (15)  Single Home, House (Attach Garage, Cottage, Mo...   \n",
              "2  Kingsway South (15)                                 Ttc Subway Station   \n",
              "3  Kingsway South (15)                                 Ttc Subway Station   \n",
              "4  Kingsway South (15)                                 Ttc Subway Station   \n",
              "\n",
              "  Premises_Type     Bike_Make  Bike_Model Bike_Type  Bike_Speed Bike_Colour  \\\n",
              "0       Outside            GI    ESCAPE 2        OT           7         BLK   \n",
              "1         House  UNKNOWN MAKE         NaN        TO           1         BLK   \n",
              "2       Transit            OT  CROSSTRAIL        MT          24         BLK   \n",
              "3       Transit            GT         NaN        TO          10      BLKDGR   \n",
              "4       Transit            GI         NaN        MT           6         RED   \n",
              "\n",
              "   Cost_of_Bike     Status  ObjectId2  \\\n",
              "0         700.0     STOLEN          1   \n",
              "1        1100.0  RECOVERED          2   \n",
              "2         904.0     STOLEN          3   \n",
              "3         400.0     STOLEN          4   \n",
              "4         600.0     STOLEN          5   \n",
              "\n",
              "                                            geometry  \n",
              "0  {'type': 'Point', 'coordinates': (-79.50655965...  \n",
              "1  {'type': 'Point', 'coordinates': (-79.50484874...  \n",
              "2  {'type': 'Point', 'coordinates': (-79.51170915...  \n",
              "3  {'type': 'Point', 'coordinates': (-79.51170915...  \n",
              "4  {'type': 'Point', 'coordinates': (-79.51132657...  "
            ],
            "text/html": [
              "\n",
              "  <div id=\"df-c033154e-15c7-4cb6-933b-e42571d30383\" class=\"colab-df-container\">\n",
              "    <div>\n",
              "<style scoped>\n",
              "    .dataframe tbody tr th:only-of-type {\n",
              "        vertical-align: middle;\n",
              "    }\n",
              "\n",
              "    .dataframe tbody tr th {\n",
              "        vertical-align: top;\n",
              "    }\n",
              "\n",
              "    .dataframe thead th {\n",
              "        text-align: right;\n",
              "    }\n",
              "</style>\n",
              "<table border=\"1\" class=\"dataframe\">\n",
              "  <thead>\n",
              "    <tr style=\"text-align: right;\">\n",
              "      <th></th>\n",
              "      <th>_id</th>\n",
              "      <th>OBJECTID</th>\n",
              "      <th>event_unique_id</th>\n",
              "      <th>Primary_Offence</th>\n",
              "      <th>Occurrence_Date</th>\n",
              "      <th>Occurrence_Year</th>\n",
              "      <th>Occurrence_Month</th>\n",
              "      <th>Occurrence_DayOfWeek</th>\n",
              "      <th>Occurrence_DayOfMonth</th>\n",
              "      <th>Occurrence_DayOfYear</th>\n",
              "      <th>Occurrence_Hour</th>\n",
              "      <th>Report_Date</th>\n",
              "      <th>Report_Year</th>\n",
              "      <th>Report_Month</th>\n",
              "      <th>Report_DayOfWeek</th>\n",
              "      <th>Report_DayOfMonth</th>\n",
              "      <th>Report_DayOfYear</th>\n",
              "      <th>Report_Hour</th>\n",
              "      <th>Division</th>\n",
              "      <th>City</th>\n",
              "      <th>Hood_ID</th>\n",
              "      <th>NeighbourhoodName</th>\n",
              "      <th>Location_Type</th>\n",
              "      <th>Premises_Type</th>\n",
              "      <th>Bike_Make</th>\n",
              "      <th>Bike_Model</th>\n",
              "      <th>Bike_Type</th>\n",
              "      <th>Bike_Speed</th>\n",
              "      <th>Bike_Colour</th>\n",
              "      <th>Cost_of_Bike</th>\n",
              "      <th>Status</th>\n",
              "      <th>ObjectId2</th>\n",
              "      <th>geometry</th>\n",
              "    </tr>\n",
              "  </thead>\n",
              "  <tbody>\n",
              "    <tr>\n",
              "      <th>0</th>\n",
              "      <td>1</td>\n",
              "      <td>17744</td>\n",
              "      <td>GO-20179016397</td>\n",
              "      <td>THEFT UNDER</td>\n",
              "      <td>2017-10-03T00:00:00</td>\n",
              "      <td>2017</td>\n",
              "      <td>October</td>\n",
              "      <td>Tuesday</td>\n",
              "      <td>3</td>\n",
              "      <td>276</td>\n",
              "      <td>14</td>\n",
              "      <td>2017-10-03T00:00:00</td>\n",
              "      <td>2017</td>\n",
              "      <td>October</td>\n",
              "      <td>Tuesday</td>\n",
              "      <td>3</td>\n",
              "      <td>276</td>\n",
              "      <td>18</td>\n",
              "      <td>D22</td>\n",
              "      <td>Toronto</td>\n",
              "      <td>15</td>\n",
              "      <td>Kingsway South (15)</td>\n",
              "      <td>Streets, Roads, Highways (Bicycle Path, Privat...</td>\n",
              "      <td>Outside</td>\n",
              "      <td>GI</td>\n",
              "      <td>ESCAPE 2</td>\n",
              "      <td>OT</td>\n",
              "      <td>7</td>\n",
              "      <td>BLK</td>\n",
              "      <td>700.0</td>\n",
              "      <td>STOLEN</td>\n",
              "      <td>1</td>\n",
              "      <td>{'type': 'Point', 'coordinates': (-79.50655965...</td>\n",
              "    </tr>\n",
              "    <tr>\n",
              "      <th>1</th>\n",
              "      <td>2</td>\n",
              "      <td>17759</td>\n",
              "      <td>GO-20172033056</td>\n",
              "      <td>THEFT UNDER - BICYCLE</td>\n",
              "      <td>2017-11-08T00:00:00</td>\n",
              "      <td>2017</td>\n",
              "      <td>November</td>\n",
              "      <td>Wednesday</td>\n",
              "      <td>8</td>\n",
              "      <td>312</td>\n",
              "      <td>3</td>\n",
              "      <td>2017-11-08T00:00:00</td>\n",
              "      <td>2017</td>\n",
              "      <td>November</td>\n",
              "      <td>Wednesday</td>\n",
              "      <td>8</td>\n",
              "      <td>312</td>\n",
              "      <td>22</td>\n",
              "      <td>D22</td>\n",
              "      <td>Toronto</td>\n",
              "      <td>15</td>\n",
              "      <td>Kingsway South (15)</td>\n",
              "      <td>Single Home, House (Attach Garage, Cottage, Mo...</td>\n",
              "      <td>House</td>\n",
              "      <td>UNKNOWN MAKE</td>\n",
              "      <td>NaN</td>\n",
              "      <td>TO</td>\n",
              "      <td>1</td>\n",
              "      <td>BLK</td>\n",
              "      <td>1100.0</td>\n",
              "      <td>RECOVERED</td>\n",
              "      <td>2</td>\n",
              "      <td>{'type': 'Point', 'coordinates': (-79.50484874...</td>\n",
              "    </tr>\n",
              "    <tr>\n",
              "      <th>2</th>\n",
              "      <td>3</td>\n",
              "      <td>17906</td>\n",
              "      <td>GO-20189030822</td>\n",
              "      <td>THEFT UNDER - BICYCLE</td>\n",
              "      <td>2018-09-14T00:00:00</td>\n",
              "      <td>2018</td>\n",
              "      <td>September</td>\n",
              "      <td>Friday</td>\n",
              "      <td>14</td>\n",
              "      <td>257</td>\n",
              "      <td>9</td>\n",
              "      <td>2018-09-17T00:00:00</td>\n",
              "      <td>2018</td>\n",
              "      <td>September</td>\n",
              "      <td>Monday</td>\n",
              "      <td>17</td>\n",
              "      <td>260</td>\n",
              "      <td>16</td>\n",
              "      <td>D22</td>\n",
              "      <td>Toronto</td>\n",
              "      <td>15</td>\n",
              "      <td>Kingsway South (15)</td>\n",
              "      <td>Ttc Subway Station</td>\n",
              "      <td>Transit</td>\n",
              "      <td>OT</td>\n",
              "      <td>CROSSTRAIL</td>\n",
              "      <td>MT</td>\n",
              "      <td>24</td>\n",
              "      <td>BLK</td>\n",
              "      <td>904.0</td>\n",
              "      <td>STOLEN</td>\n",
              "      <td>3</td>\n",
              "      <td>{'type': 'Point', 'coordinates': (-79.51170915...</td>\n",
              "    </tr>\n",
              "    <tr>\n",
              "      <th>3</th>\n",
              "      <td>4</td>\n",
              "      <td>17962</td>\n",
              "      <td>GO-2015804467</td>\n",
              "      <td>THEFT UNDER</td>\n",
              "      <td>2015-05-07T00:00:00</td>\n",
              "      <td>2015</td>\n",
              "      <td>May</td>\n",
              "      <td>Thursday</td>\n",
              "      <td>7</td>\n",
              "      <td>127</td>\n",
              "      <td>18</td>\n",
              "      <td>2015-05-14T00:00:00</td>\n",
              "      <td>2015</td>\n",
              "      <td>May</td>\n",
              "      <td>Thursday</td>\n",
              "      <td>14</td>\n",
              "      <td>134</td>\n",
              "      <td>14</td>\n",
              "      <td>D22</td>\n",
              "      <td>Toronto</td>\n",
              "      <td>15</td>\n",
              "      <td>Kingsway South (15)</td>\n",
              "      <td>Ttc Subway Station</td>\n",
              "      <td>Transit</td>\n",
              "      <td>GT</td>\n",
              "      <td>NaN</td>\n",
              "      <td>TO</td>\n",
              "      <td>10</td>\n",
              "      <td>BLKDGR</td>\n",
              "      <td>400.0</td>\n",
              "      <td>STOLEN</td>\n",
              "      <td>4</td>\n",
              "      <td>{'type': 'Point', 'coordinates': (-79.51170915...</td>\n",
              "    </tr>\n",
              "    <tr>\n",
              "      <th>4</th>\n",
              "      <td>5</td>\n",
              "      <td>17963</td>\n",
              "      <td>GO-20159002781</td>\n",
              "      <td>THEFT UNDER</td>\n",
              "      <td>2015-05-16T00:00:00</td>\n",
              "      <td>2015</td>\n",
              "      <td>May</td>\n",
              "      <td>Saturday</td>\n",
              "      <td>16</td>\n",
              "      <td>136</td>\n",
              "      <td>12</td>\n",
              "      <td>2015-05-16T00:00:00</td>\n",
              "      <td>2015</td>\n",
              "      <td>May</td>\n",
              "      <td>Saturday</td>\n",
              "      <td>16</td>\n",
              "      <td>136</td>\n",
              "      <td>15</td>\n",
              "      <td>D22</td>\n",
              "      <td>Toronto</td>\n",
              "      <td>15</td>\n",
              "      <td>Kingsway South (15)</td>\n",
              "      <td>Ttc Subway Station</td>\n",
              "      <td>Transit</td>\n",
              "      <td>GI</td>\n",
              "      <td>NaN</td>\n",
              "      <td>MT</td>\n",
              "      <td>6</td>\n",
              "      <td>RED</td>\n",
              "      <td>600.0</td>\n",
              "      <td>STOLEN</td>\n",
              "      <td>5</td>\n",
              "      <td>{'type': 'Point', 'coordinates': (-79.51132657...</td>\n",
              "    </tr>\n",
              "  </tbody>\n",
              "</table>\n",
              "</div>\n",
              "    <div class=\"colab-df-buttons\">\n",
              "\n",
              "  <div class=\"colab-df-container\">\n",
              "    <button class=\"colab-df-convert\" onclick=\"convertToInteractive('df-c033154e-15c7-4cb6-933b-e42571d30383')\"\n",
              "            title=\"Convert this dataframe to an interactive table.\"\n",
              "            style=\"display:none;\">\n",
              "\n",
              "  <svg xmlns=\"http://www.w3.org/2000/svg\" height=\"24px\" viewBox=\"0 -960 960 960\">\n",
              "    <path d=\"M120-120v-720h720v720H120Zm60-500h600v-160H180v160Zm220 220h160v-160H400v160Zm0 220h160v-160H400v160ZM180-400h160v-160H180v160Zm440 0h160v-160H620v160ZM180-180h160v-160H180v160Zm440 0h160v-160H620v160Z\"/>\n",
              "  </svg>\n",
              "    </button>\n",
              "\n",
              "  <style>\n",
              "    .colab-df-container {\n",
              "      display:flex;\n",
              "      gap: 12px;\n",
              "    }\n",
              "\n",
              "    .colab-df-convert {\n",
              "      background-color: #E8F0FE;\n",
              "      border: none;\n",
              "      border-radius: 50%;\n",
              "      cursor: pointer;\n",
              "      display: none;\n",
              "      fill: #1967D2;\n",
              "      height: 32px;\n",
              "      padding: 0 0 0 0;\n",
              "      width: 32px;\n",
              "    }\n",
              "\n",
              "    .colab-df-convert:hover {\n",
              "      background-color: #E2EBFA;\n",
              "      box-shadow: 0px 1px 2px rgba(60, 64, 67, 0.3), 0px 1px 3px 1px rgba(60, 64, 67, 0.15);\n",
              "      fill: #174EA6;\n",
              "    }\n",
              "\n",
              "    .colab-df-buttons div {\n",
              "      margin-bottom: 4px;\n",
              "    }\n",
              "\n",
              "    [theme=dark] .colab-df-convert {\n",
              "      background-color: #3B4455;\n",
              "      fill: #D2E3FC;\n",
              "    }\n",
              "\n",
              "    [theme=dark] .colab-df-convert:hover {\n",
              "      background-color: #434B5C;\n",
              "      box-shadow: 0px 1px 3px 1px rgba(0, 0, 0, 0.15);\n",
              "      filter: drop-shadow(0px 1px 2px rgba(0, 0, 0, 0.3));\n",
              "      fill: #FFFFFF;\n",
              "    }\n",
              "  </style>\n",
              "\n",
              "    <script>\n",
              "      const buttonEl =\n",
              "        document.querySelector('#df-c033154e-15c7-4cb6-933b-e42571d30383 button.colab-df-convert');\n",
              "      buttonEl.style.display =\n",
              "        google.colab.kernel.accessAllowed ? 'block' : 'none';\n",
              "\n",
              "      async function convertToInteractive(key) {\n",
              "        const element = document.querySelector('#df-c033154e-15c7-4cb6-933b-e42571d30383');\n",
              "        const dataTable =\n",
              "          await google.colab.kernel.invokeFunction('convertToInteractive',\n",
              "                                                    [key], {});\n",
              "        if (!dataTable) return;\n",
              "\n",
              "        const docLinkHtml = 'Like what you see? Visit the ' +\n",
              "          '<a target=\"_blank\" href=https://colab.research.google.com/notebooks/data_table.ipynb>data table notebook</a>'\n",
              "          + ' to learn more about interactive tables.';\n",
              "        element.innerHTML = '';\n",
              "        dataTable['output_type'] = 'display_data';\n",
              "        await google.colab.output.renderOutput(dataTable, element);\n",
              "        const docLink = document.createElement('div');\n",
              "        docLink.innerHTML = docLinkHtml;\n",
              "        element.appendChild(docLink);\n",
              "      }\n",
              "    </script>\n",
              "  </div>\n",
              "\n",
              "\n",
              "<div id=\"df-146c6f81-b1ef-42dc-bd66-d0521e1385f4\">\n",
              "  <button class=\"colab-df-quickchart\" onclick=\"quickchart('df-146c6f81-b1ef-42dc-bd66-d0521e1385f4')\"\n",
              "            title=\"Suggest charts\"\n",
              "            style=\"display:none;\">\n",
              "\n",
              "<svg xmlns=\"http://www.w3.org/2000/svg\" height=\"24px\"viewBox=\"0 0 24 24\"\n",
              "     width=\"24px\">\n",
              "    <g>\n",
              "        <path d=\"M19 3H5c-1.1 0-2 .9-2 2v14c0 1.1.9 2 2 2h14c1.1 0 2-.9 2-2V5c0-1.1-.9-2-2-2zM9 17H7v-7h2v7zm4 0h-2V7h2v10zm4 0h-2v-4h2v4z\"/>\n",
              "    </g>\n",
              "</svg>\n",
              "  </button>\n",
              "\n",
              "<style>\n",
              "  .colab-df-quickchart {\n",
              "      --bg-color: #E8F0FE;\n",
              "      --fill-color: #1967D2;\n",
              "      --hover-bg-color: #E2EBFA;\n",
              "      --hover-fill-color: #174EA6;\n",
              "      --disabled-fill-color: #AAA;\n",
              "      --disabled-bg-color: #DDD;\n",
              "  }\n",
              "\n",
              "  [theme=dark] .colab-df-quickchart {\n",
              "      --bg-color: #3B4455;\n",
              "      --fill-color: #D2E3FC;\n",
              "      --hover-bg-color: #434B5C;\n",
              "      --hover-fill-color: #FFFFFF;\n",
              "      --disabled-bg-color: #3B4455;\n",
              "      --disabled-fill-color: #666;\n",
              "  }\n",
              "\n",
              "  .colab-df-quickchart {\n",
              "    background-color: var(--bg-color);\n",
              "    border: none;\n",
              "    border-radius: 50%;\n",
              "    cursor: pointer;\n",
              "    display: none;\n",
              "    fill: var(--fill-color);\n",
              "    height: 32px;\n",
              "    padding: 0;\n",
              "    width: 32px;\n",
              "  }\n",
              "\n",
              "  .colab-df-quickchart:hover {\n",
              "    background-color: var(--hover-bg-color);\n",
              "    box-shadow: 0 1px 2px rgba(60, 64, 67, 0.3), 0 1px 3px 1px rgba(60, 64, 67, 0.15);\n",
              "    fill: var(--button-hover-fill-color);\n",
              "  }\n",
              "\n",
              "  .colab-df-quickchart-complete:disabled,\n",
              "  .colab-df-quickchart-complete:disabled:hover {\n",
              "    background-color: var(--disabled-bg-color);\n",
              "    fill: var(--disabled-fill-color);\n",
              "    box-shadow: none;\n",
              "  }\n",
              "\n",
              "  .colab-df-spinner {\n",
              "    border: 2px solid var(--fill-color);\n",
              "    border-color: transparent;\n",
              "    border-bottom-color: var(--fill-color);\n",
              "    animation:\n",
              "      spin 1s steps(1) infinite;\n",
              "  }\n",
              "\n",
              "  @keyframes spin {\n",
              "    0% {\n",
              "      border-color: transparent;\n",
              "      border-bottom-color: var(--fill-color);\n",
              "      border-left-color: var(--fill-color);\n",
              "    }\n",
              "    20% {\n",
              "      border-color: transparent;\n",
              "      border-left-color: var(--fill-color);\n",
              "      border-top-color: var(--fill-color);\n",
              "    }\n",
              "    30% {\n",
              "      border-color: transparent;\n",
              "      border-left-color: var(--fill-color);\n",
              "      border-top-color: var(--fill-color);\n",
              "      border-right-color: var(--fill-color);\n",
              "    }\n",
              "    40% {\n",
              "      border-color: transparent;\n",
              "      border-right-color: var(--fill-color);\n",
              "      border-top-color: var(--fill-color);\n",
              "    }\n",
              "    60% {\n",
              "      border-color: transparent;\n",
              "      border-right-color: var(--fill-color);\n",
              "    }\n",
              "    80% {\n",
              "      border-color: transparent;\n",
              "      border-right-color: var(--fill-color);\n",
              "      border-bottom-color: var(--fill-color);\n",
              "    }\n",
              "    90% {\n",
              "      border-color: transparent;\n",
              "      border-bottom-color: var(--fill-color);\n",
              "    }\n",
              "  }\n",
              "</style>\n",
              "\n",
              "  <script>\n",
              "    async function quickchart(key) {\n",
              "      const quickchartButtonEl =\n",
              "        document.querySelector('#' + key + ' button');\n",
              "      quickchartButtonEl.disabled = true;  // To prevent multiple clicks.\n",
              "      quickchartButtonEl.classList.add('colab-df-spinner');\n",
              "      try {\n",
              "        const charts = await google.colab.kernel.invokeFunction(\n",
              "            'suggestCharts', [key], {});\n",
              "      } catch (error) {\n",
              "        console.error('Error during call to suggestCharts:', error);\n",
              "      }\n",
              "      quickchartButtonEl.classList.remove('colab-df-spinner');\n",
              "      quickchartButtonEl.classList.add('colab-df-quickchart-complete');\n",
              "    }\n",
              "    (() => {\n",
              "      let quickchartButtonEl =\n",
              "        document.querySelector('#df-146c6f81-b1ef-42dc-bd66-d0521e1385f4 button');\n",
              "      quickchartButtonEl.style.display =\n",
              "        google.colab.kernel.accessAllowed ? 'block' : 'none';\n",
              "    })();\n",
              "  </script>\n",
              "</div>\n",
              "\n",
              "    </div>\n",
              "  </div>\n"
            ]
          },
          "metadata": {},
          "execution_count": 74
        }
      ]
    },
    {
      "cell_type": "code",
      "source": [
        "thefts.tail(2)"
      ],
      "metadata": {
        "colab": {
          "base_uri": "https://localhost:8080/",
          "height": 254
        },
        "id": "WjUsq-gPf00f",
        "outputId": "2f2f28f8-411f-4243-b139-b626adf744ba"
      },
      "execution_count": 75,
      "outputs": [
        {
          "output_type": "execute_result",
          "data": {
            "text/plain": [
              "         _id  OBJECTID event_unique_id        Primary_Offence  \\\n",
              "25567  25568     11695  GO-20161170896            THEFT UNDER   \n",
              "25568  25569     11883  GO-20169007653  THEFT UNDER - BICYCLE   \n",
              "\n",
              "           Occurrence_Date  Occurrence_Year Occurrence_Month  \\\n",
              "25567  2016-07-04T00:00:00             2016             July   \n",
              "25568  2016-07-22T00:00:00             2016             July   \n",
              "\n",
              "      Occurrence_DayOfWeek  Occurrence_DayOfMonth  Occurrence_DayOfYear  \\\n",
              "25567               Monday                      4                   186   \n",
              "25568               Friday                     22                   204   \n",
              "\n",
              "       Occurrence_Hour          Report_Date  Report_Year Report_Month  \\\n",
              "25567               20  2016-07-04T00:00:00         2016         July   \n",
              "25568                9  2016-07-23T00:00:00         2016         July   \n",
              "\n",
              "      Report_DayOfWeek  Report_DayOfMonth  Report_DayOfYear  Report_Hour  \\\n",
              "25567           Monday                  4               186           20   \n",
              "25568         Saturday                 23               205           11   \n",
              "\n",
              "      Division     City Hood_ID NeighbourhoodName  \\\n",
              "25567      D42  Toronto     132     Malvern (132)   \n",
              "25568      D42  Toronto     132     Malvern (132)   \n",
              "\n",
              "                                           Location_Type Premises_Type  \\\n",
              "25567  Other Commercial / Corporate Places (For Profi...    Commercial   \n",
              "25568  Parking Lots (Apt., Commercial Or Non-Commercial)       Outside   \n",
              "\n",
              "          Bike_Make       Bike_Model Bike_Type  Bike_Speed Bike_Colour  \\\n",
              "25567  UNKNOWN MAKE              NaN        SC           1         NaN   \n",
              "25568            SU  ASCENT MOUNTAIN        MT          21         ONG   \n",
              "\n",
              "       Cost_of_Bike  Status  ObjectId2  \\\n",
              "25567        3000.0  STOLEN      25568   \n",
              "25568         200.0  STOLEN      25569   \n",
              "\n",
              "                                                geometry  \n",
              "25567  {'type': 'Point', 'coordinates': (-79.20060719...  \n",
              "25568  {'type': 'Point', 'coordinates': (-79.23734742...  "
            ],
            "text/html": [
              "\n",
              "  <div id=\"df-6185c195-d648-41f9-bef9-2403d9cb85c8\" class=\"colab-df-container\">\n",
              "    <div>\n",
              "<style scoped>\n",
              "    .dataframe tbody tr th:only-of-type {\n",
              "        vertical-align: middle;\n",
              "    }\n",
              "\n",
              "    .dataframe tbody tr th {\n",
              "        vertical-align: top;\n",
              "    }\n",
              "\n",
              "    .dataframe thead th {\n",
              "        text-align: right;\n",
              "    }\n",
              "</style>\n",
              "<table border=\"1\" class=\"dataframe\">\n",
              "  <thead>\n",
              "    <tr style=\"text-align: right;\">\n",
              "      <th></th>\n",
              "      <th>_id</th>\n",
              "      <th>OBJECTID</th>\n",
              "      <th>event_unique_id</th>\n",
              "      <th>Primary_Offence</th>\n",
              "      <th>Occurrence_Date</th>\n",
              "      <th>Occurrence_Year</th>\n",
              "      <th>Occurrence_Month</th>\n",
              "      <th>Occurrence_DayOfWeek</th>\n",
              "      <th>Occurrence_DayOfMonth</th>\n",
              "      <th>Occurrence_DayOfYear</th>\n",
              "      <th>Occurrence_Hour</th>\n",
              "      <th>Report_Date</th>\n",
              "      <th>Report_Year</th>\n",
              "      <th>Report_Month</th>\n",
              "      <th>Report_DayOfWeek</th>\n",
              "      <th>Report_DayOfMonth</th>\n",
              "      <th>Report_DayOfYear</th>\n",
              "      <th>Report_Hour</th>\n",
              "      <th>Division</th>\n",
              "      <th>City</th>\n",
              "      <th>Hood_ID</th>\n",
              "      <th>NeighbourhoodName</th>\n",
              "      <th>Location_Type</th>\n",
              "      <th>Premises_Type</th>\n",
              "      <th>Bike_Make</th>\n",
              "      <th>Bike_Model</th>\n",
              "      <th>Bike_Type</th>\n",
              "      <th>Bike_Speed</th>\n",
              "      <th>Bike_Colour</th>\n",
              "      <th>Cost_of_Bike</th>\n",
              "      <th>Status</th>\n",
              "      <th>ObjectId2</th>\n",
              "      <th>geometry</th>\n",
              "    </tr>\n",
              "  </thead>\n",
              "  <tbody>\n",
              "    <tr>\n",
              "      <th>25567</th>\n",
              "      <td>25568</td>\n",
              "      <td>11695</td>\n",
              "      <td>GO-20161170896</td>\n",
              "      <td>THEFT UNDER</td>\n",
              "      <td>2016-07-04T00:00:00</td>\n",
              "      <td>2016</td>\n",
              "      <td>July</td>\n",
              "      <td>Monday</td>\n",
              "      <td>4</td>\n",
              "      <td>186</td>\n",
              "      <td>20</td>\n",
              "      <td>2016-07-04T00:00:00</td>\n",
              "      <td>2016</td>\n",
              "      <td>July</td>\n",
              "      <td>Monday</td>\n",
              "      <td>4</td>\n",
              "      <td>186</td>\n",
              "      <td>20</td>\n",
              "      <td>D42</td>\n",
              "      <td>Toronto</td>\n",
              "      <td>132</td>\n",
              "      <td>Malvern (132)</td>\n",
              "      <td>Other Commercial / Corporate Places (For Profi...</td>\n",
              "      <td>Commercial</td>\n",
              "      <td>UNKNOWN MAKE</td>\n",
              "      <td>NaN</td>\n",
              "      <td>SC</td>\n",
              "      <td>1</td>\n",
              "      <td>NaN</td>\n",
              "      <td>3000.0</td>\n",
              "      <td>STOLEN</td>\n",
              "      <td>25568</td>\n",
              "      <td>{'type': 'Point', 'coordinates': (-79.20060719...</td>\n",
              "    </tr>\n",
              "    <tr>\n",
              "      <th>25568</th>\n",
              "      <td>25569</td>\n",
              "      <td>11883</td>\n",
              "      <td>GO-20169007653</td>\n",
              "      <td>THEFT UNDER - BICYCLE</td>\n",
              "      <td>2016-07-22T00:00:00</td>\n",
              "      <td>2016</td>\n",
              "      <td>July</td>\n",
              "      <td>Friday</td>\n",
              "      <td>22</td>\n",
              "      <td>204</td>\n",
              "      <td>9</td>\n",
              "      <td>2016-07-23T00:00:00</td>\n",
              "      <td>2016</td>\n",
              "      <td>July</td>\n",
              "      <td>Saturday</td>\n",
              "      <td>23</td>\n",
              "      <td>205</td>\n",
              "      <td>11</td>\n",
              "      <td>D42</td>\n",
              "      <td>Toronto</td>\n",
              "      <td>132</td>\n",
              "      <td>Malvern (132)</td>\n",
              "      <td>Parking Lots (Apt., Commercial Or Non-Commercial)</td>\n",
              "      <td>Outside</td>\n",
              "      <td>SU</td>\n",
              "      <td>ASCENT MOUNTAIN</td>\n",
              "      <td>MT</td>\n",
              "      <td>21</td>\n",
              "      <td>ONG</td>\n",
              "      <td>200.0</td>\n",
              "      <td>STOLEN</td>\n",
              "      <td>25569</td>\n",
              "      <td>{'type': 'Point', 'coordinates': (-79.23734742...</td>\n",
              "    </tr>\n",
              "  </tbody>\n",
              "</table>\n",
              "</div>\n",
              "    <div class=\"colab-df-buttons\">\n",
              "\n",
              "  <div class=\"colab-df-container\">\n",
              "    <button class=\"colab-df-convert\" onclick=\"convertToInteractive('df-6185c195-d648-41f9-bef9-2403d9cb85c8')\"\n",
              "            title=\"Convert this dataframe to an interactive table.\"\n",
              "            style=\"display:none;\">\n",
              "\n",
              "  <svg xmlns=\"http://www.w3.org/2000/svg\" height=\"24px\" viewBox=\"0 -960 960 960\">\n",
              "    <path d=\"M120-120v-720h720v720H120Zm60-500h600v-160H180v160Zm220 220h160v-160H400v160Zm0 220h160v-160H400v160ZM180-400h160v-160H180v160Zm440 0h160v-160H620v160ZM180-180h160v-160H180v160Zm440 0h160v-160H620v160Z\"/>\n",
              "  </svg>\n",
              "    </button>\n",
              "\n",
              "  <style>\n",
              "    .colab-df-container {\n",
              "      display:flex;\n",
              "      gap: 12px;\n",
              "    }\n",
              "\n",
              "    .colab-df-convert {\n",
              "      background-color: #E8F0FE;\n",
              "      border: none;\n",
              "      border-radius: 50%;\n",
              "      cursor: pointer;\n",
              "      display: none;\n",
              "      fill: #1967D2;\n",
              "      height: 32px;\n",
              "      padding: 0 0 0 0;\n",
              "      width: 32px;\n",
              "    }\n",
              "\n",
              "    .colab-df-convert:hover {\n",
              "      background-color: #E2EBFA;\n",
              "      box-shadow: 0px 1px 2px rgba(60, 64, 67, 0.3), 0px 1px 3px 1px rgba(60, 64, 67, 0.15);\n",
              "      fill: #174EA6;\n",
              "    }\n",
              "\n",
              "    .colab-df-buttons div {\n",
              "      margin-bottom: 4px;\n",
              "    }\n",
              "\n",
              "    [theme=dark] .colab-df-convert {\n",
              "      background-color: #3B4455;\n",
              "      fill: #D2E3FC;\n",
              "    }\n",
              "\n",
              "    [theme=dark] .colab-df-convert:hover {\n",
              "      background-color: #434B5C;\n",
              "      box-shadow: 0px 1px 3px 1px rgba(0, 0, 0, 0.15);\n",
              "      filter: drop-shadow(0px 1px 2px rgba(0, 0, 0, 0.3));\n",
              "      fill: #FFFFFF;\n",
              "    }\n",
              "  </style>\n",
              "\n",
              "    <script>\n",
              "      const buttonEl =\n",
              "        document.querySelector('#df-6185c195-d648-41f9-bef9-2403d9cb85c8 button.colab-df-convert');\n",
              "      buttonEl.style.display =\n",
              "        google.colab.kernel.accessAllowed ? 'block' : 'none';\n",
              "\n",
              "      async function convertToInteractive(key) {\n",
              "        const element = document.querySelector('#df-6185c195-d648-41f9-bef9-2403d9cb85c8');\n",
              "        const dataTable =\n",
              "          await google.colab.kernel.invokeFunction('convertToInteractive',\n",
              "                                                    [key], {});\n",
              "        if (!dataTable) return;\n",
              "\n",
              "        const docLinkHtml = 'Like what you see? Visit the ' +\n",
              "          '<a target=\"_blank\" href=https://colab.research.google.com/notebooks/data_table.ipynb>data table notebook</a>'\n",
              "          + ' to learn more about interactive tables.';\n",
              "        element.innerHTML = '';\n",
              "        dataTable['output_type'] = 'display_data';\n",
              "        await google.colab.output.renderOutput(dataTable, element);\n",
              "        const docLink = document.createElement('div');\n",
              "        docLink.innerHTML = docLinkHtml;\n",
              "        element.appendChild(docLink);\n",
              "      }\n",
              "    </script>\n",
              "  </div>\n",
              "\n",
              "\n",
              "<div id=\"df-a3c9e86a-11b8-4af5-8f06-e5eb6700f14f\">\n",
              "  <button class=\"colab-df-quickchart\" onclick=\"quickchart('df-a3c9e86a-11b8-4af5-8f06-e5eb6700f14f')\"\n",
              "            title=\"Suggest charts\"\n",
              "            style=\"display:none;\">\n",
              "\n",
              "<svg xmlns=\"http://www.w3.org/2000/svg\" height=\"24px\"viewBox=\"0 0 24 24\"\n",
              "     width=\"24px\">\n",
              "    <g>\n",
              "        <path d=\"M19 3H5c-1.1 0-2 .9-2 2v14c0 1.1.9 2 2 2h14c1.1 0 2-.9 2-2V5c0-1.1-.9-2-2-2zM9 17H7v-7h2v7zm4 0h-2V7h2v10zm4 0h-2v-4h2v4z\"/>\n",
              "    </g>\n",
              "</svg>\n",
              "  </button>\n",
              "\n",
              "<style>\n",
              "  .colab-df-quickchart {\n",
              "      --bg-color: #E8F0FE;\n",
              "      --fill-color: #1967D2;\n",
              "      --hover-bg-color: #E2EBFA;\n",
              "      --hover-fill-color: #174EA6;\n",
              "      --disabled-fill-color: #AAA;\n",
              "      --disabled-bg-color: #DDD;\n",
              "  }\n",
              "\n",
              "  [theme=dark] .colab-df-quickchart {\n",
              "      --bg-color: #3B4455;\n",
              "      --fill-color: #D2E3FC;\n",
              "      --hover-bg-color: #434B5C;\n",
              "      --hover-fill-color: #FFFFFF;\n",
              "      --disabled-bg-color: #3B4455;\n",
              "      --disabled-fill-color: #666;\n",
              "  }\n",
              "\n",
              "  .colab-df-quickchart {\n",
              "    background-color: var(--bg-color);\n",
              "    border: none;\n",
              "    border-radius: 50%;\n",
              "    cursor: pointer;\n",
              "    display: none;\n",
              "    fill: var(--fill-color);\n",
              "    height: 32px;\n",
              "    padding: 0;\n",
              "    width: 32px;\n",
              "  }\n",
              "\n",
              "  .colab-df-quickchart:hover {\n",
              "    background-color: var(--hover-bg-color);\n",
              "    box-shadow: 0 1px 2px rgba(60, 64, 67, 0.3), 0 1px 3px 1px rgba(60, 64, 67, 0.15);\n",
              "    fill: var(--button-hover-fill-color);\n",
              "  }\n",
              "\n",
              "  .colab-df-quickchart-complete:disabled,\n",
              "  .colab-df-quickchart-complete:disabled:hover {\n",
              "    background-color: var(--disabled-bg-color);\n",
              "    fill: var(--disabled-fill-color);\n",
              "    box-shadow: none;\n",
              "  }\n",
              "\n",
              "  .colab-df-spinner {\n",
              "    border: 2px solid var(--fill-color);\n",
              "    border-color: transparent;\n",
              "    border-bottom-color: var(--fill-color);\n",
              "    animation:\n",
              "      spin 1s steps(1) infinite;\n",
              "  }\n",
              "\n",
              "  @keyframes spin {\n",
              "    0% {\n",
              "      border-color: transparent;\n",
              "      border-bottom-color: var(--fill-color);\n",
              "      border-left-color: var(--fill-color);\n",
              "    }\n",
              "    20% {\n",
              "      border-color: transparent;\n",
              "      border-left-color: var(--fill-color);\n",
              "      border-top-color: var(--fill-color);\n",
              "    }\n",
              "    30% {\n",
              "      border-color: transparent;\n",
              "      border-left-color: var(--fill-color);\n",
              "      border-top-color: var(--fill-color);\n",
              "      border-right-color: var(--fill-color);\n",
              "    }\n",
              "    40% {\n",
              "      border-color: transparent;\n",
              "      border-right-color: var(--fill-color);\n",
              "      border-top-color: var(--fill-color);\n",
              "    }\n",
              "    60% {\n",
              "      border-color: transparent;\n",
              "      border-right-color: var(--fill-color);\n",
              "    }\n",
              "    80% {\n",
              "      border-color: transparent;\n",
              "      border-right-color: var(--fill-color);\n",
              "      border-bottom-color: var(--fill-color);\n",
              "    }\n",
              "    90% {\n",
              "      border-color: transparent;\n",
              "      border-bottom-color: var(--fill-color);\n",
              "    }\n",
              "  }\n",
              "</style>\n",
              "\n",
              "  <script>\n",
              "    async function quickchart(key) {\n",
              "      const quickchartButtonEl =\n",
              "        document.querySelector('#' + key + ' button');\n",
              "      quickchartButtonEl.disabled = true;  // To prevent multiple clicks.\n",
              "      quickchartButtonEl.classList.add('colab-df-spinner');\n",
              "      try {\n",
              "        const charts = await google.colab.kernel.invokeFunction(\n",
              "            'suggestCharts', [key], {});\n",
              "      } catch (error) {\n",
              "        console.error('Error during call to suggestCharts:', error);\n",
              "      }\n",
              "      quickchartButtonEl.classList.remove('colab-df-spinner');\n",
              "      quickchartButtonEl.classList.add('colab-df-quickchart-complete');\n",
              "    }\n",
              "    (() => {\n",
              "      let quickchartButtonEl =\n",
              "        document.querySelector('#df-a3c9e86a-11b8-4af5-8f06-e5eb6700f14f button');\n",
              "      quickchartButtonEl.style.display =\n",
              "        google.colab.kernel.accessAllowed ? 'block' : 'none';\n",
              "    })();\n",
              "  </script>\n",
              "</div>\n",
              "\n",
              "    </div>\n",
              "  </div>\n"
            ]
          },
          "metadata": {},
          "execution_count": 75
        }
      ]
    },
    {
      "cell_type": "code",
      "source": [
        "thefts = thefts.rename(columns=str.lower)"
      ],
      "metadata": {
        "id": "SkmMVFAif-53"
      },
      "execution_count": 76,
      "outputs": []
    },
    {
      "cell_type": "code",
      "source": [
        "thefts.head()"
      ],
      "metadata": {
        "colab": {
          "base_uri": "https://localhost:8080/",
          "height": 434
        },
        "id": "k5vhHIE3gbtj",
        "outputId": "84993be1-b3c4-4eb6-e12c-581d176adf65"
      },
      "execution_count": 77,
      "outputs": [
        {
          "output_type": "execute_result",
          "data": {
            "text/plain": [
              "   _id  objectid event_unique_id        primary_offence      occurrence_date  \\\n",
              "0    1     17744  GO-20179016397            THEFT UNDER  2017-10-03T00:00:00   \n",
              "1    2     17759  GO-20172033056  THEFT UNDER - BICYCLE  2017-11-08T00:00:00   \n",
              "2    3     17906  GO-20189030822  THEFT UNDER - BICYCLE  2018-09-14T00:00:00   \n",
              "3    4     17962   GO-2015804467            THEFT UNDER  2015-05-07T00:00:00   \n",
              "4    5     17963  GO-20159002781            THEFT UNDER  2015-05-16T00:00:00   \n",
              "\n",
              "   occurrence_year occurrence_month occurrence_dayofweek  \\\n",
              "0             2017          October              Tuesday   \n",
              "1             2017         November            Wednesday   \n",
              "2             2018        September               Friday   \n",
              "3             2015              May             Thursday   \n",
              "4             2015              May             Saturday   \n",
              "\n",
              "   occurrence_dayofmonth  occurrence_dayofyear  occurrence_hour  \\\n",
              "0                      3                   276               14   \n",
              "1                      8                   312                3   \n",
              "2                     14                   257                9   \n",
              "3                      7                   127               18   \n",
              "4                     16                   136               12   \n",
              "\n",
              "           report_date  report_year report_month report_dayofweek  \\\n",
              "0  2017-10-03T00:00:00         2017      October          Tuesday   \n",
              "1  2017-11-08T00:00:00         2017     November        Wednesday   \n",
              "2  2018-09-17T00:00:00         2018    September           Monday   \n",
              "3  2015-05-14T00:00:00         2015          May         Thursday   \n",
              "4  2015-05-16T00:00:00         2015          May         Saturday   \n",
              "\n",
              "   report_dayofmonth  report_dayofyear  report_hour division     city hood_id  \\\n",
              "0                  3               276           18      D22  Toronto      15   \n",
              "1                  8               312           22      D22  Toronto      15   \n",
              "2                 17               260           16      D22  Toronto      15   \n",
              "3                 14               134           14      D22  Toronto      15   \n",
              "4                 16               136           15      D22  Toronto      15   \n",
              "\n",
              "     neighbourhoodname                                      location_type  \\\n",
              "0  Kingsway South (15)  Streets, Roads, Highways (Bicycle Path, Privat...   \n",
              "1  Kingsway South (15)  Single Home, House (Attach Garage, Cottage, Mo...   \n",
              "2  Kingsway South (15)                                 Ttc Subway Station   \n",
              "3  Kingsway South (15)                                 Ttc Subway Station   \n",
              "4  Kingsway South (15)                                 Ttc Subway Station   \n",
              "\n",
              "  premises_type     bike_make  bike_model bike_type  bike_speed bike_colour  \\\n",
              "0       Outside            GI    ESCAPE 2        OT           7         BLK   \n",
              "1         House  UNKNOWN MAKE         NaN        TO           1         BLK   \n",
              "2       Transit            OT  CROSSTRAIL        MT          24         BLK   \n",
              "3       Transit            GT         NaN        TO          10      BLKDGR   \n",
              "4       Transit            GI         NaN        MT           6         RED   \n",
              "\n",
              "   cost_of_bike     status  objectid2  \\\n",
              "0         700.0     STOLEN          1   \n",
              "1        1100.0  RECOVERED          2   \n",
              "2         904.0     STOLEN          3   \n",
              "3         400.0     STOLEN          4   \n",
              "4         600.0     STOLEN          5   \n",
              "\n",
              "                                            geometry  \n",
              "0  {'type': 'Point', 'coordinates': (-79.50655965...  \n",
              "1  {'type': 'Point', 'coordinates': (-79.50484874...  \n",
              "2  {'type': 'Point', 'coordinates': (-79.51170915...  \n",
              "3  {'type': 'Point', 'coordinates': (-79.51170915...  \n",
              "4  {'type': 'Point', 'coordinates': (-79.51132657...  "
            ],
            "text/html": [
              "\n",
              "  <div id=\"df-d559c180-c16c-4998-ac3c-63b82cc8748d\" class=\"colab-df-container\">\n",
              "    <div>\n",
              "<style scoped>\n",
              "    .dataframe tbody tr th:only-of-type {\n",
              "        vertical-align: middle;\n",
              "    }\n",
              "\n",
              "    .dataframe tbody tr th {\n",
              "        vertical-align: top;\n",
              "    }\n",
              "\n",
              "    .dataframe thead th {\n",
              "        text-align: right;\n",
              "    }\n",
              "</style>\n",
              "<table border=\"1\" class=\"dataframe\">\n",
              "  <thead>\n",
              "    <tr style=\"text-align: right;\">\n",
              "      <th></th>\n",
              "      <th>_id</th>\n",
              "      <th>objectid</th>\n",
              "      <th>event_unique_id</th>\n",
              "      <th>primary_offence</th>\n",
              "      <th>occurrence_date</th>\n",
              "      <th>occurrence_year</th>\n",
              "      <th>occurrence_month</th>\n",
              "      <th>occurrence_dayofweek</th>\n",
              "      <th>occurrence_dayofmonth</th>\n",
              "      <th>occurrence_dayofyear</th>\n",
              "      <th>occurrence_hour</th>\n",
              "      <th>report_date</th>\n",
              "      <th>report_year</th>\n",
              "      <th>report_month</th>\n",
              "      <th>report_dayofweek</th>\n",
              "      <th>report_dayofmonth</th>\n",
              "      <th>report_dayofyear</th>\n",
              "      <th>report_hour</th>\n",
              "      <th>division</th>\n",
              "      <th>city</th>\n",
              "      <th>hood_id</th>\n",
              "      <th>neighbourhoodname</th>\n",
              "      <th>location_type</th>\n",
              "      <th>premises_type</th>\n",
              "      <th>bike_make</th>\n",
              "      <th>bike_model</th>\n",
              "      <th>bike_type</th>\n",
              "      <th>bike_speed</th>\n",
              "      <th>bike_colour</th>\n",
              "      <th>cost_of_bike</th>\n",
              "      <th>status</th>\n",
              "      <th>objectid2</th>\n",
              "      <th>geometry</th>\n",
              "    </tr>\n",
              "  </thead>\n",
              "  <tbody>\n",
              "    <tr>\n",
              "      <th>0</th>\n",
              "      <td>1</td>\n",
              "      <td>17744</td>\n",
              "      <td>GO-20179016397</td>\n",
              "      <td>THEFT UNDER</td>\n",
              "      <td>2017-10-03T00:00:00</td>\n",
              "      <td>2017</td>\n",
              "      <td>October</td>\n",
              "      <td>Tuesday</td>\n",
              "      <td>3</td>\n",
              "      <td>276</td>\n",
              "      <td>14</td>\n",
              "      <td>2017-10-03T00:00:00</td>\n",
              "      <td>2017</td>\n",
              "      <td>October</td>\n",
              "      <td>Tuesday</td>\n",
              "      <td>3</td>\n",
              "      <td>276</td>\n",
              "      <td>18</td>\n",
              "      <td>D22</td>\n",
              "      <td>Toronto</td>\n",
              "      <td>15</td>\n",
              "      <td>Kingsway South (15)</td>\n",
              "      <td>Streets, Roads, Highways (Bicycle Path, Privat...</td>\n",
              "      <td>Outside</td>\n",
              "      <td>GI</td>\n",
              "      <td>ESCAPE 2</td>\n",
              "      <td>OT</td>\n",
              "      <td>7</td>\n",
              "      <td>BLK</td>\n",
              "      <td>700.0</td>\n",
              "      <td>STOLEN</td>\n",
              "      <td>1</td>\n",
              "      <td>{'type': 'Point', 'coordinates': (-79.50655965...</td>\n",
              "    </tr>\n",
              "    <tr>\n",
              "      <th>1</th>\n",
              "      <td>2</td>\n",
              "      <td>17759</td>\n",
              "      <td>GO-20172033056</td>\n",
              "      <td>THEFT UNDER - BICYCLE</td>\n",
              "      <td>2017-11-08T00:00:00</td>\n",
              "      <td>2017</td>\n",
              "      <td>November</td>\n",
              "      <td>Wednesday</td>\n",
              "      <td>8</td>\n",
              "      <td>312</td>\n",
              "      <td>3</td>\n",
              "      <td>2017-11-08T00:00:00</td>\n",
              "      <td>2017</td>\n",
              "      <td>November</td>\n",
              "      <td>Wednesday</td>\n",
              "      <td>8</td>\n",
              "      <td>312</td>\n",
              "      <td>22</td>\n",
              "      <td>D22</td>\n",
              "      <td>Toronto</td>\n",
              "      <td>15</td>\n",
              "      <td>Kingsway South (15)</td>\n",
              "      <td>Single Home, House (Attach Garage, Cottage, Mo...</td>\n",
              "      <td>House</td>\n",
              "      <td>UNKNOWN MAKE</td>\n",
              "      <td>NaN</td>\n",
              "      <td>TO</td>\n",
              "      <td>1</td>\n",
              "      <td>BLK</td>\n",
              "      <td>1100.0</td>\n",
              "      <td>RECOVERED</td>\n",
              "      <td>2</td>\n",
              "      <td>{'type': 'Point', 'coordinates': (-79.50484874...</td>\n",
              "    </tr>\n",
              "    <tr>\n",
              "      <th>2</th>\n",
              "      <td>3</td>\n",
              "      <td>17906</td>\n",
              "      <td>GO-20189030822</td>\n",
              "      <td>THEFT UNDER - BICYCLE</td>\n",
              "      <td>2018-09-14T00:00:00</td>\n",
              "      <td>2018</td>\n",
              "      <td>September</td>\n",
              "      <td>Friday</td>\n",
              "      <td>14</td>\n",
              "      <td>257</td>\n",
              "      <td>9</td>\n",
              "      <td>2018-09-17T00:00:00</td>\n",
              "      <td>2018</td>\n",
              "      <td>September</td>\n",
              "      <td>Monday</td>\n",
              "      <td>17</td>\n",
              "      <td>260</td>\n",
              "      <td>16</td>\n",
              "      <td>D22</td>\n",
              "      <td>Toronto</td>\n",
              "      <td>15</td>\n",
              "      <td>Kingsway South (15)</td>\n",
              "      <td>Ttc Subway Station</td>\n",
              "      <td>Transit</td>\n",
              "      <td>OT</td>\n",
              "      <td>CROSSTRAIL</td>\n",
              "      <td>MT</td>\n",
              "      <td>24</td>\n",
              "      <td>BLK</td>\n",
              "      <td>904.0</td>\n",
              "      <td>STOLEN</td>\n",
              "      <td>3</td>\n",
              "      <td>{'type': 'Point', 'coordinates': (-79.51170915...</td>\n",
              "    </tr>\n",
              "    <tr>\n",
              "      <th>3</th>\n",
              "      <td>4</td>\n",
              "      <td>17962</td>\n",
              "      <td>GO-2015804467</td>\n",
              "      <td>THEFT UNDER</td>\n",
              "      <td>2015-05-07T00:00:00</td>\n",
              "      <td>2015</td>\n",
              "      <td>May</td>\n",
              "      <td>Thursday</td>\n",
              "      <td>7</td>\n",
              "      <td>127</td>\n",
              "      <td>18</td>\n",
              "      <td>2015-05-14T00:00:00</td>\n",
              "      <td>2015</td>\n",
              "      <td>May</td>\n",
              "      <td>Thursday</td>\n",
              "      <td>14</td>\n",
              "      <td>134</td>\n",
              "      <td>14</td>\n",
              "      <td>D22</td>\n",
              "      <td>Toronto</td>\n",
              "      <td>15</td>\n",
              "      <td>Kingsway South (15)</td>\n",
              "      <td>Ttc Subway Station</td>\n",
              "      <td>Transit</td>\n",
              "      <td>GT</td>\n",
              "      <td>NaN</td>\n",
              "      <td>TO</td>\n",
              "      <td>10</td>\n",
              "      <td>BLKDGR</td>\n",
              "      <td>400.0</td>\n",
              "      <td>STOLEN</td>\n",
              "      <td>4</td>\n",
              "      <td>{'type': 'Point', 'coordinates': (-79.51170915...</td>\n",
              "    </tr>\n",
              "    <tr>\n",
              "      <th>4</th>\n",
              "      <td>5</td>\n",
              "      <td>17963</td>\n",
              "      <td>GO-20159002781</td>\n",
              "      <td>THEFT UNDER</td>\n",
              "      <td>2015-05-16T00:00:00</td>\n",
              "      <td>2015</td>\n",
              "      <td>May</td>\n",
              "      <td>Saturday</td>\n",
              "      <td>16</td>\n",
              "      <td>136</td>\n",
              "      <td>12</td>\n",
              "      <td>2015-05-16T00:00:00</td>\n",
              "      <td>2015</td>\n",
              "      <td>May</td>\n",
              "      <td>Saturday</td>\n",
              "      <td>16</td>\n",
              "      <td>136</td>\n",
              "      <td>15</td>\n",
              "      <td>D22</td>\n",
              "      <td>Toronto</td>\n",
              "      <td>15</td>\n",
              "      <td>Kingsway South (15)</td>\n",
              "      <td>Ttc Subway Station</td>\n",
              "      <td>Transit</td>\n",
              "      <td>GI</td>\n",
              "      <td>NaN</td>\n",
              "      <td>MT</td>\n",
              "      <td>6</td>\n",
              "      <td>RED</td>\n",
              "      <td>600.0</td>\n",
              "      <td>STOLEN</td>\n",
              "      <td>5</td>\n",
              "      <td>{'type': 'Point', 'coordinates': (-79.51132657...</td>\n",
              "    </tr>\n",
              "  </tbody>\n",
              "</table>\n",
              "</div>\n",
              "    <div class=\"colab-df-buttons\">\n",
              "\n",
              "  <div class=\"colab-df-container\">\n",
              "    <button class=\"colab-df-convert\" onclick=\"convertToInteractive('df-d559c180-c16c-4998-ac3c-63b82cc8748d')\"\n",
              "            title=\"Convert this dataframe to an interactive table.\"\n",
              "            style=\"display:none;\">\n",
              "\n",
              "  <svg xmlns=\"http://www.w3.org/2000/svg\" height=\"24px\" viewBox=\"0 -960 960 960\">\n",
              "    <path d=\"M120-120v-720h720v720H120Zm60-500h600v-160H180v160Zm220 220h160v-160H400v160Zm0 220h160v-160H400v160ZM180-400h160v-160H180v160Zm440 0h160v-160H620v160ZM180-180h160v-160H180v160Zm440 0h160v-160H620v160Z\"/>\n",
              "  </svg>\n",
              "    </button>\n",
              "\n",
              "  <style>\n",
              "    .colab-df-container {\n",
              "      display:flex;\n",
              "      gap: 12px;\n",
              "    }\n",
              "\n",
              "    .colab-df-convert {\n",
              "      background-color: #E8F0FE;\n",
              "      border: none;\n",
              "      border-radius: 50%;\n",
              "      cursor: pointer;\n",
              "      display: none;\n",
              "      fill: #1967D2;\n",
              "      height: 32px;\n",
              "      padding: 0 0 0 0;\n",
              "      width: 32px;\n",
              "    }\n",
              "\n",
              "    .colab-df-convert:hover {\n",
              "      background-color: #E2EBFA;\n",
              "      box-shadow: 0px 1px 2px rgba(60, 64, 67, 0.3), 0px 1px 3px 1px rgba(60, 64, 67, 0.15);\n",
              "      fill: #174EA6;\n",
              "    }\n",
              "\n",
              "    .colab-df-buttons div {\n",
              "      margin-bottom: 4px;\n",
              "    }\n",
              "\n",
              "    [theme=dark] .colab-df-convert {\n",
              "      background-color: #3B4455;\n",
              "      fill: #D2E3FC;\n",
              "    }\n",
              "\n",
              "    [theme=dark] .colab-df-convert:hover {\n",
              "      background-color: #434B5C;\n",
              "      box-shadow: 0px 1px 3px 1px rgba(0, 0, 0, 0.15);\n",
              "      filter: drop-shadow(0px 1px 2px rgba(0, 0, 0, 0.3));\n",
              "      fill: #FFFFFF;\n",
              "    }\n",
              "  </style>\n",
              "\n",
              "    <script>\n",
              "      const buttonEl =\n",
              "        document.querySelector('#df-d559c180-c16c-4998-ac3c-63b82cc8748d button.colab-df-convert');\n",
              "      buttonEl.style.display =\n",
              "        google.colab.kernel.accessAllowed ? 'block' : 'none';\n",
              "\n",
              "      async function convertToInteractive(key) {\n",
              "        const element = document.querySelector('#df-d559c180-c16c-4998-ac3c-63b82cc8748d');\n",
              "        const dataTable =\n",
              "          await google.colab.kernel.invokeFunction('convertToInteractive',\n",
              "                                                    [key], {});\n",
              "        if (!dataTable) return;\n",
              "\n",
              "        const docLinkHtml = 'Like what you see? Visit the ' +\n",
              "          '<a target=\"_blank\" href=https://colab.research.google.com/notebooks/data_table.ipynb>data table notebook</a>'\n",
              "          + ' to learn more about interactive tables.';\n",
              "        element.innerHTML = '';\n",
              "        dataTable['output_type'] = 'display_data';\n",
              "        await google.colab.output.renderOutput(dataTable, element);\n",
              "        const docLink = document.createElement('div');\n",
              "        docLink.innerHTML = docLinkHtml;\n",
              "        element.appendChild(docLink);\n",
              "      }\n",
              "    </script>\n",
              "  </div>\n",
              "\n",
              "\n",
              "<div id=\"df-8490c0c4-77ef-44f2-b129-09a5839b98af\">\n",
              "  <button class=\"colab-df-quickchart\" onclick=\"quickchart('df-8490c0c4-77ef-44f2-b129-09a5839b98af')\"\n",
              "            title=\"Suggest charts\"\n",
              "            style=\"display:none;\">\n",
              "\n",
              "<svg xmlns=\"http://www.w3.org/2000/svg\" height=\"24px\"viewBox=\"0 0 24 24\"\n",
              "     width=\"24px\">\n",
              "    <g>\n",
              "        <path d=\"M19 3H5c-1.1 0-2 .9-2 2v14c0 1.1.9 2 2 2h14c1.1 0 2-.9 2-2V5c0-1.1-.9-2-2-2zM9 17H7v-7h2v7zm4 0h-2V7h2v10zm4 0h-2v-4h2v4z\"/>\n",
              "    </g>\n",
              "</svg>\n",
              "  </button>\n",
              "\n",
              "<style>\n",
              "  .colab-df-quickchart {\n",
              "      --bg-color: #E8F0FE;\n",
              "      --fill-color: #1967D2;\n",
              "      --hover-bg-color: #E2EBFA;\n",
              "      --hover-fill-color: #174EA6;\n",
              "      --disabled-fill-color: #AAA;\n",
              "      --disabled-bg-color: #DDD;\n",
              "  }\n",
              "\n",
              "  [theme=dark] .colab-df-quickchart {\n",
              "      --bg-color: #3B4455;\n",
              "      --fill-color: #D2E3FC;\n",
              "      --hover-bg-color: #434B5C;\n",
              "      --hover-fill-color: #FFFFFF;\n",
              "      --disabled-bg-color: #3B4455;\n",
              "      --disabled-fill-color: #666;\n",
              "  }\n",
              "\n",
              "  .colab-df-quickchart {\n",
              "    background-color: var(--bg-color);\n",
              "    border: none;\n",
              "    border-radius: 50%;\n",
              "    cursor: pointer;\n",
              "    display: none;\n",
              "    fill: var(--fill-color);\n",
              "    height: 32px;\n",
              "    padding: 0;\n",
              "    width: 32px;\n",
              "  }\n",
              "\n",
              "  .colab-df-quickchart:hover {\n",
              "    background-color: var(--hover-bg-color);\n",
              "    box-shadow: 0 1px 2px rgba(60, 64, 67, 0.3), 0 1px 3px 1px rgba(60, 64, 67, 0.15);\n",
              "    fill: var(--button-hover-fill-color);\n",
              "  }\n",
              "\n",
              "  .colab-df-quickchart-complete:disabled,\n",
              "  .colab-df-quickchart-complete:disabled:hover {\n",
              "    background-color: var(--disabled-bg-color);\n",
              "    fill: var(--disabled-fill-color);\n",
              "    box-shadow: none;\n",
              "  }\n",
              "\n",
              "  .colab-df-spinner {\n",
              "    border: 2px solid var(--fill-color);\n",
              "    border-color: transparent;\n",
              "    border-bottom-color: var(--fill-color);\n",
              "    animation:\n",
              "      spin 1s steps(1) infinite;\n",
              "  }\n",
              "\n",
              "  @keyframes spin {\n",
              "    0% {\n",
              "      border-color: transparent;\n",
              "      border-bottom-color: var(--fill-color);\n",
              "      border-left-color: var(--fill-color);\n",
              "    }\n",
              "    20% {\n",
              "      border-color: transparent;\n",
              "      border-left-color: var(--fill-color);\n",
              "      border-top-color: var(--fill-color);\n",
              "    }\n",
              "    30% {\n",
              "      border-color: transparent;\n",
              "      border-left-color: var(--fill-color);\n",
              "      border-top-color: var(--fill-color);\n",
              "      border-right-color: var(--fill-color);\n",
              "    }\n",
              "    40% {\n",
              "      border-color: transparent;\n",
              "      border-right-color: var(--fill-color);\n",
              "      border-top-color: var(--fill-color);\n",
              "    }\n",
              "    60% {\n",
              "      border-color: transparent;\n",
              "      border-right-color: var(--fill-color);\n",
              "    }\n",
              "    80% {\n",
              "      border-color: transparent;\n",
              "      border-right-color: var(--fill-color);\n",
              "      border-bottom-color: var(--fill-color);\n",
              "    }\n",
              "    90% {\n",
              "      border-color: transparent;\n",
              "      border-bottom-color: var(--fill-color);\n",
              "    }\n",
              "  }\n",
              "</style>\n",
              "\n",
              "  <script>\n",
              "    async function quickchart(key) {\n",
              "      const quickchartButtonEl =\n",
              "        document.querySelector('#' + key + ' button');\n",
              "      quickchartButtonEl.disabled = true;  // To prevent multiple clicks.\n",
              "      quickchartButtonEl.classList.add('colab-df-spinner');\n",
              "      try {\n",
              "        const charts = await google.colab.kernel.invokeFunction(\n",
              "            'suggestCharts', [key], {});\n",
              "      } catch (error) {\n",
              "        console.error('Error during call to suggestCharts:', error);\n",
              "      }\n",
              "      quickchartButtonEl.classList.remove('colab-df-spinner');\n",
              "      quickchartButtonEl.classList.add('colab-df-quickchart-complete');\n",
              "    }\n",
              "    (() => {\n",
              "      let quickchartButtonEl =\n",
              "        document.querySelector('#df-8490c0c4-77ef-44f2-b129-09a5839b98af button');\n",
              "      quickchartButtonEl.style.display =\n",
              "        google.colab.kernel.accessAllowed ? 'block' : 'none';\n",
              "    })();\n",
              "  </script>\n",
              "</div>\n",
              "\n",
              "    </div>\n",
              "  </div>\n"
            ]
          },
          "metadata": {},
          "execution_count": 77
        }
      ]
    },
    {
      "cell_type": "code",
      "source": [
        "thefts = thefts.rename(columns={'cost_of_bike':'bike_cost'})"
      ],
      "metadata": {
        "id": "_DFlJARFgeYP"
      },
      "execution_count": 78,
      "outputs": []
    },
    {
      "cell_type": "code",
      "source": [
        "thefts.head()"
      ],
      "metadata": {
        "colab": {
          "base_uri": "https://localhost:8080/",
          "height": 434
        },
        "id": "05i78le7gzq4",
        "outputId": "a28c5f20-9e7e-46bf-8913-0ba5ba7efc9a"
      },
      "execution_count": 79,
      "outputs": [
        {
          "output_type": "execute_result",
          "data": {
            "text/plain": [
              "   _id  objectid event_unique_id        primary_offence      occurrence_date  \\\n",
              "0    1     17744  GO-20179016397            THEFT UNDER  2017-10-03T00:00:00   \n",
              "1    2     17759  GO-20172033056  THEFT UNDER - BICYCLE  2017-11-08T00:00:00   \n",
              "2    3     17906  GO-20189030822  THEFT UNDER - BICYCLE  2018-09-14T00:00:00   \n",
              "3    4     17962   GO-2015804467            THEFT UNDER  2015-05-07T00:00:00   \n",
              "4    5     17963  GO-20159002781            THEFT UNDER  2015-05-16T00:00:00   \n",
              "\n",
              "   occurrence_year occurrence_month occurrence_dayofweek  \\\n",
              "0             2017          October              Tuesday   \n",
              "1             2017         November            Wednesday   \n",
              "2             2018        September               Friday   \n",
              "3             2015              May             Thursday   \n",
              "4             2015              May             Saturday   \n",
              "\n",
              "   occurrence_dayofmonth  occurrence_dayofyear  occurrence_hour  \\\n",
              "0                      3                   276               14   \n",
              "1                      8                   312                3   \n",
              "2                     14                   257                9   \n",
              "3                      7                   127               18   \n",
              "4                     16                   136               12   \n",
              "\n",
              "           report_date  report_year report_month report_dayofweek  \\\n",
              "0  2017-10-03T00:00:00         2017      October          Tuesday   \n",
              "1  2017-11-08T00:00:00         2017     November        Wednesday   \n",
              "2  2018-09-17T00:00:00         2018    September           Monday   \n",
              "3  2015-05-14T00:00:00         2015          May         Thursday   \n",
              "4  2015-05-16T00:00:00         2015          May         Saturday   \n",
              "\n",
              "   report_dayofmonth  report_dayofyear  report_hour division     city hood_id  \\\n",
              "0                  3               276           18      D22  Toronto      15   \n",
              "1                  8               312           22      D22  Toronto      15   \n",
              "2                 17               260           16      D22  Toronto      15   \n",
              "3                 14               134           14      D22  Toronto      15   \n",
              "4                 16               136           15      D22  Toronto      15   \n",
              "\n",
              "     neighbourhoodname                                      location_type  \\\n",
              "0  Kingsway South (15)  Streets, Roads, Highways (Bicycle Path, Privat...   \n",
              "1  Kingsway South (15)  Single Home, House (Attach Garage, Cottage, Mo...   \n",
              "2  Kingsway South (15)                                 Ttc Subway Station   \n",
              "3  Kingsway South (15)                                 Ttc Subway Station   \n",
              "4  Kingsway South (15)                                 Ttc Subway Station   \n",
              "\n",
              "  premises_type     bike_make  bike_model bike_type  bike_speed bike_colour  \\\n",
              "0       Outside            GI    ESCAPE 2        OT           7         BLK   \n",
              "1         House  UNKNOWN MAKE         NaN        TO           1         BLK   \n",
              "2       Transit            OT  CROSSTRAIL        MT          24         BLK   \n",
              "3       Transit            GT         NaN        TO          10      BLKDGR   \n",
              "4       Transit            GI         NaN        MT           6         RED   \n",
              "\n",
              "   bike_cost     status  objectid2  \\\n",
              "0      700.0     STOLEN          1   \n",
              "1     1100.0  RECOVERED          2   \n",
              "2      904.0     STOLEN          3   \n",
              "3      400.0     STOLEN          4   \n",
              "4      600.0     STOLEN          5   \n",
              "\n",
              "                                            geometry  \n",
              "0  {'type': 'Point', 'coordinates': (-79.50655965...  \n",
              "1  {'type': 'Point', 'coordinates': (-79.50484874...  \n",
              "2  {'type': 'Point', 'coordinates': (-79.51170915...  \n",
              "3  {'type': 'Point', 'coordinates': (-79.51170915...  \n",
              "4  {'type': 'Point', 'coordinates': (-79.51132657...  "
            ],
            "text/html": [
              "\n",
              "  <div id=\"df-476d5dea-4a89-4086-8ce9-0ca3c7a27b65\" class=\"colab-df-container\">\n",
              "    <div>\n",
              "<style scoped>\n",
              "    .dataframe tbody tr th:only-of-type {\n",
              "        vertical-align: middle;\n",
              "    }\n",
              "\n",
              "    .dataframe tbody tr th {\n",
              "        vertical-align: top;\n",
              "    }\n",
              "\n",
              "    .dataframe thead th {\n",
              "        text-align: right;\n",
              "    }\n",
              "</style>\n",
              "<table border=\"1\" class=\"dataframe\">\n",
              "  <thead>\n",
              "    <tr style=\"text-align: right;\">\n",
              "      <th></th>\n",
              "      <th>_id</th>\n",
              "      <th>objectid</th>\n",
              "      <th>event_unique_id</th>\n",
              "      <th>primary_offence</th>\n",
              "      <th>occurrence_date</th>\n",
              "      <th>occurrence_year</th>\n",
              "      <th>occurrence_month</th>\n",
              "      <th>occurrence_dayofweek</th>\n",
              "      <th>occurrence_dayofmonth</th>\n",
              "      <th>occurrence_dayofyear</th>\n",
              "      <th>occurrence_hour</th>\n",
              "      <th>report_date</th>\n",
              "      <th>report_year</th>\n",
              "      <th>report_month</th>\n",
              "      <th>report_dayofweek</th>\n",
              "      <th>report_dayofmonth</th>\n",
              "      <th>report_dayofyear</th>\n",
              "      <th>report_hour</th>\n",
              "      <th>division</th>\n",
              "      <th>city</th>\n",
              "      <th>hood_id</th>\n",
              "      <th>neighbourhoodname</th>\n",
              "      <th>location_type</th>\n",
              "      <th>premises_type</th>\n",
              "      <th>bike_make</th>\n",
              "      <th>bike_model</th>\n",
              "      <th>bike_type</th>\n",
              "      <th>bike_speed</th>\n",
              "      <th>bike_colour</th>\n",
              "      <th>bike_cost</th>\n",
              "      <th>status</th>\n",
              "      <th>objectid2</th>\n",
              "      <th>geometry</th>\n",
              "    </tr>\n",
              "  </thead>\n",
              "  <tbody>\n",
              "    <tr>\n",
              "      <th>0</th>\n",
              "      <td>1</td>\n",
              "      <td>17744</td>\n",
              "      <td>GO-20179016397</td>\n",
              "      <td>THEFT UNDER</td>\n",
              "      <td>2017-10-03T00:00:00</td>\n",
              "      <td>2017</td>\n",
              "      <td>October</td>\n",
              "      <td>Tuesday</td>\n",
              "      <td>3</td>\n",
              "      <td>276</td>\n",
              "      <td>14</td>\n",
              "      <td>2017-10-03T00:00:00</td>\n",
              "      <td>2017</td>\n",
              "      <td>October</td>\n",
              "      <td>Tuesday</td>\n",
              "      <td>3</td>\n",
              "      <td>276</td>\n",
              "      <td>18</td>\n",
              "      <td>D22</td>\n",
              "      <td>Toronto</td>\n",
              "      <td>15</td>\n",
              "      <td>Kingsway South (15)</td>\n",
              "      <td>Streets, Roads, Highways (Bicycle Path, Privat...</td>\n",
              "      <td>Outside</td>\n",
              "      <td>GI</td>\n",
              "      <td>ESCAPE 2</td>\n",
              "      <td>OT</td>\n",
              "      <td>7</td>\n",
              "      <td>BLK</td>\n",
              "      <td>700.0</td>\n",
              "      <td>STOLEN</td>\n",
              "      <td>1</td>\n",
              "      <td>{'type': 'Point', 'coordinates': (-79.50655965...</td>\n",
              "    </tr>\n",
              "    <tr>\n",
              "      <th>1</th>\n",
              "      <td>2</td>\n",
              "      <td>17759</td>\n",
              "      <td>GO-20172033056</td>\n",
              "      <td>THEFT UNDER - BICYCLE</td>\n",
              "      <td>2017-11-08T00:00:00</td>\n",
              "      <td>2017</td>\n",
              "      <td>November</td>\n",
              "      <td>Wednesday</td>\n",
              "      <td>8</td>\n",
              "      <td>312</td>\n",
              "      <td>3</td>\n",
              "      <td>2017-11-08T00:00:00</td>\n",
              "      <td>2017</td>\n",
              "      <td>November</td>\n",
              "      <td>Wednesday</td>\n",
              "      <td>8</td>\n",
              "      <td>312</td>\n",
              "      <td>22</td>\n",
              "      <td>D22</td>\n",
              "      <td>Toronto</td>\n",
              "      <td>15</td>\n",
              "      <td>Kingsway South (15)</td>\n",
              "      <td>Single Home, House (Attach Garage, Cottage, Mo...</td>\n",
              "      <td>House</td>\n",
              "      <td>UNKNOWN MAKE</td>\n",
              "      <td>NaN</td>\n",
              "      <td>TO</td>\n",
              "      <td>1</td>\n",
              "      <td>BLK</td>\n",
              "      <td>1100.0</td>\n",
              "      <td>RECOVERED</td>\n",
              "      <td>2</td>\n",
              "      <td>{'type': 'Point', 'coordinates': (-79.50484874...</td>\n",
              "    </tr>\n",
              "    <tr>\n",
              "      <th>2</th>\n",
              "      <td>3</td>\n",
              "      <td>17906</td>\n",
              "      <td>GO-20189030822</td>\n",
              "      <td>THEFT UNDER - BICYCLE</td>\n",
              "      <td>2018-09-14T00:00:00</td>\n",
              "      <td>2018</td>\n",
              "      <td>September</td>\n",
              "      <td>Friday</td>\n",
              "      <td>14</td>\n",
              "      <td>257</td>\n",
              "      <td>9</td>\n",
              "      <td>2018-09-17T00:00:00</td>\n",
              "      <td>2018</td>\n",
              "      <td>September</td>\n",
              "      <td>Monday</td>\n",
              "      <td>17</td>\n",
              "      <td>260</td>\n",
              "      <td>16</td>\n",
              "      <td>D22</td>\n",
              "      <td>Toronto</td>\n",
              "      <td>15</td>\n",
              "      <td>Kingsway South (15)</td>\n",
              "      <td>Ttc Subway Station</td>\n",
              "      <td>Transit</td>\n",
              "      <td>OT</td>\n",
              "      <td>CROSSTRAIL</td>\n",
              "      <td>MT</td>\n",
              "      <td>24</td>\n",
              "      <td>BLK</td>\n",
              "      <td>904.0</td>\n",
              "      <td>STOLEN</td>\n",
              "      <td>3</td>\n",
              "      <td>{'type': 'Point', 'coordinates': (-79.51170915...</td>\n",
              "    </tr>\n",
              "    <tr>\n",
              "      <th>3</th>\n",
              "      <td>4</td>\n",
              "      <td>17962</td>\n",
              "      <td>GO-2015804467</td>\n",
              "      <td>THEFT UNDER</td>\n",
              "      <td>2015-05-07T00:00:00</td>\n",
              "      <td>2015</td>\n",
              "      <td>May</td>\n",
              "      <td>Thursday</td>\n",
              "      <td>7</td>\n",
              "      <td>127</td>\n",
              "      <td>18</td>\n",
              "      <td>2015-05-14T00:00:00</td>\n",
              "      <td>2015</td>\n",
              "      <td>May</td>\n",
              "      <td>Thursday</td>\n",
              "      <td>14</td>\n",
              "      <td>134</td>\n",
              "      <td>14</td>\n",
              "      <td>D22</td>\n",
              "      <td>Toronto</td>\n",
              "      <td>15</td>\n",
              "      <td>Kingsway South (15)</td>\n",
              "      <td>Ttc Subway Station</td>\n",
              "      <td>Transit</td>\n",
              "      <td>GT</td>\n",
              "      <td>NaN</td>\n",
              "      <td>TO</td>\n",
              "      <td>10</td>\n",
              "      <td>BLKDGR</td>\n",
              "      <td>400.0</td>\n",
              "      <td>STOLEN</td>\n",
              "      <td>4</td>\n",
              "      <td>{'type': 'Point', 'coordinates': (-79.51170915...</td>\n",
              "    </tr>\n",
              "    <tr>\n",
              "      <th>4</th>\n",
              "      <td>5</td>\n",
              "      <td>17963</td>\n",
              "      <td>GO-20159002781</td>\n",
              "      <td>THEFT UNDER</td>\n",
              "      <td>2015-05-16T00:00:00</td>\n",
              "      <td>2015</td>\n",
              "      <td>May</td>\n",
              "      <td>Saturday</td>\n",
              "      <td>16</td>\n",
              "      <td>136</td>\n",
              "      <td>12</td>\n",
              "      <td>2015-05-16T00:00:00</td>\n",
              "      <td>2015</td>\n",
              "      <td>May</td>\n",
              "      <td>Saturday</td>\n",
              "      <td>16</td>\n",
              "      <td>136</td>\n",
              "      <td>15</td>\n",
              "      <td>D22</td>\n",
              "      <td>Toronto</td>\n",
              "      <td>15</td>\n",
              "      <td>Kingsway South (15)</td>\n",
              "      <td>Ttc Subway Station</td>\n",
              "      <td>Transit</td>\n",
              "      <td>GI</td>\n",
              "      <td>NaN</td>\n",
              "      <td>MT</td>\n",
              "      <td>6</td>\n",
              "      <td>RED</td>\n",
              "      <td>600.0</td>\n",
              "      <td>STOLEN</td>\n",
              "      <td>5</td>\n",
              "      <td>{'type': 'Point', 'coordinates': (-79.51132657...</td>\n",
              "    </tr>\n",
              "  </tbody>\n",
              "</table>\n",
              "</div>\n",
              "    <div class=\"colab-df-buttons\">\n",
              "\n",
              "  <div class=\"colab-df-container\">\n",
              "    <button class=\"colab-df-convert\" onclick=\"convertToInteractive('df-476d5dea-4a89-4086-8ce9-0ca3c7a27b65')\"\n",
              "            title=\"Convert this dataframe to an interactive table.\"\n",
              "            style=\"display:none;\">\n",
              "\n",
              "  <svg xmlns=\"http://www.w3.org/2000/svg\" height=\"24px\" viewBox=\"0 -960 960 960\">\n",
              "    <path d=\"M120-120v-720h720v720H120Zm60-500h600v-160H180v160Zm220 220h160v-160H400v160Zm0 220h160v-160H400v160ZM180-400h160v-160H180v160Zm440 0h160v-160H620v160ZM180-180h160v-160H180v160Zm440 0h160v-160H620v160Z\"/>\n",
              "  </svg>\n",
              "    </button>\n",
              "\n",
              "  <style>\n",
              "    .colab-df-container {\n",
              "      display:flex;\n",
              "      gap: 12px;\n",
              "    }\n",
              "\n",
              "    .colab-df-convert {\n",
              "      background-color: #E8F0FE;\n",
              "      border: none;\n",
              "      border-radius: 50%;\n",
              "      cursor: pointer;\n",
              "      display: none;\n",
              "      fill: #1967D2;\n",
              "      height: 32px;\n",
              "      padding: 0 0 0 0;\n",
              "      width: 32px;\n",
              "    }\n",
              "\n",
              "    .colab-df-convert:hover {\n",
              "      background-color: #E2EBFA;\n",
              "      box-shadow: 0px 1px 2px rgba(60, 64, 67, 0.3), 0px 1px 3px 1px rgba(60, 64, 67, 0.15);\n",
              "      fill: #174EA6;\n",
              "    }\n",
              "\n",
              "    .colab-df-buttons div {\n",
              "      margin-bottom: 4px;\n",
              "    }\n",
              "\n",
              "    [theme=dark] .colab-df-convert {\n",
              "      background-color: #3B4455;\n",
              "      fill: #D2E3FC;\n",
              "    }\n",
              "\n",
              "    [theme=dark] .colab-df-convert:hover {\n",
              "      background-color: #434B5C;\n",
              "      box-shadow: 0px 1px 3px 1px rgba(0, 0, 0, 0.15);\n",
              "      filter: drop-shadow(0px 1px 2px rgba(0, 0, 0, 0.3));\n",
              "      fill: #FFFFFF;\n",
              "    }\n",
              "  </style>\n",
              "\n",
              "    <script>\n",
              "      const buttonEl =\n",
              "        document.querySelector('#df-476d5dea-4a89-4086-8ce9-0ca3c7a27b65 button.colab-df-convert');\n",
              "      buttonEl.style.display =\n",
              "        google.colab.kernel.accessAllowed ? 'block' : 'none';\n",
              "\n",
              "      async function convertToInteractive(key) {\n",
              "        const element = document.querySelector('#df-476d5dea-4a89-4086-8ce9-0ca3c7a27b65');\n",
              "        const dataTable =\n",
              "          await google.colab.kernel.invokeFunction('convertToInteractive',\n",
              "                                                    [key], {});\n",
              "        if (!dataTable) return;\n",
              "\n",
              "        const docLinkHtml = 'Like what you see? Visit the ' +\n",
              "          '<a target=\"_blank\" href=https://colab.research.google.com/notebooks/data_table.ipynb>data table notebook</a>'\n",
              "          + ' to learn more about interactive tables.';\n",
              "        element.innerHTML = '';\n",
              "        dataTable['output_type'] = 'display_data';\n",
              "        await google.colab.output.renderOutput(dataTable, element);\n",
              "        const docLink = document.createElement('div');\n",
              "        docLink.innerHTML = docLinkHtml;\n",
              "        element.appendChild(docLink);\n",
              "      }\n",
              "    </script>\n",
              "  </div>\n",
              "\n",
              "\n",
              "<div id=\"df-3907527a-aa72-4972-884b-d2dbd6522fb1\">\n",
              "  <button class=\"colab-df-quickchart\" onclick=\"quickchart('df-3907527a-aa72-4972-884b-d2dbd6522fb1')\"\n",
              "            title=\"Suggest charts\"\n",
              "            style=\"display:none;\">\n",
              "\n",
              "<svg xmlns=\"http://www.w3.org/2000/svg\" height=\"24px\"viewBox=\"0 0 24 24\"\n",
              "     width=\"24px\">\n",
              "    <g>\n",
              "        <path d=\"M19 3H5c-1.1 0-2 .9-2 2v14c0 1.1.9 2 2 2h14c1.1 0 2-.9 2-2V5c0-1.1-.9-2-2-2zM9 17H7v-7h2v7zm4 0h-2V7h2v10zm4 0h-2v-4h2v4z\"/>\n",
              "    </g>\n",
              "</svg>\n",
              "  </button>\n",
              "\n",
              "<style>\n",
              "  .colab-df-quickchart {\n",
              "      --bg-color: #E8F0FE;\n",
              "      --fill-color: #1967D2;\n",
              "      --hover-bg-color: #E2EBFA;\n",
              "      --hover-fill-color: #174EA6;\n",
              "      --disabled-fill-color: #AAA;\n",
              "      --disabled-bg-color: #DDD;\n",
              "  }\n",
              "\n",
              "  [theme=dark] .colab-df-quickchart {\n",
              "      --bg-color: #3B4455;\n",
              "      --fill-color: #D2E3FC;\n",
              "      --hover-bg-color: #434B5C;\n",
              "      --hover-fill-color: #FFFFFF;\n",
              "      --disabled-bg-color: #3B4455;\n",
              "      --disabled-fill-color: #666;\n",
              "  }\n",
              "\n",
              "  .colab-df-quickchart {\n",
              "    background-color: var(--bg-color);\n",
              "    border: none;\n",
              "    border-radius: 50%;\n",
              "    cursor: pointer;\n",
              "    display: none;\n",
              "    fill: var(--fill-color);\n",
              "    height: 32px;\n",
              "    padding: 0;\n",
              "    width: 32px;\n",
              "  }\n",
              "\n",
              "  .colab-df-quickchart:hover {\n",
              "    background-color: var(--hover-bg-color);\n",
              "    box-shadow: 0 1px 2px rgba(60, 64, 67, 0.3), 0 1px 3px 1px rgba(60, 64, 67, 0.15);\n",
              "    fill: var(--button-hover-fill-color);\n",
              "  }\n",
              "\n",
              "  .colab-df-quickchart-complete:disabled,\n",
              "  .colab-df-quickchart-complete:disabled:hover {\n",
              "    background-color: var(--disabled-bg-color);\n",
              "    fill: var(--disabled-fill-color);\n",
              "    box-shadow: none;\n",
              "  }\n",
              "\n",
              "  .colab-df-spinner {\n",
              "    border: 2px solid var(--fill-color);\n",
              "    border-color: transparent;\n",
              "    border-bottom-color: var(--fill-color);\n",
              "    animation:\n",
              "      spin 1s steps(1) infinite;\n",
              "  }\n",
              "\n",
              "  @keyframes spin {\n",
              "    0% {\n",
              "      border-color: transparent;\n",
              "      border-bottom-color: var(--fill-color);\n",
              "      border-left-color: var(--fill-color);\n",
              "    }\n",
              "    20% {\n",
              "      border-color: transparent;\n",
              "      border-left-color: var(--fill-color);\n",
              "      border-top-color: var(--fill-color);\n",
              "    }\n",
              "    30% {\n",
              "      border-color: transparent;\n",
              "      border-left-color: var(--fill-color);\n",
              "      border-top-color: var(--fill-color);\n",
              "      border-right-color: var(--fill-color);\n",
              "    }\n",
              "    40% {\n",
              "      border-color: transparent;\n",
              "      border-right-color: var(--fill-color);\n",
              "      border-top-color: var(--fill-color);\n",
              "    }\n",
              "    60% {\n",
              "      border-color: transparent;\n",
              "      border-right-color: var(--fill-color);\n",
              "    }\n",
              "    80% {\n",
              "      border-color: transparent;\n",
              "      border-right-color: var(--fill-color);\n",
              "      border-bottom-color: var(--fill-color);\n",
              "    }\n",
              "    90% {\n",
              "      border-color: transparent;\n",
              "      border-bottom-color: var(--fill-color);\n",
              "    }\n",
              "  }\n",
              "</style>\n",
              "\n",
              "  <script>\n",
              "    async function quickchart(key) {\n",
              "      const quickchartButtonEl =\n",
              "        document.querySelector('#' + key + ' button');\n",
              "      quickchartButtonEl.disabled = true;  // To prevent multiple clicks.\n",
              "      quickchartButtonEl.classList.add('colab-df-spinner');\n",
              "      try {\n",
              "        const charts = await google.colab.kernel.invokeFunction(\n",
              "            'suggestCharts', [key], {});\n",
              "      } catch (error) {\n",
              "        console.error('Error during call to suggestCharts:', error);\n",
              "      }\n",
              "      quickchartButtonEl.classList.remove('colab-df-spinner');\n",
              "      quickchartButtonEl.classList.add('colab-df-quickchart-complete');\n",
              "    }\n",
              "    (() => {\n",
              "      let quickchartButtonEl =\n",
              "        document.querySelector('#df-3907527a-aa72-4972-884b-d2dbd6522fb1 button');\n",
              "      quickchartButtonEl.style.display =\n",
              "        google.colab.kernel.accessAllowed ? 'block' : 'none';\n",
              "    })();\n",
              "  </script>\n",
              "</div>\n",
              "\n",
              "    </div>\n",
              "  </div>\n"
            ]
          },
          "metadata": {},
          "execution_count": 79
        }
      ]
    },
    {
      "cell_type": "code",
      "source": [
        "thefts['status'].unique()"
      ],
      "metadata": {
        "colab": {
          "base_uri": "https://localhost:8080/"
        },
        "id": "LNsTL4_cg07n",
        "outputId": "c1a3a617-8e26-4c55-84b0-4319d08a2d4e"
      },
      "execution_count": 80,
      "outputs": [
        {
          "output_type": "execute_result",
          "data": {
            "text/plain": [
              "array(['STOLEN', 'RECOVERED', 'UNKNOWN'], dtype=object)"
            ]
          },
          "metadata": {},
          "execution_count": 80
        }
      ]
    },
    {
      "cell_type": "code",
      "source": [
        "thefts['status'].value_counts()"
      ],
      "metadata": {
        "colab": {
          "base_uri": "https://localhost:8080/"
        },
        "id": "nvYM0ODDhKyH",
        "outputId": "5ebea171-c1fe-458b-b571-9bd31faf456d"
      },
      "execution_count": 81,
      "outputs": [
        {
          "output_type": "execute_result",
          "data": {
            "text/plain": [
              "STOLEN       24807\n",
              "UNKNOWN        454\n",
              "RECOVERED      308\n",
              "Name: status, dtype: int64"
            ]
          },
          "metadata": {},
          "execution_count": 81
        }
      ]
    },
    {
      "cell_type": "code",
      "source": [
        "thefts['bike_cost'].median()"
      ],
      "metadata": {
        "colab": {
          "base_uri": "https://localhost:8080/"
        },
        "id": "m5yW3bKAhQ4j",
        "outputId": "8da72b92-b446-4d50-9c13-e0af6355167b"
      },
      "execution_count": 82,
      "outputs": [
        {
          "output_type": "execute_result",
          "data": {
            "text/plain": [
              "600.0"
            ]
          },
          "metadata": {},
          "execution_count": 82
        }
      ]
    },
    {
      "cell_type": "code",
      "source": [
        "thefts['bike_cost'].quantile(0.9)"
      ],
      "metadata": {
        "colab": {
          "base_uri": "https://localhost:8080/"
        },
        "id": "0myWOoIkheQV",
        "outputId": "e56963ad-449a-4a0e-b003-8202feb7205c"
      },
      "execution_count": 83,
      "outputs": [
        {
          "output_type": "execute_result",
          "data": {
            "text/plain": [
              "2000.0"
            ]
          },
          "metadata": {},
          "execution_count": 83
        }
      ]
    },
    {
      "cell_type": "code",
      "source": [
        "thefts.info()"
      ],
      "metadata": {
        "colab": {
          "base_uri": "https://localhost:8080/"
        },
        "id": "7kvSOMy0hmtY",
        "outputId": "c85a9cf9-d1a8-4064-8eac-a262ccf83b7e"
      },
      "execution_count": 84,
      "outputs": [
        {
          "output_type": "stream",
          "name": "stdout",
          "text": [
            "<class 'pandas.core.frame.DataFrame'>\n",
            "RangeIndex: 25569 entries, 0 to 25568\n",
            "Data columns (total 33 columns):\n",
            " #   Column                 Non-Null Count  Dtype  \n",
            "---  ------                 --------------  -----  \n",
            " 0   _id                    25569 non-null  int64  \n",
            " 1   objectid               25569 non-null  int64  \n",
            " 2   event_unique_id        25569 non-null  object \n",
            " 3   primary_offence        25569 non-null  object \n",
            " 4   occurrence_date        25569 non-null  object \n",
            " 5   occurrence_year        25569 non-null  int64  \n",
            " 6   occurrence_month       25569 non-null  object \n",
            " 7   occurrence_dayofweek   25569 non-null  object \n",
            " 8   occurrence_dayofmonth  25569 non-null  int64  \n",
            " 9   occurrence_dayofyear   25569 non-null  int64  \n",
            " 10  occurrence_hour        25569 non-null  int64  \n",
            " 11  report_date            25569 non-null  object \n",
            " 12  report_year            25569 non-null  int64  \n",
            " 13  report_month           25569 non-null  object \n",
            " 14  report_dayofweek       25569 non-null  object \n",
            " 15  report_dayofmonth      25569 non-null  int64  \n",
            " 16  report_dayofyear       25569 non-null  int64  \n",
            " 17  report_hour            25569 non-null  int64  \n",
            " 18  division               25569 non-null  object \n",
            " 19  city                   25569 non-null  object \n",
            " 20  hood_id                25569 non-null  object \n",
            " 21  neighbourhoodname      25569 non-null  object \n",
            " 22  location_type          25569 non-null  object \n",
            " 23  premises_type          25569 non-null  object \n",
            " 24  bike_make              25448 non-null  object \n",
            " 25  bike_model             15923 non-null  object \n",
            " 26  bike_type              25569 non-null  object \n",
            " 27  bike_speed             25569 non-null  int64  \n",
            " 28  bike_colour            23508 non-null  object \n",
            " 29  bike_cost              23825 non-null  float64\n",
            " 30  status                 25569 non-null  object \n",
            " 31  objectid2              25569 non-null  int64  \n",
            " 32  geometry               25569 non-null  object \n",
            "dtypes: float64(1), int64(12), object(20)\n",
            "memory usage: 6.4+ MB\n"
          ]
        }
      ]
    },
    {
      "cell_type": "code",
      "source": [
        "thefts['occurrence_date']"
      ],
      "metadata": {
        "colab": {
          "base_uri": "https://localhost:8080/"
        },
        "id": "dprB32Wch7cx",
        "outputId": "a9648b38-07d0-44c0-fdff-f41ff33774ad"
      },
      "execution_count": 85,
      "outputs": [
        {
          "output_type": "execute_result",
          "data": {
            "text/plain": [
              "0        2017-10-03T00:00:00\n",
              "1        2017-11-08T00:00:00\n",
              "2        2018-09-14T00:00:00\n",
              "3        2015-05-07T00:00:00\n",
              "4        2015-05-16T00:00:00\n",
              "                ...         \n",
              "25564    2015-04-01T00:00:00\n",
              "25565    2016-05-16T00:00:00\n",
              "25566    2016-06-04T00:00:00\n",
              "25567    2016-07-04T00:00:00\n",
              "25568    2016-07-22T00:00:00\n",
              "Name: occurrence_date, Length: 25569, dtype: object"
            ]
          },
          "metadata": {},
          "execution_count": 85
        }
      ]
    },
    {
      "cell_type": "code",
      "source": [
        "thefts['occurrence_date'] = pd.to_datetime(thefts['occurrence_date'])\n",
        "thefts['occurrence_date']"
      ],
      "metadata": {
        "colab": {
          "base_uri": "https://localhost:8080/"
        },
        "id": "XNBY_Y9mitOg",
        "outputId": "0a6bd882-81df-4d49-baea-ddeb0449404f"
      },
      "execution_count": 86,
      "outputs": [
        {
          "output_type": "execute_result",
          "data": {
            "text/plain": [
              "0       2017-10-03\n",
              "1       2017-11-08\n",
              "2       2018-09-14\n",
              "3       2015-05-07\n",
              "4       2015-05-16\n",
              "           ...    \n",
              "25564   2015-04-01\n",
              "25565   2016-05-16\n",
              "25566   2016-06-04\n",
              "25567   2016-07-04\n",
              "25568   2016-07-22\n",
              "Name: occurrence_date, Length: 25569, dtype: datetime64[ns]"
            ]
          },
          "metadata": {},
          "execution_count": 86
        }
      ]
    },
    {
      "cell_type": "code",
      "source": [
        "thefts['report_date'] = pd.to_datetime(thefts['report_date'])\n",
        "thefts['report_date']"
      ],
      "metadata": {
        "colab": {
          "base_uri": "https://localhost:8080/"
        },
        "id": "ajjJezK7jGC6",
        "outputId": "ac776ca9-fdae-4c19-943d-930e62aa5eaa"
      },
      "execution_count": 87,
      "outputs": [
        {
          "output_type": "execute_result",
          "data": {
            "text/plain": [
              "0       2017-10-03\n",
              "1       2017-11-08\n",
              "2       2018-09-17\n",
              "3       2015-05-14\n",
              "4       2015-05-16\n",
              "           ...    \n",
              "25564   2015-04-01\n",
              "25565   2016-05-16\n",
              "25566   2016-06-07\n",
              "25567   2016-07-04\n",
              "25568   2016-07-23\n",
              "Name: report_date, Length: 25569, dtype: datetime64[ns]"
            ]
          },
          "metadata": {},
          "execution_count": 87
        }
      ]
    },
    {
      "cell_type": "code",
      "source": [
        "thefts['status'] = thefts['status'].astype('category')\n",
        "thefts['status']"
      ],
      "metadata": {
        "colab": {
          "base_uri": "https://localhost:8080/"
        },
        "id": "vQD3Je2tjUv2",
        "outputId": "c6252b8b-b204-41c2-b133-8d901c432772"
      },
      "execution_count": 88,
      "outputs": [
        {
          "output_type": "execute_result",
          "data": {
            "text/plain": [
              "0           STOLEN\n",
              "1        RECOVERED\n",
              "2           STOLEN\n",
              "3           STOLEN\n",
              "4           STOLEN\n",
              "           ...    \n",
              "25564       STOLEN\n",
              "25565       STOLEN\n",
              "25566       STOLEN\n",
              "25567       STOLEN\n",
              "25568       STOLEN\n",
              "Name: status, Length: 25569, dtype: category\n",
              "Categories (3, object): ['RECOVERED', 'STOLEN', 'UNKNOWN']"
            ]
          },
          "metadata": {},
          "execution_count": 88
        }
      ]
    },
    {
      "cell_type": "code",
      "source": [
        "thefts['premises_type'].unique()"
      ],
      "metadata": {
        "colab": {
          "base_uri": "https://localhost:8080/"
        },
        "id": "6lSyaVvrjoPw",
        "outputId": "23cc234e-1e27-43be-fc83-8edd81e3f0e4"
      },
      "execution_count": 89,
      "outputs": [
        {
          "output_type": "execute_result",
          "data": {
            "text/plain": [
              "array(['Outside', 'House', 'Transit', 'Other', 'Educational', 'Apartment',\n",
              "       'Commercial'], dtype=object)"
            ]
          },
          "metadata": {},
          "execution_count": 89
        }
      ]
    },
    {
      "cell_type": "code",
      "source": [
        "thefts[['location_type', 'premises_type']] = thefts[['location_type', 'premises_type']].astype('category')"
      ],
      "metadata": {
        "id": "k1CF5Qntj3x1"
      },
      "execution_count": 90,
      "outputs": []
    },
    {
      "cell_type": "code",
      "source": [
        "thefts[['location_type', 'premises_type']].dtypes"
      ],
      "metadata": {
        "colab": {
          "base_uri": "https://localhost:8080/"
        },
        "id": "21gfzZsKkT5u",
        "outputId": "bbefa72a-920f-4130-c9ae-4b5445d38f6e"
      },
      "execution_count": 91,
      "outputs": [
        {
          "output_type": "execute_result",
          "data": {
            "text/plain": [
              "location_type    category\n",
              "premises_type    category\n",
              "dtype: object"
            ]
          },
          "metadata": {},
          "execution_count": 91
        }
      ]
    },
    {
      "cell_type": "code",
      "source": [
        "# describe() summarize only numeric columns by default, pass `include='all'` to consider all columns\n",
        "\n",
        "thefts.describe(include='all', datetime_is_numeric=True)"
      ],
      "metadata": {
        "colab": {
          "base_uri": "https://localhost:8080/",
          "height": 553
        },
        "id": "g_Vq1QsYkfgD",
        "outputId": "caf74b80-38f7-4990-8c8f-b4cf048b470d"
      },
      "execution_count": 92,
      "outputs": [
        {
          "output_type": "execute_result",
          "data": {
            "text/plain": [
              "                 _id      objectid event_unique_id primary_offence  \\\n",
              "count   25569.000000  25569.000000           25569           25569   \n",
              "unique           NaN           NaN           22771              66   \n",
              "top              NaN           NaN  GO-20201550944     THEFT UNDER   \n",
              "freq             NaN           NaN              14           11904   \n",
              "mean    12785.000000  12909.173218             NaN             NaN   \n",
              "min         1.000000      1.000000             NaN             NaN   \n",
              "25%      6393.000000   6456.000000             NaN             NaN   \n",
              "50%     12785.000000  12918.000000             NaN             NaN   \n",
              "75%     19177.000000  19360.000000             NaN             NaN   \n",
              "max     25569.000000  25806.000000             NaN             NaN   \n",
              "std      7381.278853   7448.318562             NaN             NaN   \n",
              "\n",
              "                      occurrence_date  occurrence_year occurrence_month  \\\n",
              "count                           25569     25569.000000            25569   \n",
              "unique                            NaN              NaN               12   \n",
              "top                               NaN              NaN             July   \n",
              "freq                              NaN              NaN             4002   \n",
              "mean    2017-09-04 03:39:28.321013504      2017.124174              NaN   \n",
              "min               2009-09-01 00:00:00      2009.000000              NaN   \n",
              "25%               2016-01-06 00:00:00      2016.000000              NaN   \n",
              "50%               2017-09-05 00:00:00      2017.000000              NaN   \n",
              "75%               2019-06-20 00:00:00      2019.000000              NaN   \n",
              "max               2020-12-30 00:00:00      2020.000000              NaN   \n",
              "std                               NaN         1.960127              NaN   \n",
              "\n",
              "       occurrence_dayofweek  occurrence_dayofmonth  occurrence_dayofyear  \\\n",
              "count                 25569           25569.000000          25569.000000   \n",
              "unique                    7                    NaN                   NaN   \n",
              "top                  Friday                    NaN                   NaN   \n",
              "freq                   3924                    NaN                   NaN   \n",
              "mean                    NaN              15.616684            202.227698   \n",
              "min                     NaN               1.000000              1.000000   \n",
              "25%                     NaN               8.000000            153.000000   \n",
              "50%                     NaN              16.000000            205.000000   \n",
              "75%                     NaN              23.000000            259.000000   \n",
              "max                     NaN              31.000000            366.000000   \n",
              "std                     NaN               8.592886             76.821431   \n",
              "\n",
              "        occurrence_hour                    report_date   report_year  \\\n",
              "count      25569.000000                          25569  25569.000000   \n",
              "unique              NaN                            NaN           NaN   \n",
              "top                 NaN                            NaN           NaN   \n",
              "freq                NaN                            NaN           NaN   \n",
              "mean          13.274395  2017-09-12 12:02:37.127771904   2017.143572   \n",
              "min            0.000000            2014-01-01 00:00:00   2014.000000   \n",
              "25%            9.000000            2016-01-22 00:00:00   2016.000000   \n",
              "50%           14.000000            2017-09-12 00:00:00   2017.000000   \n",
              "75%           19.000000            2019-06-26 00:00:00   2019.000000   \n",
              "max           23.000000            2020-12-31 00:00:00   2020.000000   \n",
              "std            6.530181                            NaN      1.955024   \n",
              "\n",
              "       report_month report_dayofweek  report_dayofmonth  report_dayofyear  \\\n",
              "count         25569            25569       25569.000000      25569.000000   \n",
              "unique           12                7                NaN               NaN   \n",
              "top            July           Monday                NaN               NaN   \n",
              "freq           3988             4318                NaN               NaN   \n",
              "mean            NaN              NaN          15.924870        203.493723   \n",
              "min             NaN              NaN           1.000000          1.000000   \n",
              "25%             NaN              NaN           9.000000        154.000000   \n",
              "50%             NaN              NaN          16.000000        206.000000   \n",
              "75%             NaN              NaN          23.000000        260.000000   \n",
              "max             NaN              NaN          31.000000        366.000000   \n",
              "std             NaN              NaN           8.549584         77.115977   \n",
              "\n",
              "         report_hour division     city hood_id  \\\n",
              "count   25569.000000    25569    25569   25569   \n",
              "unique           NaN       18        2     141   \n",
              "top              NaN      D14  Toronto      77   \n",
              "freq             NaN     4580    25560    2576   \n",
              "mean       14.224139      NaN      NaN     NaN   \n",
              "min         0.000000      NaN      NaN     NaN   \n",
              "25%        11.000000      NaN      NaN     NaN   \n",
              "50%        14.000000      NaN      NaN     NaN   \n",
              "75%        18.000000      NaN      NaN     NaN   \n",
              "max        23.000000      NaN      NaN     NaN   \n",
              "std         5.052944      NaN      NaN     NaN   \n",
              "\n",
              "                             neighbourhoodname  \\\n",
              "count                                    25569   \n",
              "unique                                     141   \n",
              "top     Waterfront Communities-The Island (77)   \n",
              "freq                                      2576   \n",
              "mean                                       NaN   \n",
              "min                                        NaN   \n",
              "25%                                        NaN   \n",
              "50%                                        NaN   \n",
              "75%                                        NaN   \n",
              "max                                        NaN   \n",
              "std                                        NaN   \n",
              "\n",
              "                           location_type premises_type bike_make bike_model  \\\n",
              "count                              25569         25569     25448      15923   \n",
              "unique                                42             7       820       8097   \n",
              "top     Apartment (Rooming House, Condo)       Outside        OT    UNKNOWN   \n",
              "freq                                5887          7960      4991        304   \n",
              "mean                                 NaN           NaN       NaN        NaN   \n",
              "min                                  NaN           NaN       NaN        NaN   \n",
              "25%                                  NaN           NaN       NaN        NaN   \n",
              "50%                                  NaN           NaN       NaN        NaN   \n",
              "75%                                  NaN           NaN       NaN        NaN   \n",
              "max                                  NaN           NaN       NaN        NaN   \n",
              "std                                  NaN           NaN       NaN        NaN   \n",
              "\n",
              "       bike_type    bike_speed bike_colour      bike_cost  status  \\\n",
              "count      25569  25569.000000       23508   23825.000000   25569   \n",
              "unique        13           NaN         252            NaN       3   \n",
              "top           MT           NaN         BLK            NaN  STOLEN   \n",
              "freq        8245           NaN        7422            NaN   24807   \n",
              "mean         NaN     14.164144         NaN     949.542371     NaN   \n",
              "min          NaN      0.000000         NaN       0.000000     NaN   \n",
              "25%          NaN      6.000000         NaN     350.000000     NaN   \n",
              "50%          NaN     15.000000         NaN     600.000000     NaN   \n",
              "75%          NaN     21.000000         NaN    1000.000000     NaN   \n",
              "max          NaN     99.000000         NaN  120000.000000     NaN   \n",
              "std          NaN     10.559215         NaN    1675.880345     NaN   \n",
              "\n",
              "           objectid2                                           geometry  \n",
              "count   25569.000000                                              25569  \n",
              "unique           NaN                                               5816  \n",
              "top              NaN  {'type': 'Point', 'coordinates': (-79.38372586...  \n",
              "freq             NaN                                                167  \n",
              "mean    12785.000000                                                NaN  \n",
              "min         1.000000                                                NaN  \n",
              "25%      6393.000000                                                NaN  \n",
              "50%     12785.000000                                                NaN  \n",
              "75%     19177.000000                                                NaN  \n",
              "max     25569.000000                                                NaN  \n",
              "std      7381.278853                                                NaN  "
            ],
            "text/html": [
              "\n",
              "  <div id=\"df-2ccd140e-091b-4099-ad3d-b7d89fe973ca\" class=\"colab-df-container\">\n",
              "    <div>\n",
              "<style scoped>\n",
              "    .dataframe tbody tr th:only-of-type {\n",
              "        vertical-align: middle;\n",
              "    }\n",
              "\n",
              "    .dataframe tbody tr th {\n",
              "        vertical-align: top;\n",
              "    }\n",
              "\n",
              "    .dataframe thead th {\n",
              "        text-align: right;\n",
              "    }\n",
              "</style>\n",
              "<table border=\"1\" class=\"dataframe\">\n",
              "  <thead>\n",
              "    <tr style=\"text-align: right;\">\n",
              "      <th></th>\n",
              "      <th>_id</th>\n",
              "      <th>objectid</th>\n",
              "      <th>event_unique_id</th>\n",
              "      <th>primary_offence</th>\n",
              "      <th>occurrence_date</th>\n",
              "      <th>occurrence_year</th>\n",
              "      <th>occurrence_month</th>\n",
              "      <th>occurrence_dayofweek</th>\n",
              "      <th>occurrence_dayofmonth</th>\n",
              "      <th>occurrence_dayofyear</th>\n",
              "      <th>occurrence_hour</th>\n",
              "      <th>report_date</th>\n",
              "      <th>report_year</th>\n",
              "      <th>report_month</th>\n",
              "      <th>report_dayofweek</th>\n",
              "      <th>report_dayofmonth</th>\n",
              "      <th>report_dayofyear</th>\n",
              "      <th>report_hour</th>\n",
              "      <th>division</th>\n",
              "      <th>city</th>\n",
              "      <th>hood_id</th>\n",
              "      <th>neighbourhoodname</th>\n",
              "      <th>location_type</th>\n",
              "      <th>premises_type</th>\n",
              "      <th>bike_make</th>\n",
              "      <th>bike_model</th>\n",
              "      <th>bike_type</th>\n",
              "      <th>bike_speed</th>\n",
              "      <th>bike_colour</th>\n",
              "      <th>bike_cost</th>\n",
              "      <th>status</th>\n",
              "      <th>objectid2</th>\n",
              "      <th>geometry</th>\n",
              "    </tr>\n",
              "  </thead>\n",
              "  <tbody>\n",
              "    <tr>\n",
              "      <th>count</th>\n",
              "      <td>25569.000000</td>\n",
              "      <td>25569.000000</td>\n",
              "      <td>25569</td>\n",
              "      <td>25569</td>\n",
              "      <td>25569</td>\n",
              "      <td>25569.000000</td>\n",
              "      <td>25569</td>\n",
              "      <td>25569</td>\n",
              "      <td>25569.000000</td>\n",
              "      <td>25569.000000</td>\n",
              "      <td>25569.000000</td>\n",
              "      <td>25569</td>\n",
              "      <td>25569.000000</td>\n",
              "      <td>25569</td>\n",
              "      <td>25569</td>\n",
              "      <td>25569.000000</td>\n",
              "      <td>25569.000000</td>\n",
              "      <td>25569.000000</td>\n",
              "      <td>25569</td>\n",
              "      <td>25569</td>\n",
              "      <td>25569</td>\n",
              "      <td>25569</td>\n",
              "      <td>25569</td>\n",
              "      <td>25569</td>\n",
              "      <td>25448</td>\n",
              "      <td>15923</td>\n",
              "      <td>25569</td>\n",
              "      <td>25569.000000</td>\n",
              "      <td>23508</td>\n",
              "      <td>23825.000000</td>\n",
              "      <td>25569</td>\n",
              "      <td>25569.000000</td>\n",
              "      <td>25569</td>\n",
              "    </tr>\n",
              "    <tr>\n",
              "      <th>unique</th>\n",
              "      <td>NaN</td>\n",
              "      <td>NaN</td>\n",
              "      <td>22771</td>\n",
              "      <td>66</td>\n",
              "      <td>NaN</td>\n",
              "      <td>NaN</td>\n",
              "      <td>12</td>\n",
              "      <td>7</td>\n",
              "      <td>NaN</td>\n",
              "      <td>NaN</td>\n",
              "      <td>NaN</td>\n",
              "      <td>NaN</td>\n",
              "      <td>NaN</td>\n",
              "      <td>12</td>\n",
              "      <td>7</td>\n",
              "      <td>NaN</td>\n",
              "      <td>NaN</td>\n",
              "      <td>NaN</td>\n",
              "      <td>18</td>\n",
              "      <td>2</td>\n",
              "      <td>141</td>\n",
              "      <td>141</td>\n",
              "      <td>42</td>\n",
              "      <td>7</td>\n",
              "      <td>820</td>\n",
              "      <td>8097</td>\n",
              "      <td>13</td>\n",
              "      <td>NaN</td>\n",
              "      <td>252</td>\n",
              "      <td>NaN</td>\n",
              "      <td>3</td>\n",
              "      <td>NaN</td>\n",
              "      <td>5816</td>\n",
              "    </tr>\n",
              "    <tr>\n",
              "      <th>top</th>\n",
              "      <td>NaN</td>\n",
              "      <td>NaN</td>\n",
              "      <td>GO-20201550944</td>\n",
              "      <td>THEFT UNDER</td>\n",
              "      <td>NaN</td>\n",
              "      <td>NaN</td>\n",
              "      <td>July</td>\n",
              "      <td>Friday</td>\n",
              "      <td>NaN</td>\n",
              "      <td>NaN</td>\n",
              "      <td>NaN</td>\n",
              "      <td>NaN</td>\n",
              "      <td>NaN</td>\n",
              "      <td>July</td>\n",
              "      <td>Monday</td>\n",
              "      <td>NaN</td>\n",
              "      <td>NaN</td>\n",
              "      <td>NaN</td>\n",
              "      <td>D14</td>\n",
              "      <td>Toronto</td>\n",
              "      <td>77</td>\n",
              "      <td>Waterfront Communities-The Island (77)</td>\n",
              "      <td>Apartment (Rooming House, Condo)</td>\n",
              "      <td>Outside</td>\n",
              "      <td>OT</td>\n",
              "      <td>UNKNOWN</td>\n",
              "      <td>MT</td>\n",
              "      <td>NaN</td>\n",
              "      <td>BLK</td>\n",
              "      <td>NaN</td>\n",
              "      <td>STOLEN</td>\n",
              "      <td>NaN</td>\n",
              "      <td>{'type': 'Point', 'coordinates': (-79.38372586...</td>\n",
              "    </tr>\n",
              "    <tr>\n",
              "      <th>freq</th>\n",
              "      <td>NaN</td>\n",
              "      <td>NaN</td>\n",
              "      <td>14</td>\n",
              "      <td>11904</td>\n",
              "      <td>NaN</td>\n",
              "      <td>NaN</td>\n",
              "      <td>4002</td>\n",
              "      <td>3924</td>\n",
              "      <td>NaN</td>\n",
              "      <td>NaN</td>\n",
              "      <td>NaN</td>\n",
              "      <td>NaN</td>\n",
              "      <td>NaN</td>\n",
              "      <td>3988</td>\n",
              "      <td>4318</td>\n",
              "      <td>NaN</td>\n",
              "      <td>NaN</td>\n",
              "      <td>NaN</td>\n",
              "      <td>4580</td>\n",
              "      <td>25560</td>\n",
              "      <td>2576</td>\n",
              "      <td>2576</td>\n",
              "      <td>5887</td>\n",
              "      <td>7960</td>\n",
              "      <td>4991</td>\n",
              "      <td>304</td>\n",
              "      <td>8245</td>\n",
              "      <td>NaN</td>\n",
              "      <td>7422</td>\n",
              "      <td>NaN</td>\n",
              "      <td>24807</td>\n",
              "      <td>NaN</td>\n",
              "      <td>167</td>\n",
              "    </tr>\n",
              "    <tr>\n",
              "      <th>mean</th>\n",
              "      <td>12785.000000</td>\n",
              "      <td>12909.173218</td>\n",
              "      <td>NaN</td>\n",
              "      <td>NaN</td>\n",
              "      <td>2017-09-04 03:39:28.321013504</td>\n",
              "      <td>2017.124174</td>\n",
              "      <td>NaN</td>\n",
              "      <td>NaN</td>\n",
              "      <td>15.616684</td>\n",
              "      <td>202.227698</td>\n",
              "      <td>13.274395</td>\n",
              "      <td>2017-09-12 12:02:37.127771904</td>\n",
              "      <td>2017.143572</td>\n",
              "      <td>NaN</td>\n",
              "      <td>NaN</td>\n",
              "      <td>15.924870</td>\n",
              "      <td>203.493723</td>\n",
              "      <td>14.224139</td>\n",
              "      <td>NaN</td>\n",
              "      <td>NaN</td>\n",
              "      <td>NaN</td>\n",
              "      <td>NaN</td>\n",
              "      <td>NaN</td>\n",
              "      <td>NaN</td>\n",
              "      <td>NaN</td>\n",
              "      <td>NaN</td>\n",
              "      <td>NaN</td>\n",
              "      <td>14.164144</td>\n",
              "      <td>NaN</td>\n",
              "      <td>949.542371</td>\n",
              "      <td>NaN</td>\n",
              "      <td>12785.000000</td>\n",
              "      <td>NaN</td>\n",
              "    </tr>\n",
              "    <tr>\n",
              "      <th>min</th>\n",
              "      <td>1.000000</td>\n",
              "      <td>1.000000</td>\n",
              "      <td>NaN</td>\n",
              "      <td>NaN</td>\n",
              "      <td>2009-09-01 00:00:00</td>\n",
              "      <td>2009.000000</td>\n",
              "      <td>NaN</td>\n",
              "      <td>NaN</td>\n",
              "      <td>1.000000</td>\n",
              "      <td>1.000000</td>\n",
              "      <td>0.000000</td>\n",
              "      <td>2014-01-01 00:00:00</td>\n",
              "      <td>2014.000000</td>\n",
              "      <td>NaN</td>\n",
              "      <td>NaN</td>\n",
              "      <td>1.000000</td>\n",
              "      <td>1.000000</td>\n",
              "      <td>0.000000</td>\n",
              "      <td>NaN</td>\n",
              "      <td>NaN</td>\n",
              "      <td>NaN</td>\n",
              "      <td>NaN</td>\n",
              "      <td>NaN</td>\n",
              "      <td>NaN</td>\n",
              "      <td>NaN</td>\n",
              "      <td>NaN</td>\n",
              "      <td>NaN</td>\n",
              "      <td>0.000000</td>\n",
              "      <td>NaN</td>\n",
              "      <td>0.000000</td>\n",
              "      <td>NaN</td>\n",
              "      <td>1.000000</td>\n",
              "      <td>NaN</td>\n",
              "    </tr>\n",
              "    <tr>\n",
              "      <th>25%</th>\n",
              "      <td>6393.000000</td>\n",
              "      <td>6456.000000</td>\n",
              "      <td>NaN</td>\n",
              "      <td>NaN</td>\n",
              "      <td>2016-01-06 00:00:00</td>\n",
              "      <td>2016.000000</td>\n",
              "      <td>NaN</td>\n",
              "      <td>NaN</td>\n",
              "      <td>8.000000</td>\n",
              "      <td>153.000000</td>\n",
              "      <td>9.000000</td>\n",
              "      <td>2016-01-22 00:00:00</td>\n",
              "      <td>2016.000000</td>\n",
              "      <td>NaN</td>\n",
              "      <td>NaN</td>\n",
              "      <td>9.000000</td>\n",
              "      <td>154.000000</td>\n",
              "      <td>11.000000</td>\n",
              "      <td>NaN</td>\n",
              "      <td>NaN</td>\n",
              "      <td>NaN</td>\n",
              "      <td>NaN</td>\n",
              "      <td>NaN</td>\n",
              "      <td>NaN</td>\n",
              "      <td>NaN</td>\n",
              "      <td>NaN</td>\n",
              "      <td>NaN</td>\n",
              "      <td>6.000000</td>\n",
              "      <td>NaN</td>\n",
              "      <td>350.000000</td>\n",
              "      <td>NaN</td>\n",
              "      <td>6393.000000</td>\n",
              "      <td>NaN</td>\n",
              "    </tr>\n",
              "    <tr>\n",
              "      <th>50%</th>\n",
              "      <td>12785.000000</td>\n",
              "      <td>12918.000000</td>\n",
              "      <td>NaN</td>\n",
              "      <td>NaN</td>\n",
              "      <td>2017-09-05 00:00:00</td>\n",
              "      <td>2017.000000</td>\n",
              "      <td>NaN</td>\n",
              "      <td>NaN</td>\n",
              "      <td>16.000000</td>\n",
              "      <td>205.000000</td>\n",
              "      <td>14.000000</td>\n",
              "      <td>2017-09-12 00:00:00</td>\n",
              "      <td>2017.000000</td>\n",
              "      <td>NaN</td>\n",
              "      <td>NaN</td>\n",
              "      <td>16.000000</td>\n",
              "      <td>206.000000</td>\n",
              "      <td>14.000000</td>\n",
              "      <td>NaN</td>\n",
              "      <td>NaN</td>\n",
              "      <td>NaN</td>\n",
              "      <td>NaN</td>\n",
              "      <td>NaN</td>\n",
              "      <td>NaN</td>\n",
              "      <td>NaN</td>\n",
              "      <td>NaN</td>\n",
              "      <td>NaN</td>\n",
              "      <td>15.000000</td>\n",
              "      <td>NaN</td>\n",
              "      <td>600.000000</td>\n",
              "      <td>NaN</td>\n",
              "      <td>12785.000000</td>\n",
              "      <td>NaN</td>\n",
              "    </tr>\n",
              "    <tr>\n",
              "      <th>75%</th>\n",
              "      <td>19177.000000</td>\n",
              "      <td>19360.000000</td>\n",
              "      <td>NaN</td>\n",
              "      <td>NaN</td>\n",
              "      <td>2019-06-20 00:00:00</td>\n",
              "      <td>2019.000000</td>\n",
              "      <td>NaN</td>\n",
              "      <td>NaN</td>\n",
              "      <td>23.000000</td>\n",
              "      <td>259.000000</td>\n",
              "      <td>19.000000</td>\n",
              "      <td>2019-06-26 00:00:00</td>\n",
              "      <td>2019.000000</td>\n",
              "      <td>NaN</td>\n",
              "      <td>NaN</td>\n",
              "      <td>23.000000</td>\n",
              "      <td>260.000000</td>\n",
              "      <td>18.000000</td>\n",
              "      <td>NaN</td>\n",
              "      <td>NaN</td>\n",
              "      <td>NaN</td>\n",
              "      <td>NaN</td>\n",
              "      <td>NaN</td>\n",
              "      <td>NaN</td>\n",
              "      <td>NaN</td>\n",
              "      <td>NaN</td>\n",
              "      <td>NaN</td>\n",
              "      <td>21.000000</td>\n",
              "      <td>NaN</td>\n",
              "      <td>1000.000000</td>\n",
              "      <td>NaN</td>\n",
              "      <td>19177.000000</td>\n",
              "      <td>NaN</td>\n",
              "    </tr>\n",
              "    <tr>\n",
              "      <th>max</th>\n",
              "      <td>25569.000000</td>\n",
              "      <td>25806.000000</td>\n",
              "      <td>NaN</td>\n",
              "      <td>NaN</td>\n",
              "      <td>2020-12-30 00:00:00</td>\n",
              "      <td>2020.000000</td>\n",
              "      <td>NaN</td>\n",
              "      <td>NaN</td>\n",
              "      <td>31.000000</td>\n",
              "      <td>366.000000</td>\n",
              "      <td>23.000000</td>\n",
              "      <td>2020-12-31 00:00:00</td>\n",
              "      <td>2020.000000</td>\n",
              "      <td>NaN</td>\n",
              "      <td>NaN</td>\n",
              "      <td>31.000000</td>\n",
              "      <td>366.000000</td>\n",
              "      <td>23.000000</td>\n",
              "      <td>NaN</td>\n",
              "      <td>NaN</td>\n",
              "      <td>NaN</td>\n",
              "      <td>NaN</td>\n",
              "      <td>NaN</td>\n",
              "      <td>NaN</td>\n",
              "      <td>NaN</td>\n",
              "      <td>NaN</td>\n",
              "      <td>NaN</td>\n",
              "      <td>99.000000</td>\n",
              "      <td>NaN</td>\n",
              "      <td>120000.000000</td>\n",
              "      <td>NaN</td>\n",
              "      <td>25569.000000</td>\n",
              "      <td>NaN</td>\n",
              "    </tr>\n",
              "    <tr>\n",
              "      <th>std</th>\n",
              "      <td>7381.278853</td>\n",
              "      <td>7448.318562</td>\n",
              "      <td>NaN</td>\n",
              "      <td>NaN</td>\n",
              "      <td>NaN</td>\n",
              "      <td>1.960127</td>\n",
              "      <td>NaN</td>\n",
              "      <td>NaN</td>\n",
              "      <td>8.592886</td>\n",
              "      <td>76.821431</td>\n",
              "      <td>6.530181</td>\n",
              "      <td>NaN</td>\n",
              "      <td>1.955024</td>\n",
              "      <td>NaN</td>\n",
              "      <td>NaN</td>\n",
              "      <td>8.549584</td>\n",
              "      <td>77.115977</td>\n",
              "      <td>5.052944</td>\n",
              "      <td>NaN</td>\n",
              "      <td>NaN</td>\n",
              "      <td>NaN</td>\n",
              "      <td>NaN</td>\n",
              "      <td>NaN</td>\n",
              "      <td>NaN</td>\n",
              "      <td>NaN</td>\n",
              "      <td>NaN</td>\n",
              "      <td>NaN</td>\n",
              "      <td>10.559215</td>\n",
              "      <td>NaN</td>\n",
              "      <td>1675.880345</td>\n",
              "      <td>NaN</td>\n",
              "      <td>7381.278853</td>\n",
              "      <td>NaN</td>\n",
              "    </tr>\n",
              "  </tbody>\n",
              "</table>\n",
              "</div>\n",
              "    <div class=\"colab-df-buttons\">\n",
              "\n",
              "  <div class=\"colab-df-container\">\n",
              "    <button class=\"colab-df-convert\" onclick=\"convertToInteractive('df-2ccd140e-091b-4099-ad3d-b7d89fe973ca')\"\n",
              "            title=\"Convert this dataframe to an interactive table.\"\n",
              "            style=\"display:none;\">\n",
              "\n",
              "  <svg xmlns=\"http://www.w3.org/2000/svg\" height=\"24px\" viewBox=\"0 -960 960 960\">\n",
              "    <path d=\"M120-120v-720h720v720H120Zm60-500h600v-160H180v160Zm220 220h160v-160H400v160Zm0 220h160v-160H400v160ZM180-400h160v-160H180v160Zm440 0h160v-160H620v160ZM180-180h160v-160H180v160Zm440 0h160v-160H620v160Z\"/>\n",
              "  </svg>\n",
              "    </button>\n",
              "\n",
              "  <style>\n",
              "    .colab-df-container {\n",
              "      display:flex;\n",
              "      gap: 12px;\n",
              "    }\n",
              "\n",
              "    .colab-df-convert {\n",
              "      background-color: #E8F0FE;\n",
              "      border: none;\n",
              "      border-radius: 50%;\n",
              "      cursor: pointer;\n",
              "      display: none;\n",
              "      fill: #1967D2;\n",
              "      height: 32px;\n",
              "      padding: 0 0 0 0;\n",
              "      width: 32px;\n",
              "    }\n",
              "\n",
              "    .colab-df-convert:hover {\n",
              "      background-color: #E2EBFA;\n",
              "      box-shadow: 0px 1px 2px rgba(60, 64, 67, 0.3), 0px 1px 3px 1px rgba(60, 64, 67, 0.15);\n",
              "      fill: #174EA6;\n",
              "    }\n",
              "\n",
              "    .colab-df-buttons div {\n",
              "      margin-bottom: 4px;\n",
              "    }\n",
              "\n",
              "    [theme=dark] .colab-df-convert {\n",
              "      background-color: #3B4455;\n",
              "      fill: #D2E3FC;\n",
              "    }\n",
              "\n",
              "    [theme=dark] .colab-df-convert:hover {\n",
              "      background-color: #434B5C;\n",
              "      box-shadow: 0px 1px 3px 1px rgba(0, 0, 0, 0.15);\n",
              "      filter: drop-shadow(0px 1px 2px rgba(0, 0, 0, 0.3));\n",
              "      fill: #FFFFFF;\n",
              "    }\n",
              "  </style>\n",
              "\n",
              "    <script>\n",
              "      const buttonEl =\n",
              "        document.querySelector('#df-2ccd140e-091b-4099-ad3d-b7d89fe973ca button.colab-df-convert');\n",
              "      buttonEl.style.display =\n",
              "        google.colab.kernel.accessAllowed ? 'block' : 'none';\n",
              "\n",
              "      async function convertToInteractive(key) {\n",
              "        const element = document.querySelector('#df-2ccd140e-091b-4099-ad3d-b7d89fe973ca');\n",
              "        const dataTable =\n",
              "          await google.colab.kernel.invokeFunction('convertToInteractive',\n",
              "                                                    [key], {});\n",
              "        if (!dataTable) return;\n",
              "\n",
              "        const docLinkHtml = 'Like what you see? Visit the ' +\n",
              "          '<a target=\"_blank\" href=https://colab.research.google.com/notebooks/data_table.ipynb>data table notebook</a>'\n",
              "          + ' to learn more about interactive tables.';\n",
              "        element.innerHTML = '';\n",
              "        dataTable['output_type'] = 'display_data';\n",
              "        await google.colab.output.renderOutput(dataTable, element);\n",
              "        const docLink = document.createElement('div');\n",
              "        docLink.innerHTML = docLinkHtml;\n",
              "        element.appendChild(docLink);\n",
              "      }\n",
              "    </script>\n",
              "  </div>\n",
              "\n",
              "\n",
              "<div id=\"df-1c9e2497-0b54-440b-a8f5-3a401f8782ed\">\n",
              "  <button class=\"colab-df-quickchart\" onclick=\"quickchart('df-1c9e2497-0b54-440b-a8f5-3a401f8782ed')\"\n",
              "            title=\"Suggest charts\"\n",
              "            style=\"display:none;\">\n",
              "\n",
              "<svg xmlns=\"http://www.w3.org/2000/svg\" height=\"24px\"viewBox=\"0 0 24 24\"\n",
              "     width=\"24px\">\n",
              "    <g>\n",
              "        <path d=\"M19 3H5c-1.1 0-2 .9-2 2v14c0 1.1.9 2 2 2h14c1.1 0 2-.9 2-2V5c0-1.1-.9-2-2-2zM9 17H7v-7h2v7zm4 0h-2V7h2v10zm4 0h-2v-4h2v4z\"/>\n",
              "    </g>\n",
              "</svg>\n",
              "  </button>\n",
              "\n",
              "<style>\n",
              "  .colab-df-quickchart {\n",
              "      --bg-color: #E8F0FE;\n",
              "      --fill-color: #1967D2;\n",
              "      --hover-bg-color: #E2EBFA;\n",
              "      --hover-fill-color: #174EA6;\n",
              "      --disabled-fill-color: #AAA;\n",
              "      --disabled-bg-color: #DDD;\n",
              "  }\n",
              "\n",
              "  [theme=dark] .colab-df-quickchart {\n",
              "      --bg-color: #3B4455;\n",
              "      --fill-color: #D2E3FC;\n",
              "      --hover-bg-color: #434B5C;\n",
              "      --hover-fill-color: #FFFFFF;\n",
              "      --disabled-bg-color: #3B4455;\n",
              "      --disabled-fill-color: #666;\n",
              "  }\n",
              "\n",
              "  .colab-df-quickchart {\n",
              "    background-color: var(--bg-color);\n",
              "    border: none;\n",
              "    border-radius: 50%;\n",
              "    cursor: pointer;\n",
              "    display: none;\n",
              "    fill: var(--fill-color);\n",
              "    height: 32px;\n",
              "    padding: 0;\n",
              "    width: 32px;\n",
              "  }\n",
              "\n",
              "  .colab-df-quickchart:hover {\n",
              "    background-color: var(--hover-bg-color);\n",
              "    box-shadow: 0 1px 2px rgba(60, 64, 67, 0.3), 0 1px 3px 1px rgba(60, 64, 67, 0.15);\n",
              "    fill: var(--button-hover-fill-color);\n",
              "  }\n",
              "\n",
              "  .colab-df-quickchart-complete:disabled,\n",
              "  .colab-df-quickchart-complete:disabled:hover {\n",
              "    background-color: var(--disabled-bg-color);\n",
              "    fill: var(--disabled-fill-color);\n",
              "    box-shadow: none;\n",
              "  }\n",
              "\n",
              "  .colab-df-spinner {\n",
              "    border: 2px solid var(--fill-color);\n",
              "    border-color: transparent;\n",
              "    border-bottom-color: var(--fill-color);\n",
              "    animation:\n",
              "      spin 1s steps(1) infinite;\n",
              "  }\n",
              "\n",
              "  @keyframes spin {\n",
              "    0% {\n",
              "      border-color: transparent;\n",
              "      border-bottom-color: var(--fill-color);\n",
              "      border-left-color: var(--fill-color);\n",
              "    }\n",
              "    20% {\n",
              "      border-color: transparent;\n",
              "      border-left-color: var(--fill-color);\n",
              "      border-top-color: var(--fill-color);\n",
              "    }\n",
              "    30% {\n",
              "      border-color: transparent;\n",
              "      border-left-color: var(--fill-color);\n",
              "      border-top-color: var(--fill-color);\n",
              "      border-right-color: var(--fill-color);\n",
              "    }\n",
              "    40% {\n",
              "      border-color: transparent;\n",
              "      border-right-color: var(--fill-color);\n",
              "      border-top-color: var(--fill-color);\n",
              "    }\n",
              "    60% {\n",
              "      border-color: transparent;\n",
              "      border-right-color: var(--fill-color);\n",
              "    }\n",
              "    80% {\n",
              "      border-color: transparent;\n",
              "      border-right-color: var(--fill-color);\n",
              "      border-bottom-color: var(--fill-color);\n",
              "    }\n",
              "    90% {\n",
              "      border-color: transparent;\n",
              "      border-bottom-color: var(--fill-color);\n",
              "    }\n",
              "  }\n",
              "</style>\n",
              "\n",
              "  <script>\n",
              "    async function quickchart(key) {\n",
              "      const quickchartButtonEl =\n",
              "        document.querySelector('#' + key + ' button');\n",
              "      quickchartButtonEl.disabled = true;  // To prevent multiple clicks.\n",
              "      quickchartButtonEl.classList.add('colab-df-spinner');\n",
              "      try {\n",
              "        const charts = await google.colab.kernel.invokeFunction(\n",
              "            'suggestCharts', [key], {});\n",
              "      } catch (error) {\n",
              "        console.error('Error during call to suggestCharts:', error);\n",
              "      }\n",
              "      quickchartButtonEl.classList.remove('colab-df-spinner');\n",
              "      quickchartButtonEl.classList.add('colab-df-quickchart-complete');\n",
              "    }\n",
              "    (() => {\n",
              "      let quickchartButtonEl =\n",
              "        document.querySelector('#df-1c9e2497-0b54-440b-a8f5-3a401f8782ed button');\n",
              "      quickchartButtonEl.style.display =\n",
              "        google.colab.kernel.accessAllowed ? 'block' : 'none';\n",
              "    })();\n",
              "  </script>\n",
              "</div>\n",
              "\n",
              "    </div>\n",
              "  </div>\n"
            ]
          },
          "metadata": {},
          "execution_count": 92
        }
      ]
    },
    {
      "cell_type": "code",
      "source": [
        "# read_csv; read_excel()\n",
        "\n",
        "delays = pd.read_excel('/content/drive/MyDrive/Colab Notebooks/data/ttc-subway-delay-data-2021.xlsx', sheet_name=None)"
      ],
      "metadata": {
        "id": "MK17_x0ulboh"
      },
      "execution_count": 93,
      "outputs": []
    },
    {
      "cell_type": "code",
      "source": [
        "type(delays)"
      ],
      "metadata": {
        "colab": {
          "base_uri": "https://localhost:8080/"
        },
        "id": "IXgh6fDSmNM0",
        "outputId": "cd28c4e4-dc50-477c-9384-cf59f3001b29"
      },
      "execution_count": 94,
      "outputs": [
        {
          "output_type": "execute_result",
          "data": {
            "text/plain": [
              "dict"
            ]
          },
          "metadata": {},
          "execution_count": 94
        }
      ]
    },
    {
      "cell_type": "code",
      "source": [
        "# key, value pairs\n",
        "# keys --> sheet name\n",
        "# values --> DataFrame sheet contents\n",
        "\n",
        "# create an empty DataFrame\n",
        "all_delays = pd.DataFrame()\n",
        "\n",
        "for sheet, values in delays.items(): # sheet <-- January21, values <-- 1217\n",
        "  # print the number of rows\n",
        "  print(f'Adding {values.shape[0]} rows from {sheet}')\n",
        "  all_delays = pd.concat([all_delays, values],\n",
        "                         axis=0,\n",
        "                         ignore_index=True) #reset row labels\n",
        "\n"
      ],
      "metadata": {
        "colab": {
          "base_uri": "https://localhost:8080/"
        },
        "id": "QWjlRDP6mWkV",
        "outputId": "d8153731-9be6-4cf6-a011-91d99d7064fb"
      },
      "execution_count": 95,
      "outputs": [
        {
          "output_type": "stream",
          "name": "stdout",
          "text": [
            "Adding 1216 rows from January21\n",
            "Adding 1245 rows from Feb 21\n",
            "Adding 1167 rows from March '21\n",
            "Adding 1170 rows from April '21\n",
            "Adding 1168 rows from May '21\n",
            "Adding 1265 rows from June 21\n",
            "Adding 1244 rows from July 21\n",
            "Adding 1273 rows from August 21\n",
            "Adding 1433 rows from Sept 21\n",
            "Adding 1560 rows from Oct 21\n",
            "Adding 1771 rows from Nov 21\n",
            "Adding 1858 rows from December21\n"
          ]
        }
      ]
    },
    {
      "cell_type": "code",
      "source": [
        "all_delays.info()"
      ],
      "metadata": {
        "colab": {
          "base_uri": "https://localhost:8080/"
        },
        "id": "dkH_YjY-mtbz",
        "outputId": "6287880e-92b0-4c12-8a8f-d2ba0dfa1270"
      },
      "execution_count": 96,
      "outputs": [
        {
          "output_type": "stream",
          "name": "stdout",
          "text": [
            "<class 'pandas.core.frame.DataFrame'>\n",
            "RangeIndex: 16370 entries, 0 to 16369\n",
            "Data columns (total 10 columns):\n",
            " #   Column     Non-Null Count  Dtype         \n",
            "---  ------     --------------  -----         \n",
            " 0   Date       16370 non-null  datetime64[ns]\n",
            " 1   Time       16370 non-null  object        \n",
            " 2   Day        16370 non-null  object        \n",
            " 3   Station    16370 non-null  object        \n",
            " 4   Code       16370 non-null  object        \n",
            " 5   Min Delay  16370 non-null  int64         \n",
            " 6   Min Gap    16370 non-null  int64         \n",
            " 7   Bound      12119 non-null  object        \n",
            " 8   Line       16318 non-null  object        \n",
            " 9   Vehicle    16370 non-null  int64         \n",
            "dtypes: datetime64[ns](1), int64(3), object(6)\n",
            "memory usage: 1.2+ MB\n"
          ]
        }
      ]
    },
    {
      "cell_type": "code",
      "source": [
        "all_delays.head()"
      ],
      "metadata": {
        "colab": {
          "base_uri": "https://localhost:8080/",
          "height": 310
        },
        "id": "Bm6S1CaIp7TT",
        "outputId": "19710280-3eac-479c-8f93-c545715afe5b"
      },
      "execution_count": 97,
      "outputs": [
        {
          "output_type": "execute_result",
          "data": {
            "text/plain": [
              "        Date   Time     Day                Station   Code  Min Delay  Min Gap  \\\n",
              "0 2021-01-01  00:33  Friday          BLOOR STATION  MUPAA          0        0   \n",
              "1 2021-01-01  00:39  Friday     SHERBOURNE STATION   EUCO          5        9   \n",
              "2 2021-01-01  01:07  Friday     KENNEDY BD STATION   EUCD          5        9   \n",
              "3 2021-01-01  01:41  Friday       ST CLAIR STATION   MUIS          0        0   \n",
              "4 2021-01-01  02:04  Friday  SHEPPARD WEST STATION   MUIS          0        0   \n",
              "\n",
              "  Bound Line  Vehicle  \n",
              "0     N   YU     6046  \n",
              "1     E   BD     5250  \n",
              "2     E   BD     5249  \n",
              "3   NaN   YU        0  \n",
              "4   NaN   YU        0  "
            ],
            "text/html": [
              "\n",
              "  <div id=\"df-4ca29738-0fe0-4fbc-85ba-d5f3aac0049d\" class=\"colab-df-container\">\n",
              "    <div>\n",
              "<style scoped>\n",
              "    .dataframe tbody tr th:only-of-type {\n",
              "        vertical-align: middle;\n",
              "    }\n",
              "\n",
              "    .dataframe tbody tr th {\n",
              "        vertical-align: top;\n",
              "    }\n",
              "\n",
              "    .dataframe thead th {\n",
              "        text-align: right;\n",
              "    }\n",
              "</style>\n",
              "<table border=\"1\" class=\"dataframe\">\n",
              "  <thead>\n",
              "    <tr style=\"text-align: right;\">\n",
              "      <th></th>\n",
              "      <th>Date</th>\n",
              "      <th>Time</th>\n",
              "      <th>Day</th>\n",
              "      <th>Station</th>\n",
              "      <th>Code</th>\n",
              "      <th>Min Delay</th>\n",
              "      <th>Min Gap</th>\n",
              "      <th>Bound</th>\n",
              "      <th>Line</th>\n",
              "      <th>Vehicle</th>\n",
              "    </tr>\n",
              "  </thead>\n",
              "  <tbody>\n",
              "    <tr>\n",
              "      <th>0</th>\n",
              "      <td>2021-01-01</td>\n",
              "      <td>00:33</td>\n",
              "      <td>Friday</td>\n",
              "      <td>BLOOR STATION</td>\n",
              "      <td>MUPAA</td>\n",
              "      <td>0</td>\n",
              "      <td>0</td>\n",
              "      <td>N</td>\n",
              "      <td>YU</td>\n",
              "      <td>6046</td>\n",
              "    </tr>\n",
              "    <tr>\n",
              "      <th>1</th>\n",
              "      <td>2021-01-01</td>\n",
              "      <td>00:39</td>\n",
              "      <td>Friday</td>\n",
              "      <td>SHERBOURNE STATION</td>\n",
              "      <td>EUCO</td>\n",
              "      <td>5</td>\n",
              "      <td>9</td>\n",
              "      <td>E</td>\n",
              "      <td>BD</td>\n",
              "      <td>5250</td>\n",
              "    </tr>\n",
              "    <tr>\n",
              "      <th>2</th>\n",
              "      <td>2021-01-01</td>\n",
              "      <td>01:07</td>\n",
              "      <td>Friday</td>\n",
              "      <td>KENNEDY BD STATION</td>\n",
              "      <td>EUCD</td>\n",
              "      <td>5</td>\n",
              "      <td>9</td>\n",
              "      <td>E</td>\n",
              "      <td>BD</td>\n",
              "      <td>5249</td>\n",
              "    </tr>\n",
              "    <tr>\n",
              "      <th>3</th>\n",
              "      <td>2021-01-01</td>\n",
              "      <td>01:41</td>\n",
              "      <td>Friday</td>\n",
              "      <td>ST CLAIR STATION</td>\n",
              "      <td>MUIS</td>\n",
              "      <td>0</td>\n",
              "      <td>0</td>\n",
              "      <td>NaN</td>\n",
              "      <td>YU</td>\n",
              "      <td>0</td>\n",
              "    </tr>\n",
              "    <tr>\n",
              "      <th>4</th>\n",
              "      <td>2021-01-01</td>\n",
              "      <td>02:04</td>\n",
              "      <td>Friday</td>\n",
              "      <td>SHEPPARD WEST STATION</td>\n",
              "      <td>MUIS</td>\n",
              "      <td>0</td>\n",
              "      <td>0</td>\n",
              "      <td>NaN</td>\n",
              "      <td>YU</td>\n",
              "      <td>0</td>\n",
              "    </tr>\n",
              "  </tbody>\n",
              "</table>\n",
              "</div>\n",
              "    <div class=\"colab-df-buttons\">\n",
              "\n",
              "  <div class=\"colab-df-container\">\n",
              "    <button class=\"colab-df-convert\" onclick=\"convertToInteractive('df-4ca29738-0fe0-4fbc-85ba-d5f3aac0049d')\"\n",
              "            title=\"Convert this dataframe to an interactive table.\"\n",
              "            style=\"display:none;\">\n",
              "\n",
              "  <svg xmlns=\"http://www.w3.org/2000/svg\" height=\"24px\" viewBox=\"0 -960 960 960\">\n",
              "    <path d=\"M120-120v-720h720v720H120Zm60-500h600v-160H180v160Zm220 220h160v-160H400v160Zm0 220h160v-160H400v160ZM180-400h160v-160H180v160Zm440 0h160v-160H620v160ZM180-180h160v-160H180v160Zm440 0h160v-160H620v160Z\"/>\n",
              "  </svg>\n",
              "    </button>\n",
              "\n",
              "  <style>\n",
              "    .colab-df-container {\n",
              "      display:flex;\n",
              "      gap: 12px;\n",
              "    }\n",
              "\n",
              "    .colab-df-convert {\n",
              "      background-color: #E8F0FE;\n",
              "      border: none;\n",
              "      border-radius: 50%;\n",
              "      cursor: pointer;\n",
              "      display: none;\n",
              "      fill: #1967D2;\n",
              "      height: 32px;\n",
              "      padding: 0 0 0 0;\n",
              "      width: 32px;\n",
              "    }\n",
              "\n",
              "    .colab-df-convert:hover {\n",
              "      background-color: #E2EBFA;\n",
              "      box-shadow: 0px 1px 2px rgba(60, 64, 67, 0.3), 0px 1px 3px 1px rgba(60, 64, 67, 0.15);\n",
              "      fill: #174EA6;\n",
              "    }\n",
              "\n",
              "    .colab-df-buttons div {\n",
              "      margin-bottom: 4px;\n",
              "    }\n",
              "\n",
              "    [theme=dark] .colab-df-convert {\n",
              "      background-color: #3B4455;\n",
              "      fill: #D2E3FC;\n",
              "    }\n",
              "\n",
              "    [theme=dark] .colab-df-convert:hover {\n",
              "      background-color: #434B5C;\n",
              "      box-shadow: 0px 1px 3px 1px rgba(0, 0, 0, 0.15);\n",
              "      filter: drop-shadow(0px 1px 2px rgba(0, 0, 0, 0.3));\n",
              "      fill: #FFFFFF;\n",
              "    }\n",
              "  </style>\n",
              "\n",
              "    <script>\n",
              "      const buttonEl =\n",
              "        document.querySelector('#df-4ca29738-0fe0-4fbc-85ba-d5f3aac0049d button.colab-df-convert');\n",
              "      buttonEl.style.display =\n",
              "        google.colab.kernel.accessAllowed ? 'block' : 'none';\n",
              "\n",
              "      async function convertToInteractive(key) {\n",
              "        const element = document.querySelector('#df-4ca29738-0fe0-4fbc-85ba-d5f3aac0049d');\n",
              "        const dataTable =\n",
              "          await google.colab.kernel.invokeFunction('convertToInteractive',\n",
              "                                                    [key], {});\n",
              "        if (!dataTable) return;\n",
              "\n",
              "        const docLinkHtml = 'Like what you see? Visit the ' +\n",
              "          '<a target=\"_blank\" href=https://colab.research.google.com/notebooks/data_table.ipynb>data table notebook</a>'\n",
              "          + ' to learn more about interactive tables.';\n",
              "        element.innerHTML = '';\n",
              "        dataTable['output_type'] = 'display_data';\n",
              "        await google.colab.output.renderOutput(dataTable, element);\n",
              "        const docLink = document.createElement('div');\n",
              "        docLink.innerHTML = docLinkHtml;\n",
              "        element.appendChild(docLink);\n",
              "      }\n",
              "    </script>\n",
              "  </div>\n",
              "\n",
              "\n",
              "<div id=\"df-fdbbe949-5877-49ac-993b-2468c3f76377\">\n",
              "  <button class=\"colab-df-quickchart\" onclick=\"quickchart('df-fdbbe949-5877-49ac-993b-2468c3f76377')\"\n",
              "            title=\"Suggest charts\"\n",
              "            style=\"display:none;\">\n",
              "\n",
              "<svg xmlns=\"http://www.w3.org/2000/svg\" height=\"24px\"viewBox=\"0 0 24 24\"\n",
              "     width=\"24px\">\n",
              "    <g>\n",
              "        <path d=\"M19 3H5c-1.1 0-2 .9-2 2v14c0 1.1.9 2 2 2h14c1.1 0 2-.9 2-2V5c0-1.1-.9-2-2-2zM9 17H7v-7h2v7zm4 0h-2V7h2v10zm4 0h-2v-4h2v4z\"/>\n",
              "    </g>\n",
              "</svg>\n",
              "  </button>\n",
              "\n",
              "<style>\n",
              "  .colab-df-quickchart {\n",
              "      --bg-color: #E8F0FE;\n",
              "      --fill-color: #1967D2;\n",
              "      --hover-bg-color: #E2EBFA;\n",
              "      --hover-fill-color: #174EA6;\n",
              "      --disabled-fill-color: #AAA;\n",
              "      --disabled-bg-color: #DDD;\n",
              "  }\n",
              "\n",
              "  [theme=dark] .colab-df-quickchart {\n",
              "      --bg-color: #3B4455;\n",
              "      --fill-color: #D2E3FC;\n",
              "      --hover-bg-color: #434B5C;\n",
              "      --hover-fill-color: #FFFFFF;\n",
              "      --disabled-bg-color: #3B4455;\n",
              "      --disabled-fill-color: #666;\n",
              "  }\n",
              "\n",
              "  .colab-df-quickchart {\n",
              "    background-color: var(--bg-color);\n",
              "    border: none;\n",
              "    border-radius: 50%;\n",
              "    cursor: pointer;\n",
              "    display: none;\n",
              "    fill: var(--fill-color);\n",
              "    height: 32px;\n",
              "    padding: 0;\n",
              "    width: 32px;\n",
              "  }\n",
              "\n",
              "  .colab-df-quickchart:hover {\n",
              "    background-color: var(--hover-bg-color);\n",
              "    box-shadow: 0 1px 2px rgba(60, 64, 67, 0.3), 0 1px 3px 1px rgba(60, 64, 67, 0.15);\n",
              "    fill: var(--button-hover-fill-color);\n",
              "  }\n",
              "\n",
              "  .colab-df-quickchart-complete:disabled,\n",
              "  .colab-df-quickchart-complete:disabled:hover {\n",
              "    background-color: var(--disabled-bg-color);\n",
              "    fill: var(--disabled-fill-color);\n",
              "    box-shadow: none;\n",
              "  }\n",
              "\n",
              "  .colab-df-spinner {\n",
              "    border: 2px solid var(--fill-color);\n",
              "    border-color: transparent;\n",
              "    border-bottom-color: var(--fill-color);\n",
              "    animation:\n",
              "      spin 1s steps(1) infinite;\n",
              "  }\n",
              "\n",
              "  @keyframes spin {\n",
              "    0% {\n",
              "      border-color: transparent;\n",
              "      border-bottom-color: var(--fill-color);\n",
              "      border-left-color: var(--fill-color);\n",
              "    }\n",
              "    20% {\n",
              "      border-color: transparent;\n",
              "      border-left-color: var(--fill-color);\n",
              "      border-top-color: var(--fill-color);\n",
              "    }\n",
              "    30% {\n",
              "      border-color: transparent;\n",
              "      border-left-color: var(--fill-color);\n",
              "      border-top-color: var(--fill-color);\n",
              "      border-right-color: var(--fill-color);\n",
              "    }\n",
              "    40% {\n",
              "      border-color: transparent;\n",
              "      border-right-color: var(--fill-color);\n",
              "      border-top-color: var(--fill-color);\n",
              "    }\n",
              "    60% {\n",
              "      border-color: transparent;\n",
              "      border-right-color: var(--fill-color);\n",
              "    }\n",
              "    80% {\n",
              "      border-color: transparent;\n",
              "      border-right-color: var(--fill-color);\n",
              "      border-bottom-color: var(--fill-color);\n",
              "    }\n",
              "    90% {\n",
              "      border-color: transparent;\n",
              "      border-bottom-color: var(--fill-color);\n",
              "    }\n",
              "  }\n",
              "</style>\n",
              "\n",
              "  <script>\n",
              "    async function quickchart(key) {\n",
              "      const quickchartButtonEl =\n",
              "        document.querySelector('#' + key + ' button');\n",
              "      quickchartButtonEl.disabled = true;  // To prevent multiple clicks.\n",
              "      quickchartButtonEl.classList.add('colab-df-spinner');\n",
              "      try {\n",
              "        const charts = await google.colab.kernel.invokeFunction(\n",
              "            'suggestCharts', [key], {});\n",
              "      } catch (error) {\n",
              "        console.error('Error during call to suggestCharts:', error);\n",
              "      }\n",
              "      quickchartButtonEl.classList.remove('colab-df-spinner');\n",
              "      quickchartButtonEl.classList.add('colab-df-quickchart-complete');\n",
              "    }\n",
              "    (() => {\n",
              "      let quickchartButtonEl =\n",
              "        document.querySelector('#df-fdbbe949-5877-49ac-993b-2468c3f76377 button');\n",
              "      quickchartButtonEl.style.display =\n",
              "        google.colab.kernel.accessAllowed ? 'block' : 'none';\n",
              "    })();\n",
              "  </script>\n",
              "</div>\n",
              "\n",
              "    </div>\n",
              "  </div>\n"
            ]
          },
          "metadata": {},
          "execution_count": 97
        }
      ]
    },
    {
      "cell_type": "code",
      "source": [
        "all_delays.tail()"
      ],
      "metadata": {
        "colab": {
          "base_uri": "https://localhost:8080/",
          "height": 310
        },
        "id": "H2ndfJauqVWI",
        "outputId": "3b610eb4-629e-4234-b2d5-05661606011d"
      },
      "execution_count": 98,
      "outputs": [
        {
          "output_type": "execute_result",
          "data": {
            "text/plain": [
              "            Date   Time     Day                Station   Code  Min Delay  \\\n",
              "16365 2021-12-31  01:10  Friday         MUSEUM STATION   SUUT          0   \n",
              "16366 2021-12-31  01:12  Friday          FINCH STATION   SUDP          5   \n",
              "16367 2021-12-31  01:21  Friday  EGLINTON WEST STATION  PUOPO          3   \n",
              "16368 2021-12-31  01:37  Friday  SHEPPARD WEST STATION   SUDP          0   \n",
              "16369 2021-12-31  07:00  Friday      DON MILLS STATION   TUSC          0   \n",
              "\n",
              "       Min Gap Bound Line  Vehicle  \n",
              "16365        0     N   YU     5591  \n",
              "16366       10     S   YU     5983  \n",
              "16367        8     N   YU     6046  \n",
              "16368        0     S   YU     5536  \n",
              "16369        0     E  SHP     6146  "
            ],
            "text/html": [
              "\n",
              "  <div id=\"df-e79b813d-905e-4e61-ad3f-3c1d797f82f3\" class=\"colab-df-container\">\n",
              "    <div>\n",
              "<style scoped>\n",
              "    .dataframe tbody tr th:only-of-type {\n",
              "        vertical-align: middle;\n",
              "    }\n",
              "\n",
              "    .dataframe tbody tr th {\n",
              "        vertical-align: top;\n",
              "    }\n",
              "\n",
              "    .dataframe thead th {\n",
              "        text-align: right;\n",
              "    }\n",
              "</style>\n",
              "<table border=\"1\" class=\"dataframe\">\n",
              "  <thead>\n",
              "    <tr style=\"text-align: right;\">\n",
              "      <th></th>\n",
              "      <th>Date</th>\n",
              "      <th>Time</th>\n",
              "      <th>Day</th>\n",
              "      <th>Station</th>\n",
              "      <th>Code</th>\n",
              "      <th>Min Delay</th>\n",
              "      <th>Min Gap</th>\n",
              "      <th>Bound</th>\n",
              "      <th>Line</th>\n",
              "      <th>Vehicle</th>\n",
              "    </tr>\n",
              "  </thead>\n",
              "  <tbody>\n",
              "    <tr>\n",
              "      <th>16365</th>\n",
              "      <td>2021-12-31</td>\n",
              "      <td>01:10</td>\n",
              "      <td>Friday</td>\n",
              "      <td>MUSEUM STATION</td>\n",
              "      <td>SUUT</td>\n",
              "      <td>0</td>\n",
              "      <td>0</td>\n",
              "      <td>N</td>\n",
              "      <td>YU</td>\n",
              "      <td>5591</td>\n",
              "    </tr>\n",
              "    <tr>\n",
              "      <th>16366</th>\n",
              "      <td>2021-12-31</td>\n",
              "      <td>01:12</td>\n",
              "      <td>Friday</td>\n",
              "      <td>FINCH STATION</td>\n",
              "      <td>SUDP</td>\n",
              "      <td>5</td>\n",
              "      <td>10</td>\n",
              "      <td>S</td>\n",
              "      <td>YU</td>\n",
              "      <td>5983</td>\n",
              "    </tr>\n",
              "    <tr>\n",
              "      <th>16367</th>\n",
              "      <td>2021-12-31</td>\n",
              "      <td>01:21</td>\n",
              "      <td>Friday</td>\n",
              "      <td>EGLINTON WEST STATION</td>\n",
              "      <td>PUOPO</td>\n",
              "      <td>3</td>\n",
              "      <td>8</td>\n",
              "      <td>N</td>\n",
              "      <td>YU</td>\n",
              "      <td>6046</td>\n",
              "    </tr>\n",
              "    <tr>\n",
              "      <th>16368</th>\n",
              "      <td>2021-12-31</td>\n",
              "      <td>01:37</td>\n",
              "      <td>Friday</td>\n",
              "      <td>SHEPPARD WEST STATION</td>\n",
              "      <td>SUDP</td>\n",
              "      <td>0</td>\n",
              "      <td>0</td>\n",
              "      <td>S</td>\n",
              "      <td>YU</td>\n",
              "      <td>5536</td>\n",
              "    </tr>\n",
              "    <tr>\n",
              "      <th>16369</th>\n",
              "      <td>2021-12-31</td>\n",
              "      <td>07:00</td>\n",
              "      <td>Friday</td>\n",
              "      <td>DON MILLS STATION</td>\n",
              "      <td>TUSC</td>\n",
              "      <td>0</td>\n",
              "      <td>0</td>\n",
              "      <td>E</td>\n",
              "      <td>SHP</td>\n",
              "      <td>6146</td>\n",
              "    </tr>\n",
              "  </tbody>\n",
              "</table>\n",
              "</div>\n",
              "    <div class=\"colab-df-buttons\">\n",
              "\n",
              "  <div class=\"colab-df-container\">\n",
              "    <button class=\"colab-df-convert\" onclick=\"convertToInteractive('df-e79b813d-905e-4e61-ad3f-3c1d797f82f3')\"\n",
              "            title=\"Convert this dataframe to an interactive table.\"\n",
              "            style=\"display:none;\">\n",
              "\n",
              "  <svg xmlns=\"http://www.w3.org/2000/svg\" height=\"24px\" viewBox=\"0 -960 960 960\">\n",
              "    <path d=\"M120-120v-720h720v720H120Zm60-500h600v-160H180v160Zm220 220h160v-160H400v160Zm0 220h160v-160H400v160ZM180-400h160v-160H180v160Zm440 0h160v-160H620v160ZM180-180h160v-160H180v160Zm440 0h160v-160H620v160Z\"/>\n",
              "  </svg>\n",
              "    </button>\n",
              "\n",
              "  <style>\n",
              "    .colab-df-container {\n",
              "      display:flex;\n",
              "      gap: 12px;\n",
              "    }\n",
              "\n",
              "    .colab-df-convert {\n",
              "      background-color: #E8F0FE;\n",
              "      border: none;\n",
              "      border-radius: 50%;\n",
              "      cursor: pointer;\n",
              "      display: none;\n",
              "      fill: #1967D2;\n",
              "      height: 32px;\n",
              "      padding: 0 0 0 0;\n",
              "      width: 32px;\n",
              "    }\n",
              "\n",
              "    .colab-df-convert:hover {\n",
              "      background-color: #E2EBFA;\n",
              "      box-shadow: 0px 1px 2px rgba(60, 64, 67, 0.3), 0px 1px 3px 1px rgba(60, 64, 67, 0.15);\n",
              "      fill: #174EA6;\n",
              "    }\n",
              "\n",
              "    .colab-df-buttons div {\n",
              "      margin-bottom: 4px;\n",
              "    }\n",
              "\n",
              "    [theme=dark] .colab-df-convert {\n",
              "      background-color: #3B4455;\n",
              "      fill: #D2E3FC;\n",
              "    }\n",
              "\n",
              "    [theme=dark] .colab-df-convert:hover {\n",
              "      background-color: #434B5C;\n",
              "      box-shadow: 0px 1px 3px 1px rgba(0, 0, 0, 0.15);\n",
              "      filter: drop-shadow(0px 1px 2px rgba(0, 0, 0, 0.3));\n",
              "      fill: #FFFFFF;\n",
              "    }\n",
              "  </style>\n",
              "\n",
              "    <script>\n",
              "      const buttonEl =\n",
              "        document.querySelector('#df-e79b813d-905e-4e61-ad3f-3c1d797f82f3 button.colab-df-convert');\n",
              "      buttonEl.style.display =\n",
              "        google.colab.kernel.accessAllowed ? 'block' : 'none';\n",
              "\n",
              "      async function convertToInteractive(key) {\n",
              "        const element = document.querySelector('#df-e79b813d-905e-4e61-ad3f-3c1d797f82f3');\n",
              "        const dataTable =\n",
              "          await google.colab.kernel.invokeFunction('convertToInteractive',\n",
              "                                                    [key], {});\n",
              "        if (!dataTable) return;\n",
              "\n",
              "        const docLinkHtml = 'Like what you see? Visit the ' +\n",
              "          '<a target=\"_blank\" href=https://colab.research.google.com/notebooks/data_table.ipynb>data table notebook</a>'\n",
              "          + ' to learn more about interactive tables.';\n",
              "        element.innerHTML = '';\n",
              "        dataTable['output_type'] = 'display_data';\n",
              "        await google.colab.output.renderOutput(dataTable, element);\n",
              "        const docLink = document.createElement('div');\n",
              "        docLink.innerHTML = docLinkHtml;\n",
              "        element.appendChild(docLink);\n",
              "      }\n",
              "    </script>\n",
              "  </div>\n",
              "\n",
              "\n",
              "<div id=\"df-d1b0890a-152a-4b37-977b-706154892bf7\">\n",
              "  <button class=\"colab-df-quickchart\" onclick=\"quickchart('df-d1b0890a-152a-4b37-977b-706154892bf7')\"\n",
              "            title=\"Suggest charts\"\n",
              "            style=\"display:none;\">\n",
              "\n",
              "<svg xmlns=\"http://www.w3.org/2000/svg\" height=\"24px\"viewBox=\"0 0 24 24\"\n",
              "     width=\"24px\">\n",
              "    <g>\n",
              "        <path d=\"M19 3H5c-1.1 0-2 .9-2 2v14c0 1.1.9 2 2 2h14c1.1 0 2-.9 2-2V5c0-1.1-.9-2-2-2zM9 17H7v-7h2v7zm4 0h-2V7h2v10zm4 0h-2v-4h2v4z\"/>\n",
              "    </g>\n",
              "</svg>\n",
              "  </button>\n",
              "\n",
              "<style>\n",
              "  .colab-df-quickchart {\n",
              "      --bg-color: #E8F0FE;\n",
              "      --fill-color: #1967D2;\n",
              "      --hover-bg-color: #E2EBFA;\n",
              "      --hover-fill-color: #174EA6;\n",
              "      --disabled-fill-color: #AAA;\n",
              "      --disabled-bg-color: #DDD;\n",
              "  }\n",
              "\n",
              "  [theme=dark] .colab-df-quickchart {\n",
              "      --bg-color: #3B4455;\n",
              "      --fill-color: #D2E3FC;\n",
              "      --hover-bg-color: #434B5C;\n",
              "      --hover-fill-color: #FFFFFF;\n",
              "      --disabled-bg-color: #3B4455;\n",
              "      --disabled-fill-color: #666;\n",
              "  }\n",
              "\n",
              "  .colab-df-quickchart {\n",
              "    background-color: var(--bg-color);\n",
              "    border: none;\n",
              "    border-radius: 50%;\n",
              "    cursor: pointer;\n",
              "    display: none;\n",
              "    fill: var(--fill-color);\n",
              "    height: 32px;\n",
              "    padding: 0;\n",
              "    width: 32px;\n",
              "  }\n",
              "\n",
              "  .colab-df-quickchart:hover {\n",
              "    background-color: var(--hover-bg-color);\n",
              "    box-shadow: 0 1px 2px rgba(60, 64, 67, 0.3), 0 1px 3px 1px rgba(60, 64, 67, 0.15);\n",
              "    fill: var(--button-hover-fill-color);\n",
              "  }\n",
              "\n",
              "  .colab-df-quickchart-complete:disabled,\n",
              "  .colab-df-quickchart-complete:disabled:hover {\n",
              "    background-color: var(--disabled-bg-color);\n",
              "    fill: var(--disabled-fill-color);\n",
              "    box-shadow: none;\n",
              "  }\n",
              "\n",
              "  .colab-df-spinner {\n",
              "    border: 2px solid var(--fill-color);\n",
              "    border-color: transparent;\n",
              "    border-bottom-color: var(--fill-color);\n",
              "    animation:\n",
              "      spin 1s steps(1) infinite;\n",
              "  }\n",
              "\n",
              "  @keyframes spin {\n",
              "    0% {\n",
              "      border-color: transparent;\n",
              "      border-bottom-color: var(--fill-color);\n",
              "      border-left-color: var(--fill-color);\n",
              "    }\n",
              "    20% {\n",
              "      border-color: transparent;\n",
              "      border-left-color: var(--fill-color);\n",
              "      border-top-color: var(--fill-color);\n",
              "    }\n",
              "    30% {\n",
              "      border-color: transparent;\n",
              "      border-left-color: var(--fill-color);\n",
              "      border-top-color: var(--fill-color);\n",
              "      border-right-color: var(--fill-color);\n",
              "    }\n",
              "    40% {\n",
              "      border-color: transparent;\n",
              "      border-right-color: var(--fill-color);\n",
              "      border-top-color: var(--fill-color);\n",
              "    }\n",
              "    60% {\n",
              "      border-color: transparent;\n",
              "      border-right-color: var(--fill-color);\n",
              "    }\n",
              "    80% {\n",
              "      border-color: transparent;\n",
              "      border-right-color: var(--fill-color);\n",
              "      border-bottom-color: var(--fill-color);\n",
              "    }\n",
              "    90% {\n",
              "      border-color: transparent;\n",
              "      border-bottom-color: var(--fill-color);\n",
              "    }\n",
              "  }\n",
              "</style>\n",
              "\n",
              "  <script>\n",
              "    async function quickchart(key) {\n",
              "      const quickchartButtonEl =\n",
              "        document.querySelector('#' + key + ' button');\n",
              "      quickchartButtonEl.disabled = true;  // To prevent multiple clicks.\n",
              "      quickchartButtonEl.classList.add('colab-df-spinner');\n",
              "      try {\n",
              "        const charts = await google.colab.kernel.invokeFunction(\n",
              "            'suggestCharts', [key], {});\n",
              "      } catch (error) {\n",
              "        console.error('Error during call to suggestCharts:', error);\n",
              "      }\n",
              "      quickchartButtonEl.classList.remove('colab-df-spinner');\n",
              "      quickchartButtonEl.classList.add('colab-df-quickchart-complete');\n",
              "    }\n",
              "    (() => {\n",
              "      let quickchartButtonEl =\n",
              "        document.querySelector('#df-d1b0890a-152a-4b37-977b-706154892bf7 button');\n",
              "      quickchartButtonEl.style.display =\n",
              "        google.colab.kernel.accessAllowed ? 'block' : 'none';\n",
              "    })();\n",
              "  </script>\n",
              "</div>\n",
              "\n",
              "    </div>\n",
              "  </div>\n"
            ]
          },
          "metadata": {},
          "execution_count": 98
        }
      ]
    },
    {
      "cell_type": "code",
      "source": [
        "dr = pd.read_excel('/content/drive/MyDrive/Colab Notebooks/data/ttc-subway-delay-codes.xlsx', sheet_name=None)\n",
        "\n",
        "type(dr)"
      ],
      "metadata": {
        "colab": {
          "base_uri": "https://localhost:8080/"
        },
        "id": "LhIa-wrYqYZd",
        "outputId": "2a352179-db1e-4a08-f2db-56e1fdf7bad1"
      },
      "execution_count": 99,
      "outputs": [
        {
          "output_type": "execute_result",
          "data": {
            "text/plain": [
              "dict"
            ]
          },
          "metadata": {},
          "execution_count": 99
        }
      ]
    },
    {
      "cell_type": "code",
      "source": [
        "delay_reasons = pd.DataFrame()\n",
        "for sheet, values in dr.items():\n",
        "  delay_reasons = pd.concat([delay_reasons, values],\n",
        "                            axis=0,\n",
        "                            ignore_index=True)\n",
        "delay_reasons"
      ],
      "metadata": {
        "colab": {
          "base_uri": "https://localhost:8080/",
          "height": 424
        },
        "id": "99V91AsXqxJE",
        "outputId": "f4b8fa9a-7772-437d-d6f8-ebff93f43cca"
      },
      "execution_count": 100,
      "outputs": [
        {
          "output_type": "execute_result",
          "data": {
            "text/plain": [
              "    RMENU CODE                     CODE DESCRIPTION SUB OR SRT\n",
              "0         EUAC                     Air Conditioning        SUB\n",
              "1         EUAL                  Alternating Current        SUB\n",
              "2        EUATC                   ATC RC&S Equipment        SUB\n",
              "3         EUBK                               Brakes        SUB\n",
              "4         EUBO                                 Body        SUB\n",
              "..         ...                                  ...        ...\n",
              "195      TRNOA   No Operator Immediately Available         SRT\n",
              "196        TRO    Transportation Department - Other        SRT\n",
              "197      TRSET  Train Controls Improperly Shut Down        SRT\n",
              "198       TRST                         Storm Trains        SRT\n",
              "199       TRTC     Transit Control Related Problems        SRT\n",
              "\n",
              "[200 rows x 3 columns]"
            ],
            "text/html": [
              "\n",
              "  <div id=\"df-0ccb2b40-2d64-4119-9281-8deec07bfd62\" class=\"colab-df-container\">\n",
              "    <div>\n",
              "<style scoped>\n",
              "    .dataframe tbody tr th:only-of-type {\n",
              "        vertical-align: middle;\n",
              "    }\n",
              "\n",
              "    .dataframe tbody tr th {\n",
              "        vertical-align: top;\n",
              "    }\n",
              "\n",
              "    .dataframe thead th {\n",
              "        text-align: right;\n",
              "    }\n",
              "</style>\n",
              "<table border=\"1\" class=\"dataframe\">\n",
              "  <thead>\n",
              "    <tr style=\"text-align: right;\">\n",
              "      <th></th>\n",
              "      <th>RMENU CODE</th>\n",
              "      <th>CODE DESCRIPTION</th>\n",
              "      <th>SUB OR SRT</th>\n",
              "    </tr>\n",
              "  </thead>\n",
              "  <tbody>\n",
              "    <tr>\n",
              "      <th>0</th>\n",
              "      <td>EUAC</td>\n",
              "      <td>Air Conditioning</td>\n",
              "      <td>SUB</td>\n",
              "    </tr>\n",
              "    <tr>\n",
              "      <th>1</th>\n",
              "      <td>EUAL</td>\n",
              "      <td>Alternating Current</td>\n",
              "      <td>SUB</td>\n",
              "    </tr>\n",
              "    <tr>\n",
              "      <th>2</th>\n",
              "      <td>EUATC</td>\n",
              "      <td>ATC RC&amp;S Equipment</td>\n",
              "      <td>SUB</td>\n",
              "    </tr>\n",
              "    <tr>\n",
              "      <th>3</th>\n",
              "      <td>EUBK</td>\n",
              "      <td>Brakes</td>\n",
              "      <td>SUB</td>\n",
              "    </tr>\n",
              "    <tr>\n",
              "      <th>4</th>\n",
              "      <td>EUBO</td>\n",
              "      <td>Body</td>\n",
              "      <td>SUB</td>\n",
              "    </tr>\n",
              "    <tr>\n",
              "      <th>...</th>\n",
              "      <td>...</td>\n",
              "      <td>...</td>\n",
              "      <td>...</td>\n",
              "    </tr>\n",
              "    <tr>\n",
              "      <th>195</th>\n",
              "      <td>TRNOA</td>\n",
              "      <td>No Operator Immediately Available</td>\n",
              "      <td>SRT</td>\n",
              "    </tr>\n",
              "    <tr>\n",
              "      <th>196</th>\n",
              "      <td>TRO</td>\n",
              "      <td>Transportation Department - Other</td>\n",
              "      <td>SRT</td>\n",
              "    </tr>\n",
              "    <tr>\n",
              "      <th>197</th>\n",
              "      <td>TRSET</td>\n",
              "      <td>Train Controls Improperly Shut Down</td>\n",
              "      <td>SRT</td>\n",
              "    </tr>\n",
              "    <tr>\n",
              "      <th>198</th>\n",
              "      <td>TRST</td>\n",
              "      <td>Storm Trains</td>\n",
              "      <td>SRT</td>\n",
              "    </tr>\n",
              "    <tr>\n",
              "      <th>199</th>\n",
              "      <td>TRTC</td>\n",
              "      <td>Transit Control Related Problems</td>\n",
              "      <td>SRT</td>\n",
              "    </tr>\n",
              "  </tbody>\n",
              "</table>\n",
              "<p>200 rows × 3 columns</p>\n",
              "</div>\n",
              "    <div class=\"colab-df-buttons\">\n",
              "\n",
              "  <div class=\"colab-df-container\">\n",
              "    <button class=\"colab-df-convert\" onclick=\"convertToInteractive('df-0ccb2b40-2d64-4119-9281-8deec07bfd62')\"\n",
              "            title=\"Convert this dataframe to an interactive table.\"\n",
              "            style=\"display:none;\">\n",
              "\n",
              "  <svg xmlns=\"http://www.w3.org/2000/svg\" height=\"24px\" viewBox=\"0 -960 960 960\">\n",
              "    <path d=\"M120-120v-720h720v720H120Zm60-500h600v-160H180v160Zm220 220h160v-160H400v160Zm0 220h160v-160H400v160ZM180-400h160v-160H180v160Zm440 0h160v-160H620v160ZM180-180h160v-160H180v160Zm440 0h160v-160H620v160Z\"/>\n",
              "  </svg>\n",
              "    </button>\n",
              "\n",
              "  <style>\n",
              "    .colab-df-container {\n",
              "      display:flex;\n",
              "      gap: 12px;\n",
              "    }\n",
              "\n",
              "    .colab-df-convert {\n",
              "      background-color: #E8F0FE;\n",
              "      border: none;\n",
              "      border-radius: 50%;\n",
              "      cursor: pointer;\n",
              "      display: none;\n",
              "      fill: #1967D2;\n",
              "      height: 32px;\n",
              "      padding: 0 0 0 0;\n",
              "      width: 32px;\n",
              "    }\n",
              "\n",
              "    .colab-df-convert:hover {\n",
              "      background-color: #E2EBFA;\n",
              "      box-shadow: 0px 1px 2px rgba(60, 64, 67, 0.3), 0px 1px 3px 1px rgba(60, 64, 67, 0.15);\n",
              "      fill: #174EA6;\n",
              "    }\n",
              "\n",
              "    .colab-df-buttons div {\n",
              "      margin-bottom: 4px;\n",
              "    }\n",
              "\n",
              "    [theme=dark] .colab-df-convert {\n",
              "      background-color: #3B4455;\n",
              "      fill: #D2E3FC;\n",
              "    }\n",
              "\n",
              "    [theme=dark] .colab-df-convert:hover {\n",
              "      background-color: #434B5C;\n",
              "      box-shadow: 0px 1px 3px 1px rgba(0, 0, 0, 0.15);\n",
              "      filter: drop-shadow(0px 1px 2px rgba(0, 0, 0, 0.3));\n",
              "      fill: #FFFFFF;\n",
              "    }\n",
              "  </style>\n",
              "\n",
              "    <script>\n",
              "      const buttonEl =\n",
              "        document.querySelector('#df-0ccb2b40-2d64-4119-9281-8deec07bfd62 button.colab-df-convert');\n",
              "      buttonEl.style.display =\n",
              "        google.colab.kernel.accessAllowed ? 'block' : 'none';\n",
              "\n",
              "      async function convertToInteractive(key) {\n",
              "        const element = document.querySelector('#df-0ccb2b40-2d64-4119-9281-8deec07bfd62');\n",
              "        const dataTable =\n",
              "          await google.colab.kernel.invokeFunction('convertToInteractive',\n",
              "                                                    [key], {});\n",
              "        if (!dataTable) return;\n",
              "\n",
              "        const docLinkHtml = 'Like what you see? Visit the ' +\n",
              "          '<a target=\"_blank\" href=https://colab.research.google.com/notebooks/data_table.ipynb>data table notebook</a>'\n",
              "          + ' to learn more about interactive tables.';\n",
              "        element.innerHTML = '';\n",
              "        dataTable['output_type'] = 'display_data';\n",
              "        await google.colab.output.renderOutput(dataTable, element);\n",
              "        const docLink = document.createElement('div');\n",
              "        docLink.innerHTML = docLinkHtml;\n",
              "        element.appendChild(docLink);\n",
              "      }\n",
              "    </script>\n",
              "  </div>\n",
              "\n",
              "\n",
              "<div id=\"df-f395b47f-2539-485f-912b-c9156036ff0d\">\n",
              "  <button class=\"colab-df-quickchart\" onclick=\"quickchart('df-f395b47f-2539-485f-912b-c9156036ff0d')\"\n",
              "            title=\"Suggest charts\"\n",
              "            style=\"display:none;\">\n",
              "\n",
              "<svg xmlns=\"http://www.w3.org/2000/svg\" height=\"24px\"viewBox=\"0 0 24 24\"\n",
              "     width=\"24px\">\n",
              "    <g>\n",
              "        <path d=\"M19 3H5c-1.1 0-2 .9-2 2v14c0 1.1.9 2 2 2h14c1.1 0 2-.9 2-2V5c0-1.1-.9-2-2-2zM9 17H7v-7h2v7zm4 0h-2V7h2v10zm4 0h-2v-4h2v4z\"/>\n",
              "    </g>\n",
              "</svg>\n",
              "  </button>\n",
              "\n",
              "<style>\n",
              "  .colab-df-quickchart {\n",
              "      --bg-color: #E8F0FE;\n",
              "      --fill-color: #1967D2;\n",
              "      --hover-bg-color: #E2EBFA;\n",
              "      --hover-fill-color: #174EA6;\n",
              "      --disabled-fill-color: #AAA;\n",
              "      --disabled-bg-color: #DDD;\n",
              "  }\n",
              "\n",
              "  [theme=dark] .colab-df-quickchart {\n",
              "      --bg-color: #3B4455;\n",
              "      --fill-color: #D2E3FC;\n",
              "      --hover-bg-color: #434B5C;\n",
              "      --hover-fill-color: #FFFFFF;\n",
              "      --disabled-bg-color: #3B4455;\n",
              "      --disabled-fill-color: #666;\n",
              "  }\n",
              "\n",
              "  .colab-df-quickchart {\n",
              "    background-color: var(--bg-color);\n",
              "    border: none;\n",
              "    border-radius: 50%;\n",
              "    cursor: pointer;\n",
              "    display: none;\n",
              "    fill: var(--fill-color);\n",
              "    height: 32px;\n",
              "    padding: 0;\n",
              "    width: 32px;\n",
              "  }\n",
              "\n",
              "  .colab-df-quickchart:hover {\n",
              "    background-color: var(--hover-bg-color);\n",
              "    box-shadow: 0 1px 2px rgba(60, 64, 67, 0.3), 0 1px 3px 1px rgba(60, 64, 67, 0.15);\n",
              "    fill: var(--button-hover-fill-color);\n",
              "  }\n",
              "\n",
              "  .colab-df-quickchart-complete:disabled,\n",
              "  .colab-df-quickchart-complete:disabled:hover {\n",
              "    background-color: var(--disabled-bg-color);\n",
              "    fill: var(--disabled-fill-color);\n",
              "    box-shadow: none;\n",
              "  }\n",
              "\n",
              "  .colab-df-spinner {\n",
              "    border: 2px solid var(--fill-color);\n",
              "    border-color: transparent;\n",
              "    border-bottom-color: var(--fill-color);\n",
              "    animation:\n",
              "      spin 1s steps(1) infinite;\n",
              "  }\n",
              "\n",
              "  @keyframes spin {\n",
              "    0% {\n",
              "      border-color: transparent;\n",
              "      border-bottom-color: var(--fill-color);\n",
              "      border-left-color: var(--fill-color);\n",
              "    }\n",
              "    20% {\n",
              "      border-color: transparent;\n",
              "      border-left-color: var(--fill-color);\n",
              "      border-top-color: var(--fill-color);\n",
              "    }\n",
              "    30% {\n",
              "      border-color: transparent;\n",
              "      border-left-color: var(--fill-color);\n",
              "      border-top-color: var(--fill-color);\n",
              "      border-right-color: var(--fill-color);\n",
              "    }\n",
              "    40% {\n",
              "      border-color: transparent;\n",
              "      border-right-color: var(--fill-color);\n",
              "      border-top-color: var(--fill-color);\n",
              "    }\n",
              "    60% {\n",
              "      border-color: transparent;\n",
              "      border-right-color: var(--fill-color);\n",
              "    }\n",
              "    80% {\n",
              "      border-color: transparent;\n",
              "      border-right-color: var(--fill-color);\n",
              "      border-bottom-color: var(--fill-color);\n",
              "    }\n",
              "    90% {\n",
              "      border-color: transparent;\n",
              "      border-bottom-color: var(--fill-color);\n",
              "    }\n",
              "  }\n",
              "</style>\n",
              "\n",
              "  <script>\n",
              "    async function quickchart(key) {\n",
              "      const quickchartButtonEl =\n",
              "        document.querySelector('#' + key + ' button');\n",
              "      quickchartButtonEl.disabled = true;  // To prevent multiple clicks.\n",
              "      quickchartButtonEl.classList.add('colab-df-spinner');\n",
              "      try {\n",
              "        const charts = await google.colab.kernel.invokeFunction(\n",
              "            'suggestCharts', [key], {});\n",
              "      } catch (error) {\n",
              "        console.error('Error during call to suggestCharts:', error);\n",
              "      }\n",
              "      quickchartButtonEl.classList.remove('colab-df-spinner');\n",
              "      quickchartButtonEl.classList.add('colab-df-quickchart-complete');\n",
              "    }\n",
              "    (() => {\n",
              "      let quickchartButtonEl =\n",
              "        document.querySelector('#df-f395b47f-2539-485f-912b-c9156036ff0d button');\n",
              "      quickchartButtonEl.style.display =\n",
              "        google.colab.kernel.accessAllowed ? 'block' : 'none';\n",
              "    })();\n",
              "  </script>\n",
              "</div>\n",
              "\n",
              "  <div id=\"id_f9f47e32-1edd-4809-a2a9-32e1f262f1cc\">\n",
              "    <style>\n",
              "      .colab-df-generate {\n",
              "        background-color: #E8F0FE;\n",
              "        border: none;\n",
              "        border-radius: 50%;\n",
              "        cursor: pointer;\n",
              "        display: none;\n",
              "        fill: #1967D2;\n",
              "        height: 32px;\n",
              "        padding: 0 0 0 0;\n",
              "        width: 32px;\n",
              "      }\n",
              "\n",
              "      .colab-df-generate:hover {\n",
              "        background-color: #E2EBFA;\n",
              "        box-shadow: 0px 1px 2px rgba(60, 64, 67, 0.3), 0px 1px 3px 1px rgba(60, 64, 67, 0.15);\n",
              "        fill: #174EA6;\n",
              "      }\n",
              "\n",
              "      [theme=dark] .colab-df-generate {\n",
              "        background-color: #3B4455;\n",
              "        fill: #D2E3FC;\n",
              "      }\n",
              "\n",
              "      [theme=dark] .colab-df-generate:hover {\n",
              "        background-color: #434B5C;\n",
              "        box-shadow: 0px 1px 3px 1px rgba(0, 0, 0, 0.15);\n",
              "        filter: drop-shadow(0px 1px 2px rgba(0, 0, 0, 0.3));\n",
              "        fill: #FFFFFF;\n",
              "      }\n",
              "    </style>\n",
              "    <button class=\"colab-df-generate\" onclick=\"generateWithVariable('delay_reasons')\"\n",
              "            title=\"Generate code using this dataframe.\"\n",
              "            style=\"display:none;\">\n",
              "\n",
              "  <svg xmlns=\"http://www.w3.org/2000/svg\" height=\"24px\"viewBox=\"0 0 24 24\"\n",
              "       width=\"24px\">\n",
              "    <path d=\"M7,19H8.4L18.45,9,17,7.55,7,17.6ZM5,21V16.75L18.45,3.32a2,2,0,0,1,2.83,0l1.4,1.43a1.91,1.91,0,0,1,.58,1.4,1.91,1.91,0,0,1-.58,1.4L9.25,21ZM18.45,9,17,7.55Zm-12,3A5.31,5.31,0,0,0,4.9,8.1,5.31,5.31,0,0,0,1,6.5,5.31,5.31,0,0,0,4.9,4.9,5.31,5.31,0,0,0,6.5,1,5.31,5.31,0,0,0,8.1,4.9,5.31,5.31,0,0,0,12,6.5,5.46,5.46,0,0,0,6.5,12Z\"/>\n",
              "  </svg>\n",
              "    </button>\n",
              "    <script>\n",
              "      (() => {\n",
              "      const buttonEl =\n",
              "        document.querySelector('#id_f9f47e32-1edd-4809-a2a9-32e1f262f1cc button.colab-df-generate');\n",
              "      buttonEl.style.display =\n",
              "        google.colab.kernel.accessAllowed ? 'block' : 'none';\n",
              "\n",
              "      buttonEl.onclick = () => {\n",
              "        google.colab.notebook.generateWithVariable('delay_reasons');\n",
              "      }\n",
              "      })();\n",
              "    </script>\n",
              "  </div>\n",
              "\n",
              "    </div>\n",
              "  </div>\n"
            ]
          },
          "metadata": {},
          "execution_count": 100
        }
      ]
    },
    {
      "cell_type": "code",
      "source": [
        "def clean_names(string):\n",
        "  return string.lower().replace(' ', '_')\n",
        "\n",
        "print(list(delay_reasons))\n",
        "print(list(all_delays))"
      ],
      "metadata": {
        "colab": {
          "base_uri": "https://localhost:8080/"
        },
        "id": "40Fal-U4rGkd",
        "outputId": "286c5e99-53a5-4808-b29c-9f5528686459"
      },
      "execution_count": 101,
      "outputs": [
        {
          "output_type": "stream",
          "name": "stdout",
          "text": [
            "['RMENU CODE', 'CODE DESCRIPTION', 'SUB OR SRT']\n",
            "['Date', 'Time', 'Day', 'Station', 'Code', 'Min Delay', 'Min Gap', 'Bound', 'Line', 'Vehicle']\n"
          ]
        }
      ]
    },
    {
      "cell_type": "code",
      "source": [
        "delay_reasons = delay_reasons.rename(columns=clean_names)\n",
        "all_delays = all_delays.rename(columns=clean_names)"
      ],
      "metadata": {
        "id": "BjzdGDT-rya4"
      },
      "execution_count": 102,
      "outputs": []
    },
    {
      "cell_type": "code",
      "source": [
        "print(list(delay_reasons))\n",
        "print(list(all_delays))"
      ],
      "metadata": {
        "colab": {
          "base_uri": "https://localhost:8080/"
        },
        "id": "vOEcEB1usD0D",
        "outputId": "e4cdf085-fd3e-4f97-f6c1-47c544d85c79"
      },
      "execution_count": 103,
      "outputs": [
        {
          "output_type": "stream",
          "name": "stdout",
          "text": [
            "['rmenu_code', 'code_description', 'sub_or_srt']\n",
            "['date', 'time', 'day', 'station', 'code', 'min_delay', 'min_gap', 'bound', 'line', 'vehicle']\n"
          ]
        }
      ]
    }
  ]
}