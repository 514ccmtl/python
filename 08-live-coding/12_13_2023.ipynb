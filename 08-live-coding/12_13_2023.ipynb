{
  "nbformat": 4,
  "nbformat_minor": 0,
  "metadata": {
    "colab": {
      "provenance": []
    },
    "kernelspec": {
      "name": "python3",
      "display_name": "Python 3"
    },
    "language_info": {
      "name": "python"
    }
  },
  "cells": [
    {
      "cell_type": "code",
      "execution_count": 1,
      "metadata": {
        "id": "ZenhwSx4HPR2"
      },
      "outputs": [],
      "source": [
        "name = 'kaylie'"
      ]
    },
    {
      "cell_type": "code",
      "source": [
        "print(name)"
      ],
      "metadata": {
        "colab": {
          "base_uri": "https://localhost:8080/"
        },
        "id": "j9lzOzeBdPKc",
        "outputId": "fea247c9-e473-4272-d768-4249bae9a670"
      },
      "execution_count": 2,
      "outputs": [
        {
          "output_type": "stream",
          "name": "stdout",
          "text": [
            "kaylie\n"
          ]
        }
      ]
    },
    {
      "cell_type": "code",
      "source": [
        "name = \"kaylie\""
      ],
      "metadata": {
        "id": "DKQwqHuMdQYE"
      },
      "execution_count": 3,
      "outputs": []
    },
    {
      "cell_type": "code",
      "source": [
        "print(name)"
      ],
      "metadata": {
        "colab": {
          "base_uri": "https://localhost:8080/"
        },
        "id": "-y0FNTtYdTxV",
        "outputId": "3c3c721f-d00b-4e1c-8bbb-543ec1311d5c"
      },
      "execution_count": 4,
      "outputs": [
        {
          "output_type": "stream",
          "name": "stdout",
          "text": [
            "kaylie\n"
          ]
        }
      ]
    },
    {
      "cell_type": "markdown",
      "source": [
        "|Escape sequence|Description|\n",
        "|-----|-----|\n",
        "|\\\\'|Single quote|\n",
        "|\\\\\"|Double quote|\n",
        "|\\\\\\\\|Backslash|\n",
        "|\\t|Tab|\n",
        "|\\n|Newline|\n",
        "|\\r|Carriage return|"
      ],
      "metadata": {
        "id": "qt-M61IMddqX"
      }
    },
    {
      "cell_type": "code",
      "source": [
        "print('\\tThis string won\\'t result in an error thanks to the escape sequence')"
      ],
      "metadata": {
        "colab": {
          "base_uri": "https://localhost:8080/"
        },
        "id": "bnkwGdbHdU4U",
        "outputId": "f13be7ba-f0aa-466a-ad28-8f37d3fbbf3d"
      },
      "execution_count": 8,
      "outputs": [
        {
          "output_type": "stream",
          "name": "stdout",
          "text": [
            "\tThis string won't result in an error thanks to the escape sequence\n"
          ]
        }
      ]
    },
    {
      "cell_type": "code",
      "source": [
        "'ha' * 3"
      ],
      "metadata": {
        "colab": {
          "base_uri": "https://localhost:8080/",
          "height": 35
        },
        "id": "KT_012Hbd8TZ",
        "outputId": "aa00ad4a-0fa7-4c23-dd1b-60efbacbbc22"
      },
      "execution_count": 9,
      "outputs": [
        {
          "output_type": "execute_result",
          "data": {
            "text/plain": [
              "'hahaha'"
            ],
            "application/vnd.google.colaboratory.intrinsic+json": {
              "type": "string"
            }
          },
          "metadata": {},
          "execution_count": 9
        }
      ]
    },
    {
      "cell_type": "code",
      "source": [
        "'ha' == 'na'"
      ],
      "metadata": {
        "colab": {
          "base_uri": "https://localhost:8080/"
        },
        "id": "e3gnkYdaeSvK",
        "outputId": "4af794e3-a0d4-4184-f167-0425d809cad3"
      },
      "execution_count": 10,
      "outputs": [
        {
          "output_type": "execute_result",
          "data": {
            "text/plain": [
              "False"
            ]
          },
          "metadata": {},
          "execution_count": 10
        }
      ]
    },
    {
      "cell_type": "code",
      "source": [
        "first_name = 'Tong'"
      ],
      "metadata": {
        "id": "Zeym_ar2eXBP"
      },
      "execution_count": 11,
      "outputs": []
    },
    {
      "cell_type": "code",
      "source": [
        "first_name[3]"
      ],
      "metadata": {
        "colab": {
          "base_uri": "https://localhost:8080/",
          "height": 35
        },
        "id": "-FemM--yeiji",
        "outputId": "5f655415-5018-452b-a3f9-527712cbc112"
      },
      "execution_count": 13,
      "outputs": [
        {
          "output_type": "execute_result",
          "data": {
            "text/plain": [
              "'g'"
            ],
            "application/vnd.google.colaboratory.intrinsic+json": {
              "type": "string"
            }
          },
          "metadata": {},
          "execution_count": 13
        }
      ]
    },
    {
      "cell_type": "code",
      "source": [
        "print('fish')"
      ],
      "metadata": {
        "colab": {
          "base_uri": "https://localhost:8080/"
        },
        "id": "VDH-FetKeox-",
        "outputId": "cc7e969f-d353-4f28-fe99-828740248028"
      },
      "execution_count": 14,
      "outputs": [
        {
          "output_type": "stream",
          "name": "stdout",
          "text": [
            "fish\n"
          ]
        }
      ]
    },
    {
      "cell_type": "code",
      "source": [
        "print(1, 'fish', 2, 'fish')"
      ],
      "metadata": {
        "colab": {
          "base_uri": "https://localhost:8080/"
        },
        "id": "kFw3qsDme5iL",
        "outputId": "40e17aec-d549-4dea-d9e7-fb47a26a891e"
      },
      "execution_count": 15,
      "outputs": [
        {
          "output_type": "stream",
          "name": "stdout",
          "text": [
            "1 fish 2 fish\n"
          ]
        }
      ]
    },
    {
      "cell_type": "code",
      "source": [
        "len('Kaylie\\'s')"
      ],
      "metadata": {
        "colab": {
          "base_uri": "https://localhost:8080/"
        },
        "id": "lWAeVkixe-Ku",
        "outputId": "1c48b96b-fc38-41ba-a667-a58a11c18032"
      },
      "execution_count": 23,
      "outputs": [
        {
          "output_type": "execute_result",
          "data": {
            "text/plain": [
              "8"
            ]
          },
          "metadata": {},
          "execution_count": 23
        }
      ]
    },
    {
      "cell_type": "code",
      "source": [
        "'I am not yelling'.upper()"
      ],
      "metadata": {
        "colab": {
          "base_uri": "https://localhost:8080/",
          "height": 35
        },
        "id": "xot3li5rfxfb",
        "outputId": "8c82e2d9-9a66-4294-bac2-d2020726a52e"
      },
      "execution_count": 24,
      "outputs": [
        {
          "output_type": "execute_result",
          "data": {
            "text/plain": [
              "'I AM NOT YELLING'"
            ],
            "application/vnd.google.colaboratory.intrinsic+json": {
              "type": "string"
            }
          },
          "metadata": {},
          "execution_count": 24
        }
      ]
    },
    {
      "cell_type": "code",
      "source": [
        "'This string is unusual'.count('is')"
      ],
      "metadata": {
        "colab": {
          "base_uri": "https://localhost:8080/"
        },
        "id": "9D4nw12YgdpV",
        "outputId": "e810b2a4-6012-4a18-8cc3-5005d14c58c2"
      },
      "execution_count": 27,
      "outputs": [
        {
          "output_type": "execute_result",
          "data": {
            "text/plain": [
              "2"
            ]
          },
          "metadata": {},
          "execution_count": 27
        }
      ]
    },
    {
      "cell_type": "code",
      "source": [
        "'file_name.csv'.endswith('.docx')"
      ],
      "metadata": {
        "colab": {
          "base_uri": "https://localhost:8080/"
        },
        "id": "q6VITuNqgy9F",
        "outputId": "9a4f3dc8-b413-48f0-aeec-209569f4c926"
      },
      "execution_count": 29,
      "outputs": [
        {
          "output_type": "execute_result",
          "data": {
            "text/plain": [
              "False"
            ]
          },
          "metadata": {},
          "execution_count": 29
        }
      ]
    },
    {
      "cell_type": "code",
      "source": [
        "'long file name with spaces.csv'.replace(' ', '_')"
      ],
      "metadata": {
        "colab": {
          "base_uri": "https://localhost:8080/",
          "height": 35
        },
        "id": "Tsb22tfxhD2s",
        "outputId": "f348f5c4-8ba1-4039-bd0e-a5e1824e014b"
      },
      "execution_count": 30,
      "outputs": [
        {
          "output_type": "execute_result",
          "data": {
            "text/plain": [
              "'long_file_name_with_spaces.csv'"
            ],
            "application/vnd.google.colaboratory.intrinsic+json": {
              "type": "string"
            }
          },
          "metadata": {},
          "execution_count": 30
        }
      ]
    },
    {
      "cell_type": "code",
      "source": [
        "'Kaylie Lau\\'s initials are {}. {}.'.format('Lau'[0], 'Kaylie'[0])"
      ],
      "metadata": {
        "colab": {
          "base_uri": "https://localhost:8080/",
          "height": 35
        },
        "id": "moDyfw1uiErn",
        "outputId": "b1cc44a8-a190-45fa-d235-ca71a1c22c25"
      },
      "execution_count": 52,
      "outputs": [
        {
          "output_type": "execute_result",
          "data": {
            "text/plain": [
              "\"Kaylie Lau's initials are L. K.\""
            ],
            "application/vnd.google.colaboratory.intrinsic+json": {
              "type": "string"
            }
          },
          "metadata": {},
          "execution_count": 52
        }
      ]
    },
    {
      "cell_type": "code",
      "source": [
        "course_number = 3"
      ],
      "metadata": {
        "id": "ykUasRb0i47q"
      },
      "execution_count": 37,
      "outputs": []
    },
    {
      "cell_type": "code",
      "source": [
        "'This is the {} course in the DSI certificate'.format(course_number)"
      ],
      "metadata": {
        "colab": {
          "base_uri": "https://localhost:8080/",
          "height": 35
        },
        "id": "ezMIaVsTimS3",
        "outputId": "530d39eb-c898-42fd-dcb9-4f613c33996c"
      },
      "execution_count": 38,
      "outputs": [
        {
          "output_type": "execute_result",
          "data": {
            "text/plain": [
              "'This is the 3 course in the DSI certificate'"
            ],
            "application/vnd.google.colaboratory.intrinsic+json": {
              "type": "string"
            }
          },
          "metadata": {},
          "execution_count": 38
        }
      ]
    },
    {
      "cell_type": "code",
      "source": [
        "first_initial = \"Kaylie\"[0]\n",
        "last_initial = \"Lau\"[0]"
      ],
      "metadata": {
        "id": "xDl-uvZHjzzl"
      },
      "execution_count": 41,
      "outputs": []
    },
    {
      "cell_type": "code",
      "source": [
        "f'Kaylie Lau\\'s initials are {first_initial}. {last_initial}.'"
      ],
      "metadata": {
        "colab": {
          "base_uri": "https://localhost:8080/",
          "height": 35
        },
        "id": "QKBzCecWjPwr",
        "outputId": "a4e0b91c-1e24-4e0b-85d2-33665c150991"
      },
      "execution_count": 42,
      "outputs": [
        {
          "output_type": "execute_result",
          "data": {
            "text/plain": [
              "\"Kaylie Lau's initials are K. L.\""
            ],
            "application/vnd.google.colaboratory.intrinsic+json": {
              "type": "string"
            }
          },
          "metadata": {},
          "execution_count": 42
        }
      ]
    },
    {
      "cell_type": "code",
      "source": [
        "help(str.lower)"
      ],
      "metadata": {
        "colab": {
          "base_uri": "https://localhost:8080/"
        },
        "id": "mvBnYSQdkQsB",
        "outputId": "54a76a57-d743-4d42-933a-93cf3e69d9b7"
      },
      "execution_count": 43,
      "outputs": [
        {
          "output_type": "stream",
          "name": "stdout",
          "text": [
            "Help on method_descriptor:\n",
            "\n",
            "lower(self, /)\n",
            "    Return a copy of the string converted to lowercase.\n",
            "\n"
          ]
        }
      ]
    },
    {
      "cell_type": "code",
      "source": [
        "age = input('What is your favourite colour? ')"
      ],
      "metadata": {
        "colab": {
          "base_uri": "https://localhost:8080/"
        },
        "id": "sNSFanDNkYVb",
        "outputId": "5306dc8b-1a27-417c-ea14-8440479d174e"
      },
      "execution_count": 54,
      "outputs": [
        {
          "name": "stdout",
          "output_type": "stream",
          "text": [
            "What is your favourite colour? purple\n"
          ]
        }
      ]
    },
    {
      "cell_type": "code",
      "source": [
        "age"
      ],
      "metadata": {
        "colab": {
          "base_uri": "https://localhost:8080/",
          "height": 35
        },
        "id": "ocRuD1K9kuC2",
        "outputId": "9ea6744f-3e69-42d1-fd7f-e76851a8e020"
      },
      "execution_count": 49,
      "outputs": [
        {
          "output_type": "execute_result",
          "data": {
            "text/plain": [
              "'1000'"
            ],
            "application/vnd.google.colaboratory.intrinsic+json": {
              "type": "string"
            }
          },
          "metadata": {},
          "execution_count": 49
        }
      ]
    },
    {
      "cell_type": "code",
      "source": [
        "age_next_bday = int(age) + 1"
      ],
      "metadata": {
        "id": "hwBpmtBUkvfV"
      },
      "execution_count": 50,
      "outputs": []
    },
    {
      "cell_type": "code",
      "source": [
        "print('Next birthday you will be {}'.format(age_next_bday))"
      ],
      "metadata": {
        "colab": {
          "base_uri": "https://localhost:8080/"
        },
        "id": "6sG3GmDok5cl",
        "outputId": "3b364c21-1e63-43bc-8db3-ec0581d57131"
      },
      "execution_count": 51,
      "outputs": [
        {
          "output_type": "stream",
          "name": "stdout",
          "text": [
            "Next birthday you will be 1001\n"
          ]
        }
      ]
    },
    {
      "cell_type": "markdown",
      "source": [
        "## `not`\n",
        "\n",
        "|X|`not` X|\n",
        "|-|-|\n",
        "|True|False|\n",
        "|False|True|"
      ],
      "metadata": {
        "id": "COaYMhakmRei"
      }
    },
    {
      "cell_type": "code",
      "source": [
        "not False"
      ],
      "metadata": {
        "colab": {
          "base_uri": "https://localhost:8080/"
        },
        "id": "_gCbF1RSmIG1",
        "outputId": "b32b3ea0-d0b0-48ff-82ba-35c77c68b4de"
      },
      "execution_count": 57,
      "outputs": [
        {
          "output_type": "execute_result",
          "data": {
            "text/plain": [
              "True"
            ]
          },
          "metadata": {},
          "execution_count": 57
        }
      ]
    },
    {
      "cell_type": "code",
      "source": [
        "3 == 3"
      ],
      "metadata": {
        "colab": {
          "base_uri": "https://localhost:8080/"
        },
        "id": "QTudMoMSmop7",
        "outputId": "b9a44790-7a0c-4b65-cfd4-fa7e6472277c"
      },
      "execution_count": 58,
      "outputs": [
        {
          "output_type": "execute_result",
          "data": {
            "text/plain": [
              "True"
            ]
          },
          "metadata": {},
          "execution_count": 58
        }
      ]
    },
    {
      "cell_type": "code",
      "source": [
        "not (3 == 3)"
      ],
      "metadata": {
        "colab": {
          "base_uri": "https://localhost:8080/"
        },
        "id": "MHJ85KSFmwQ6",
        "outputId": "cf9fdce4-7c5d-4799-e953-5951b71220f2"
      },
      "execution_count": 59,
      "outputs": [
        {
          "output_type": "execute_result",
          "data": {
            "text/plain": [
              "False"
            ]
          },
          "metadata": {},
          "execution_count": 59
        }
      ]
    },
    {
      "cell_type": "markdown",
      "source": [
        "## `and`\n",
        "\n",
        "Evaluates to `True` if both statements are true.\n",
        "\n",
        "|X|Y|X `and` Y|\n",
        "|-|-|-|\n",
        "|True|True|True|\n",
        "|False|True|False|\n",
        "|True|False|False|\n",
        "|False|False|False|"
      ],
      "metadata": {
        "id": "bHFc7X5Em6Eo"
      }
    },
    {
      "cell_type": "code",
      "source": [
        "7 == 7.0 and 32 > 9"
      ],
      "metadata": {
        "colab": {
          "base_uri": "https://localhost:8080/"
        },
        "id": "m3J0-zDjm7GU",
        "outputId": "4d06e3c3-1858-4cb5-a585-d2fc23d74e76"
      },
      "execution_count": 62,
      "outputs": [
        {
          "output_type": "execute_result",
          "data": {
            "text/plain": [
              "True"
            ]
          },
          "metadata": {},
          "execution_count": 62
        }
      ]
    },
    {
      "cell_type": "code",
      "source": [
        "7 == 7.0"
      ],
      "metadata": {
        "colab": {
          "base_uri": "https://localhost:8080/"
        },
        "id": "_SVLpYfBnOSQ",
        "outputId": "4e9226dd-b07e-4eaf-d926-65094adcd597"
      },
      "execution_count": 60,
      "outputs": [
        {
          "output_type": "execute_result",
          "data": {
            "text/plain": [
              "True"
            ]
          },
          "metadata": {},
          "execution_count": 60
        }
      ]
    },
    {
      "cell_type": "code",
      "source": [
        "32 > 9"
      ],
      "metadata": {
        "colab": {
          "base_uri": "https://localhost:8080/"
        },
        "id": "hsugChgjnT78",
        "outputId": "bb5e0843-f7b9-4d6a-f966-d5a59b4dd146"
      },
      "execution_count": 61,
      "outputs": [
        {
          "output_type": "execute_result",
          "data": {
            "text/plain": [
              "True"
            ]
          },
          "metadata": {},
          "execution_count": 61
        }
      ]
    },
    {
      "cell_type": "code",
      "source": [
        "'Python' == 'python' and True"
      ],
      "metadata": {
        "colab": {
          "base_uri": "https://localhost:8080/"
        },
        "id": "QjvO11yvnbIL",
        "outputId": "546d79d7-d719-4ba8-f95e-6d1223c19624"
      },
      "execution_count": 73,
      "outputs": [
        {
          "output_type": "execute_result",
          "data": {
            "text/plain": [
              "False"
            ]
          },
          "metadata": {},
          "execution_count": 73
        }
      ]
    },
    {
      "cell_type": "code",
      "source": [
        "is_summer = True\n",
        "is_sunny = True\n",
        "is_summer and is_sunny"
      ],
      "metadata": {
        "colab": {
          "base_uri": "https://localhost:8080/"
        },
        "id": "tGbBm_tZnqnS",
        "outputId": "bb572828-5dc1-4b6e-de92-da77fd047bc1"
      },
      "execution_count": 1,
      "outputs": [
        {
          "output_type": "execute_result",
          "data": {
            "text/plain": [
              "True"
            ]
          },
          "metadata": {},
          "execution_count": 1
        }
      ]
    },
    {
      "cell_type": "code",
      "source": [
        "is_winter = \"True\"\n",
        "is_cloudy = True\n",
        "is_winter and is_cloudy"
      ],
      "metadata": {
        "colab": {
          "base_uri": "https://localhost:8080/"
        },
        "id": "ZYwwyLEUphwh",
        "outputId": "38c5b20f-5251-4be7-cbc8-9bdfbcf7965c"
      },
      "execution_count": 8,
      "outputs": [
        {
          "output_type": "execute_result",
          "data": {
            "text/plain": [
              "True"
            ]
          },
          "metadata": {},
          "execution_count": 8
        }
      ]
    },
    {
      "cell_type": "markdown",
      "source": [
        "## `or`\n",
        "\n",
        "Evaluates to `True` if just one of the statements is true.\n",
        "\n",
        "|X|Y|X `or` Y|\n",
        "|-|-|-|\n",
        "|True|True|True|\n",
        "|False|True|True|\n",
        "|True|False|True|\n",
        "|False|False|False|"
      ],
      "metadata": {
        "id": "_8URKSA0n2Wa"
      }
    },
    {
      "cell_type": "code",
      "source": [
        "'python' == 'python' or True"
      ],
      "metadata": {
        "colab": {
          "base_uri": "https://localhost:8080/"
        },
        "id": "bOi1SCD3nxTp",
        "outputId": "581eff82-43d1-4b53-96c1-23b0e38e462b"
      },
      "execution_count": 72,
      "outputs": [
        {
          "output_type": "execute_result",
          "data": {
            "text/plain": [
              "True"
            ]
          },
          "metadata": {},
          "execution_count": 72
        }
      ]
    },
    {
      "cell_type": "code",
      "source": [
        "'python' == 'python'"
      ],
      "metadata": {
        "colab": {
          "base_uri": "https://localhost:8080/"
        },
        "id": "9OtyOXYfoirJ",
        "outputId": "7d91d896-a2ae-4004-ce57-18d89b38d094"
      },
      "execution_count": 71,
      "outputs": [
        {
          "output_type": "execute_result",
          "data": {
            "text/plain": [
              "True"
            ]
          },
          "metadata": {},
          "execution_count": 71
        }
      ]
    },
    {
      "cell_type": "code",
      "source": [
        "False or True"
      ],
      "metadata": {
        "colab": {
          "base_uri": "https://localhost:8080/"
        },
        "id": "evMzjvUBooaS",
        "outputId": "e7980864-62ee-4922-e934-045b8ff55a49"
      },
      "execution_count": 68,
      "outputs": [
        {
          "output_type": "execute_result",
          "data": {
            "text/plain": [
              "True"
            ]
          },
          "metadata": {},
          "execution_count": 68
        }
      ]
    },
    {
      "cell_type": "code",
      "source": [
        "not (7 % 2 == 1) or False"
      ],
      "metadata": {
        "colab": {
          "base_uri": "https://localhost:8080/"
        },
        "id": "HHYI99MwoYUS",
        "outputId": "7378b49c-cd98-4c6b-81c1-89b0911b7502"
      },
      "execution_count": 80,
      "outputs": [
        {
          "output_type": "execute_result",
          "data": {
            "text/plain": [
              "False"
            ]
          },
          "metadata": {},
          "execution_count": 80
        }
      ]
    },
    {
      "cell_type": "code",
      "source": [
        "not (7 % 2 == 1) or False"
      ],
      "metadata": {
        "colab": {
          "base_uri": "https://localhost:8080/"
        },
        "id": "W_AgmfLuqQZX",
        "outputId": "38645240-f386-4537-e716-59f9ceb0030f"
      },
      "execution_count": 83,
      "outputs": [
        {
          "output_type": "execute_result",
          "data": {
            "text/plain": [
              "False"
            ]
          },
          "metadata": {},
          "execution_count": 83
        }
      ]
    },
    {
      "cell_type": "markdown",
      "source": [
        "\n",
        "| Order | Operator | Description |\n",
        "|---|---|---|\n",
        "| 1 | `**` | Exponentiation |\n",
        "| 2 | `-`| Negation |\n",
        "| 3 | `*`, `/`, `//`, `%` | Multiplication, division, integer division, and modulo |\n",
        "| 4 | `+`, `-` | Addition and subtraction |\n",
        "| 5 | `<`, `<=`, `>`, `>=`, `==`, `!=` | Less than, less than or equal to, greater than, greater than or equal to, equal, not equal |\n",
        "| 6 | `not` | Not |\n",
        "| 7 | `and` | And |\n",
        "| 8 | `or` | Or|"
      ],
      "metadata": {
        "id": "a8fpqaZZql5Z"
      }
    },
    {
      "cell_type": "code",
      "source": [
        "year = 1923\n",
        "\n",
        "if year >= 2000:\n",
        "  print('We are in the 21st century.')"
      ],
      "metadata": {
        "id": "-flnx7jJrCm4"
      },
      "execution_count": 85,
      "outputs": []
    },
    {
      "cell_type": "code",
      "source": [
        "year = 1999\n",
        "\n",
        "if year >= 2000:\n",
        "  print('We are in the 21st century.')\n",
        "else:\n",
        "  print('We are not in the 21st century.')"
      ],
      "metadata": {
        "colab": {
          "base_uri": "https://localhost:8080/"
        },
        "id": "kyabIFp0rpjy",
        "outputId": "694798ef-b893-434b-cf8c-178c8378ae04"
      },
      "execution_count": 86,
      "outputs": [
        {
          "output_type": "stream",
          "name": "stdout",
          "text": [
            "We are not in the 21st century.\n"
          ]
        }
      ]
    },
    {
      "cell_type": "code",
      "source": [
        "month = 'December'\n",
        "\n",
        "if month == 'January':\n",
        "  print('It is January.')\n",
        "else:\n",
        "  print('It is not January.')"
      ],
      "metadata": {
        "colab": {
          "base_uri": "https://localhost:8080/"
        },
        "id": "RrK_PgN_sKop",
        "outputId": "63f2aea3-94aa-40a4-8832-e3d900c5f36c"
      },
      "execution_count": 87,
      "outputs": [
        {
          "output_type": "stream",
          "name": "stdout",
          "text": [
            "It is not January.\n"
          ]
        }
      ]
    },
    {
      "cell_type": "code",
      "source": [
        "year = 2005\n",
        "\n",
        "if year >= 2000:\n",
        "  print('We are in the 21st century.')\n",
        "elif year >= 1900:\n",
        "  print('We are in the 20th century.')\n",
        "elif year >= 1800:\n",
        "  print('We are in the 19th century.')\n",
        "else:\n",
        "  print('We have gone way back in time!')"
      ],
      "metadata": {
        "colab": {
          "base_uri": "https://localhost:8080/"
        },
        "id": "-DMYltavsfMV",
        "outputId": "9dbf6f3f-5f72-4431-9fc0-93b921bdd495"
      },
      "execution_count": 90,
      "outputs": [
        {
          "output_type": "stream",
          "name": "stdout",
          "text": [
            "We are in the 21st century.\n"
          ]
        }
      ]
    },
    {
      "cell_type": "code",
      "source": [
        "day_of_week = 'Thursday'\n",
        "\n",
        "if day_of_week == 'Saturday' or day_of_week == 'Sunday':\n",
        "  print('Weekend')\n",
        "else:\n",
        "  print('Weekday')"
      ],
      "metadata": {
        "colab": {
          "base_uri": "https://localhost:8080/"
        },
        "id": "2kqj2dyBtVJm",
        "outputId": "52c72ae1-64d0-4bd0-c74d-23e78ea856fd"
      },
      "execution_count": 91,
      "outputs": [
        {
          "output_type": "stream",
          "name": "stdout",
          "text": [
            "Weekday\n"
          ]
        }
      ]
    },
    {
      "cell_type": "code",
      "source": [
        "False or False"
      ],
      "metadata": {
        "colab": {
          "base_uri": "https://localhost:8080/"
        },
        "id": "ddyYTxvruByd",
        "outputId": "7bb72832-2474-40a0-f142-d66cf825ca65"
      },
      "execution_count": 92,
      "outputs": [
        {
          "output_type": "execute_result",
          "data": {
            "text/plain": [
              "False"
            ]
          },
          "metadata": {},
          "execution_count": 92
        }
      ]
    },
    {
      "cell_type": "code",
      "source": [
        "# age --> int\n",
        "# qualifying_condition --> bool i.e., True or False\n",
        "# time_since_last_exam --> int\n",
        "\n",
        "\n",
        "def eye_exam_covered(age, qualifying_condition, time_since_last_exam):\n",
        "  # For ages 0-19: Covered annually\n",
        "  if age <= 19 and time_since_last_exam >= 12:\n",
        "    return True\n",
        "\n",
        "  # For ages 20-64: Covered annually if you have a sight-threatening condition\n",
        "  elif 20 <= age <= 64:\n",
        "    if qualifying_condition and (time_since_last_exam >= 12):\n",
        "      return True\n",
        "\n",
        "  # For ages 65 and older: Covered annually with a sight-threatening condition\n",
        "  # OR every 18 months for those with healthy eyes\n",
        "  elif age >= 65:\n",
        "    if qualifying_condition and time_since_last_exam >= 12:\n",
        "      return True\n",
        "    elif time_since_last_exam >=18:\n",
        "      return True\n",
        "\n",
        "  https://www.geeksforgeeks.org/g-fact-43-logical-operators-on-string-in-python/\n",
        "\n"
      ],
      "metadata": {
        "id": "jZw7C8-EuDJG"
      },
      "execution_count": 132,
      "outputs": []
    },
    {
      "cell_type": "code",
      "source": [
        "eye_exam_covered(20, False, 11)"
      ],
      "metadata": {
        "colab": {
          "base_uri": "https://localhost:8080/"
        },
        "id": "m7P2lzF_4e-C",
        "outputId": "6ea9577d-43fd-47fd-da8d-e399bcd77e22"
      },
      "execution_count": 133,
      "outputs": [
        {
          "output_type": "stream",
          "name": "stdout",
          "text": [
            "You are not covered\n"
          ]
        }
      ]
    },
    {
      "cell_type": "code",
      "source": [
        "eye_exam_covered(age=27, qualifying_condition=True, time_since_last_exam=24)"
      ],
      "metadata": {
        "colab": {
          "base_uri": "https://localhost:8080/"
        },
        "id": "6GdPiZI95MZW",
        "outputId": "ea26beaf-fff8-446e-86f7-563f57e0cca6"
      },
      "execution_count": 121,
      "outputs": [
        {
          "output_type": "execute_result",
          "data": {
            "text/plain": [
              "True"
            ]
          },
          "metadata": {},
          "execution_count": 121
        }
      ]
    }
  ]
}